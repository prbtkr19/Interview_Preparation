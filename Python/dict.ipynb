{
 "cells": [
  {
   "cell_type": "markdown",
   "metadata": {},
   "source": [
    "dictionary key must be immmutable"
   ]
  },
  {
   "cell_type": "markdown",
   "metadata": {},
   "source": [
    "<font color=\"orange\"> Dictionary sorting </font>\n"
   ]
  },
  {
   "cell_type": "markdown",
   "metadata": {},
   "source": [
    "-   We need sorting of data to reduce the complexity of the data and make queries faster and more efficient.\n",
    " \n",
    "-   Sorting is very important when we are dealing with a large amount of data. "
   ]
  },
  {
   "cell_type": "markdown",
   "metadata": {},
   "source": [
    "We can sort a dictionary by values using these methods:\n",
    "\n",
    "-   First, sort the keys alphabetically using key_value.iterkeys() function.\n",
    "-   Second, sort the keys alphabetically using the sorted (key_value) function & print the value corresponding to it.\n",
    "-   Third, sort the values alphabetically using key_value.iteritems(), key = lambda (k, v) : (v, k)"
   ]
  },
  {
   "cell_type": "markdown",
   "metadata": {},
   "source": [
    "1. sorting dictionary by keys"
   ]
  },
  {
   "cell_type": "code",
   "execution_count": 2,
   "metadata": {},
   "outputs": [
    {
     "name": "stdout",
     "output_type": "stream",
     "text": [
      "mykeys ******************['ravi', 'rajnish', 'sanjeev', 'yash', 'suraj']\n",
      "{'ravi': 10, 'rajnish': 9, 'sanjeev': 15, 'yash': 2, 'suraj': 32}\n"
     ]
    }
   ],
   "source": [
    "myDict = {'ravi': 10, 'rajnish': 9,'sanjeev': 15, 'yash': 2, 'suraj': 32}\n",
    "myKeys = list(myDict.keys())\n",
    "print(f\"mykeys ******************{myKeys}\")\n",
    "#myKeys.sort()\n",
    "#print(f\"sorted keys ************ {myKeys}\")\n",
    "# sorted_key = sorted(myKeys)\n",
    "# print(f\"sorted keys **** {sorted_key}\")\n",
    "sorted_dict = {i: myDict[i] for i in myKeys}\n",
    "\n",
    "print(sorted_dict)\n"
   ]
  },
  {
   "cell_type": "markdown",
   "metadata": {},
   "source": [
    "2. displaying keys in sorted order"
   ]
  },
  {
   "cell_type": "code",
   "execution_count": 4,
   "metadata": {},
   "outputs": [
    {
     "name": "stdout",
     "output_type": "stream",
     "text": [
      "Task 1:-\n",
      "\n",
      "key_value {2: 56, 1: 2, 5: 12, 4: 24, 6: 18, 3: 323}\n",
      "1 2 3 4 5 6 "
     ]
    }
   ],
   "source": [
    "# Function calling\n",
    "def dictionary():\n",
    "\t# Declare hash function\n",
    "\tkey_value = {}\n",
    "\n",
    "# Initializing value\n",
    "\tkey_value[2] = 56\n",
    "\tkey_value[1] = 2\n",
    "\tkey_value[5] = 12\n",
    "\tkey_value[4] = 24\n",
    "\tkey_value[6] = 18\n",
    "\tkey_value[3] = 323\n",
    "\n",
    "\tprint(\"Task 1:-\\n\")\n",
    "\n",
    "\tprint(\"key_value\", key_value)\n",
    "\n",
    "\t# iterkeys() returns an iterator over the\n",
    "\t# dictionary’s keys.\n",
    "\tfor i in sorted(key_value.keys()):\n",
    "\t\tprint(i,end=\" \")\n",
    "\n",
    "\n",
    "def main():\n",
    "\t# function calling\n",
    "\tdictionary()\n",
    "\n",
    "\n",
    "# Main function calling\n",
    "if __name__ == \"__main__\":\n",
    "\tmain()\n"
   ]
  },
  {
   "cell_type": "markdown",
   "metadata": {},
   "source": [
    "3. sort dictionary by keys"
   ]
  },
  {
   "cell_type": "code",
   "execution_count": 7,
   "metadata": {},
   "outputs": [
    {
     "name": "stdout",
     "output_type": "stream",
     "text": [
      "OrderedDict([('rajnish', '9'), ('ravi', '10'), ('sanjeev', '15'), ('suraj', '32'), ('yash', '2')])\n"
     ]
    }
   ],
   "source": [
    "# Creates a sorted dictionary (sorted by key)\n",
    "from collections import OrderedDict\n",
    "\n",
    "dict = {'ravi': '10', 'rajnish': '9',\n",
    "\t\t'sanjeev': '15', 'yash': '2', 'suraj': '32'}\n",
    "dict1 = OrderedDict(sorted(dict.items()))\n",
    "print(dict1)\n"
   ]
  },
  {
   "cell_type": "markdown",
   "metadata": {},
   "source": [
    "Example 4: Sorting the Keys and Values Alphabetically Using the Key\n"
   ]
  },
  {
   "cell_type": "code",
   "execution_count": 9,
   "metadata": {},
   "outputs": [
    {
     "name": "stdout",
     "output_type": "stream",
     "text": [
      "key_value {2: 56, 1: 2, 5: 12, 4: 24, 6: 18, 3: 323}\n",
      "Task 2:-\n",
      "Keys and Values sorted in alphabetical order by the key \n",
      " original key value ******** {2: 56, 1: 2, 5: 12, 4: 24, 6: 18, 3: 323}\n",
      "sorted keys ************* [1, 2, 3, 4, 5, 6]\n",
      "(1, 2) (2, 56) (3, 323) (4, 24) (5, 12) (6, 18) "
     ]
    }
   ],
   "source": [
    "# function calling\n",
    "def dictionairy():\n",
    "\n",
    "\t# Declaring the hash function\n",
    "\tkey_value = {}\n",
    "\n",
    "# Initialize value\n",
    "\tkey_value[2] = 56\n",
    "\tkey_value[1] = 2\n",
    "\tkey_value[5] = 12\n",
    "\tkey_value[4] = 24\n",
    "\tkey_value[6] = 18\n",
    "\tkey_value[3] = 323\n",
    "\t\n",
    "\tprint(\"key_value\",key_value)\n",
    "\n",
    "\tprint(\"Task 2:-\\nKeys and Values sorted in\",\n",
    "\t\t\"alphabetical order by the key \")\n",
    "\t\n",
    "\n",
    "\t# sorted(key_value) returns a sorted list\n",
    "\t# of the Dictionary’s keys.\n",
    "\tprint(f\" original key value ******** {key_value}\")\n",
    "\tprint(f\"sorted keys ************* {sorted(key_value)}\")\n",
    "\tfor i in sorted(key_value):\n",
    "\t\tprint((i, key_value[i]), end=\" \")\n",
    "\n",
    "\n",
    "def main():\n",
    "\t\t# function calling\n",
    "\tdictionairy()\n",
    "\n",
    "\n",
    "# main function calling\n",
    "if __name__ == \"__main__\":\n",
    "\tmain()\n"
   ]
  },
  {
   "cell_type": "markdown",
   "metadata": {},
   "source": [
    "<font color=\"orange\" >by default sorted() sort the keys </font>"
   ]
  },
  {
   "cell_type": "code",
   "execution_count": 11,
   "metadata": {},
   "outputs": [
    {
     "name": "stdout",
     "output_type": "stream",
     "text": [
      "sorted keys **** ['a', 'b', 'c']\n",
      "{'a': 1, 'b': 2, 'c': 3}\n"
     ]
    }
   ],
   "source": [
    "my_dict = {'b': 2, 'a': 1, 'c': 3}\n",
    "sorted_keys = sorted(my_dict)\n",
    "print(f\"sorted keys **** {sorted_keys}\")\n",
    "sorted_dict_by_keys = {k: my_dict[k] for k in sorted_keys}\n",
    "print(sorted_dict_by_keys)\n"
   ]
  },
  {
   "cell_type": "markdown",
   "metadata": {},
   "source": [
    "Example 5: Sorting the Keys and Values Alphabetically Using the Value\n"
   ]
  },
  {
   "cell_type": "markdown",
   "metadata": {},
   "source": [
    "accessing dictionary item"
   ]
  },
  {
   "cell_type": "code",
   "execution_count": 13,
   "metadata": {},
   "outputs": [
    {
     "name": "stdout",
     "output_type": "stream",
     "text": [
      "Berlin\n",
      "London\n"
     ]
    }
   ],
   "source": [
    "country_capitals = {\n",
    "  \"Germany\": \"Berlin\", \n",
    "  \"Canada\": \"Ottawa\", \n",
    "  \"England\": \"London\"\n",
    "}\n",
    "\n",
    "print(country_capitals[\"Germany\"])   \n",
    "print(country_capitals[\"England\"])  "
   ]
  },
  {
   "cell_type": "markdown",
   "metadata": {},
   "source": [
    "converting dictionary to json"
   ]
  },
  {
   "cell_type": "code",
   "execution_count": null,
   "metadata": {},
   "outputs": [],
   "source": [
    "import json\n",
    "with open(\"country_capitals.json\",\"w\") as jsonfile:\n",
    "    json.dump(country_capitals,jsonfile) "
   ]
  },
  {
   "cell_type": "markdown",
   "metadata": {},
   "source": [
    "reading json"
   ]
  },
  {
   "cell_type": "code",
   "execution_count": 17,
   "metadata": {},
   "outputs": [
    {
     "name": "stdout",
     "output_type": "stream",
     "text": [
      "json data----------{'Germany': 'Berlin', 'Canada': 'Ottawa', 'England': 'London'}\n"
     ]
    }
   ],
   "source": [
    "with open(\"country_captial.json\",\"r\") as read:\n",
    "    data=json.load(read)\n",
    "    \n",
    "print(f\"json data----------{data}\")"
   ]
  },
  {
   "cell_type": "markdown",
   "metadata": {},
   "source": [
    "store list of data into csv"
   ]
  },
  {
   "cell_type": "code",
   "execution_count": 23,
   "metadata": {},
   "outputs": [
    {
     "name": "stdout",
     "output_type": "stream",
     "text": [
      "       0    1            2\n",
      "0   Name  Age         City\n",
      "1   John   30     New York\n",
      "2  Alice   25  Los Angeles\n",
      "3    Bob   35      Chicago\n"
     ]
    }
   ],
   "source": [
    "# storing list of data intp csv\n",
    "import csv\n",
    "import pandas as pd\n",
    "# Sample data in a list of lists\n",
    "data = [\n",
    "    ['Name', 'Age', 'City'],\n",
    "    ['John', 30, 'New York'],\n",
    "    ['Alice', 25, 'Los Angeles'],\n",
    "    ['Bob', 35, 'Chicago']\n",
    "]\n",
    "\n",
    "# convert this into df\n",
    "df_data=pd.DataFrame(data)\n",
    "print(df_data.head())\n"
   ]
  },
  {
   "cell_type": "code",
   "execution_count": 25,
   "metadata": {},
   "outputs": [],
   "source": [
    "# Specify the file path where you want to save the CSV file\n",
    "file_path = \"country_capitals.csv\"\n",
    "\n",
    "# Write data to CSV file\n",
    "with open(file_path, \"w\", newline=\"\") as csv_file:\n",
    "#with open(file_path, \"w\") as csv_file:\n",
    "    writer = csv.writer(csv_file) # it creates csv writer object\n",
    "    writer.writerows(data) # write all row to csv"
   ]
  },
  {
   "cell_type": "code",
   "execution_count": 26,
   "metadata": {},
   "outputs": [
    {
     "name": "stdout",
     "output_type": "stream",
     "text": [
      "{'Germany': 'Berlin', 'Canada': 'Ottawa', 'England': 'London', 'india': 'New Delhi'}\n"
     ]
    }
   ],
   "source": [
    "# adding item in dictionary\n",
    "country_capitals['india']=\"New Delhi\"\n",
    "print(country_capitals)"
   ]
  },
  {
   "cell_type": "markdown",
   "metadata": {},
   "source": [
    "remove an item from dictionary\n",
    "-   del or pop"
   ]
  },
  {
   "cell_type": "code",
   "execution_count": 27,
   "metadata": {},
   "outputs": [
    {
     "name": "stdout",
     "output_type": "stream",
     "text": [
      "{'Germany': 'Berlin', 'Canada': 'Ottawa'}\n"
     ]
    }
   ],
   "source": [
    "\n",
    "country_capitals1 = {\n",
    "  \"Germany\": \"Berlin\", \n",
    "  \"Canada\": \"Ottawa\",\n",
    "  \"india\" : \"New Delhi\"\n",
    "}\n",
    "\n",
    "# delete item having \"Germany\" key\n",
    "del country_capitals1[\"india\"]\n",
    "\n",
    "print(country_capitals1)"
   ]
  },
  {
   "cell_type": "markdown",
   "metadata": {},
   "source": [
    "clear() method. \n",
    "-   remove all items from the dictionary at once, we can use the\n"
   ]
  },
  {
   "cell_type": "code",
   "execution_count": 28,
   "metadata": {},
   "outputs": [
    {
     "name": "stdout",
     "output_type": "stream",
     "text": [
      "{}\n"
     ]
    }
   ],
   "source": [
    "\n",
    "country_capitals1.clear()\n",
    "print(country_capitals1)"
   ]
  },
  {
   "cell_type": "markdown",
   "metadata": {},
   "source": [
    "change dictionary items\n",
    "-   dictionary keys are immutable and its values are mutable\n",
    "-   dictinary are mutable"
   ]
  },
  {
   "cell_type": "code",
   "execution_count": 29,
   "metadata": {},
   "outputs": [
    {
     "name": "stdout",
     "output_type": "stream",
     "text": [
      "{'Germany': 'Berlin', 'Italy': 'Rome', 'England': 'London'}\n"
     ]
    }
   ],
   "source": [
    "country_capitals = {\n",
    "  \"Germany\": \"Berlin\", \n",
    "  \"Italy\": \"Naples\", \n",
    "  \"England\": \"London\"\n",
    "}\n",
    "\n",
    "# change the value of \"Italy\" key to \"Rome\"\n",
    "country_capitals[\"Italy\"] = \"Rome\"\n",
    "\n",
    "print(country_capitals)"
   ]
  },
  {
   "cell_type": "code",
   "execution_count": 33,
   "metadata": {},
   "outputs": [
    {
     "name": "stdout",
     "output_type": "stream",
     "text": [
      "Germany\n",
      "Italy\n",
      "England\n",
      "1\n"
     ]
    }
   ],
   "source": [
    "# getting keys\n",
    "for i in country_capitals:\n",
    "    print(i)\n",
    "    if i =='Italy':\n",
    "        pass"
   ]
  },
  {
   "cell_type": "code",
   "execution_count": 31,
   "metadata": {},
   "outputs": [
    {
     "data": {
      "text/plain": [
       "{'Germany': 'Berlin', 'Italy': 'Rome', 'England': 'London', 1: 'A'}"
      ]
     },
     "execution_count": 31,
     "metadata": {},
     "output_type": "execute_result"
    }
   ],
   "source": [
    "country_capitals[1] = \"A\"\n",
    "country_capitals"
   ]
  },
  {
   "cell_type": "markdown",
   "metadata": {},
   "source": [
    "store all list values with their index in a dictionary"
   ]
  },
  {
   "cell_type": "code",
   "execution_count": 37,
   "metadata": {},
   "outputs": [
    {
     "name": "stdout",
     "output_type": "stream",
     "text": [
      "{0: '1', 1: '3', 2: '5', 3: '6', 4: '7'}\n"
     ]
    }
   ],
   "source": [
    "list=['1','3','5','6','7']\n",
    "my_dict ={}\n",
    "for i,num in enumerate(list):\n",
    "    \n",
    "    my_dict[i]=num\n",
    "    \n",
    "print(my_dict)"
   ]
  },
  {
   "cell_type": "markdown",
   "metadata": {},
   "source": [
    "iterating through dictionary\n",
    "- dictionary is ordered collection of items,so we can iterate throught it"
   ]
  },
  {
   "cell_type": "code",
   "execution_count": 38,
   "metadata": {},
   "outputs": [
    {
     "name": "stdout",
     "output_type": "stream",
     "text": [
      "dict keys:::::United States\n",
      "dict keys:::::Italy\n",
      "\n",
      " dict values::::::Washington D.C.\n",
      " dict values::::::Rome\n"
     ]
    }
   ],
   "source": [
    "country_capitals = {\n",
    "    \"United States\": \"Washington D.C.\", \n",
    "    \"Italy\": \"Rome\" \n",
    "}\n",
    "# print dictionary keys one by one\n",
    "for country in country_capitals:\n",
    "    print(f\"dict keys:::::{country}\")\n",
    "\n",
    "print()\n",
    "\n",
    "# print dictionary values one by one\n",
    "for country in country_capitals:\n",
    "    capital = country_capitals[country]\n",
    "    print(f\" dict values::::::{capital}\")"
   ]
  },
  {
   "cell_type": "code",
   "execution_count": 39,
   "metadata": {},
   "outputs": [
    {
     "name": "stdout",
     "output_type": "stream",
     "text": [
      "orig doct::{'United States': 'Washington D.C.', 'Italy': 'Rome', 'India': 'New Delhi', 'bang': 'Dhaka'}\n",
      "len of dict:::::;4\n",
      "Washington D.C.\n",
      "Rome\n",
      "New Delhi\n",
      "Dhaka\n"
     ]
    }
   ],
   "source": [
    "cc = {\n",
    "    \"United States\": \"Washington D.C.\", \n",
    "    \"Italy\": \"Rome\" ,\n",
    "    \"India\" : \"New Delhi\"\n",
    "}\n",
    "# adding item in dict\n",
    "cc['bang']='Dhaka'\n",
    "print(f\"orig doct::{cc}\")\n",
    "\n",
    "# finding length of dict\n",
    "\n",
    "print(f\"len of dict:::::;{len(cc)}\")\n",
    "for item in cc:\n",
    "    v=cc[item]\n",
    "    print(v)"
   ]
  },
  {
   "cell_type": "markdown",
   "metadata": {},
   "source": [
    "Generate random dictionary using dictionary comprehension\n",
    "-   making keys in the range (0-5)"
   ]
  },
  {
   "cell_type": "code",
   "execution_count": 42,
   "metadata": {},
   "outputs": [
    {
     "name": "stdout",
     "output_type": "stream",
     "text": [
      "Random Dictionary: {0: 92, 1: 4, 2: 13, 3: 4, 4: 60}\n"
     ]
    }
   ],
   "source": [
    "# generating random dictionayr using dict comprehension\n",
    "import random\n",
    "\n",
    "# Define the size of the dictionary\n",
    "dictionary_size = 5\n",
    "\n",
    "# Create a random dictionary using dictionary comprehension\n",
    "#random_dict = {random.randint(1, 10): random.randint(1, 100) for i in range(dictionary_size)}\n",
    "random_dict = {i: random.randint(1, 100) for i in range(dictionary_size)}\n",
    "\n",
    "\n",
    "print(\"Random Dictionary:\", random_dict)"
   ]
  },
  {
   "cell_type": "markdown",
   "metadata": {},
   "source": [
    "Generate random dictionary\n",
    "-   making random keys"
   ]
  },
  {
   "cell_type": "code",
   "execution_count": 43,
   "metadata": {},
   "outputs": [
    {
     "name": "stdout",
     "output_type": "stream",
     "text": [
      "Random Dictionary: {5: 64, 3: 75, 8: 10, 10: 72, 6: 31}\n"
     ]
    }
   ],
   "source": [
    "# generating random dictionayr using dict comprehension\n",
    "import random\n",
    "\n",
    "# Define the size of the dictionary\n",
    "dictionary_size = 5\n",
    "\n",
    "# Create a random dictionary using dictionary comprehension\n",
    "#random_dict = {random.randint(1, 10): random.randint(1, 100) for i in range(dictionary_size)}\n",
    "random_dict = {random.randint(1,10): random.randint(1, 100) for i in range(dictionary_size)}\n",
    "\n",
    "\n",
    "print(\"Random Dictionary:\", random_dict)"
   ]
  },
  {
   "cell_type": "markdown",
   "metadata": {},
   "source": [
    "Dictionay methods\n",
    "-   pop()\n",
    "-   update()\n",
    "-   clear()\n",
    "-   copy()\n",
    "-   get()"
   ]
  },
  {
   "cell_type": "markdown",
   "metadata": {},
   "source": [
    "pop(): Removes the item with the specified key.\n",
    "-   dictionary.pop(key[, default])"
   ]
  },
  {
   "cell_type": "code",
   "execution_count": 44,
   "metadata": {},
   "outputs": [
    {
     "name": "stdout",
     "output_type": "stream",
     "text": [
      "The popped element is: banana\n",
      "The dictionary is: {'apple': 2, 'orange': 3, 'grapes': 4}\n"
     ]
    }
   ],
   "source": [
    "# random sales dictionary\n",
    "sales = { 'apple': 2, 'orange': 3, 'grapes': 4 }\n",
    "\n",
    "element = sales.pop('guava', 'banana')\n",
    "\n",
    "print('The popped element is:', element)\n",
    "print('The dictionary is:', sales)"
   ]
  },
  {
   "cell_type": "code",
   "execution_count": 45,
   "metadata": {},
   "outputs": [
    {
     "name": "stdout",
     "output_type": "stream",
     "text": [
      "The popped element is: 2\n",
      "The dictionary is: {'orange': 3, 'grapes': 4}\n"
     ]
    }
   ],
   "source": [
    "# random sales dictionary\n",
    "sales = { 'apple': 2, 'orange': 3, 'grapes': 4 }\n",
    "\n",
    "element = sales.pop('apple')\n",
    "\n",
    "print('The popped element is:', element)\n",
    "print('The dictionary is:', sales)"
   ]
  },
  {
   "cell_type": "markdown",
   "metadata": {},
   "source": [
    "update(): Adds or changes dictionary items.\n"
   ]
  },
  {
   "cell_type": "code",
   "execution_count": 47,
   "metadata": {},
   "outputs": [
    {
     "name": "stdout",
     "output_type": "stream",
     "text": [
      "{'Physics': 48, 'Maths': 87, 'science': 34}\n"
     ]
    }
   ],
   "source": [
    "marks = {'Physics':67, 'Maths':87}\n",
    "internal_marks = {'Physics':48,'science':34}\n",
    "#internal_marks= {\"Science\": 34}\n",
    "marks.update(internal_marks)\n",
    "\n",
    "\n",
    "print(marks)"
   ]
  },
  {
   "cell_type": "markdown",
   "metadata": {},
   "source": [
    "copy() : Returns a copy of the dictionary.\n"
   ]
  },
  {
   "cell_type": "code",
   "execution_count": 52,
   "metadata": {},
   "outputs": [
    {
     "name": "stdout",
     "output_type": "stream",
     "text": [
      "copied version ****{'Physics': 48, 'Maths': 87, 'science': 34}\n",
      " marks after clear mtd ******* {}\n",
      "original marks ********** {'Physics': 48, 'Maths': 87, 'science': 34}\n"
     ]
    }
   ],
   "source": [
    "\n",
    "marks1=marks.copy()\n",
    "print(f\"copied version ****{marks1}\")\n",
    "\n",
    "marks1.clear()\n",
    "print(f\" marks after clear mtd ******* {marks1}\")\n",
    "print(f\"original marks ********** {marks}\")"
   ]
  },
  {
   "cell_type": "markdown",
   "metadata": {},
   "source": [
    "keys():Returns all the dictionary's keys.\n"
   ]
  },
  {
   "cell_type": "code",
   "execution_count": 48,
   "metadata": {},
   "outputs": [
    {
     "name": "stdout",
     "output_type": "stream",
     "text": [
      "{'A': 1, 'B': 2, 'C': 3, 'D': 4}\n",
      "keys:::dict_keys(['A', 'B', 'C', 'D'])\n",
      "new:{'A': 1, 'B': 2, 'C': 3, 'D': 4, 'E': 5}\n"
     ]
    }
   ],
   "source": [
    "\n",
    "cc_1=cc.copy()\n",
    "cc_1.clear()\n",
    "new={\"A\":1, \"B\":2,\"C\":3,\"D\":4}\n",
    "cc_1.update(new)\n",
    "print(cc_1)\n",
    "\n",
    "# extracting keys from dict\n",
    "k=cc_1.keys()\n",
    "print(f\"keys:::{k}\")\n",
    "\n",
    "\n",
    "# adding element to dict\n",
    "new.update({\"E\":5})\n",
    "print(f\"new:{new}\")\n",
    "#dict_keys(['A', 'B', 'C', 'D'])\n",
    "# here dict_keys() ; is a view object whichstore list of all keys"
   ]
  },
  {
   "cell_type": "markdown",
   "metadata": {},
   "source": [
    "values() : Returns all the dictionary's values.\n"
   ]
  },
  {
   "cell_type": "code",
   "execution_count": 49,
   "metadata": {},
   "outputs": [
    {
     "name": "stdout",
     "output_type": "stream",
     "text": [
      "values of dict:::::::dict_values([1, 2, 3, 4])\n"
     ]
    }
   ],
   "source": [
    "cc2=cc_1.copy()\n",
    "\n",
    "# extracting values \n",
    "v= cc2.values()\n",
    "print(f\"values of dict:::::::{v}\")\n",
    "\n",
    "\n"
   ]
  },
  {
   "cell_type": "markdown",
   "metadata": {},
   "source": [
    "how dict works when values modified\n"
   ]
  },
  {
   "cell_type": "code",
   "execution_count": 50,
   "metadata": {},
   "outputs": [
    {
     "name": "stdout",
     "output_type": "stream",
     "text": [
      "Original items: dict_values([2, 3, 4])\n",
      "Updated items: dict_values([3, 4])\n",
      "Updated items CC2: {'B': 2, 'C': 3, 'D': 4}\n"
     ]
    }
   ],
   "source": [
    "# random sales dictionary\n",
    "sales = { 'apple': 2, 'orange': 3, 'grapes': 4 }\n",
    "\n",
    "values = sales.values()\n",
    "\n",
    "print('Original items:', values)\n",
    "\n",
    "# delete an item from dictionary\n",
    "del[sales['apple']]\n",
    "del[cc2['A']]\n",
    "\n",
    "print('Updated items:', values)\n",
    "print('Updated items CC2:',cc2)"
   ]
  },
  {
   "cell_type": "markdown",
   "metadata": {},
   "source": [
    "<font color =\"orange\" > get() : Returns the value of the specified key </font\n",
    "\n"
   ]
  },
  {
   "cell_type": "code",
   "execution_count": 53,
   "metadata": {},
   "outputs": [
    {
     "name": "stdout",
     "output_type": "stream",
     "text": [
      "67\n"
     ]
    }
   ],
   "source": [
    "\n",
    "scores = {\n",
    "    'Physics': 67, \n",
    "    'Maths': 87,\n",
    "    'History': 75\n",
    "}\n",
    "\n",
    "result = scores.get('Physics')\n",
    "\n",
    "print(result)"
   ]
  },
  {
   "cell_type": "code",
   "execution_count": null,
   "metadata": {},
   "outputs": [],
   "source": [
    "#popitem() :Returns the last inserted key and value as a tuple.\n",
    "cc3=cc2.copy()\n",
    "cc3"
   ]
  },
  {
   "cell_type": "code",
   "execution_count": 11,
   "metadata": {},
   "outputs": [
    {
     "name": "stdout",
     "output_type": "stream",
     "text": [
      "['2', '300', 4] ['2', '300', 4]\n"
     ]
    }
   ],
   "source": [
    "l=['2','300']\n",
    "l1=l\n",
    "l1.append(4)\n",
    "print(l1,l)"
   ]
  },
  {
   "cell_type": "code",
   "execution_count": 12,
   "metadata": {},
   "outputs": [
    {
     "name": "stdout",
     "output_type": "stream",
     "text": [
      "['2', '300', 4] ['2', '300']\n"
     ]
    }
   ],
   "source": [
    "l=['2','300']\n",
    "l1=l.copy()\n",
    "l1.append(4)\n",
    "print(l1,l)"
   ]
  }
 ],
 "metadata": {
  "kernelspec": {
   "display_name": "code_env",
   "language": "python",
   "name": "python3"
  },
  "language_info": {
   "codemirror_mode": {
    "name": "ipython",
    "version": 3
   },
   "file_extension": ".py",
   "mimetype": "text/x-python",
   "name": "python",
   "nbconvert_exporter": "python",
   "pygments_lexer": "ipython3",
   "version": "3.8.10"
  }
 },
 "nbformat": 4,
 "nbformat_minor": 2
}
