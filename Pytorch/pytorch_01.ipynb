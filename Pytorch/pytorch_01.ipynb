{
  "cells": [
    {
      "cell_type": "markdown",
      "metadata": {},
      "source": [
        "<font color = \"orange\" > difference between tensorflow and pytorch </font>\n"
      ]
    },
    {
      "cell_type": "markdown",
      "metadata": {},
      "source": [
        "<b> Computational Graph Definition </b>"
      ]
    },
    {
      "cell_type": "markdown",
      "metadata": {},
      "source": [
        "TensorFlow"
      ]
    },
    {
      "cell_type": "markdown",
      "metadata": {},
      "source": [
        "\n",
        "-   TensorFlow uses a static computational graph where the computation is defined first, and then data is fed into the graph for execution. \n",
        "-   This makes it efficient for deploying models in production and optimizing performance.\n",
        "\n",
        "explanation above paragraph\n",
        "-   1. This involves creating tensors (multi-dimensional arrays) that represent the data and defining operations that manipulate these tensors.\n",
        "\n",
        "\n",
        "-   2. After defining the computational graph, you create a TensorFlow session and execute the operations within the graph.\n",
        "\n",
        "-   3. the graph typically includes operations for training a model. You define a loss function, optimization algorithm, and training operations, then run the graph multiple times to train the model on your data."
      ]
    },
    {
      "cell_type": "markdown",
      "metadata": {},
      "source": [
        "PyTorch"
      ]
    },
    {
      "cell_type": "markdown",
      "metadata": {},
      "source": [
        "-   PyTorch uses a dynamic computational graph, which means that the graph is defined on-the-fly as operations are executed. \n",
        "\n",
        "-   This provides flexibility and ease of debugging during model development.\n",
        "\n",
        "-   This means that the graph structure can change from iteration to iteration or even within the same iteration based on the flow of control and data dependencies.\n",
        "-   As operations are executed, PyTorch keeps track of the graph and automatically updates it to reflect the current state of the computation.\n",
        "\n",
        "-   The graph is not predefined or fixed before execution, unlike static computational graphs used in frameworks like TensorFlow.\n",
        "\n",
        "-   Operations and data flow are defined as code is executed, allowing for greater flexibility and expressiveness in model definition and training.\n",
        "\n",
        "-   With a dynamic computational graph, developers have more flexibility in defining complex models and experimenting with different architectures.\n",
        "\n"
      ]
    },
    {
      "cell_type": "markdown",
      "metadata": {},
      "source": [
        "<b>API and ease of use</b>"
      ]
    },
    {
      "cell_type": "markdown",
      "metadata": {},
      "source": [
        "TensorFlow:"
      ]
    },
    {
      "cell_type": "markdown",
      "metadata": {},
      "source": [
        "\n",
        "-   1. TensorFlow's API often requires more lines of code to accomplish tasks compared to PyTorch.\n",
        "\n",
        "-   2. Operations are typically defined explicitly, and additional boilerplate code may be needed for tasks such as variable initialization and session management.\n",
        "-   3. Declarative API means where users define the computation graph and then execute it separately.\n",
        "\n"
      ]
    },
    {
      "cell_type": "markdown",
      "metadata": {},
      "source": [
        "PyTorch"
      ]
    },
    {
      "cell_type": "markdown",
      "metadata": {},
      "source": [
        "\n",
        "-   PyTorch has a more Pythonic and imperative API, which is generally considered more intuitive and easier to learn. \n",
        "-   It allows for more flexibility in model definition and debugging."
      ]
    },
    {
      "cell_type": "markdown",
      "metadata": {},
      "source": [
        "<b>   Visualization and Debugging </b>"
      ]
    },
    {
      "cell_type": "markdown",
      "metadata": {},
      "source": [
        "\n",
        "TensorFlow"
      ]
    },
    {
      "cell_type": "markdown",
      "metadata": {},
      "source": [
        "          \n",
        "-   TensorFlow provides tools like TensorBoard for visualizing computational graphs, monitoring training metrics, and debugging models."
      ]
    },
    {
      "cell_type": "markdown",
      "metadata": {},
      "source": [
        "PyTorch"
      ]
    },
    {
      "cell_type": "markdown",
      "metadata": {},
      "source": [
        "-   PyTorch offers a simpler approach to debugging with built-in support for printing tensors, inspecting gradients, and using standard Python debugging tools."
      ]
    },
    {
      "cell_type": "markdown",
      "metadata": {},
      "source": [
        "<b> Model Deployment and Production:</b>"
      ]
    },
    {
      "cell_type": "markdown",
      "metadata": {},
      "source": [
        "TensorFlow"
      ]
    },
    {
      "cell_type": "markdown",
      "metadata": {},
      "source": [
        "-   TensorFlow offers better support for model deployment and production through TensorFlow Serving, TensorFlow Lite for mobile and embedded devices, and TensorFlow.js for deploying models in web browsers."
      ]
    },
    {
      "cell_type": "markdown",
      "metadata": {},
      "source": [
        "PyTorch:"
      ]
    },
    {
      "cell_type": "markdown",
      "metadata": {},
      "source": [
        "-   PyTorch has been catching up with deployment tools, but TensorFlow still has a stronger ecosystem and more mature deployment options."
      ]
    },
    {
      "cell_type": "markdown",
      "metadata": {},
      "source": [
        "<b> \n",
        "Community and Ecosystem: </b>"
      ]
    },
    {
      "cell_type": "markdown",
      "metadata": {},
      "source": [
        "TensorFlow:"
      ]
    },
    {
      "cell_type": "markdown",
      "metadata": {},
      "source": [
        " \n",
        "\n",
        "-   TensorFlow has a larger and more established community with extensive documentation, tutorials, and pre-trained models available. It is widely adopted by industry and academia."
      ]
    },
    {
      "cell_type": "markdown",
      "metadata": {},
      "source": [
        "PyTorch:"
      ]
    },
    {
      "cell_type": "markdown",
      "metadata": {},
      "source": [
        "-   PyTorch has gained popularity rapidly, particularly in research and academia, due to its ease of use and flexibility. \n",
        "-   It has a growing community and ecosystem with active development."
      ]
    },
    {
      "cell_type": "markdown",
      "metadata": {},
      "source": [
        "Working with data\n",
        "``torch.utils.data.DataLoader`` and ``torch.utils.data.Dataset``.\n",
        "``Dataset`` stores the samples and their corresponding labels, and ``DataLoader`` wraps an iterable around\n",
        "the ``Dataset`"
      ]
    },
    {
      "cell_type": "code",
      "execution_count": 1,
      "metadata": {},
      "outputs": [
        {
          "name": "stderr",
          "output_type": "stream",
          "text": [
            "/home/multi-sy-003/Documents/code/code_env/lib/python3.8/site-packages/tqdm/auto.py:21: TqdmWarning: IProgress not found. Please update jupyter and ipywidgets. See https://ipywidgets.readthedocs.io/en/stable/user_install.html\n",
            "  from .autonotebook import tqdm as notebook_tqdm\n"
          ]
        }
      ],
      "source": [
        "import torch\n",
        "from torch import nn\n",
        "from torch.utils.data import DataLoader\n",
        "from torchvision import datasets\n",
        "from torchvision.transforms import ToTensor"
      ]
    },
    {
      "cell_type": "code",
      "execution_count": 2,
      "metadata": {},
      "outputs": [],
      "source": [
        "# Download training data from open datasets.\n",
        "training_data = datasets.FashionMNIST(\n",
        "    root=\"data\",\n",
        "    train=True,\n",
        "    download=True,\n",
        "    transform=ToTensor(),\n",
        ")\n",
        "\n",
        "# Download test data from open datasets.\n",
        "test_data = datasets.FashionMNIST(\n",
        "    root=\"data\",\n",
        "    train=False,\n",
        "    download=True,\n",
        "    transform=ToTensor(),\n",
        ")"
      ]
    },
    {
      "cell_type": "code",
      "execution_count": 5,
      "metadata": {},
      "outputs": [
        {
          "name": "stdout",
          "output_type": "stream",
          "text": [
            "Shape of X [N, C, H, W]: torch.Size([8, 1, 28, 28])\n",
            "Shape of y: torch.Size([8]) torch.int64\n"
          ]
        }
      ],
      "source": [
        "batch_size = 8\n",
        "\n",
        "# Create data loaders.\n",
        "train_dataloader = DataLoader(training_data, batch_size=batch_size)\n",
        "test_dataloader = DataLoader(test_data, batch_size=batch_size)\n",
        "\n",
        "for X, y in test_dataloader:\n",
        "    print(f\"Shape of X [N, C, H, W]: {X.shape}\")\n",
        "    print(f\"Shape of y: {y.shape} {y.dtype}\")\n",
        "    break"
      ]
    },
    {
      "cell_type": "markdown",
      "metadata": {},
      "source": [
        "Creating Models\n"
      ]
    },
    {
      "cell_type": "markdown",
      "metadata": {},
      "source": [
        "-   To define a neural network in PyTorch, we create a class that inherits from [nn.Module]. \n",
        "\n",
        "-   We define the layers of the network\n",
        "    in the ``__init__`` function and specify how data will pass through the network in the ``forward`` function."
      ]
    },
    {
      "cell_type": "markdown",
      "metadata": {},
      "source": [
        " Get cpu, gpu or mps device for training.\n"
      ]
    },
    {
      "cell_type": "code",
      "execution_count": 6,
      "metadata": {},
      "outputs": [
        {
          "name": "stdout",
          "output_type": "stream",
          "text": [
            "Using cuda device\n"
          ]
        }
      ],
      "source": [
        "device = (\n",
        "    \"cuda\"\n",
        "    if torch.cuda.is_available()\n",
        "    else \"mps\"\n",
        "    if torch.backends.mps.is_available()\n",
        "    else \"cpu\"\n",
        ")\n",
        "print(f\"Using {device} device\")\n",
        "\n"
      ]
    },
    {
      "cell_type": "markdown",
      "metadata": {},
      "source": [
        " Define model\n"
      ]
    },
    {
      "cell_type": "markdown",
      "metadata": {},
      "source": [
        "-   super().__init__() calls the constructor of the parent class (nn.Module).\n",
        "-   Inside the constructor, the layers of the neural network are defined.\n",
        "        \n",
        "-   The nn.Flatten() layer is used to flatten the input tensor into a 1D tensor.\n",
        "-   It converts the multi-dimensional input tensor (e.g., an image with height, width, and channels)\n",
        "-   into a 1D tensor suitable for fully connected layers."
      ]
    },
    {
      "cell_type": "code",
      "execution_count": 8,
      "metadata": {},
      "outputs": [
        {
          "name": "stdout",
          "output_type": "stream",
          "text": [
            "NeuralNetwork(\n",
            "  (flatten): Flatten(start_dim=1, end_dim=-1)\n",
            "  (linear_relu_stack): Sequential(\n",
            "    (0): Linear(in_features=784, out_features=512, bias=True)\n",
            "    (1): ReLU()\n",
            "    (2): Linear(in_features=512, out_features=512, bias=True)\n",
            "    (3): ReLU()\n",
            "    (4): Linear(in_features=512, out_features=10, bias=True)\n",
            "  )\n",
            ")\n"
          ]
        }
      ],
      "source": [
        "class NeuralNetwork(nn.Module):\n",
        "    def __init__(self):\n",
        "        super().__init__()\n",
        "        \n",
        "        self.flatten = nn.Flatten()\n",
        "        self.linear_relu_stack = nn.Sequential(\n",
        "            nn.Linear(28*28, 512),\n",
        "            nn.ReLU(),\n",
        "            nn.Linear(512, 512),\n",
        "            nn.ReLU(),\n",
        "            nn.Linear(512, 10)\n",
        "        )\n",
        "\n",
        "    def forward(self, x):\n",
        "        x = self.flatten(x)\n",
        "        logits = self.linear_relu_stack(x)\n",
        "        return logits\n",
        "\n",
        "model = NeuralNetwork().to(device)\n",
        "print(model)"
      ]
    },
    {
      "cell_type": "markdown",
      "metadata": {},
      "source": [
        "optimizing model parameters\n"
      ]
    },
    {
      "cell_type": "code",
      "execution_count": 9,
      "metadata": {},
      "outputs": [],
      "source": [
        "loss_fn = nn.CrossEntropyLoss()\n",
        "optimizer = torch.optim.SGD(model.parameters(), lr=1e-3)"
      ]
    },
    {
      "cell_type": "markdown",
      "metadata": {},
      "source": [
        "In a single training loop, the model makes predictions on the training dataset (fed to it in batches), and\n",
        "backpropagates the prediction error to adjust the model's parameters."
      ]
    },
    {
      "cell_type": "markdown",
      "metadata": {},
      "source": [
        "train model"
      ]
    },
    {
      "cell_type": "code",
      "execution_count": 10,
      "metadata": {},
      "outputs": [],
      "source": [
        "def train(dataloader, model, loss_fn, optimizer):\n",
        "    size = len(dataloader.dataset)\n",
        "    model.train()\n",
        "    for batch, (X, y) in enumerate(dataloader):\n",
        "        X, y = X.to(device), y.to(device)\n",
        "\n",
        "        # Compute prediction error\n",
        "        pred = model(X)\n",
        "        loss = loss_fn(pred, y)\n",
        "\n",
        "        # Backpropagation\n",
        "        loss.backward()\n",
        "        optimizer.step()\n",
        "        optimizer.zero_grad()\n",
        "\n",
        "        if batch % 100 == 0:\n",
        "            loss, current = loss.item(), (batch + 1) * len(X)\n",
        "            print(f\"loss: {loss:>7f}  [{current:>5d}/{size:>5d}]\")"
      ]
    },
    {
      "cell_type": "code",
      "execution_count": 11,
      "metadata": {},
      "outputs": [],
      "source": [
        "def test(dataloader, model, loss_fn):\n",
        "    size = len(dataloader.dataset)\n",
        "    num_batches = len(dataloader)\n",
        "    model.eval()\n",
        "    test_loss, correct = 0, 0\n",
        "    with torch.no_grad():\n",
        "        for X, y in dataloader:\n",
        "            X, y = X.to(device), y.to(device)\n",
        "            pred = model(X)\n",
        "            test_loss += loss_fn(pred, y).item()\n",
        "            correct += (pred.argmax(1) == y).type(torch.float).sum().item()\n",
        "    test_loss /= num_batches\n",
        "    correct /= size\n",
        "    print(f\"Test Error: \\n Accuracy: {(100*correct):>0.1f}%, Avg loss: {test_loss:>8f} \\n\")"
      ]
    },
    {
      "cell_type": "code",
      "execution_count": 12,
      "metadata": {},
      "outputs": [
        {
          "name": "stdout",
          "output_type": "stream",
          "text": [
            "Epoch 1\n",
            "-------------------------------\n",
            "loss: 2.306871  [    8/60000]\n",
            "loss: 2.278809  [  808/60000]\n",
            "loss: 2.294089  [ 1608/60000]\n",
            "loss: 2.279807  [ 2408/60000]\n",
            "loss: 2.254073  [ 3208/60000]\n",
            "loss: 2.213447  [ 4008/60000]\n",
            "loss: 2.231750  [ 4808/60000]\n",
            "loss: 2.147274  [ 5608/60000]\n",
            "loss: 2.164698  [ 6408/60000]\n",
            "loss: 2.160203  [ 7208/60000]\n",
            "loss: 2.105649  [ 8008/60000]\n",
            "loss: 2.117216  [ 8808/60000]\n",
            "loss: 2.092434  [ 9608/60000]\n",
            "loss: 2.034059  [10408/60000]\n",
            "loss: 2.002793  [11208/60000]\n",
            "loss: 2.054878  [12008/60000]\n",
            "loss: 2.003654  [12808/60000]\n",
            "loss: 1.789846  [13608/60000]\n",
            "loss: 1.711907  [14408/60000]\n",
            "loss: 1.652667  [15208/60000]\n",
            "loss: 1.905730  [16008/60000]\n",
            "loss: 1.515557  [16808/60000]\n",
            "loss: 1.784688  [17608/60000]\n",
            "loss: 1.618296  [18408/60000]\n",
            "loss: 1.557313  [19208/60000]\n",
            "loss: 1.698439  [20008/60000]\n",
            "loss: 1.437954  [20808/60000]\n",
            "loss: 1.597627  [21608/60000]\n",
            "loss: 1.469066  [22408/60000]\n",
            "loss: 1.482058  [23208/60000]\n",
            "loss: 1.444018  [24008/60000]\n",
            "loss: 1.414468  [24808/60000]\n",
            "loss: 1.038701  [25608/60000]\n",
            "loss: 1.528153  [26408/60000]\n",
            "loss: 1.382708  [27208/60000]\n",
            "loss: 1.488242  [28008/60000]\n",
            "loss: 1.172947  [28808/60000]\n",
            "loss: 1.607549  [29608/60000]\n",
            "loss: 1.217941  [30408/60000]\n",
            "loss: 1.206053  [31208/60000]\n",
            "loss: 1.202340  [32008/60000]\n",
            "loss: 1.150368  [32808/60000]\n",
            "loss: 0.940958  [33608/60000]\n",
            "loss: 1.299290  [34408/60000]\n",
            "loss: 0.947193  [35208/60000]\n",
            "loss: 0.865697  [36008/60000]\n",
            "loss: 1.144038  [36808/60000]\n",
            "loss: 1.305439  [37608/60000]\n",
            "loss: 1.082824  [38408/60000]\n",
            "loss: 0.858826  [39208/60000]\n",
            "loss: 0.935141  [40008/60000]\n",
            "loss: 0.753656  [40808/60000]\n",
            "loss: 0.835409  [41608/60000]\n",
            "loss: 0.768930  [42408/60000]\n",
            "loss: 1.085122  [43208/60000]\n",
            "loss: 0.815459  [44008/60000]\n",
            "loss: 0.603952  [44808/60000]\n",
            "loss: 1.067939  [45608/60000]\n",
            "loss: 1.083546  [46408/60000]\n",
            "loss: 0.848042  [47208/60000]\n",
            "loss: 1.072748  [48008/60000]\n",
            "loss: 1.373883  [48808/60000]\n",
            "loss: 0.952248  [49608/60000]\n",
            "loss: 0.913458  [50408/60000]\n",
            "loss: 0.721976  [51208/60000]\n",
            "loss: 0.560363  [52008/60000]\n",
            "loss: 1.046661  [52808/60000]\n",
            "loss: 0.971389  [53608/60000]\n",
            "loss: 1.089893  [54408/60000]\n",
            "loss: 0.653035  [55208/60000]\n",
            "loss: 0.808695  [56008/60000]\n",
            "loss: 0.937540  [56808/60000]\n",
            "loss: 0.782675  [57608/60000]\n",
            "loss: 1.099085  [58408/60000]\n",
            "loss: 0.661574  [59208/60000]\n",
            "Test Error: \n",
            " Accuracy: 68.5%, Avg loss: 0.849596 \n",
            "\n",
            "Epoch 2\n",
            "-------------------------------\n",
            "loss: 0.984229  [    8/60000]\n",
            "loss: 0.692140  [  808/60000]\n",
            "loss: 0.857974  [ 1608/60000]\n",
            "loss: 1.106754  [ 2408/60000]\n",
            "loss: 0.789180  [ 3208/60000]\n",
            "loss: 0.582139  [ 4008/60000]\n",
            "loss: 0.795405  [ 4808/60000]\n",
            "loss: 0.585692  [ 5608/60000]\n",
            "loss: 0.842513  [ 6408/60000]\n",
            "loss: 0.960678  [ 7208/60000]\n",
            "loss: 0.761515  [ 8008/60000]\n",
            "loss: 0.916406  [ 8808/60000]\n",
            "loss: 0.963251  [ 9608/60000]\n",
            "loss: 0.793053  [10408/60000]\n",
            "loss: 0.578218  [11208/60000]\n",
            "loss: 0.852347  [12008/60000]\n",
            "loss: 0.857237  [12808/60000]\n",
            "loss: 0.675178  [13608/60000]\n",
            "loss: 0.659225  [14408/60000]\n",
            "loss: 0.407230  [15208/60000]\n",
            "loss: 1.129261  [16008/60000]\n",
            "loss: 0.751795  [16808/60000]\n",
            "loss: 0.694483  [17608/60000]\n",
            "loss: 0.796934  [18408/60000]\n",
            "loss: 0.491230  [19208/60000]\n",
            "loss: 0.834549  [20008/60000]\n",
            "loss: 0.658700  [20808/60000]\n",
            "loss: 0.922966  [21608/60000]\n",
            "loss: 0.550154  [22408/60000]\n",
            "loss: 0.679421  [23208/60000]\n",
            "loss: 0.924610  [24008/60000]\n",
            "loss: 0.926280  [24808/60000]\n",
            "loss: 0.243024  [25608/60000]\n",
            "loss: 0.722624  [26408/60000]\n",
            "loss: 0.743497  [27208/60000]\n",
            "loss: 1.157034  [28008/60000]\n",
            "loss: 0.849172  [28808/60000]\n",
            "loss: 1.290283  [29608/60000]\n",
            "loss: 0.632497  [30408/60000]\n",
            "loss: 0.697738  [31208/60000]\n",
            "loss: 0.897793  [32008/60000]\n",
            "loss: 0.703781  [32808/60000]\n",
            "loss: 0.405141  [33608/60000]\n",
            "loss: 1.011147  [34408/60000]\n",
            "loss: 0.449238  [35208/60000]\n",
            "loss: 0.407806  [36008/60000]\n",
            "loss: 0.654928  [36808/60000]\n",
            "loss: 1.304988  [37608/60000]\n",
            "loss: 0.730920  [38408/60000]\n",
            "loss: 0.592252  [39208/60000]\n",
            "loss: 0.636206  [40008/60000]\n",
            "loss: 0.423433  [40808/60000]\n",
            "loss: 0.589428  [41608/60000]\n",
            "loss: 0.401751  [42408/60000]\n",
            "loss: 0.692818  [43208/60000]\n",
            "loss: 0.629257  [44008/60000]\n",
            "loss: 0.347072  [44808/60000]\n",
            "loss: 0.801572  [45608/60000]\n",
            "loss: 0.751422  [46408/60000]\n",
            "loss: 0.620879  [47208/60000]\n",
            "loss: 0.758242  [48008/60000]\n",
            "loss: 0.978657  [48808/60000]\n",
            "loss: 0.740401  [49608/60000]\n",
            "loss: 0.715216  [50408/60000]\n",
            "loss: 0.385265  [51208/60000]\n",
            "loss: 0.311024  [52008/60000]\n",
            "loss: 0.730451  [52808/60000]\n",
            "loss: 0.820737  [53608/60000]\n",
            "loss: 0.927772  [54408/60000]\n",
            "loss: 0.346095  [55208/60000]\n",
            "loss: 0.738050  [56008/60000]\n",
            "loss: 0.641510  [56808/60000]\n",
            "loss: 0.707427  [57608/60000]\n",
            "loss: 0.958504  [58408/60000]\n",
            "loss: 0.545006  [59208/60000]\n",
            "Test Error: \n",
            " Accuracy: 76.6%, Avg loss: 0.664142 \n",
            "\n",
            "Epoch 3\n",
            "-------------------------------\n",
            "loss: 1.012678  [    8/60000]\n",
            "loss: 0.405023  [  808/60000]\n",
            "loss: 0.727540  [ 1608/60000]\n",
            "loss: 1.024295  [ 2408/60000]\n",
            "loss: 0.653102  [ 3208/60000]\n",
            "loss: 0.361636  [ 4008/60000]\n",
            "loss: 0.655188  [ 4808/60000]\n",
            "loss: 0.537928  [ 5608/60000]\n",
            "loss: 0.645503  [ 6408/60000]\n",
            "loss: 0.933923  [ 7208/60000]\n",
            "loss: 0.516948  [ 8008/60000]\n",
            "loss: 0.670890  [ 8808/60000]\n",
            "loss: 0.791750  [ 9608/60000]\n",
            "loss: 0.662214  [10408/60000]\n",
            "loss: 0.373441  [11208/60000]\n",
            "loss: 0.658907  [12008/60000]\n",
            "loss: 0.648842  [12808/60000]\n",
            "loss: 0.519972  [13608/60000]\n",
            "loss: 0.373736  [14408/60000]\n",
            "loss: 0.296949  [15208/60000]\n",
            "loss: 1.139549  [16008/60000]\n",
            "loss: 0.824994  [16808/60000]\n",
            "loss: 0.490083  [17608/60000]\n",
            "loss: 0.795096  [18408/60000]\n",
            "loss: 0.330498  [19208/60000]\n",
            "loss: 0.530490  [20008/60000]\n",
            "loss: 0.619042  [20808/60000]\n",
            "loss: 0.813295  [21608/60000]\n",
            "loss: 0.426668  [22408/60000]\n",
            "loss: 0.527931  [23208/60000]\n",
            "loss: 0.805321  [24008/60000]\n",
            "loss: 0.961872  [24808/60000]\n",
            "loss: 0.171122  [25608/60000]\n",
            "loss: 0.406853  [26408/60000]\n",
            "loss: 0.535686  [27208/60000]\n",
            "loss: 1.140929  [28008/60000]\n",
            "loss: 0.712478  [28808/60000]\n",
            "loss: 1.071500  [29608/60000]\n",
            "loss: 0.480323  [30408/60000]\n",
            "loss: 0.618391  [31208/60000]\n",
            "loss: 0.868929  [32008/60000]\n",
            "loss: 0.595248  [32808/60000]\n",
            "loss: 0.317961  [33608/60000]\n",
            "loss: 0.879250  [34408/60000]\n",
            "loss: 0.295942  [35208/60000]\n",
            "loss: 0.304385  [36008/60000]\n",
            "loss: 0.454767  [36808/60000]\n",
            "loss: 1.310848  [37608/60000]\n",
            "loss: 0.588450  [38408/60000]\n",
            "loss: 0.493434  [39208/60000]\n",
            "loss: 0.679274  [40008/60000]\n",
            "loss: 0.409941  [40808/60000]\n",
            "loss: 0.578217  [41608/60000]\n",
            "loss: 0.371908  [42408/60000]\n",
            "loss: 0.565821  [43208/60000]\n",
            "loss: 0.581071  [44008/60000]\n",
            "loss: 0.329064  [44808/60000]\n",
            "loss: 0.583186  [45608/60000]\n",
            "loss: 0.673914  [46408/60000]\n",
            "loss: 0.529574  [47208/60000]\n",
            "loss: 0.659019  [48008/60000]\n",
            "loss: 0.735319  [48808/60000]\n",
            "loss: 0.702073  [49608/60000]\n",
            "loss: 0.609204  [50408/60000]\n",
            "loss: 0.271905  [51208/60000]\n",
            "loss: 0.247084  [52008/60000]\n",
            "loss: 0.587116  [52808/60000]\n",
            "loss: 0.774097  [53608/60000]\n",
            "loss: 0.852849  [54408/60000]\n",
            "loss: 0.252953  [55208/60000]\n",
            "loss: 0.650157  [56008/60000]\n",
            "loss: 0.527559  [56808/60000]\n",
            "loss: 0.660439  [57608/60000]\n",
            "loss: 0.900120  [58408/60000]\n",
            "loss: 0.521135  [59208/60000]\n",
            "Test Error: \n",
            " Accuracy: 79.9%, Avg loss: 0.582536 \n",
            "\n",
            "Epoch 4\n",
            "-------------------------------\n",
            "loss: 0.984886  [    8/60000]\n",
            "loss: 0.321917  [  808/60000]\n",
            "loss: 0.660099  [ 1608/60000]\n",
            "loss: 0.992499  [ 2408/60000]\n",
            "loss: 0.673505  [ 3208/60000]\n",
            "loss: 0.258118  [ 4008/60000]\n",
            "loss: 0.588260  [ 4808/60000]\n",
            "loss: 0.495760  [ 5608/60000]\n",
            "loss: 0.532895  [ 6408/60000]\n",
            "loss: 0.900382  [ 7208/60000]\n",
            "loss: 0.427497  [ 8008/60000]\n",
            "loss: 0.584950  [ 8808/60000]\n",
            "loss: 0.687207  [ 9608/60000]\n",
            "loss: 0.537374  [10408/60000]\n",
            "loss: 0.300486  [11208/60000]\n",
            "loss: 0.544322  [12008/60000]\n",
            "loss: 0.500766  [12808/60000]\n",
            "loss: 0.460237  [13608/60000]\n",
            "loss: 0.228053  [14408/60000]\n",
            "loss: 0.254777  [15208/60000]\n",
            "loss: 1.203162  [16008/60000]\n",
            "loss: 0.904819  [16808/60000]\n",
            "loss: 0.368905  [17608/60000]\n",
            "loss: 0.797671  [18408/60000]\n",
            "loss: 0.277194  [19208/60000]\n",
            "loss: 0.389942  [20008/60000]\n",
            "loss: 0.646583  [20808/60000]\n",
            "loss: 0.711195  [21608/60000]\n",
            "loss: 0.356242  [22408/60000]\n",
            "loss: 0.440211  [23208/60000]\n",
            "loss: 0.741772  [24008/60000]\n",
            "loss: 0.990958  [24808/60000]\n",
            "loss: 0.141394  [25608/60000]\n",
            "loss: 0.280926  [26408/60000]\n",
            "loss: 0.395884  [27208/60000]\n",
            "loss: 1.137678  [28008/60000]\n",
            "loss: 0.593233  [28808/60000]\n",
            "loss: 0.954514  [29608/60000]\n",
            "loss: 0.394759  [30408/60000]\n",
            "loss: 0.561909  [31208/60000]\n",
            "loss: 0.790273  [32008/60000]\n",
            "loss: 0.516381  [32808/60000]\n",
            "loss: 0.298808  [33608/60000]\n",
            "loss: 0.797322  [34408/60000]\n",
            "loss: 0.223194  [35208/60000]\n",
            "loss: 0.252837  [36008/60000]\n",
            "loss: 0.337766  [36808/60000]\n",
            "loss: 1.305215  [37608/60000]\n",
            "loss: 0.524783  [38408/60000]\n",
            "loss: 0.427679  [39208/60000]\n",
            "loss: 0.735857  [40008/60000]\n",
            "loss: 0.428421  [40808/60000]\n",
            "loss: 0.584353  [41608/60000]\n",
            "loss: 0.388792  [42408/60000]\n",
            "loss: 0.485936  [43208/60000]\n",
            "loss: 0.573004  [44008/60000]\n",
            "loss: 0.333701  [44808/60000]\n",
            "loss: 0.476265  [45608/60000]\n",
            "loss: 0.654142  [46408/60000]\n",
            "loss: 0.505477  [47208/60000]\n",
            "loss: 0.638187  [48008/60000]\n",
            "loss: 0.615490  [48808/60000]\n",
            "loss: 0.686417  [49608/60000]\n",
            "loss: 0.530475  [50408/60000]\n",
            "loss: 0.220777  [51208/60000]\n",
            "loss: 0.231351  [52008/60000]\n",
            "loss: 0.520225  [52808/60000]\n",
            "loss: 0.739918  [53608/60000]\n",
            "loss: 0.792832  [54408/60000]\n",
            "loss: 0.216429  [55208/60000]\n",
            "loss: 0.564667  [56008/60000]\n",
            "loss: 0.485120  [56808/60000]\n",
            "loss: 0.601479  [57608/60000]\n",
            "loss: 0.857577  [58408/60000]\n",
            "loss: 0.511231  [59208/60000]\n",
            "Test Error: \n",
            " Accuracy: 81.1%, Avg loss: 0.538532 \n",
            "\n",
            "Epoch 5\n",
            "-------------------------------\n",
            "loss: 0.936079  [    8/60000]\n",
            "loss: 0.301912  [  808/60000]\n",
            "loss: 0.608428  [ 1608/60000]\n",
            "loss: 1.035515  [ 2408/60000]\n",
            "loss: 0.684865  [ 3208/60000]\n",
            "loss: 0.194258  [ 4008/60000]\n",
            "loss: 0.541910  [ 4808/60000]\n",
            "loss: 0.451560  [ 5608/60000]\n",
            "loss: 0.462553  [ 6408/60000]\n",
            "loss: 0.869047  [ 7208/60000]\n",
            "loss: 0.378070  [ 8008/60000]\n",
            "loss: 0.538587  [ 8808/60000]\n",
            "loss: 0.616623  [ 9608/60000]\n",
            "loss: 0.449957  [10408/60000]\n",
            "loss: 0.270867  [11208/60000]\n",
            "loss: 0.499797  [12008/60000]\n",
            "loss: 0.415505  [12808/60000]\n",
            "loss: 0.442234  [13608/60000]\n",
            "loss: 0.164015  [14408/60000]\n",
            "loss: 0.240462  [15208/60000]\n",
            "loss: 1.253109  [16008/60000]\n",
            "loss: 0.959926  [16808/60000]\n",
            "loss: 0.292874  [17608/60000]\n",
            "loss: 0.758767  [18408/60000]\n",
            "loss: 0.254858  [19208/60000]\n",
            "loss: 0.317590  [20008/60000]\n",
            "loss: 0.658177  [20808/60000]\n",
            "loss: 0.642992  [21608/60000]\n",
            "loss: 0.317384  [22408/60000]\n",
            "loss: 0.396497  [23208/60000]\n",
            "loss: 0.681334  [24008/60000]\n",
            "loss: 1.020256  [24808/60000]\n",
            "loss: 0.131179  [25608/60000]\n",
            "loss: 0.221530  [26408/60000]\n",
            "loss: 0.312265  [27208/60000]\n",
            "loss: 1.145922  [28008/60000]\n",
            "loss: 0.520410  [28808/60000]\n",
            "loss: 0.893903  [29608/60000]\n",
            "loss: 0.339753  [30408/60000]\n",
            "loss: 0.523658  [31208/60000]\n",
            "loss: 0.709689  [32008/60000]\n",
            "loss: 0.463332  [32808/60000]\n",
            "loss: 0.308067  [33608/60000]\n",
            "loss: 0.757459  [34408/60000]\n",
            "loss: 0.193106  [35208/60000]\n",
            "loss: 0.231369  [36008/60000]\n",
            "loss: 0.283196  [36808/60000]\n",
            "loss: 1.289342  [37608/60000]\n",
            "loss: 0.487885  [38408/60000]\n",
            "loss: 0.396539  [39208/60000]\n",
            "loss: 0.768060  [40008/60000]\n",
            "loss: 0.441184  [40808/60000]\n",
            "loss: 0.590240  [41608/60000]\n",
            "loss: 0.402592  [42408/60000]\n",
            "loss: 0.448403  [43208/60000]\n",
            "loss: 0.584820  [44008/60000]\n",
            "loss: 0.336522  [44808/60000]\n",
            "loss: 0.441101  [45608/60000]\n",
            "loss: 0.643840  [46408/60000]\n",
            "loss: 0.504566  [47208/60000]\n",
            "loss: 0.629818  [48008/60000]\n",
            "loss: 0.548190  [48808/60000]\n",
            "loss: 0.674639  [49608/60000]\n",
            "loss: 0.470502  [50408/60000]\n",
            "loss: 0.192857  [51208/60000]\n",
            "loss: 0.224963  [52008/60000]\n",
            "loss: 0.500437  [52808/60000]\n",
            "loss: 0.698765  [53608/60000]\n",
            "loss: 0.746625  [54408/60000]\n",
            "loss: 0.193977  [55208/60000]\n",
            "loss: 0.499374  [56008/60000]\n",
            "loss: 0.462061  [56808/60000]\n",
            "loss: 0.553786  [57608/60000]\n",
            "loss: 0.818611  [58408/60000]\n",
            "loss: 0.508703  [59208/60000]\n",
            "Test Error: \n",
            " Accuracy: 82.0%, Avg loss: 0.511962 \n",
            "\n",
            "Done!\n"
          ]
        }
      ],
      "source": [
        "epochs = 5\n",
        "for t in range(epochs):\n",
        "    print(f\"Epoch {t+1}\\n-------------------------------\")\n",
        "    train(train_dataloader, model, loss_fn, optimizer)\n",
        "    test(test_dataloader, model, loss_fn)\n",
        "print(\"Done!\")"
      ]
    },
    {
      "cell_type": "markdown",
      "metadata": {},
      "source": [
        "Saving Models\n"
      ]
    },
    {
      "cell_type": "markdown",
      "metadata": {},
      "source": [
        "#A common way to save a model is to serialize the internal state dictionary (containing the model parameters)."
      ]
    },
    {
      "cell_type": "code",
      "execution_count": null,
      "metadata": {},
      "outputs": [],
      "source": [
        "torch.save(model.state_dict(), \"model.pth\")\n",
        "print(\"Saved PyTorch Model State to model.pth\")"
      ]
    },
    {
      "cell_type": "markdown",
      "metadata": {},
      "source": [
        "Loading Models"
      ]
    },
    {
      "cell_type": "code",
      "execution_count": null,
      "metadata": {},
      "outputs": [],
      "source": [
        "model = NeuralNetwork().to(device)\n",
        "model.load_state_dict(torch.load(\"model.pth\"))"
      ]
    },
    {
      "cell_type": "code",
      "execution_count": null,
      "metadata": {},
      "outputs": [],
      "source": [
        "classes = [\n",
        "    \"T-shirt/top\",\n",
        "    \"Trouser\",\n",
        "    \"Pullover\",\n",
        "    \"Dress\",\n",
        "    \"Coat\",\n",
        "    \"Sandal\",\n",
        "    \"Shirt\",\n",
        "    \"Sneaker\",\n",
        "    \"Bag\",\n",
        "    \"Ankle boot\",\n",
        "]\n",
        "\n",
        "model.eval()\n",
        "x, y = test_data[0][0], test_data[0][1]\n",
        "with torch.no_grad():\n",
        "    x = x.to(device)\n",
        "    pred = model(x)\n",
        "    predicted, actual = classes[pred[0].argmax(0)], classes[y]\n",
        "    print(f'Predicted: \"{predicted}\", Actual: \"{actual}\"')"
      ]
    },
    {
      "cell_type": "markdown",
      "metadata": {},
      "source": [
        "Tensor"
      ]
    },
    {
      "cell_type": "markdown",
      "metadata": {},
      "source": [
        "\n",
        "- Tensors are a specialized data structure that are very similar to arrays and matrices.\n",
        "-   In PyTorch, we use tensors to encode the inputs and outputs of a model, as well as the model’s parameters. "
      ]
    },
    {
      "cell_type": "markdown",
      "metadata": {},
      "source": [
        "Initializing a Tensor\n",
        "\n",
        "-   Tensors can be initialized in various ways. Take a look at the following examples:\n",
        "\n",
        "Directly from data\n",
        "-   Tensors can be created directly from data. The data type is automatically inferred."
      ]
    },
    {
      "cell_type": "code",
      "execution_count": 1,
      "metadata": {},
      "outputs": [
        {
          "name": "stderr",
          "output_type": "stream",
          "text": [
            "/home/multi-sy-003/Documents/code/code_env/lib/python3.8/site-packages/tqdm/auto.py:21: TqdmWarning: IProgress not found. Please update jupyter and ipywidgets. See https://ipywidgets.readthedocs.io/en/stable/user_install.html\n",
            "  from .autonotebook import tqdm as notebook_tqdm\n"
          ]
        }
      ],
      "source": [
        "import numpy as np\n",
        "import torch\n"
      ]
    },
    {
      "cell_type": "code",
      "execution_count": 2,
      "metadata": {},
      "outputs": [
        {
          "name": "stdout",
          "output_type": "stream",
          "text": [
            "tensor([[1, 2],\n",
            "        [3, 4]])\n"
          ]
        }
      ],
      "source": [
        "data = [[1, 2],[3, 4]]\n",
        "\n",
        "x_data = torch.tensor(data)\n",
        "print(x_data)"
      ]
    },
    {
      "cell_type": "markdown",
      "metadata": {},
      "source": [
        "**From a NumPy array**\n",
        "\n",
        "Tensors can be created from NumPy arrays (and vice versa - see `bridge-to-np-label`)."
      ]
    },
    {
      "cell_type": "code",
      "execution_count": null,
      "metadata": {},
      "outputs": [],
      "source": [
        "np_array = np.array(data)\n",
        "x_np = torch.from_numpy(np_array)"
      ]
    },
    {
      "cell_type": "markdown",
      "metadata": {},
      "source": [
        "**From another tensor:**\n",
        "\n",
        "The new tensor retains the properties (shape, datatype) of the argument tensor, unless explicitly overridden.\n"
      ]
    },
    {
      "cell_type": "code",
      "execution_count": null,
      "metadata": {},
      "outputs": [],
      "source": [
        "x_ones = torch.ones_like(x_data) # retains the properties of x_data\n",
        "print(f\"Ones Tensor: \\n {x_ones} \\n\")\n",
        "\n",
        "x_rand = torch.rand_like(x_data, dtype=torch.float) # overrides the datatype of x_data\n",
        "print(f\"Random Tensor: \\n {x_rand} \\n\")"
      ]
    },
    {
      "cell_type": "markdown",
      "metadata": {},
      "source": [
        "**With random or constant values:**\n",
        "\n",
        "``shape`` is a tuple of tensor dimensions. In the functions below, it determines the dimensionality of the output tensor."
      ]
    },
    {
      "cell_type": "code",
      "execution_count": null,
      "metadata": {},
      "outputs": [],
      "source": [
        "shape = (2,3,)\n",
        "rand_tensor = torch.rand(shape)\n",
        "ones_tensor = torch.ones(shape)\n",
        "zeros_tensor = torch.zeros(shape)\n",
        "\n",
        "print(f\"Random Tensor: \\n {rand_tensor} \\n\")\n",
        "print(f\"Ones Tensor: \\n {ones_tensor} \\n\")\n",
        "print(f\"Zeros Tensor: \\n {zeros_tensor}\")"
      ]
    },
    {
      "cell_type": "markdown",
      "metadata": {},
      "source": [
        "## Attributes of a Tensor\n",
        "\n",
        "Tensor attributes describe their shape, datatype, and the device on which they are stored."
      ]
    },
    {
      "cell_type": "code",
      "execution_count": 2,
      "metadata": {},
      "outputs": [
        {
          "name": "stdout",
          "output_type": "stream",
          "text": [
            "Shape of tensor: torch.Size([3, 4])\n",
            "Datatype of tensor: torch.float32\n",
            "Device tensor is stored on: cpu\n"
          ]
        }
      ],
      "source": [
        "tensor = torch.rand(3,4)\n",
        "\n",
        "print(f\"Shape of tensor: {tensor.shape}\")\n",
        "print(f\"Datatype of tensor: {tensor.dtype}\")\n",
        "print(f\"Device tensor is stored on: {tensor.device}\")"
      ]
    },
    {
      "cell_type": "markdown",
      "metadata": {},
      "source": [
        "## Operations on Tensors\n",
        "\n",
        "Over 100 tensor operations, including arithmetic, linear algebra, matrix manipulation (transposing,\n",
        "indexing, slicing), sampling and more are\n",
        "comprehensively described [here](https://pytorch.org/docs/stable/torch.html)_.\n",
        "\n",
        "Each of these operations can be run on the GPU (at typically higher speeds than on a\n",
        "CPU). If you’re using Colab, allocate a GPU by going to Runtime > Change runtime type > GPU.\n",
        "\n",
        "By default, tensors are created on the CPU. We need to explicitly move tensors to the GPU using\n",
        "``.to`` method (after checking for GPU availability). Keep in mind that copying large tensors\n",
        "across devices can be expensive in terms of time and memory!"
      ]
    },
    {
      "cell_type": "markdown",
      "metadata": {},
      "source": [
        "# We move our tensor to the GPU if available\n",
        "if torch.cuda.is_available():\n",
        "    tensor = tensor.to(\"cuda\")"
      ]
    },
    {
      "cell_type": "markdown",
      "metadata": {},
      "source": [
        "**Standard numpy-like indexing and slicing:**\n"
      ]
    },
    {
      "cell_type": "code",
      "execution_count": null,
      "metadata": {},
      "outputs": [],
      "source": [
        "tensor = torch.ones(4, 4)\n",
        "print(f\"First row: {tensor[0]}\")\n",
        "print(f\"First column: {tensor[:, 0]}\")\n",
        "print(f\"Last column: {tensor[..., -1]}\")\n",
        "tensor[:,1] = 0\n",
        "print(tensor)"
      ]
    },
    {
      "cell_type": "markdown",
      "metadata": {},
      "source": [
        "**Joining tensors** You can use ``torch.cat`` to concatenate a sequence of tensors along a given dimension.\n",
        "See also [torch.stack](https://pytorch.org/docs/stable/generated/torch.stack.html)_,\n",
        "another tensor joining operator that is subtly different from ``torch.cat``."
      ]
    },
    {
      "cell_type": "markdown",
      "metadata": {},
      "source": [
        "t1 = torch.cat([tensor, tensor, tensor], dim=1)\n",
        "print(t1)"
      ]
    },
    {
      "cell_type": "markdown",
      "metadata": {},
      "source": [
        "Arithematic operations"
      ]
    },
    {
      "cell_type": "code",
      "execution_count": null,
      "metadata": {},
      "outputs": [],
      "source": [
        "# This computes the matrix multiplication between two tensors. y1, y2, y3 will have the same value\n",
        "# ``tensor.T`` returns the transpose of a tensor\n",
        "y1 = tensor @ tensor.T\n",
        "y2 = tensor.matmul(tensor.T)\n",
        "\n",
        "y3 = torch.rand_like(y1)\n",
        "torch.matmul(tensor, tensor.T, out=y3)\n",
        "\n",
        "\n",
        "# This computes the element-wise product. z1, z2, z3 will have the same value\n",
        "z1 = tensor * tensor\n",
        "z2 = tensor.mul(tensor)\n",
        "\n",
        "z3 = torch.rand_like(tensor)\n",
        "torch.mul(tensor, tensor, out=z3)"
      ]
    },
    {
      "cell_type": "code",
      "execution_count": null,
      "metadata": {},
      "outputs": [],
      "source": [
        "**Single-element tensors** If you have a one-element tensor, for example by aggregating all\n",
        "values of a tensor into one value, you can convert it to a Python\n",
        "numerical value using ``item()``:"
      ]
    },
    {
      "cell_type": "code",
      "execution_count": null,
      "metadata": {},
      "outputs": [],
      "source": [
        "agg = tensor.sum()\n",
        "agg_item = agg.item()\n",
        "print(agg_item, type(agg_item))"
      ]
    },
    {
      "cell_type": "markdown",
      "metadata": {},
      "source": [
        "**In-place operations**\n",
        "Operations that store the result into the operand are called in-place. They are denoted by a ``_`` suffix.\n",
        "For example: ``x.copy_(y)``, ``x.t_()``, will change ``x``."
      ]
    },
    {
      "cell_type": "code",
      "execution_count": null,
      "metadata": {},
      "outputs": [],
      "source": [
        "print(f\"{tensor} \\n\")\n",
        "tensor.add_(5)\n",
        "print(tensor)"
      ]
    },
    {
      "cell_type": "markdown",
      "metadata": {},
      "source": [
        "\n",
        "## Bridge with NumPy\n",
        "Tensors on the CPU and NumPy arrays can share their underlying memory\n",
        "locations, and changing one will change\tthe other."
      ]
    },
    {
      "cell_type": "markdown",
      "metadata": {},
      "source": [
        "### Tensor to NumPy array\n"
      ]
    },
    {
      "cell_type": "code",
      "execution_count": null,
      "metadata": {},
      "outputs": [],
      "source": [
        "t = torch.ones(5)\n",
        "print(f\"t: {t}\")\n",
        "n = t.numpy()\n",
        "print(f\"n: {n}\")"
      ]
    },
    {
      "cell_type": "markdown",
      "metadata": {},
      "source": [
        "A change in the tensor reflects in the NumPy array.\n"
      ]
    },
    {
      "cell_type": "code",
      "execution_count": null,
      "metadata": {},
      "outputs": [],
      "source": [
        "t.add_(1)\n",
        "print(f\"t: {t}\")\n",
        "print(f\"n: {n}\")"
      ]
    },
    {
      "cell_type": "markdown",
      "metadata": {},
      "source": [
        "### NumPy array to Tensor\n"
      ]
    },
    {
      "cell_type": "code",
      "execution_count": null,
      "metadata": {},
      "outputs": [],
      "source": [
        "n = np.ones(5)\n",
        "t = torch.from_numpy(n)"
      ]
    },
    {
      "cell_type": "markdown",
      "metadata": {},
      "source": [
        "Changes in the NumPy array reflects in the tensor.\n"
      ]
    },
    {
      "cell_type": "code",
      "execution_count": null,
      "metadata": {},
      "outputs": [],
      "source": [
        "np.add(n, 1, out=n)\n",
        "print(f\"t: {t}\")\n",
        "print(f\"n: {n}\")"
      ]
    },
    {
      "cell_type": "markdown",
      "metadata": {},
      "source": [
        "Datasets and dataloader"
      ]
    },
    {
      "cell_type": "markdown",
      "metadata": {},
      "source": [
        "Code for processing data samples can get messy and hard to maintain; we ideally want our dataset code\n",
        "to be decoupled from our model training code for better readability and modularity.\n",
        "PyTorch provides two data primitives: ``torch.utils.data.DataLoader`` and ``torch.utils.data.Dataset``\n",
        "that allow you to use pre-loaded datasets as well as your own data.\n",
        "``Dataset`` stores the samples and their corresponding labels, and ``DataLoader`` wraps an iterable around\n",
        "the ``Dataset`` to enable easy access to the samples.\n",
        "\n",
        "PyTorch domain libraries provide a number of pre-loaded datasets (such as FashionMNIST) that\n",
        "subclass ``torch.utils.data.Dataset`` and implement functions specific to the particular data.\n",
        "They can be used to prototype and benchmark your model. You can find them\n",
        "here: [Image Datasets](https://pytorch.org/vision/stable/datasets.html),\n",
        "[Text Datasets](https://pytorch.org/text/stable/datasets.html), and\n",
        "[Audio Datasets](https://pytorch.org/audio/stable/datasets.html)"
      ]
    },
    {
      "cell_type": "markdown",
      "metadata": {},
      "source": [
        "## Loading a Dataset\n",
        "\n",
        "Here is an example of how to load the [Fashion-MNIST](https://research.zalando.com/project/fashion_mnist/fashion_mnist/) dataset from TorchVision.\n",
        "Fashion-MNIST is a dataset of Zalando’s article images consisting of 60,000 training examples and 10,000 test examples.\n",
        "Each example comprises a 28×28 grayscale image and an associated label from one of 10 classes.\n",
        "\n",
        "We load the [FashionMNIST Dataset](https://pytorch.org/vision/stable/datasets.html#fashion-mnist) with the following parameters:\n",
        " - ``root`` is the path where the train/test data is stored,\n",
        " - ``train`` specifies training or test dataset,\n",
        " - ``download=True`` downloads the data from the internet if it's not available at ``root``.\n",
        " - ``transform`` and ``target_transform`` specify the feature and label transformations"
      ]
    },
    {
      "cell_type": "code",
      "execution_count": null,
      "metadata": {},
      "outputs": [],
      "source": [
        "import torch\n",
        "from torch.utils.data import Dataset\n",
        "from torchvision import datasets\n",
        "from torchvision.transforms import ToTensor\n",
        "import matplotlib.pyplot as plt\n",
        "\n",
        "\n",
        "training_data = datasets.FashionMNIST(\n",
        "    root=\"data\",\n",
        "    train=True,\n",
        "    download=True,\n",
        "    transform=ToTensor()\n",
        ")\n",
        "\n",
        "test_data = datasets.FashionMNIST(\n",
        "    root=\"data\",\n",
        "    train=False,\n",
        "    download=True,\n",
        "    transform=ToTensor()\n",
        ")"
      ]
    },
    {
      "cell_type": "markdown",
      "metadata": {},
      "source": [
        "## Creating a Custom Dataset for your files\n",
        "\n",
        "A custom Dataset class must implement three functions: `__init__`, `__len__`, and `__getitem__`.\n",
        "Take a look at this implementation; the FashionMNIST images are stored\n",
        "in a directory ``img_dir``, and their labels are stored separately in a CSV file ``annotations_file``.\n",
        "\n",
        "In the next sections, we'll break down what's happening in each of these functions."
      ]
    },
    {
      "cell_type": "code",
      "execution_count": null,
      "metadata": {},
      "outputs": [],
      "source": [
        "import os\n",
        "import pandas as pd\n",
        "from torchvision.io import read_image\n",
        "\n",
        "class CustomImageDataset(Dataset):\n",
        "    def __init__(self, annotations_file, img_dir, transform=None, target_transform=None):\n",
        "        self.img_labels = pd.read_csv(annotations_file)\n",
        "        self.img_dir = img_dir\n",
        "        self.transform = transform\n",
        "        self.target_transform = target_transform\n",
        "\n",
        "    def __len__(self):\n",
        "        return len(self.img_labels)\n",
        "\n",
        "    def __getitem__(self, idx):\n",
        "        img_path = os.path.join(self.img_dir, self.img_labels.iloc[idx, 0])\n",
        "        image = read_image(img_path)\n",
        "        label = self.img_labels.iloc[idx, 1]\n",
        "        if self.transform:\n",
        "            image = self.transform(image)\n",
        "        if self.target_transform:\n",
        "            label = self.target_transform(label)\n",
        "        return image, label"
      ]
    },
    {
      "cell_type": "markdown",
      "metadata": {},
      "source": [
        "### ``__init__``\n",
        "\n",
        "The __init__ function is run once when instantiating the Dataset object. We initialize\n",
        "the directory containing the images, the annotations file, and both transforms (covered\n",
        "in more detail in the next section).\n",
        "\n",
        "The labels.csv file looks like: ::\n",
        "\n",
        "    tshirt1.jpg, 0\n",
        "    tshirt2.jpg, 0\n",
        "    ......\n",
        "    ankleboot999.jpg, 9"
      ]
    },
    {
      "cell_type": "markdown",
      "metadata": {},
      "source": [
        "def __init__(self, annotations_file, img_dir, transform=None, target_transform=None):\n",
        "    self.img_labels = pd.read_csv(annotations_file)\n",
        "    self.img_dir = img_dir\n",
        "    self.transform = transform\n",
        "    self.target_transform = target_transform"
      ]
    },
    {
      "cell_type": "code",
      "execution_count": null,
      "metadata": {},
      "outputs": [],
      "source": [
        "### ``__len__``\n",
        "\n",
        "The __len__ function returns the number of samples in our dataset.\n",
        "\n",
        "Example:"
      ]
    },
    {
      "cell_type": "markdown",
      "metadata": {},
      "source": [
        "def __len__(self):\n",
        "    return len(self.img_labels)"
      ]
    },
    {
      "cell_type": "markdown",
      "metadata": {},
      "source": [
        "### ``__getitem__``\n",
        "\n",
        "The __getitem__ function loads and returns a sample from the dataset at the given index ``idx``.\n",
        "Based on the index, it identifies the image's location on disk, converts that to a tensor using ``read_image``, retrieves the\n",
        "corresponding label from the csv data in ``self.img_labels``, calls the transform functions on them (if applicable), and returns the\n",
        "tensor image and corresponding label in a tuple."
      ]
    },
    {
      "cell_type": "code",
      "execution_count": null,
      "metadata": {},
      "outputs": [],
      "source": [
        "def __getitem__(self, idx):\n",
        "    img_path = os.path.join(self.img_dir, self.img_labels.iloc[idx, 0])\n",
        "    image = read_image(img_path)\n",
        "    label = self.img_labels.iloc[idx, 1]\n",
        "    if self.transform:\n",
        "        image = self.transform(image)\n",
        "    if self.target_transform:\n",
        "        label = self.target_transform(label)\n",
        "    return image, label"
      ]
    },
    {
      "cell_type": "markdown",
      "metadata": {},
      "source": [
        "## Preparing your data for training with DataLoaders\n",
        "The ``Dataset`` retrieves our dataset's features and labels one sample at a time. While training a model, we typically want to\n",
        "pass samples in \"minibatches\", reshuffle the data at every epoch to reduce model overfitting, and use Python's ``multiprocessing`` to\n",
        "speed up data retrieval.\n",
        "\n",
        "``DataLoader`` is an iterable that abstracts this complexity for us in an easy API."
      ]
    },
    {
      "cell_type": "code",
      "execution_count": null,
      "metadata": {},
      "outputs": [],
      "source": [
        "from torch.utils.data import DataLoader\n",
        "\n",
        "train_dataloader = DataLoader(training_data, batch_size=64, shuffle=True)\n",
        "test_dataloader = DataLoader(test_data, batch_size=64, shuffle=True)"
      ]
    },
    {
      "cell_type": "markdown",
      "metadata": {},
      "source": [
        "## Iterate through the DataLoader\n",
        "\n",
        "We have loaded that dataset into the ``DataLoader`` and can iterate through the dataset as needed.\n",
        "Each iteration below returns a batch of ``train_features`` and ``train_labels`` (containing ``batch_size=64`` features and labels respectively).\n",
        "Because we specified ``shuffle=True``, after we iterate over all batches the data is shuffled (for finer-grained control over\n",
        "the data loading order, take a look at [Samplers](https://pytorch.org/docs/stable/data.html#data-loading-order-and-sampler))."
      ]
    },
    {
      "cell_type": "code",
      "execution_count": null,
      "metadata": {},
      "outputs": [],
      "source": [
        "# Display image and label.\n",
        "train_features, train_labels = next(iter(train_dataloader))\n",
        "print(f\"Feature batch shape: {train_features.size()}\")\n",
        "print(f\"Labels batch shape: {train_labels.size()}\")\n",
        "img = train_features[0].squeeze()\n",
        "label = train_labels[0]\n",
        "plt.imshow(img, cmap=\"gray\")\n",
        "plt.show()\n",
        "print(f\"Label: {label}\")"
      ]
    },
    {
      "cell_type": "markdown",
      "metadata": {},
      "source": [
        "\n",
        "# Transforms\n",
        "\n",
        "Data does not always come in its final processed form that is required for\n",
        "training machine learning algorithms. We use **transforms** to perform some\n",
        "manipulation of the data and make it suitable for training.\n",
        "\n",
        "All TorchVision datasets have two parameters -``transform`` to modify the features and\n",
        "``target_transform`` to modify the labels - that accept callables containing the transformation logic.\n",
        "The [torchvision.transforms](https://pytorch.org/vision/stable/transforms.html) module offers\n",
        "several commonly-used transforms out of the box.\n",
        "\n",
        "The FashionMNIST features are in PIL Image format, and the labels are integers.\n",
        "For training, we need the features as normalized tensors, and the labels as one-hot encoded tensors.\n",
        "To make these transformations, we use ``ToTensor`` and ``Lambda``."
      ]
    },
    {
      "cell_type": "code",
      "execution_count": null,
      "metadata": {},
      "outputs": [],
      "source": [
        "import torch\n",
        "from torchvision import datasets\n",
        "from torchvision.transforms import ToTensor, Lambda\n",
        "\n",
        "ds = datasets.FashionMNIST(\n",
        "    root=\"data\",\n",
        "    train=True,\n",
        "    download=True,\n",
        "    transform=ToTensor(),\n",
        "    target_transform=Lambda(lambda y: torch.zeros(10, dtype=torch.float).scatter_(0, torch.tensor(y), value=1))\n",
        ")"
      ]
    },
    {
      "cell_type": "markdown",
      "metadata": {},
      "source": [
        "## ToTensor()\n",
        "\n",
        "[ToTensor](https://pytorch.org/vision/stable/transforms.html#torchvision.transforms.ToTensor)\n",
        "converts a PIL image or NumPy ``ndarray`` into a ``FloatTensor``. and scales\n",
        "the image's pixel intensity values in the range [0., 1.]"
      ]
    },
    {
      "cell_type": "markdown",
      "metadata": {},
      "source": [
        "## Lambda Transforms\n",
        "\n",
        "Lambda transforms apply any user-defined lambda function. Here, we define a function\n",
        "to turn the integer into a one-hot encoded tensor.\n",
        "It first creates a zero tensor of size 10 (the number of labels in our dataset) and calls\n",
        "[scatter_](https://pytorch.org/docs/stable/generated/torch.Tensor.scatter_.html) which assigns a\n",
        "``value=1`` on the index as given by the label ``y``."
      ]
    },
    {
      "cell_type": "code",
      "execution_count": null,
      "metadata": {},
      "outputs": [],
      "source": [
        "target_transform = Lambda(lambda y: torch.zeros(\n",
        "    10, dtype=torch.float).scatter_(dim=0, index=torch.tensor(y), value=1))"
      ]
    },
    {
      "cell_type": "markdown",
      "metadata": {},
      "source": [
        "\n",
        "# Build the Neural Network\n",
        "\n",
        "Neural networks comprise of layers/modules that perform operations on data.\n",
        "The [torch.nn](https://pytorch.org/docs/stable/nn.html) namespace provides all the building blocks you need to\n",
        "build your own neural network. Every module in PyTorch subclasses the [nn.Module](https://pytorch.org/docs/stable/generated/torch.nn.Module.html).\n",
        "A neural network is a module itself that consists of other modules (layers). This nested structure allows for\n",
        "building and managing complex architectures easily.\n",
        "\n",
        "In the following sections, we'll build a neural network to classify images in the FashionMNIST dataset."
      ]
    },
    {
      "cell_type": "code",
      "execution_count": null,
      "metadata": {},
      "outputs": [],
      "source": [
        "import os\n",
        "import torch\n",
        "from torch import nn\n",
        "from torch.utils.data import DataLoader\n",
        "from torchvision import datasets, transforms"
      ]
    },
    {
      "cell_type": "markdown",
      "metadata": {},
      "source": [
        "## Get Device for Training\n",
        "We want to be able to train our model on a hardware accelerator like the GPU or MPS,\n",
        "if available. Let's check to see if [torch.cuda](https://pytorch.org/docs/stable/notes/cuda.html)\n",
        "or [torch.backends.mps](https://pytorch.org/docs/stable/notes/mps.html) are available, otherwise we use the CPU."
      ]
    },
    {
      "cell_type": "code",
      "execution_count": null,
      "metadata": {},
      "outputs": [],
      "source": [
        "device = (\n",
        "    \"cuda\"\n",
        "    if torch.cuda.is_available()\n",
        "    else \"mps\"\n",
        "    if torch.backends.mps.is_available()\n",
        "    else \"cpu\"\n",
        ")\n",
        "print(f\"Using {device} device\")"
      ]
    },
    {
      "cell_type": "code",
      "execution_count": null,
      "metadata": {},
      "outputs": [],
      "source": [
        "## Define the Class\n",
        "We define our neural network by subclassing ``nn.Module``, and\n",
        "initialize the neural network layers in ``__init__``. Every ``nn.Module`` subclass implements\n",
        "the operations on input data in the ``forward`` method."
      ]
    },
    {
      "cell_type": "code",
      "execution_count": null,
      "metadata": {},
      "outputs": [],
      "source": [
        "class NeuralNetwork(nn.Module):\n",
        "    def __init__(self):\n",
        "        super().__init__()\n",
        "        self.flatten = nn.Flatten()\n",
        "        self.linear_relu_stack = nn.Sequential(\n",
        "            nn.Linear(28*28, 512),\n",
        "            nn.ReLU(),\n",
        "            nn.Linear(512, 512),\n",
        "            nn.ReLU(),\n",
        "            nn.Linear(512, 10),\n",
        "        )\n",
        "\n",
        "    def forward(self, x):\n",
        "        x = self.flatten(x)\n",
        "        logits = self.linear_relu_stack(x)\n",
        "        return logits"
      ]
    },
    {
      "cell_type": "markdown",
      "metadata": {},
      "source": [
        "We create an instance of ``NeuralNetwork``, and move it to the ``device``, and print\n",
        "its structure."
      ]
    },
    {
      "cell_type": "code",
      "execution_count": null,
      "metadata": {},
      "outputs": [],
      "source": [
        "model = NeuralNetwork().to(device)\n",
        "print(model)"
      ]
    },
    {
      "cell_type": "code",
      "execution_count": null,
      "metadata": {},
      "outputs": [],
      "source": [
        "To use the model, we pass it the input data. This executes the model's ``forward``,\n",
        "along with some [background operations](https://github.com/pytorch/pytorch/blob/270111b7b611d174967ed204776985cefca9c144/torch/nn/modules/module.py#L866).\n",
        "Do not call ``model.forward()`` directly!\n",
        "\n",
        "Calling the model on the input returns a 2-dimensional tensor with dim=0 corresponding to each output of 10 raw predicted values for each class, and dim=1 corresponding to the individual values of each output.\n",
        "We get the prediction probabilities by passing it through an instance of the ``nn.Softmax`` module.\n"
      ]
    },
    {
      "cell_type": "code",
      "execution_count": null,
      "metadata": {},
      "outputs": [],
      "source": [
        "X = torch.rand(1, 28, 28, device=device)\n",
        "logits = model(X)\n",
        "pred_probab = nn.Softmax(dim=1)(logits)\n",
        "y_pred = pred_probab.argmax(1)\n",
        "print(f\"Predicted class: {y_pred}\")"
      ]
    },
    {
      "cell_type": "markdown",
      "metadata": {},
      "source": [
        "## Model Layers\n",
        "\n",
        "Let's break down the layers in the FashionMNIST model. To illustrate it, we\n",
        "will take a sample minibatch of 3 images of size 28x28 and see what happens to it as\n",
        "we pass it through the network."
      ]
    },
    {
      "cell_type": "code",
      "execution_count": null,
      "metadata": {},
      "outputs": [],
      "source": [
        "input_image = torch.rand(3,28,28)\n",
        "print(input_image.size())"
      ]
    },
    {
      "cell_type": "code",
      "execution_count": null,
      "metadata": {},
      "outputs": [],
      "source": [
        "### nn.Flatten\n",
        "We initialize the [nn.Flatten](https://pytorch.org/docs/stable/generated/torch.nn.Flatten.html)\n",
        "layer to convert each 2D 28x28 image into a contiguous array of 784 pixel values (\n",
        "the minibatch dimension (at dim=0) is maintained)."
      ]
    },
    {
      "cell_type": "code",
      "execution_count": null,
      "metadata": {},
      "outputs": [],
      "source": [
        "flatten = nn.Flatten()\n",
        "flat_image = flatten(input_image)\n",
        "print(flat_image.size())"
      ]
    },
    {
      "cell_type": "markdown",
      "metadata": {},
      "source": [
        "### nn.Linear\n",
        "The [linear layer](https://pytorch.org/docs/stable/generated/torch.nn.Linear.html)\n",
        "is a module that applies a linear transformation on the input using its stored weights and biases."
      ]
    },
    {
      "cell_type": "code",
      "execution_count": null,
      "metadata": {},
      "outputs": [],
      "source": [
        "layer1 = nn.Linear(in_features=28*28, out_features=20)\n",
        "hidden1 = layer1(flat_image)\n",
        "print(hidden1.size())"
      ]
    },
    {
      "cell_type": "markdown",
      "metadata": {},
      "source": [
        "### nn.ReLU\n",
        "Non-linear activations are what create the complex mappings between the model's inputs and outputs.\n",
        "They are applied after linear transformations to introduce *nonlinearity*, helping neural networks\n",
        "learn a wide variety of phenomena.\n",
        "\n",
        "In this model, we use [nn.ReLU](https://pytorch.org/docs/stable/generated/torch.nn.ReLU.html) between our\n",
        "linear layers, but there's other activations to introduce non-linearity in your model."
      ]
    },
    {
      "cell_type": "code",
      "execution_count": null,
      "metadata": {},
      "outputs": [],
      "source": [
        "print(f\"Before ReLU: {hidden1}\\n\\n\")\n",
        "hidden1 = nn.ReLU()(hidden1)\n",
        "print(f\"After ReLU: {hidden1}\")"
      ]
    },
    {
      "cell_type": "code",
      "execution_count": null,
      "metadata": {},
      "outputs": [],
      "source": [
        "### nn.Sequential\n",
        "[nn.Sequential](https://pytorch.org/docs/stable/generated/torch.nn.Sequential.html) is an ordered\n",
        "container of modules. The data is passed through all the modules in the same order as defined. You can use\n",
        "sequential containers to put together a quick network like ``seq_modules``."
      ]
    },
    {
      "cell_type": "code",
      "execution_count": null,
      "metadata": {},
      "outputs": [],
      "source": [
        "seq_modules = nn.Sequential(\n",
        "    flatten,\n",
        "    layer1,\n",
        "    nn.ReLU(),\n",
        "    nn.Linear(20, 10)\n",
        ")\n",
        "input_image = torch.rand(3,28,28)\n",
        "logits = seq_modules(input_image)"
      ]
    },
    {
      "cell_type": "code",
      "execution_count": null,
      "metadata": {},
      "outputs": [],
      "source": [
        "### nn.Softmax\n",
        "The last linear layer of the neural network returns `logits` - raw values in [-\\infty, \\infty] - which are passed to the\n",
        "[nn.Softmax](https://pytorch.org/docs/stable/generated/torch.nn.Softmax.html) module. The logits are scaled to values\n",
        "[0, 1] representing the model's predicted probabilities for each class. ``dim`` parameter indicates the dimension along\n",
        "which the values must sum to 1."
      ]
    },
    {
      "cell_type": "code",
      "execution_count": null,
      "metadata": {},
      "outputs": [],
      "source": [
        "softmax = nn.Softmax(dim=1)\n",
        "pred_probab = softmax(logits)"
      ]
    },
    {
      "cell_type": "code",
      "execution_count": null,
      "metadata": {},
      "outputs": [],
      "source": [
        "## Model Parameters\n",
        "Many layers inside a neural network are *parameterized*, i.e. have associated weights\n",
        "and biases that are optimized during training. Subclassing ``nn.Module`` automatically\n",
        "tracks all fields defined inside your model object, and makes all parameters\n",
        "accessible using your model's ``parameters()`` or ``named_parameters()`` methods.\n",
        "\n",
        "In this example, we iterate over each parameter, and print its size and a preview of its values."
      ]
    },
    {
      "cell_type": "code",
      "execution_count": null,
      "metadata": {},
      "outputs": [],
      "source": [
        "print(f\"Model structure: {model}\\n\\n\")\n",
        "\n",
        "for name, param in model.named_parameters():\n",
        "    print(f\"Layer: {name} | Size: {param.size()} | Values : {param[:2]} \\n\")"
      ]
    },
    {
      "cell_type": "markdown",
      "metadata": {},
      "source": [
        "# Automatic Differentiation with ``torch.autograd``\n",
        "\n",
        "When training neural networks, the most frequently used algorithm is\n",
        "**back propagation**. In this algorithm, parameters (model weights) are\n",
        "adjusted according to the **gradient** of the loss function with respect\n",
        "to the given parameter.\n",
        "\n",
        "To compute those gradients, PyTorch has a built-in differentiation engine\n",
        "called ``torch.autograd``. It supports automatic computation of gradient for any\n",
        "computational graph.\n",
        "\n",
        "Consider the simplest one-layer neural network, with input ``x``,\n",
        "parameters ``w`` and ``b``, and some loss function. It can be defined in\n",
        "PyTorch in the following manner:"
      ]
    },
    {
      "cell_type": "code",
      "execution_count": null,
      "metadata": {},
      "outputs": [],
      "source": [
        "import torch\n",
        "\n",
        "x = torch.ones(5)  # input tensor\n",
        "y = torch.zeros(3)  # expected output\n",
        "w = torch.randn(5, 3, requires_grad=True)\n",
        "b = torch.randn(3, requires_grad=True)\n",
        "z = torch.matmul(x, w)+b\n",
        "loss = torch.nn.functional.binary_cross_entropy_with_logits(z, y)"
      ]
    },
    {
      "cell_type": "markdown",
      "metadata": {},
      "source": [
        "## Tensors, Functions and Computational graph\n",
        "\n",
        "This code defines the following **computational graph**:\n",
        "\n",
        ".. figure:: /_static/img/basics/comp-graph.png\n",
        "   :alt:\n",
        "\n",
        "In this network, ``w`` and ``b`` are **parameters**, which we need to\n",
        "optimize. Thus, we need to be able to compute the gradients of loss\n",
        "function with respect to those variables. In order to do that, we set\n",
        "the ``requires_grad`` property of those tensors."
      ]
    },
    {
      "cell_type": "markdown",
      "metadata": {},
      "source": [
        "A function that we apply to tensors to construct computational graph is\n",
        "in fact an object of class ``Function``. This object knows how to\n",
        "compute the function in the *forward* direction, and also how to compute\n",
        "its derivative during the *backward propagation* step. A reference to\n",
        "the backward propagation function is stored in ``grad_fn`` property of a\n",
        "tensor. You can find more information of ``Function`` [in the\n",
        "documentation](https://pytorch.org/docs/stable/autograd.html#function)_."
      ]
    },
    {
      "cell_type": "code",
      "execution_count": null,
      "metadata": {},
      "outputs": [],
      "source": [
        "print(f\"Gradient function for z = {z.grad_fn}\")\n",
        "print(f\"Gradient function for loss = {loss.grad_fn}\")"
      ]
    },
    {
      "cell_type": "markdown",
      "metadata": {},
      "source": [
        "## Computing Gradients\n",
        "\n",
        "To optimize weights of parameters in the neural network, we need to\n",
        "compute the derivatives of our loss function with respect to parameters,\n",
        "namely, we need $\\frac{\\partial loss}{\\partial w}$ and\n",
        "$\\frac{\\partial loss}{\\partial b}$ under some fixed values of\n",
        "``x`` and ``y``. To compute those derivatives, we call\n",
        "``loss.backward()``, and then retrieve the values from ``w.grad`` and\n",
        "``b.grad``:"
      ]
    },
    {
      "cell_type": "code",
      "execution_count": null,
      "metadata": {},
      "outputs": [],
      "source": [
        "loss.backward()\n",
        "print(w.grad)\n",
        "print(b.grad)"
      ]
    },
    {
      "cell_type": "markdown",
      "metadata": {},
      "source": [
        "## Disabling Gradient Tracking\n",
        "\n",
        "By default, all tensors with ``requires_grad=True`` are tracking their\n",
        "computational history and support gradient computation. However, there\n",
        "are some cases when we do not need to do that, for example, when we have\n",
        "trained the model and just want to apply it to some input data, i.e. we\n",
        "only want to do *forward* computations through the network. We can stop\n",
        "tracking computations by surrounding our computation code with\n",
        "``torch.no_grad()`` block:"
      ]
    },
    {
      "cell_type": "code",
      "execution_count": null,
      "metadata": {},
      "outputs": [],
      "source": [
        "z = torch.matmul(x, w)+b\n",
        "print(z.requires_grad)\n",
        "\n",
        "with torch.no_grad():\n",
        "    z = torch.matmul(x, w)+b\n",
        "print(z.requires_grad)"
      ]
    },
    {
      "cell_type": "markdown",
      "metadata": {},
      "source": [
        "Another way to achieve the same result is to use the ``detach()`` method\n",
        "on the tensor:"
      ]
    },
    {
      "cell_type": "code",
      "execution_count": null,
      "metadata": {},
      "outputs": [],
      "source": [
        "z = torch.matmul(x, w)+b\n",
        "z_det = z.detach()\n",
        "print(z_det.requires_grad)"
      ]
    },
    {
      "cell_type": "markdown",
      "metadata": {},
      "source": [
        "There are reasons you might want to disable gradient tracking:\n",
        "  - To mark some parameters in your neural network as **frozen parameters**.\n",
        "  - To **speed up computations** when you are only doing forward pass, because computations on tensors that do\n",
        "    not track gradients would be more efficient."
      ]
    },
    {
      "cell_type": "markdown",
      "metadata": {},
      "source": [
        "## More on Computational Graphs\n",
        "Conceptually, autograd keeps a record of data (tensors) and all executed\n",
        "operations (along with the resulting new tensors) in a directed acyclic\n",
        "graph (DAG) consisting of\n",
        "[Function](https://pytorch.org/docs/stable/autograd.html#torch.autograd.Function)_\n",
        "objects. In this DAG, leaves are the input tensors, roots are the output\n",
        "tensors. By tracing this graph from roots to leaves, you can\n",
        "automatically compute the gradients using the chain rule.\n",
        "\n",
        "In a forward pass, autograd does two things simultaneously:\n",
        "\n",
        "- run the requested operation to compute a resulting tensor\n",
        "- maintain the operation’s *gradient function* in the DAG.\n",
        "\n",
        "The backward pass kicks off when ``.backward()`` is called on the DAG\n",
        "root. ``autograd`` then:\n",
        "\n",
        "- computes the gradients from each ``.grad_fn``,\n",
        "- accumulates them in the respective tensor’s ``.grad`` attribute\n",
        "- using the chain rule, propagates all the way to the leaf tensors.\n",
        "\n",
        "<div class=\"alert alert-info\"><h4>Note</h4><p>**DAGs are dynamic in PyTorch**\n",
        "  An important thing to note is that the graph is recreated from scratch; after each\n",
        "  ``.backward()`` call, autograd starts populating a new graph. This is\n",
        "  exactly what allows you to use control flow statements in your model;\n",
        "  you can change the shape, size and operations at every iteration if\n",
        "  needed.</p></div>"
      ]
    },
    {
      "cell_type": "code",
      "execution_count": null,
      "metadata": {},
      "outputs": [],
      "source": [
        "inp = torch.eye(4, 5, requires_grad=True)\n",
        "out = (inp+1).pow(2).t()\n",
        "out.backward(torch.ones_like(out), retain_graph=True)\n",
        "print(f\"First call\\n{inp.grad}\")\n",
        "out.backward(torch.ones_like(out), retain_graph=True)\n",
        "print(f\"\\nSecond call\\n{inp.grad}\")\n",
        "inp.grad.zero_()\n",
        "out.backward(torch.ones_like(out), retain_graph=True)\n",
        "print(f\"\\nCall after zeroing gradients\\n{inp.grad}\")"
      ]
    },
    {
      "cell_type": "markdown",
      "metadata": {},
      "source": [
        "Notice that when we call ``backward`` for the second time with the same\n",
        "argument, the value of the gradient is different. This happens because\n",
        "when doing ``backward`` propagation, PyTorch **accumulates the\n",
        "gradients**, i.e. the value of computed gradients is added to the\n",
        "``grad`` property of all leaf nodes of computational graph. If you want\n",
        "to compute the proper gradients, you need to zero out the ``grad``\n",
        "property before. In real-life training an *optimizer* helps us to do\n",
        "this."
      ]
    },
    {
      "cell_type": "markdown",
      "metadata": {},
      "source": []
    },
    {
      "cell_type": "code",
      "execution_count": null,
      "metadata": {},
      "outputs": [],
      "source": [
        "You are given two integer arrays nums1 and nums2, sorted in non-decreasing order, and two integers m and n, representing the number of elements in nums1 and nums2 respectively.\n",
        "\n",
        "Merge nums1 and nums2 into a single array sorted in non-decreasing order.\n",
        "\n",
        "The final sorted array should not be returned by the function, but instead be stored inside the array nums1. To accommodate this, nums1 has a length of m + n, where the first m elements denote the elements that should be merged, and the last n elements are set to 0 and should be ignored. nums2 has a length of n.\n",
        "\n",
        " \n",
        "\n",
        "Example 1:\n",
        "\n",
        "Input: nums1 = [1,2,3,0,0,0], m = 3, nums2 = [2,5,6], n = 3\n",
        "Output: [1,2,2,3,5,6]\n",
        "Explanation: The arrays we are merging are [1,2,3] and [2,5,6].\n",
        "The result of the merge is [1,2,2,3,5,6] with the underlined elements coming from nums1.\n",
        "Example 2:\n",
        "\n",
        "Input: nums1 = [1], m = 1, nums2 = [], n = 0\n",
        "Output: [1]\n",
        "Explanation: The arrays we are merging are [1] and [].\n",
        "The result of the merge is [1].\n",
        "Example 3:\n",
        "\n",
        "Input: nums1 = [0], m = 0, nums2 = [1], n = 1\n",
        "Output: [1]\n",
        "Explanation: The arrays we are merging are [] and [1].\n",
        "The result of the merge is [1].\n",
        "Note that because m = 0, there are no elements in nums1. The 0 is only there to ensure the merge result can fit in nums1.\n"
      ]
    }
  ],
  "metadata": {
    "kernelspec": {
      "display_name": "Python 3",
      "language": "python",
      "name": "python3"
    },
    "language_info": {
      "codemirror_mode": {
        "name": "ipython",
        "version": 3
      },
      "file_extension": ".py",
      "mimetype": "text/x-python",
      "name": "python",
      "nbconvert_exporter": "python",
      "pygments_lexer": "ipython3",
      "version": "3.8.10"
    }
  },
  "nbformat": 4,
  "nbformat_minor": 0
}
