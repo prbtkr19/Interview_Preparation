{
 "cells": [
  {
   "cell_type": "markdown",
   "metadata": {},
   "source": [
    "<center><font color=\"orange\">strip function</font></center>"
   ]
  },
  {
   "cell_type": "code",
   "execution_count": 1,
   "metadata": {},
   "outputs": [
    {
     "data": {
      "text/plain": [
       "'I love python'"
      ]
     },
     "execution_count": 1,
     "metadata": {},
     "output_type": "execute_result"
    }
   ],
   "source": [
    "s= \"    I love python\"\n",
    "s.lstrip()"
   ]
  },
  {
   "cell_type": "code",
   "execution_count": 2,
   "metadata": {},
   "outputs": [
    {
     "data": {
      "text/plain": [
       "'I love python'"
      ]
     },
     "execution_count": 2,
     "metadata": {},
     "output_type": "execute_result"
    }
   ],
   "source": [
    "s= \"I love python      \"\n",
    "s.rstrip()"
   ]
  },
  {
   "cell_type": "code",
   "execution_count": 3,
   "metadata": {},
   "outputs": [
    {
     "data": {
      "text/plain": [
       "'45'"
      ]
     },
     "execution_count": 3,
     "metadata": {},
     "output_type": "execute_result"
    }
   ],
   "source": [
    "s1= \"%45\"\n",
    "s1.lstrip(\"%\")"
   ]
  },
  {
   "cell_type": "code",
   "execution_count": 4,
   "metadata": {},
   "outputs": [
    {
     "data": {
      "text/plain": [
       "'45'"
      ]
     },
     "execution_count": 4,
     "metadata": {},
     "output_type": "execute_result"
    }
   ],
   "source": [
    "s1= \"%45#\"\n",
    "s1.lstrip(\"%\").rstrip(\"#\")"
   ]
  },
  {
   "cell_type": "markdown",
   "metadata": {},
   "source": [
    "<center><font color=\"orange\">Anagram</font></center>"
   ]
  },
  {
   "cell_type": "markdown",
   "metadata": {},
   "source": [
    "check if two strings are anagram\n",
    "-  An anagram : a word or phrase formed by rearranging the letters of another word or phrase, using all the original letters exactly once."
   ]
  },
  {
   "cell_type": "code",
   "execution_count": 4,
   "metadata": {},
   "outputs": [
    {
     "data": {
      "text/plain": [
       "True"
      ]
     },
     "execution_count": 4,
     "metadata": {},
     "output_type": "execute_result"
    }
   ],
   "source": [
    "def check_anagram(str1,str2):\n",
    "    str1=str1.lower()\n",
    "    str2=str2.lower()\n",
    "    \n",
    "    # remove spaces\n",
    "    str1=str1.replace(\" \",\"\")\n",
    "    str2=str2.replace(\" \",\"\")\n",
    "    #sort\n",
    "    str1= sorted(str1)\n",
    "    str2=sorted(str2)\n",
    "    \n",
    "    return str1==str2\n",
    "\n",
    "\n",
    "string1 = \"Li st en\"\n",
    "string2 = \"silent\"\n",
    "\n",
    "check_anagram(string1,string2)"
   ]
  },
  {
   "cell_type": "markdown",
   "metadata": {},
   "source": [
    "longest consequence in a string"
   ]
  },
  {
   "cell_type": "code",
   "execution_count": 2,
   "metadata": {},
   "outputs": [
    {
     "name": "stdout",
     "output_type": "stream",
     "text": [
      "['p', 'p', 'p', 'p', 'p']\n"
     ]
    }
   ],
   "source": [
    "# in case of string\n",
    "def string_long_seq(input):\n",
    "    \n",
    "    max_seq=[]\n",
    "    curr_seq=[input[0]]\n",
    "    \n",
    "    for i in range(1,len(input)):\n",
    "        if input[i]==input[i-1]:\n",
    "            curr_seq.append(input[i])\n",
    "        else:\n",
    "            if len(curr_seq)> len(max_seq):\n",
    "                max_seq=curr_seq \n",
    "            curr_seq =[input[i]]\n",
    "            \n",
    "    if len(curr_seq) > len(max_seq):\n",
    "        max_seq=curr_seq\n",
    "        \n",
    "    return max_seq\n",
    "    \n",
    "input=[\"p\",\"p\",\"p\",\"u\",\"p\",\"p\",\"p\",\"u\",\"u\",\"p\",\"p\",\"p\",\"p\",\"p\",\"u\"]\n",
    "\n",
    "output= string_long_seq(input)\n",
    "print(output)"
   ]
  },
  {
   "cell_type": "code",
   "execution_count": 3,
   "metadata": {},
   "outputs": [
    {
     "name": "stdout",
     "output_type": "stream",
     "text": [
      "['p', 'p', 'p', 'p', 'p', 'p', 'p', 'p', 'p', 'p', 'p']\n"
     ]
    }
   ],
   "source": [
    "def string_long_seq(input):\n",
    "    max_seq = []  # To store the longest consecutive sequence found\n",
    "    curr_seq = []  # To store the current consecutive sequence\n",
    "\n",
    "    # Flag to keep track if we are currently in a \"p\" sequence\n",
    "    in_p_sequence = False  \n",
    "\n",
    "    # Iterate over the input list\n",
    "    for char in input:\n",
    "        if char == \"p\":\n",
    "            # If the character is \"p\", add it to the current sequence and set the flag\n",
    "            curr_seq.append(char)\n",
    "            in_p_sequence = True\n",
    "        elif char == \"u\" and in_p_sequence:\n",
    "            # If the character is \"u\" and we are in a \"p\" sequence, ignore it\n",
    "            continue\n",
    "        else:\n",
    "            # If the character is neither \"p\" nor \"u\" or it's \"u\" but we are not in a \"p\" sequence, start a new sequence\n",
    "            if len(curr_seq) > len(max_seq):\n",
    "                max_seq = curr_seq  # Update the longest sequence if necessary\n",
    "            curr_seq = [char]  # Start a new sequence with the current character\n",
    "            in_p_sequence = False  # Reset the flag\n",
    "\n",
    "    # After the loop, check if the last sequence is longer than the longest one found so far\n",
    "    if len(curr_seq) > len(max_seq):\n",
    "        max_seq = curr_seq  # Update the longest sequence if necessary\n",
    "\n",
    "    return max_seq  # Return the longest consecutive sequence\n",
    "\n",
    "input = [\"p\", \"p\", \"p\", \"u\", \"p\", \"p\", \"p\", \"u\", \"u\", \"p\", \"p\", \"p\", \"p\", \"p\", \"u\"]\n",
    "output = string_long_seq(input)\n",
    "print(output)  # Output the longest consecutive sequence found\n"
   ]
  },
  {
   "cell_type": "code",
   "execution_count": 4,
   "metadata": {},
   "outputs": [
    {
     "name": "stdout",
     "output_type": "stream",
     "text": [
      "['u']\n"
     ]
    }
   ],
   "source": [
    "def string_long_seq(input):\n",
    "    max_seq = []  # To store the longest consecutive sequence found\n",
    "    curr_seq = []  # To store the current consecutive sequence\n",
    "\n",
    "    # Iterate over the input list\n",
    "    for char in input:\n",
    "        if char == \"p\":\n",
    "            # If the character is \"p\", add it to the current sequence\n",
    "            curr_seq.append(char)\n",
    "        elif char == \"u\":\n",
    "            # If the character is \"u\"\n",
    "            if \"p\" in curr_seq:\n",
    "                # If \"p\" has occurred before \"u\", ignore \"u\"\n",
    "                continue\n",
    "            else:\n",
    "                # If \"p\" has not occurred before \"u\", add \"u\" to the current sequence\n",
    "                curr_seq.append(char)\n",
    "        else:\n",
    "            # If the character is neither \"p\" nor \"u\", start a new sequence\n",
    "            if len(curr_seq) > len(max_seq):\n",
    "                max_seq = curr_seq  # Update the longest sequence if necessary\n",
    "            curr_seq = [char]  # Start a new sequence with the current character\n",
    "\n",
    "    # If the last character in the input is \"u\", add it to the max sequence\n",
    "    if input[-1] == \"u\":\n",
    "        max_seq.append(\"u\")\n",
    "\n",
    "    return max_seq  # Return the longest consecutive sequence\n",
    "\n",
    "input = [\"p\", \"p\", \"p\", \"u\", \"p\", \"p\", \"p\", \"u\", \"u\", \"p\", \"p\", \"p\", \"p\", \"p\", \"u\"]\n",
    "output = string_long_seq(input)\n",
    "print(output)  # Output the longest consecutive sequence found\n"
   ]
  },
  {
   "cell_type": "markdown",
   "metadata": {},
   "source": [
    "get only last occurence of u"
   ]
  },
  {
   "cell_type": "code",
   "execution_count": 6,
   "metadata": {},
   "outputs": [
    {
     "name": "stdout",
     "output_type": "stream",
     "text": [
      "Longest consecutive sequence: ['p', 'p', 'p', 'u']\n",
      "Index of last 'u': 18\n"
     ]
    }
   ],
   "source": [
    "def string_long_seq(input):\n",
    "    max_seq = []  # To store the longest consecutive sequence found\n",
    "    curr_seq = []  # To store the current consecutive sequence\n",
    "    last_u_index = -1  # To store the index of the last \"u\" character\n",
    "\n",
    "    # Iterate over the input list\n",
    "    for i, char in enumerate(input):\n",
    "        if char == \"p\":\n",
    "            # If the character is \"p\", add it to the current sequence\n",
    "            curr_seq.append(char)\n",
    "        elif char == \"u\":\n",
    "            # If the character is \"u\"\n",
    "            if \"p\" in curr_seq:\n",
    "                # If \"p\" has occurred before \"u\", ignore \"u\"\n",
    "                continue\n",
    "            else:\n",
    "                # If \"p\" has not occurred before \"u\", add \"u\" to the current sequence\n",
    "                curr_seq.append(char)\n",
    "                last_u_index = i  # Update the index of the last \"u\"\n",
    "        else:\n",
    "            # If the character is neither \"p\" nor \"u\", start a new sequence\n",
    "            if len(curr_seq) > len(max_seq):\n",
    "                max_seq = curr_seq  # Update the longest sequence if necessary\n",
    "            curr_seq = [char]  # Start a new sequence with the current character\n",
    "\n",
    "    # If the last character in the input is \"u\", add it to the max sequence\n",
    "    if input[-1] == \"u\":\n",
    "        max_seq.append(\"u\")\n",
    "        last_u_index = len(input) - 1\n",
    "\n",
    "    return max_seq, last_u_index  # Return the longest consecutive sequence and the index of the last \"u\"\n",
    "\n",
    "input = [\"p\", \"p\", \"p\", \"u\",\"u\",\"u\",\"u,\" \"p\", \"p\", \"p\", \"u\", \"u\", \"p\", \"p\", \"p\", \"p\", \"p\", \"u\",\"p\",\"u\"]\n",
    "output, last_u_index = string_long_seq(input)\n",
    "print(\"Longest consecutive sequence:\", output)  # Output the longest consecutive sequence found\n",
    "print(\"Index of last 'u':\", last_u_index)  # Output the index of the last \"u\"\n"
   ]
  },
  {
   "cell_type": "markdown",
   "metadata": {},
   "source": [
    "count occurrences of word in a string"
   ]
  },
  {
   "cell_type": "code",
   "execution_count": null,
   "metadata": {},
   "outputs": [],
   "source": [
    "from collections import Counter\n",
    "\n",
    "input=\" i like pizza $ i like burger\"\n",
    "#input=input.split()\n",
    "cou=Counter(input)\n",
    "d=dict(cou)\n",
    "print(d)"
   ]
  },
  {
   "cell_type": "markdown",
   "metadata": {},
   "source": [
    "remove html tags from string"
   ]
  },
  {
   "cell_type": "code",
   "execution_count": null,
   "metadata": {},
   "outputs": [],
   "source": [
    "import re\n",
    "\n",
    "def remove_html_tags(text):\n",
    "    clean_text = re.sub(r'<[^>]+>', '', text)\n",
    "    re.sub(r\"<[^>]+>\",'',t)\n",
    "    return clean_text\n",
    "\n",
    "# Example paragraph with HTML tags\n",
    "paragraph = \"<p>This is <b>example</b> text with <a href='example.com'>HTML</a> tags.</p>\"\n",
    "\n",
    "# Remove HTML tags from the paragraph\n",
    "clean_paragraph = remove_html_tags(paragraph)\n",
    "\n",
    "print(clean_paragraph)"
   ]
  },
  {
   "cell_type": "markdown",
   "metadata": {},
   "source": [
    "Occurrences of string"
   ]
  },
  {
   "cell_type": "code",
   "execution_count": null,
   "metadata": {},
   "outputs": [],
   "source": [
    "# count occurences of string\n",
    "def count_str_count(input):\n",
    "    count={}\n",
    "    words=input.split()\n",
    "    for item in words:\n",
    "        count[item]=words.count(item)\n",
    "        \n",
    "    return count\n",
    "\n",
    "input=\" i like pizza $ i like burger\"\n",
    "occur=count_str_count(input)\n",
    "print(f\"str count---------{occur}\")\n",
    "for w in occur:\n",
    "    print(w)"
   ]
  },
  {
   "cell_type": "markdown",
   "metadata": {},
   "source": [
    "Using dictionary comprehension"
   ]
  },
  {
   "cell_type": "code",
   "execution_count": null,
   "metadata": {},
   "outputs": [],
   "source": [
    "# using dictionary comprehension\n",
    "def count(input):\n",
    "    words = input.split()\n",
    "    count = {word: words.count(word) for word in words}\n",
    "    return count\n",
    "\n",
    "# Example usage:\n",
    "input_string = \"i like pizza $ i like burger\"\n",
    "result = count(input_string)\n",
    "print(result)"
   ]
  },
  {
   "cell_type": "markdown",
   "metadata": {},
   "source": [
    "Occurences of each word in string usong simple for loop"
   ]
  },
  {
   "cell_type": "code",
   "execution_count": null,
   "metadata": {},
   "outputs": [],
   "source": [
    "# chatgpt\n",
    "def count_word_occurrences(sentence):\n",
    "    # Split the sentence into words\n",
    "    words = sentence.split()\n",
    "    \n",
    "    # Initialize an empty dictionary to store word counts\n",
    "    word_counts = {}\n",
    "    \n",
    "    # Iterate through each word in the list of words\n",
    "    for word in words:\n",
    "        # Check if the word is already in the dictionary\n",
    "        if word in word_counts:\n",
    "            # If the word is already in the dictionary, increment its count\n",
    "            word_counts[word] += 1\n",
    "        else:\n",
    "            # If the word is not in the dictionary, add it with a count of 1\n",
    "            word_counts[word] = 1\n",
    "    \n",
    "    return word_counts\n",
    "\n",
    "# Example usage:\n",
    "#sentence = \"This is a sentence. This sentence contains some words. Some words may repeat.\"\n",
    "sentence = \"i like pizza i like burger\"\n",
    "\n",
    "word_occurrences = count_word_occurrences(sentence)\n",
    "print(word_occurrences)\n"
   ]
  },
  {
   "cell_type": "code",
   "execution_count": null,
   "metadata": {},
   "outputs": [],
   "source": [
    "string1 = \"Python programming\"\n",
    "len(string1)"
   ]
  },
  {
   "cell_type": "code",
   "execution_count": null,
   "metadata": {},
   "outputs": [],
   "source": [
    "greet = 'hello'\n",
    "# access 1st index element\n",
    "print(greet[1]) "
   ]
  },
  {
   "cell_type": "code",
   "execution_count": null,
   "metadata": {},
   "outputs": [],
   "source": [
    "# strings are immutable\n",
    "message = 'prabhat kumar'\n",
    "message[0] = 'H'\n",
    "print(message[0])\n",
    "\n",
    "print(message)"
   ]
  },
  {
   "cell_type": "markdown",
   "metadata": {},
   "source": [
    "Reverse string without inbuilt function"
   ]
  },
  {
   "cell_type": "code",
   "execution_count": null,
   "metadata": {},
   "outputs": [],
   "source": [
    "def reverse(s):\n",
    "    str = \"\"\n",
    "    for i in s:\n",
    "        print(f\"i----{i}\")\n",
    "        \n",
    "        str = i + str\n",
    "        print(str)\n",
    "        \n",
    "    return str\n",
    "\n",
    "s = \"prabhat\"\n",
    "\n",
    "print(\"The original string is : \", end=\"\")\n",
    "print(s)\n",
    "\n",
    "print(\"The reversed string(using loops) is : \", end=\"\")\n",
    "print(reverse(s))"
   ]
  },
  {
   "cell_type": "markdown",
   "metadata": {},
   "source": [
    "using recursion"
   ]
  },
  {
   "cell_type": "code",
   "execution_count": null,
   "metadata": {},
   "outputs": [],
   "source": [
    "def reverse(s):\n",
    "\tif len(s) == 0:\n",
    "\t\treturn s\n",
    "\telse:\n",
    "\t\treturn reverse(s[1:]) + s[0]\n",
    "\n",
    "\n",
    "s = \"prabhat\"\n",
    "print(s[1:])\n",
    "print(\"The original string is : \", end=\"\")\n",
    "print(s)\n",
    "\n",
    "print(\"The reversed string(using recursion) is : \", end=\"\")\n",
    "print(reverse(s))\n"
   ]
  },
  {
   "cell_type": "markdown",
   "metadata": {},
   "source": [
    "str object does not support item assignment"
   ]
  },
  {
   "cell_type": "markdown",
   "metadata": {},
   "source": [
    "compare two strings"
   ]
  },
  {
   "cell_type": "code",
   "execution_count": null,
   "metadata": {},
   "outputs": [],
   "source": [
    "s1= \"prabhat\"\n",
    "s2=\"prbtkr\"\n",
    "if s1==s2:\n",
    "    print(\"h\")\n",
    "else:\n",
    "    None"
   ]
  },
  {
   "cell_type": "code",
   "execution_count": null,
   "metadata": {},
   "outputs": [],
   "source": [
    "s1=\"abc\"\n",
    "s3= ' '.join(s1)\n",
    "print(s3)"
   ]
  },
  {
   "cell_type": "code",
   "execution_count": null,
   "metadata": {},
   "outputs": [],
   "source": [
    "# strings are immutable\n",
    "message = 'Hola Amigos'\n",
    "# convert to uppercase\n",
    "print(f\"uppercase {message.upper()}\")\n",
    "\n",
    "# convert to lowercase\n",
    "print(f\"uppercase {message.lower()}\")\n",
    "message[0] = 'H'\n",
    "print(message)"
   ]
  },
  {
   "cell_type": "code",
   "execution_count": null,
   "metadata": {},
   "outputs": [],
   "source": [
    "#Escape Sequences in Python\n",
    "#The escape sequence is used to escape some of the characters present inside a string.\n",
    "\n",
    "\n",
    "example = \"He said, \"What's there?\"\"\n",
    "\n",
    "print(example) # throws error"
   ]
  },
  {
   "cell_type": "code",
   "execution_count": null,
   "metadata": {},
   "outputs": [],
   "source": [
    "# escape double quotes\n",
    "example = \"He said, \\\"What's there?\\\"\"\n",
    "\n",
    "# escape single quotes\n",
    "example = 'He said, \"What\\'s there?\"'\n",
    "\n",
    "print(example)\n",
    "\n",
    "# Output: He said, \"What's there?\""
   ]
  },
  {
   "cell_type": "code",
   "execution_count": null,
   "metadata": {},
   "outputs": [],
   "source": [
    "# replace method\n",
    "\n",
    "text = 'bat ball'\n",
    "\n",
    "# replace 'ba' with 'ro'\n",
    "replaced_text = text.replace('bat', 'cricket')\n",
    "\n",
    "\n",
    "print(replaced_text)\n",
    "\n",
    "# Output: rot roll"
   ]
  },
  {
   "cell_type": "code",
   "execution_count": null,
   "metadata": {},
   "outputs": [],
   "source": [
    "song = 'cold, cold heart'\n",
    "\n",
    "# replacing 'cold' with 'hurt'\n",
    "print(song.replace('cold', 'hurt'))\n",
    "\n",
    "song = 'Let it be, let it be, let it be, let it be'\n",
    "\n",
    "# replacing only two occurrences of 'let'\n",
    "print(song.replace('let', \"don't let\", 2))"
   ]
  },
  {
   "cell_type": "code",
   "execution_count": null,
   "metadata": {},
   "outputs": [],
   "source": [
    "song = 'cold, cold heart'\n",
    "replaced_song = song.replace('o', 'e')\n",
    "\n",
    "# The original string is unchanged\n",
    "print('Original string:', song)\n",
    "\n",
    "print('Replaced string:', replaced_song)\n",
    "\n",
    "song = 'let it be, let it be, let it be'\n",
    "\n",
    "# maximum of 0 substring is replaced\n",
    "# returns copy of the original string\n",
    "print(song.replace('let', 'so', 0))"
   ]
  },
  {
   "cell_type": "code",
   "execution_count": null,
   "metadata": {},
   "outputs": [],
   "source": [
    "# string find\n",
    "message = 'Python is a fun programming language'\n",
    "\n",
    "# check the index of 'fun'\n",
    "print(message.find('a'))\n",
    "print(message.index('a'))\n",
    "\n",
    "\n",
    "# Output: 12"
   ]
  },
  {
   "cell_type": "code",
   "execution_count": null,
   "metadata": {},
   "outputs": [],
   "source": [
    "string1=\"pra1993\"\n",
    "print(string1.isnumeric()) "
   ]
  },
  {
   "cell_type": "code",
   "execution_count": null,
   "metadata": {},
   "outputs": [],
   "source": [
    "# string split()\n",
    "cars = 'BMW-Telsa-Range Rover'\n",
    "\n",
    "# split at '-'\n",
    "print(cars.split('-'))"
   ]
  },
  {
   "cell_type": "code",
   "execution_count": null,
   "metadata": {},
   "outputs": [],
   "source": [
    "grocery = 'Milk, Chicken, Bread, Butter'\n",
    "\n",
    "# maxsplit: 2\n",
    "print(grocery.split(', ', 2))\n",
    "\n",
    "# maxsplit: 1\n",
    "print(grocery.split(', ', 1))\n",
    "\n",
    "# maxsplit: 5\n",
    "print(grocery.split(', ', 5))\n",
    "\n",
    "# maxsplit: 0\n",
    "print(grocery.split(', ', 0))"
   ]
  }
 ],
 "metadata": {
  "kernelspec": {
   "display_name": "code",
   "language": "python",
   "name": "python3"
  },
  "language_info": {
   "codemirror_mode": {
    "name": "ipython",
    "version": 3
   },
   "file_extension": ".py",
   "mimetype": "text/x-python",
   "name": "python",
   "nbconvert_exporter": "python",
   "pygments_lexer": "ipython3",
   "version": "3.8.10"
  }
 },
 "nbformat": 4,
 "nbformat_minor": 2
}
