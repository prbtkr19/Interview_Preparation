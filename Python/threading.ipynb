{
 "cells": [
  {
   "cell_type": "code",
   "execution_count": null,
   "metadata": {},
   "outputs": [],
   "source": [
    "def test(id):\n",
    "    print(\"this is my id %d\" % id)\n",
    "\n",
    "print(test(10))\n",
    "print(test(2))\n",
    "print(test(3))"
   ]
  },
  {
   "cell_type": "code",
   "execution_count": null,
   "metadata": {},
   "outputs": [],
   "source": [
    "import time\n",
    "def test(id):\n",
    "    for i in range(10):\n",
    "        print(\"this is value of x %d and value of id %d\" %(id,i))\n",
    "        time.sleep(2)\n",
    "\n",
    "thread=[threading.Thread(target=test,args=(i,)) for i in [10,20,1]]"
   ]
  },
  {
   "cell_type": "code",
   "execution_count": null,
   "metadata": {},
   "outputs": [],
   "source": [
    "for t in thread:\n",
    "    t.start()"
   ]
  },
  {
   "cell_type": "code",
   "execution_count": null,
   "metadata": {},
   "outputs": [],
   "source": [
    "# implement above using thread\n",
    "import threading\n",
    "thread1= [threading.Thread(target=test, args=(i,)) for i in [10,2,3]]\n",
    "thread1"
   ]
  },
  {
   "cell_type": "code",
   "execution_count": null,
   "metadata": {},
   "outputs": [],
   "source": [
    "test(2)"
   ]
  },
  {
   "cell_type": "code",
   "execution_count": null,
   "metadata": {},
   "outputs": [],
   "source": [
    "import urllib.request\n",
    "def file_download(url,filename):\n",
    "    urllib.request.urlretrieve(url,filename)"
   ]
  },
  {
   "cell_type": "code",
   "execution_count": null,
   "metadata": {},
   "outputs": [],
   "source": [
    "file_download(\"https://raw.githubusercontent.com/ashishpatel26/Awesome-LLM/main/README.md\",\"url_test.txt\")"
   ]
  },
  {
   "cell_type": "code",
   "execution_count": null,
   "metadata": {},
   "outputs": [],
   "source": [
    "data_list=[\"1.txt\",\"2.txt\"]\n",
    "data_list"
   ]
  },
  {
   "cell_type": "code",
   "execution_count": null,
   "metadata": {},
   "outputs": [],
   "source": [
    "url=[\"https://raw.githubusercontent.com/ashishpatel26/Awesome-LLM/main/README.md\",\"https://raw.githubusercontent.com/ashishpatel26/Awesome-LLM/main/README.md\"]"
   ]
  },
  {
   "cell_type": "code",
   "execution_count": null,
   "metadata": {},
   "outputs": [],
   "source": [
    "# shared variable\n",
    "import time\n",
    "shared_var=0\n",
    "lock_var= threading.Lock()\n",
    "def test3(x):\n",
    "    global shared_var\n",
    "    with lock_var:\n",
    "        shared_var=shared_var+1\n",
    "        print(\"value of x %d and value of shared var % d\" %(x,shared_var))\n",
    "        time.sleep(1)"
   ]
  },
  {
   "cell_type": "code",
   "execution_count": null,
   "metadata": {},
   "outputs": [],
   "source": [
    "#import time\n",
    "for t in thread1:\n",
    "    t.start()\n",
    "    #time.sleep(2)"
   ]
  },
  {
   "cell_type": "markdown",
   "metadata": {},
   "source": [
    "Multithreading"
   ]
  },
  {
   "cell_type": "code",
   "execution_count": null,
   "metadata": {},
   "outputs": [],
   "source": [
    "#xecute multiple threads (tasks) concurrently within the same process. Here's a b\n",
    "from threading import Thread\n",
    "import time\n",
    "\n",
    "# Define a function that will be executed by each thread\n",
    "def print_numbers():\n",
    "    for i in range(5):\n",
    "        #print(Thread.current_thread().getName(), i)\n",
    "        time.sleep(1)  # Simulate some work being done\n",
    "\n",
    "# Create two threads\n",
    "thread1 = Thread(target=print_numbers, name='Thread 1')\n",
    "thread2 = Thread(target=print_numbers, name='Thread 2')\n",
    "\n",
    "# Start the threads\n",
    "thread1.start()\n",
    "thread2.start()\n",
    "\n",
    "# Wait for both threads to finish\n",
    "thread1.join()\n",
    "thread2.join()\n",
    "\n",
    "print(\"Threads finished execution\")\n"
   ]
  },
  {
   "cell_type": "code",
   "execution_count": null,
   "metadata": {},
   "outputs": [],
   "source": [
    "Multiprocessing"
   ]
  },
  {
   "cell_type": "code",
   "execution_count": null,
   "metadata": {},
   "outputs": [],
   "source": [
    "import multiprocessing\n",
    "def test():\n",
    "    print(\"this is my multiprocessing program\")\n",
    "    \n",
    "if __name__ =='__main__':\n",
    "    m=multiprocessing.Process(target=test)\n",
    "    print(\"this si my main prod\")\n",
    "    m.start()\n",
    "    m.join()"
   ]
  },
  {
   "cell_type": "code",
   "execution_count": null,
   "metadata": {},
   "outputs": [],
   "source": [
    "test()"
   ]
  },
  {
   "cell_type": "code",
   "execution_count": null,
   "metadata": {},
   "outputs": [],
   "source": [
    "def square(n):\n",
    "    return n**2\n",
    "\n",
    "if __name__==\"__main__\":\n",
    "    with multiprocessing.Pool(processes=5) as pool:\n",
    "        out=pool.map(square,[1,2,3,4,5,6,7,8,9])\n",
    "        print(out)"
   ]
  },
  {
   "cell_type": "code",
   "execution_count": null,
   "metadata": {},
   "outputs": [],
   "source": [
    "# download multiple links in at a time using thread\n",
    "import threading\n",
    "thread2=[threading.Thread(target=file_download, args=(url[i],data_list[i])) for i in range(len(url))]\n"
   ]
  },
  {
   "cell_type": "code",
   "execution_count": null,
   "metadata": {},
   "outputs": [],
   "source": [
    "for i in thread2:\n",
    "    i.start()"
   ]
  },
  {
   "cell_type": "code",
   "execution_count": null,
   "metadata": {},
   "outputs": [],
   "source": [
    "#thread runs in its own space, allowing multiple tasks to be executed simultaneously. \n",
    "\n",
    "# 1 basic threading\n",
    "from threading import Thread\n",
    "import time\n",
    "\n",
    "def print_numbers():\n",
    "    for i in range(5):\n",
    "        time.sleep(1)\n",
    "        print(i)\n",
    "\n",
    "def print_letters():\n",
    "    for letter in 'ABCDE':\n",
    "        time.sleep(1) # pause for 1 sec\n",
    "        print(letter)\n",
    "\n",
    "# Creating threads\n",
    "thread1 = Thread(target=print_numbers)\n",
    "thread2 = Thread(target=print_letters)\n",
    "\n",
    "# Starting threads\n",
    "thread1.start()\n",
    "thread2.start()\n",
    "\n",
    "# Waiting for threads to finish\n",
    "thread1.join()\n",
    "thread2.join()\n",
    "\n",
    "print(\"Both threads have finished.\")\n",
    "#The join method is called on each thread to wait for them to complete before moving on."
   ]
  }
 ],
 "metadata": {
  "language_info": {
   "name": "python"
  }
 },
 "nbformat": 4,
 "nbformat_minor": 2
}
