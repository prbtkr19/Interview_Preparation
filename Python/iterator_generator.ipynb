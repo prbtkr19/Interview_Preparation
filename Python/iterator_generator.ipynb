{
 "cells": [
  {
   "cell_type": "markdown",
   "metadata": {},
   "source": [
    "Generator use cases\n",
    "-  easy to implement\n",
    "-  memory efficient\n",
    "-  A normal function to return a sequence will create the entire sequence in memory before returning the result. \n",
    "-  This is an overkill, if the number of items in the sequence is very large.\n",
    "\n",
    "-  Generator implementation of such sequences is memory friendly \n",
    "and is preferred since it only produces one item at a time."
   ]
  },
  {
   "cell_type": "code",
   "execution_count": null,
   "metadata": {},
   "outputs": [],
   "source": [
    "# iterator\n",
    "nums = [1, 2, 3, 4]\n",
    "obj = iter(nums)\n",
    "print(next(obj))\n",
    "print(next(obj))\n",
    "print(next(obj))\n",
    "print(next(obj))"
   ]
  },
  {
   "cell_type": "code",
   "execution_count": null,
   "metadata": {},
   "outputs": [],
   "source": [
    "str=\"prabhat\"\n",
    "ob1=iter(str)\n",
    "print(next(ob1))"
   ]
  },
  {
   "cell_type": "code",
   "execution_count": null,
   "metadata": {},
   "outputs": [],
   "source": [
    "#Generators are useful when we want to produce a large sequence of values,\n",
    "# but we don't want to store all of them in memory at once.\n",
    "def my_generator(n):\n",
    "\n",
    "    # initialize counter\n",
    "    value = 0\n",
    "\n",
    "    # loop until counter is less than n\n",
    "    while value < n:\n",
    "\n",
    "        # produce the current value of the counter\n",
    "        yield value\n",
    "\n",
    "        # increment the counter\n",
    "        #value += 1\n",
    "        #print(f\"value:::::::::{value}\")\n",
    "\n",
    "# iterate over the generator object produced by my_generator\n",
    "for value in my_generator(3):\n",
    "\n",
    "    # print each value produced by generator\n",
    "    print(value)"
   ]
  },
  {
   "cell_type": "code",
   "execution_count": null,
   "metadata": {},
   "outputs": [],
   "source": [
    "# create sq of numbers using generator\n",
    "# create the generator object\n",
    "squares_generator = (i * i for i in range(5))\n",
    "\n",
    "# iterate over the generator and print the values\n",
    "for i in squares_generator:\n",
    "    print(i)"
   ]
  },
  {
   "cell_type": "code",
   "execution_count": null,
   "metadata": {},
   "outputs": [],
   "source": [
    "sq=(i*i for i in range(5))\n",
    "print(type(sq))\n",
    "print(sq)\n",
    "for i in sq:\n",
    "    print(i)"
   ]
  },
  {
   "cell_type": "code",
   "execution_count": null,
   "metadata": {},
   "outputs": [],
   "source": [
    "#implement a sequence of power of 2 using an iterator class.\n",
    "class PowTwo:\n",
    "    def __init__(self, max=0):\n",
    "        self.n = 0\n",
    "        self.max = max\n",
    "\n",
    "    def __iter__(self):\n",
    "        return self\n",
    "\n",
    "    def __next__(self):\n",
    "        if self.n > self.max:\n",
    "            raise StopIteration\n",
    "\n",
    "        result = 2 ** self.n\n",
    "        self.n += 1\n",
    "        return result\n",
    "    \n",
    "ob=PowTwo(max=4)\n",
    "print(ob.__iter__())\n",
    "\n",
    "for i in ob.__iter__():\n",
    "    print(i)"
   ]
  },
  {
   "cell_type": "code",
   "execution_count": null,
   "metadata": {},
   "outputs": [],
   "source": [
    "def powtwo(n):\n",
    "    for i in range(n):\n",
    "        yield 2**i\n",
    "        \n",
    "powtwo(4)\n",
    "for i in powtwo(6):\n",
    "    print(i)"
   ]
  },
  {
   "cell_type": "code",
   "execution_count": null,
   "metadata": {},
   "outputs": [],
   "source": [
    "# above program was lenghtly so use with generator\n",
    "def PowTwoGen(max=0):\n",
    "    print(f\"value of max::{max}\")\n",
    "    n = 0\n",
    "    while n < max:\n",
    "        yield 2 ** n\n",
    "        n += 1\n",
    "        \n",
    "PowTwoGen(8)\n",
    "for i in PowTwoGen(8):\n",
    "    print(i)"
   ]
  },
  {
   "cell_type": "code",
   "execution_count": null,
   "metadata": {},
   "outputs": [],
   "source": [
    "# generate all even nos till 2024\n",
    "def all():\n",
    "    n=0\n",
    "    while n<=2024:\n",
    "        yield n\n",
    "        n+=2\n",
    "        \n",
    "for i in all():\n",
    "    print(i)"
   ]
  },
  {
   "cell_type": "code",
   "execution_count": null,
   "metadata": {},
   "outputs": [],
   "source": [
    "#3 represent infinite stream of data\n",
    "# following code geneates all even nos\n",
    "def all_even():\n",
    "    n = 0\n",
    "    while True:\n",
    "        yield n\n",
    "        n += 2\n",
    "#all_even()\n",
    "#for i in all_even():\n",
    "    #print(i)"
   ]
  },
  {
   "cell_type": "code",
   "execution_count": null,
   "metadata": {},
   "outputs": [],
   "source": [
    "# 4. Pipelining Generators\n",
    "#Suppose we have a generator that produces the numbers in the Fibonacci series. \n",
    "# And we have another generator for squaring numbers.\n",
    "\n",
    "def fibonacci_numbers(nums):\n",
    "    x, y = 0, 1\n",
    "    for i in range(nums):\n",
    "        x, y = y, x+y\n",
    "        yield x\n",
    "for i in fibonacci_numbers(5):\n",
    "    print(i)\n",
    "    \n",
    "def square(nums):\n",
    "    for num in nums:\n",
    "        yield num**2\n",
    "\n",
    "print(sum(square(fibonacci_numbers(5))))"
   ]
  },
  {
   "cell_type": "code",
   "execution_count": null,
   "metadata": {},
   "outputs": [],
   "source": [
    "#Generators in Python\n",
    "\n",
    "#A generator is a type of function that returns a generator object,\n",
    "#which can return a sequence of values instead of a single result.\n",
    "#The def keyword is commonly used to define generators.\n",
    "# At least one yield statement is required in a generator.\n",
    "\n",
    "\n",
    "def nums():\n",
    "    for i in range(1, 5):\n",
    "        yield i\n",
    "\n",
    "obj = nums()\n",
    "print(next(obj))\n",
    "print(next(obj))\n",
    "print(next(obj))\n",
    "print(next(obj))"
   ]
  },
  {
   "cell_type": "markdown",
   "metadata": {},
   "source": [
    "Iterators are created using classes whereas generators are created using functions.\n"
   ]
  },
  {
   "cell_type": "code",
   "execution_count": null,
   "metadata": {},
   "outputs": [],
   "source": [
    "def Alphabets():\n",
    "\n",
    "   for i in range(65, 91):\n",
    "       yield chr(i)\n",
    "\n",
    "\n",
    "my_letters = Alphabets()\n",
    "\n",
    "for letter in my_letters:\n",
    "   print(letter, end=\" \")"
   ]
  },
  {
   "cell_type": "code",
   "execution_count": null,
   "metadata": {},
   "outputs": [],
   "source": [
    "def Alphabets():\n",
    "    for i in range(65, 91):\n",
    "        yield chr(i)\n",
    "\n",
    "\n",
    "my_letters = Alphabets()\n",
    "\n",
    "for letter in my_letters:\n",
    "    print(letter, end=\" \")"
   ]
  },
  {
   "cell_type": "markdown",
   "metadata": {},
   "source": [
    "Iterators are created using classes whereas generators are created using functions.\n"
   ]
  },
  {
   "cell_type": "code",
   "execution_count": null,
   "metadata": {},
   "outputs": [],
   "source": [
    "# generators\n",
    "def nums():\n",
    "    for i in range(1, 5):\n",
    "        yield i\n",
    "\n",
    "\n",
    "#nums() calling funcion it return gen object\n",
    "obj = nums()\n",
    "print(next(obj))\n",
    "print(next(obj))\n",
    "print(next(obj))\n",
    "print(next(obj))"
   ]
  },
  {
   "cell_type": "code",
   "execution_count": null,
   "metadata": {},
   "outputs": [],
   "source": [
    "def Alphabets():\n",
    "    for i in range(65, 91):\n",
    "        #print(i)\n",
    "        yield chr(i)\n",
    "        #return chr(i)\n",
    "\n",
    "\n",
    "my_letters = Alphabets()\n",
    "#print(f\"my letter {my_letters}\")\n",
    "#print(f\"my letter typr {type(my_letters)}\")\n",
    "\n",
    "\n",
    "for letter in my_letters:\n",
    "    print(letter, end=\" \")"
   ]
  },
  {
   "cell_type": "code",
   "execution_count": null,
   "metadata": {},
   "outputs": [],
   "source": [
    "def gener():\n",
    "    num = 1\n",
    "    while True:\n",
    "        yield num\n",
    "        num += 2\n",
    "\n",
    "obj = gener()\n",
    "print(next(obj))\n",
    "print(next(obj))\n",
    "print(next(obj))"
   ]
  },
  {
   "cell_type": "code",
   "execution_count": null,
   "metadata": {},
   "outputs": [],
   "source": [
    "def fun():\n",
    "    for i in range(1,10):\n",
    "        return chr(i)\n",
    "    \n",
    "fun()"
   ]
  }
 ],
 "metadata": {
  "language_info": {
   "name": "python"
  }
 },
 "nbformat": 4,
 "nbformat_minor": 2
}
