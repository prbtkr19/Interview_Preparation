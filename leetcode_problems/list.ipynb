{
 "cells": [
  {
   "cell_type": "markdown",
   "metadata": {},
   "source": [
    "1. create a random list of 20 elements between 20-40."
   ]
  },
  {
   "cell_type": "code",
   "execution_count": 1,
   "metadata": {},
   "outputs": [
    {
     "name": "stdout",
     "output_type": "stream",
     "text": [
      "[29, 40, 37, 27, 30, 26, 29, 28, 31, 38, 38, 23, 29, 20, 33, 37, 30, 28, 29, 35]\n"
     ]
    }
   ],
   "source": [
    "import random\n",
    "ran_list= [random.randint(20,40) for i in range(20)]\n",
    "print(ran_list)"
   ]
  },
  {
   "cell_type": "markdown",
   "metadata": {},
   "source": [
    "2. sort the list in ascending order"
   ]
  },
  {
   "cell_type": "code",
   "execution_count": 10,
   "metadata": {},
   "outputs": [
    {
     "name": "stdout",
     "output_type": "stream",
     "text": [
      "[20, 23, 26, 27, 28, 28, 29, 29, 29, 30, 31, 33, 35, 37, 37, 38, 38, 40, 85, 100]\n"
     ]
    }
   ],
   "source": [
    "def sort_list_asc(l):\n",
    "    \n",
    "    for i in range(0,len(l)):\n",
    "        for j in range(i+1,len(l)):\n",
    "            if l[i]>=l[j]:\n",
    "                l[i],l[j]=l[j],l[i]\n",
    "        \n",
    "    \n",
    "    return l\n",
    "ran_list =[29, 40, 37, 27,100, 26,85, 28, 31, 38, 38, 23, 29, 20, 33, 37, 30, 28, 29, 35]\n",
    "print(sort_list_asc(ran_list))"
   ]
  },
  {
   "cell_type": "markdown",
   "metadata": {},
   "source": [
    "3. sort the list in descending order"
   ]
  },
  {
   "cell_type": "code",
   "execution_count": 13,
   "metadata": {},
   "outputs": [
    {
     "name": "stdout",
     "output_type": "stream",
     "text": [
      "[100, 85, 40, 38, 38, 37, 37, 35, 33, 31, 30, 29, 29, 29, 28, 28, 27, 26, 23, 20]\n"
     ]
    }
   ],
   "source": [
    "def sort_desc_order(l):\n",
    "    for i in range(0,len(l)):\n",
    "        for j in range(i+1,len(l)):\n",
    "            if l[i]<=l[j]:\n",
    "                l[i],l[j]=l[j],l[i]\n",
    "    return l\n",
    "\n",
    "ran_list =[29, 40, 37, 27,100, 26,85, 28, 31, 38, 38, 23, 29, 20, 33, 37, 30, 28, 29, 35]\n",
    "print(sort_desc_order(ran_list))"
   ]
  },
  {
   "cell_type": "markdown",
   "metadata": {},
   "source": [
    "4. find duplicates form list"
   ]
  },
  {
   "cell_type": "code",
   "execution_count": 3,
   "metadata": {},
   "outputs": [
    {
     "name": "stdout",
     "output_type": "stream",
     "text": [
      "occurence *** dict_items([(1, 2), (2, 2), (3, 1), (4, 1), (5, 1), (6, 1), (7, 2)])\n",
      "Duplicates: [1, 2, 7]\n"
     ]
    }
   ],
   "source": [
    "def find_dup(lst):\n",
    "    count ={}\n",
    "    duplicates=[]\n",
    "    for i in lst:\n",
    "        if i in count:\n",
    "            count[i]+=1\n",
    "        else:\n",
    "            count[i]=1\n",
    "            \n",
    "    for item,value in count.items():\n",
    "        \n",
    "        if value > 1:\n",
    "            duplicates.append(item)\n",
    "    print(f\"occurence *** {count.items()}\")\n",
    "    return duplicates\n",
    "    \n",
    "    \n",
    "my_list = [1, 2, 3, 4, 1, 2, 5, 6, 7, 7]\n",
    "\n",
    "print(\"Duplicates:\", find_dup(my_list))"
   ]
  },
  {
   "cell_type": "markdown",
   "metadata": {},
   "source": [
    "5. find max element in a list"
   ]
  },
  {
   "cell_type": "code",
   "execution_count": 7,
   "metadata": {},
   "outputs": [
    {
     "name": "stdout",
     "output_type": "stream",
     "text": [
      "Maximum value: 123\n"
     ]
    }
   ],
   "source": [
    "def find_max(lst):\n",
    "    # check if list is empty\n",
    "    if len(lst)==0:\n",
    "        return None\n",
    "    \n",
    "    max_value=0\n",
    "    for item in lst:\n",
    "        if item > max_value:\n",
    "            max_value=item\n",
    "    return max_value\n",
    "    \n",
    "    \n",
    "my_list = [3, 7, 2, 9, 12,13,13,123,45,6,7,43,56,5]\n",
    "print(\"Maximum value:\", find_max(my_list))"
   ]
  },
  {
   "cell_type": "markdown",
   "metadata": {},
   "source": [
    "6. find smallest element in list"
   ]
  },
  {
   "cell_type": "code",
   "execution_count": 12,
   "metadata": {},
   "outputs": [
    {
     "name": "stdout",
     "output_type": "stream",
     "text": [
      "Minimum value: 2\n"
     ]
    }
   ],
   "source": [
    "def smallest(lst):\n",
    "    if not lst:\n",
    "        return None\n",
    "    \n",
    "    smallest=lst[0]\n",
    "    for i in lst:\n",
    "        if i < smallest:\n",
    "            smallest=i\n",
    "    return smallest\n",
    "\n",
    "\n",
    "my_list = [3, 7, 2, 9, 12,13,13,123,45,6,7,43,56,5]\n",
    "print(\"Minimum value:\", smallest(my_list))"
   ]
  },
  {
   "cell_type": "markdown",
   "metadata": {},
   "source": [
    "7. sort the given list in ascending order"
   ]
  },
  {
   "cell_type": "code",
   "execution_count": 25,
   "metadata": {},
   "outputs": [
    {
     "name": "stdout",
     "output_type": "stream",
     "text": [
      "sorted lsit is********** [21, 21, 22, 22, 22, 23, 28, 28, 32, 32, 35, 36, 36, 37, 37, 37, 38, 38, 40, 100]\n"
     ]
    }
   ],
   "source": [
    "def sort_lst(lst):\n",
    "    for i in range(0,len(lst)):\n",
    "        for j in range(i+1,len(lst)):\n",
    "            if lst[i]>lst[j]:\n",
    "                lst[i],lst[j]=lst[j],lst[i]\n",
    "    \n",
    "    return lst\n",
    "\n",
    "lst1=[28, 40, 36, 21, 37, 23, 37, 32, 35, 38, 21, 22, 32, 37, 22, 38, 22, 36, 100, 28]\n",
    "sorted_lst=sort_lst(lst1)\n",
    "# print(f\"original list *********** {lst1}\")\n",
    "print(f\"sorted lsit is********** {sorted_lst}\")"
   ]
  },
  {
   "cell_type": "markdown",
   "metadata": {},
   "source": [
    "8. sort the list in reverse order"
   ]
  },
  {
   "cell_type": "code",
   "execution_count": 1,
   "metadata": {},
   "outputs": [
    {
     "name": "stdout",
     "output_type": "stream",
     "text": [
      "sorted lsit is********** [100, 40, 38, 38, 37, 37, 37, 36, 36, 35, 32, 32, 28, 28, 23, 22, 22, 22, 21, 21]\n"
     ]
    }
   ],
   "source": [
    "def sort_lst(lst):\n",
    "    for i in range(0,len(lst)):\n",
    "        for j in range(i+1,len(lst)):\n",
    "            if lst[i]<lst[j]:\n",
    "                lst[i],lst[j]=lst[j],lst[i]\n",
    "    \n",
    "    return lst\n",
    "\n",
    "lst1=[28, 40, 36, 21, 37, 23, 37, 32, 35, 38, 21, 22, 32, 37, 22, 38, 22, 36, 100, 28]\n",
    "sorted_lst=sort_lst(lst1)\n",
    "# print(f\"original list *********** {lst1}\")\n",
    "print(f\"sorted lsit is********** {sorted_lst}\")"
   ]
  },
  {
   "cell_type": "markdown",
   "metadata": {},
   "source": [
    "9 <font color=\"orange\"> Three Sum Problem  [Triplet]</font>"
   ]
  },
  {
   "cell_type": "markdown",
   "metadata": {},
   "source": [
    "-   You are given an array/list ARR consisting of N integers. \n",
    "-   Your task is to find all the distinct triplets present in the array which adds up to a given number K.\n",
    "\n",
    "-   An array is said to have a triplet {ARR[i], ARR[j], ARR[k]} with sum = 'K' if there exists three indices i, j and k such that i!=j, j!=k and i!=j and ARR[i] + ARR[j] + ARR[k] = 'K'.\n",
    "\n",
    "Note:\n",
    "\n",
    "-   You can return the list of values in any order. For example, if a valid triplet is {1, 2, -3}, then {2, -3, 1}, {-3, 2, 1} etc is also valid triplet. Also, the ordering of different triplets can be random i.e if there are more than one valid triplets, you can return them in any order.\n",
    "-   The elements in the array need not be distinct.\n",
    "If no such triplet is present in the array, then return an empty list, and the output printed for such a test case will be \"-1\"."
   ]
  },
  {
   "cell_type": "markdown",
   "metadata": {},
   "source": [
    "-   Input: array = {12, 3, 4, 1, 6, 9}, sum = 24; \n",
    "-   Output: 12, 3, 9 \n",
    "-   Explanation: There is a triplet (12, 3 and 9) present \n",
    "-   in the array whose sum is 24. \n",
    "\n",
    "-   Input: array = {1, 2, 3, 4, 5}, sum = 9 \n",
    "-   Output: 5, 3, 1 \n",
    "-   Explanation: There is a triplet (5, 3 and 1) present in the array whose sum is 9."
   ]
  },
  {
   "cell_type": "markdown",
   "metadata": {},
   "source": [
    "Step-by-step approach:\n",
    "\n",
    "1. Given an array of length n and a sum s\n",
    "2. Create three nested loop first loop runs from start to end (loop counter i), second loop runs from i+1 to end (loop counter j) and third loop runs from j+1 to end (loop counter k)\n",
    "3. The counter of these loops represents the index of 3 elements of the triplets.\n",
    "4. Find the sum of ith, jth and kth element. If the sum is equal to given sum. Print the triplet and break.\n",
    "5. If there is no triplet, then print that no triplet exist."
   ]
  },
  {
   "cell_type": "code",
   "execution_count": 4,
   "metadata": {},
   "outputs": [
    {
     "name": "stdout",
     "output_type": "stream",
     "text": [
      "None\n"
     ]
    }
   ],
   "source": [
    "def find_triplet(arr,arr_size,target):\n",
    "    \n",
    "    for i in range(0,len(arr)):\n",
    "        for j in range(i+1,arr_size-1):\n",
    "            for k in range(j+1,arr_size-2):\n",
    "                if arr[i]+arr[j]+arr[k]==target:\n",
    "                    return [i,j,k]\n",
    "    \n",
    "\n",
    "input= {12, 3, 4, 1, 6, 9}\n",
    "target = 24\n",
    "input_l=list(input)\n",
    "arr_size= len(input_l)\n",
    "\n",
    "triplet_arr = find_triplet(input_l,arr_size,target)\n",
    "print(triplet_arr)"
   ]
  },
  {
   "cell_type": "code",
   "execution_count": 6,
   "metadata": {},
   "outputs": [
    {
     "name": "stdout",
     "output_type": "stream",
     "text": [
      "Triplet is******** 4 ,  10 ,  8\n"
     ]
    },
    {
     "data": {
      "text/plain": [
       "True"
      ]
     },
     "execution_count": 6,
     "metadata": {},
     "output_type": "execute_result"
    }
   ],
   "source": [
    "\n",
    "def find3Numbers(A, arr_size, sum):\n",
    "\n",
    "\t# Fix the first element as A[i]\n",
    "\tfor i in range( 0, arr_size-2):\n",
    "\n",
    "\t\t# Fix the second element as A[j]\n",
    "\t\tfor j in range(i + 1, arr_size-1): \n",
    "\t\t\t\n",
    "\t\t\t# Now look for the third number\n",
    "\t\t\tfor k in range(j + 1, arr_size):\n",
    "\t\t\t\tif A[i] + A[j] + A[k] == sum:\n",
    "\t\t\t\t\tprint(\"Triplet is********\", A[i],\n",
    "\t\t\t\t\t\t\", \", A[j], \", \", A[k])\n",
    "\t\t\t\t\treturn True\n",
    "\t\n",
    "\t# If we reach here, then no triplet was found\n",
    "\treturn False\n",
    "\n",
    "# Driver program to test above function \n",
    "A = [1, 4, 45, 6, 10, 8]\n",
    "sum = 22\n",
    "arr_size = len(A)\n",
    "find3Numbers(A, arr_size, sum)"
   ]
  },
  {
   "cell_type": "markdown",
   "metadata": {},
   "source": [
    "10. Merge two sorted list"
   ]
  },
  {
   "cell_type": "markdown",
   "metadata": {},
   "source": [
    "using naive approach"
   ]
  },
  {
   "cell_type": "code",
   "execution_count": null,
   "metadata": {},
   "outputs": [],
   "source": [
    "# Python3 code to demonstrate\n",
    "# to combine two sorted list\n",
    "# using naive method\n",
    "\n",
    "# initializing lists\n",
    "test_list1 = [1, 5, 6, 9, 11]\n",
    "test_list2 = [3, 4, 7, 8, 10]\n",
    "\n",
    "# printing original lists\n",
    "print(\"The original list 1 is : \" + str(test_list1))\n",
    "print(\"The original list 2 is : \" + str(test_list2))\n",
    "\n",
    "# using naive method\n",
    "# to combine two sorted lists\n",
    "size_1 = len(test_list1)\n",
    "size_2 = len(test_list2)\n",
    "\n",
    "res = []\n",
    "i, j = 0, 0\n",
    "\n",
    "while i < size_1 and j < size_2:\n",
    "\tif test_list1[i] < test_list2[j]:\n",
    "\t\tres.append(test_list1[i])\n",
    "\t\ti += 1\n",
    "\n",
    "\telse:\n",
    "\t\tres.append(test_list2[j])\n",
    "\t\tj += 1\n",
    "\n",
    "res = res + test_list1[i:] + test_list2[j:]\n",
    "\n",
    "# printing result\n",
    "print(\"The combined sorted list is : \" + str(res))\n"
   ]
  },
  {
   "cell_type": "markdown",
   "metadata": {},
   "source": [
    "using sorted() method"
   ]
  },
  {
   "cell_type": "code",
   "execution_count": 1,
   "metadata": {},
   "outputs": [
    {
     "name": "stdout",
     "output_type": "stream",
     "text": [
      "The original list 1 is : [1, 5, 6]\n",
      "The original list 2 is : [3, 4, 7, 8, 10]\n",
      "The combined sorted list is : [1, 3, 4, 5, 6, 7, 8, 10]\n"
     ]
    }
   ],
   "source": [
    "# initializing lists\n",
    "test_list1 = [1, 5, 6]\n",
    "test_list2 = [3, 4, 7, 8, 10]\n",
    "\n",
    "# printing original lists \n",
    "print (\"The original list 1 is : \" + str(test_list1))\n",
    "print (\"The original list 2 is : \" + str(test_list2))\n",
    "\n",
    "# using sorted() to combine two sorted lists\n",
    "res = sorted(test_list1 + test_list2)\n",
    "\n",
    "# printing result\n",
    "print (\"The combined sorted list is : \" + str(res))\n",
    "\n"
   ]
  },
  {
   "cell_type": "markdown",
   "metadata": {},
   "source": [
    "simplify3X"
   ]
  },
  {
   "cell_type": "markdown",
   "metadata": {},
   "source": [
    "You are given two integer arrays nums1 and nums2, sorted in non-decreasing order, and two integers m and n, representing the number of elements in nums1 and nums2 respectively.\n",
    "\n",
    "Merge nums1 and nums2 into a single array sorted in non-decreasing order.\n",
    "\n",
    "The final sorted array should not be returned by the function, but instead be stored inside the array nums1. To accommodate this, nums1 has a length of m + n, where the first m elements denote the elements that should be merged, and the last n elements are set to 0 and should be ignored. nums2 has a length of n.\n",
    "\n",
    "\n",
    "Example 1:\n",
    "\n",
    "Input: nums1 = [1,2,3,0,0,0], m = 3, nums2 = [2,5,6], n = 3\n",
    "Output: [1,2,2,3,5,6]\n",
    "Explanation: The arrays we are merging are [1,2,3] and [2,5,6].\n",
    "The result of the merge is [1,2,2,3,5,6] with the underlined elements coming from nums1.\n",
    "Example 2:\n",
    "\n",
    "Input: nums1 = [1], m = 1, nums2 = [], n = 0\n",
    "Output: [1]\n",
    "Explanation: The arrays we are merging are [1] and [].\n",
    "The result of the merge is [1].\n",
    "Example 3:\n",
    "\n",
    "Input: nums1 = [0], m = 0, nums2 = [1], n = 1\n",
    "Output: [1]\n",
    "Explanation: The arrays we are merging are [] and [1].\n",
    "The result of the merge is [1].\n",
    "Note that because m = 0, there are no elements in nums1. The 0 is only there to ensure the merge result can fit in nums1.\n"
   ]
  },
  {
   "cell_type": "markdown",
   "metadata": {},
   "source": [
    "11. Given an array arr[] of size N-1 with integers in the range of [1, N], the task is to find the missing number from the first N integers.\n",
    "\n",
    "Note: There are no duplicates in the list."
   ]
  },
  {
   "cell_type": "markdown",
   "metadata": {},
   "source": [
    "-   input: arr[] = {1, 2, 4, 6, 3, 7, 8} , N = 8\n",
    "-   Output: 5\n",
    "-   Explanation: Here the size of the array is 8, so the range will be [1, 8]. The missing number between 1 to 8 is 5\n",
    "\n"
   ]
  },
  {
   "cell_type": "code",
   "execution_count": null,
   "metadata": {},
   "outputs": [],
   "source": []
  },
  {
   "cell_type": "markdown",
   "metadata": {},
   "source": [
    "12. Two Sum Problem\n",
    "\n",
    "\n",
    "- input = [3,5,42,5,7]\n",
    "- target = 9\n",
    "- return index where target matches\n"
   ]
  },
  {
   "cell_type": "code",
   "execution_count": 4,
   "metadata": {},
   "outputs": [
    {
     "name": "stdout",
     "output_type": "stream",
     "text": [
      "None\n"
     ]
    }
   ],
   "source": [
    "def two_sum(input, target):\n",
    "    for i in range(len(input)):\n",
    "        for j in range(i + 1, len(input)):\n",
    "            if input[i] + input[j] == target:\n",
    "                return [i, j]\n",
    "\n",
    "input_list = [3, 5, 42, 5, 7]\n",
    "input_list = [3, 5, 42, 5, 7]\n",
    "input_list=[2,7,11,15]\n",
    "#Output: [0,1]\n",
    "\n",
    "target_value = 30\n",
    "print(two_sum(input_list, target_value)) "
   ]
  },
  {
   "cell_type": "markdown",
   "metadata": {},
   "source": [
    "13. Longest Consecutive sequence in a list"
   ]
  },
  {
   "cell_type": "markdown",
   "metadata": {},
   "source": [
    "Algorithm\n",
    "1. Sort the input list\n",
    "2. Initialize max_seq to an empty list and curr_seq to [lst[0]]\n",
    "3. Loop through the input list starting at index 1:\n",
    "-   a. If the current element is one more than the previous element, add it to curr_seq\n",
    "-   b. If it is not, compare the length of curr_seq to max_seq and update max_seq if necessary\n",
    "-   c. Reset curr_seq to [current element]\n",
    "4. Compare the length of curr_seq to max_seq and update max_seq if necessary\n",
    "5. Return max_seq"
   ]
  },
  {
   "cell_type": "code",
   "execution_count": null,
   "metadata": {},
   "outputs": [],
   "source": [
    "\n",
    "\n",
    "def longest_consecutive_list(lst):\n",
    "\t#lst.sort()\n",
    "\tprint(lst)\n",
    "\tmax_seq = []\n",
    "\tcurr_seq = [lst[0]]\n",
    "\tfor i in range(1, len(lst)):\n",
    "\t\tif lst[i] == lst[i-1] + 1:\n",
    "\t\t\tcurr_seq.append(lst[i])\n",
    "\t\t\t#print(f\"no appending to current--------{lst[i]}\")\n",
    "\t\telse:\n",
    "\t\t\tif len(curr_seq) > len(max_seq):\n",
    "\t\t\t\tmax_seq = curr_seq\n",
    "\t\t\tcurr_seq = [lst[i]]\n",
    "\tprint(f\"max sequence--------{max_seq}\")\n",
    "\tprint(f\"current sequence-------{curr_seq}\")\n",
    "\tif len(curr_seq) > len(max_seq):\n",
    "\t\tmax_seq = curr_seq\n",
    "\t\tprint(f\"max sequence-------------{max_seq}\")\n",
    "\treturn max_seq\n",
    "\n",
    "#lst =[1, 2, 3, 5, 6, 6, 7, 9, 10, 11, 13, 14, 15, 16, 16, 17, 18, 20, 21]\n",
    "#lst= [1,5,3,2,5,6,7,8,14,13,11,78,56,3,4,5,6,7,8,9,10]\n",
    "lst= [3,9,11,8,9,10,20,9]\n",
    "print(longest_consecutive_list(lst))\n",
    "\n",
    "#Time Complexity: O(nlogn) due to sorting\n",
    "#Space Complexity: O(n) "
   ]
  },
  {
   "cell_type": "markdown",
   "metadata": {},
   "source": [
    "14. find missing number from a given array"
   ]
  },
  {
   "cell_type": "markdown",
   "metadata": {},
   "source": [
    "-   Input: arr[] = {1, 2, 4, 6, 3, 7, 8} , N = 8\n",
    "-   Output: 5\n",
    "-   Explanation: Here the size of the array is 8, so the range will be [1, 8]. The missing number between 1 to 8 is 5\n",
    "\n"
   ]
  },
  {
   "cell_type": "markdown",
   "metadata": {},
   "source": [
    "Approach 2 (Using summation of first N natural numbers): The idea behind the approach is to use the summation of the first N numbers.\n",
    "\n"
   ]
  },
  {
   "cell_type": "markdown",
   "metadata": {},
   "source": [
    "-   Find the sum of the numbers in the range [1, N] using the formula N * (N+1)/2. Now find the sum of all the elements in the array and subtract it from the sum of the first N natural numbers. This will give the value of the missing element."
   ]
  },
  {
   "cell_type": "markdown",
   "metadata": {},
   "source": [
    "Follow the steps mentioned below to implement the idea:\n",
    "\n",
    "-   Calculate the sum of the first N natural numbers as sumtotal= N*(N+1)/2.\n",
    "-   Traverse the array from start to end.\n",
    "-   Find the sum of all the array elements.\n",
    "-   Print the missing number as SumTotal – sum of array"
   ]
  },
  {
   "cell_type": "code",
   "execution_count": 8,
   "metadata": {},
   "outputs": [
    {
     "name": "stdout",
     "output_type": "stream",
     "text": [
      "4.0\n"
     ]
    }
   ],
   "source": [
    "# Function to find the missing element\n",
    "def getMissingNo(arr, n):\n",
    "    total = (n + 1)*(n + 2)/2\n",
    "    sum_of_A = sum(arr)\n",
    "    return total - sum_of_A\n",
    "\n",
    "# Driver code\n",
    "if __name__ == '__main__':\n",
    "    arr = [1, 2,3,5]\n",
    "    N = len(arr)\n",
    "    \n",
    "    # Function call\n",
    "    miss = getMissingNo(arr, N)\n",
    "    print(miss)\n",
    "    "
   ]
  },
  {
   "cell_type": "code",
   "execution_count": null,
   "metadata": {},
   "outputs": [],
   "source": []
  }
 ],
 "metadata": {
  "kernelspec": {
   "display_name": "code_env",
   "language": "python",
   "name": "python3"
  },
  "language_info": {
   "codemirror_mode": {
    "name": "ipython",
    "version": 3
   },
   "file_extension": ".py",
   "mimetype": "text/x-python",
   "name": "python",
   "nbconvert_exporter": "python",
   "pygments_lexer": "ipython3",
   "version": "3.8.10"
  }
 },
 "nbformat": 4,
 "nbformat_minor": 2
}
