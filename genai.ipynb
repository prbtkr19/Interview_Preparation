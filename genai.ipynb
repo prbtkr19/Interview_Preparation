{
 "cells": [
  {
   "cell_type": "markdown",
   "metadata": {},
   "source": [
    "# hugging face\n",
    "\n",
    "- Hugging Face is a machine learning (ML) and data science platform and community that helps users build, deploy and train machine learning models\n",
    "\n",
    "\n",
    "- The Hugging Face Hub is a platform with over 350k models, 75k datasets, and 150k demo apps (Spaces), all open source and publicly available"
   ]
  },
  {
   "cell_type": "markdown",
   "metadata": {},
   "source": [
    "# LlamaIndex ::\n",
    "\n",
    "- LlamaIndex is a simple, flexible data framework for connecting\n",
    "custom data sources to large language models."
   ]
  },
  {
   "cell_type": "markdown",
   "metadata": {},
   "source": [
    "# LlamaIndex provides the key tools to augment your LLM applications with data\n",
    "\n",
    "# Data Injestion:\n",
    "    Connect your existing data sources and data formats (API's, PDF's, documents, SQL, etc.) to use with a large language model application.\n",
    "\n",
    "# Data Indexing :\n",
    "   Store and index your data for different use cases. Integrate with downstream vector store and database providers.\n",
    "\n",
    "# Query Interface\n",
    "\n",
    "    LlamaIndex provides a query interface that accepts any input prompt over your data and returns a knowledge-augmented response.\n",
    "  \n",
    "\n",
    "  # references\n",
    "  https://github.com/run-llama/llama_index"
   ]
  },
  {
   "cell_type": "markdown",
   "metadata": {},
   "source": [
    "# how does self attention works\n",
    "\n",
    "- transforming the inputs sequences into three vector\n",
    "   1. query\n",
    "   2. key\n",
    "   3. value\n",
    "   "
   ]
  },
  {
   "cell_type": "markdown",
   "metadata": {},
   "source": [
    "# Name some of the pretrained NLP Models\n",
    "\n",
    "# BERT :\n",
    "    Bidirectional encoder representation from Transformer\n",
    "\n",
    "# GPT-2\n",
    "\n",
    "# ELMo : (Embedding from language model)"
   ]
  },
  {
   "cell_type": "markdown",
   "metadata": {},
   "source": [
    "# LangChain\n",
    "     \n",
    "     LangChain is a framework for developing applications powered by language models. It enables applications that are ;\n",
    "# context-aware:\n",
    "     connect a language model to sources of context (prompt instructions, few shot examples, content to ground its response in, etc.)\n",
    "\n",
    "     Answer based on provided context, what actions to take, etc.\n",
    "\n",
    "# Reason: \n",
    "    rely on a language model to reason (about how to answer based on provided context, what actions to take, etc.)\n",
    "\n",
    "\n",
    "\n",
    "\n"
   ]
  },
  {
   "cell_type": "markdown",
   "metadata": {},
   "source": [
    "# How to fine tune pretrained NLP Models\n",
    "\n",
    "- 1 : Prepare Data\n",
    "- 2 : Set the hyper-parameter\n",
    "- 3 : Evaluate the results\n"
   ]
  },
  {
   "cell_type": "markdown",
   "metadata": {},
   "source": []
  },
  {
   "cell_type": "markdown",
   "metadata": {},
   "source": []
  },
  {
   "cell_type": "markdown",
   "metadata": {},
   "source": []
  },
  {
   "cell_type": "markdown",
   "metadata": {},
   "source": []
  },
  {
   "cell_type": "markdown",
   "metadata": {},
   "source": []
  },
  {
   "cell_type": "markdown",
   "metadata": {},
   "source": []
  }
 ],
 "metadata": {
  "language_info": {
   "name": "python"
  }
 },
 "nbformat": 4,
 "nbformat_minor": 2
}
