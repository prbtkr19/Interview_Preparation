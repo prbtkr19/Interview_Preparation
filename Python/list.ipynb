{
 "cells": [
  {
   "cell_type": "markdown",
   "metadata": {},
   "source": []
  },
  {
   "cell_type": "markdown",
   "metadata": {},
   "source": [
    "<font color=\"orange\"> List Properties </font>\n",
    "\n",
    "- Ordered: Lists maintain the order of elements. The elements in a list are stored in a specific sequence, and that sequence will be preserved unless explicitly modified.\n",
    "\n",
    "- Mutable: Lists are mutable, meaning you can change the elements of a list after it has been created. You can add, remove, or modify elements in a list.\n",
    "\n",
    "- Heterogeneous Elements: Lists can contain elements of different data types. You can have integers, floats, strings, other lists, or any other data type as elements in a list.\n",
    "\n",
    "- Indexed Access: Elements in a list are accessed using zero-based indexing. You can access individual elements by their index, and you can also slice lists to get sublists.\n",
    "\n",
    "- Dynamic Size: Lists in Python can dynamically grow or shrink in size. You can add or remove elements from a list without needing to resize it explicitly.\n",
    "\n",
    "- Iterable: Lists are iterable, meaning you can iterate over the elements of a list using loops (e.g., for loop) or other iterable constructs (e.g., list comprehensions).\n"
   ]
  },
  {
   "cell_type": "markdown",
   "metadata": {},
   "source": [
    "<font color=\"orange\">built in functions </font>\n"
   ]
  },
  {
   "cell_type": "code",
   "execution_count": 7,
   "metadata": {},
   "outputs": [
    {
     "name": "stdout",
     "output_type": "stream",
     "text": [
      "[2, 2, 2, 2, 2]\n",
      "1\n"
     ]
    }
   ],
   "source": [
    "my_l=[2,]\n",
    "print(my_l*5)\n",
    "print(len(my_l))"
   ]
  },
  {
   "cell_type": "code",
   "execution_count": 1,
   "metadata": {},
   "outputs": [
    {
     "name": "stdout",
     "output_type": "stream",
     "text": [
      "[2, 5, 2, 5, 2, 5, 2, 5, 2, 5]\n",
      "2\n"
     ]
    }
   ],
   "source": [
    "my_l=[2,5]\n",
    "print(my_l*5)\n",
    "print(len(my_l))"
   ]
  },
  {
   "cell_type": "code",
   "execution_count": 3,
   "metadata": {},
   "outputs": [
    {
     "name": "stdout",
     "output_type": "stream",
     "text": [
      "['hi', 'hi', 'hi', 'hi', 'hi']\n",
      "1\n"
     ]
    }
   ],
   "source": [
    "my_l=[\"hi\"]\n",
    "print(my_l*5)\n",
    "print(len(my_l))"
   ]
  },
  {
   "cell_type": "markdown",
   "metadata": {},
   "source": [
    "Addition of list vs addition of array"
   ]
  },
  {
   "cell_type": "code",
   "execution_count": 9,
   "metadata": {},
   "outputs": [
    {
     "name": "stdout",
     "output_type": "stream",
     "text": [
      "[2, 3, 4, 3, 4, 5]\n"
     ]
    }
   ],
   "source": [
    "# list addition add same list after previous\n",
    "l1=[2,3,4]\n",
    "l2=[3,4,5]\n",
    "print(l1+l2)"
   ]
  },
  {
   "cell_type": "code",
   "execution_count": 15,
   "metadata": {},
   "outputs": [
    {
     "name": "stdout",
     "output_type": "stream",
     "text": [
      "[2 3 4]\n",
      "[3 4 5]\n",
      "[5 7 9]\n"
     ]
    }
   ],
   "source": [
    "# numpy addition does element wise addition\n",
    "import numpy as np\n",
    "l1=[2,3,4]\n",
    "l1_ar=np.array(l1)\n",
    "print(l1_ar)\n",
    "l2=[3,4,5]\n",
    "l2_ar=np.array(l2)\n",
    "print(l2_ar)\n",
    "print(l1_ar + l2_ar)\n"
   ]
  },
  {
   "cell_type": "markdown",
   "metadata": {},
   "source": [
    "list to string\n",
    "-  convert list to string using join methood"
   ]
  },
  {
   "cell_type": "code",
   "execution_count": 1,
   "metadata": {},
   "outputs": [
    {
     "data": {
      "text/plain": [
       "'ilovepython'"
      ]
     },
     "execution_count": 1,
     "metadata": {},
     "output_type": "execute_result"
    }
   ],
   "source": [
    "l = [\"i\",\"love\",\"python\"]\n",
    "s= \"\".join(l)\n",
    "s"
   ]
  },
  {
   "cell_type": "code",
   "execution_count": 2,
   "metadata": {},
   "outputs": [
    {
     "data": {
      "text/plain": [
       "'i love python'"
      ]
     },
     "execution_count": 2,
     "metadata": {},
     "output_type": "execute_result"
    }
   ],
   "source": [
    "l = [\"i\",\"love\",\"python\"]\n",
    "s= \" \".join(l)\n",
    "s"
   ]
  },
  {
   "cell_type": "code",
   "execution_count": 3,
   "metadata": {},
   "outputs": [
    {
     "data": {
      "text/plain": [
       "\"['i', 'love', 'python']\""
      ]
     },
     "execution_count": 3,
     "metadata": {},
     "output_type": "execute_result"
    }
   ],
   "source": [
    "l = [\"i\",\"love\",\"python\"]\n",
    "s= str(l)\n",
    "s"
   ]
  },
  {
   "cell_type": "code",
   "execution_count": 5,
   "metadata": {},
   "outputs": [
    {
     "data": {
      "text/plain": [
       "'Pythons syntax is easy to learn & Pythons syntax is very clear'"
      ]
     },
     "execution_count": 5,
     "metadata": {},
     "output_type": "execute_result"
    }
   ],
   "source": [
    "l2=['Pythons syntax is easy to learn', 'Pythons syntax is very clear']\n",
    "l3=\" & \".join(l2)\n",
    "l3\n"
   ]
  },
  {
   "cell_type": "code",
   "execution_count": 7,
   "metadata": {},
   "outputs": [
    {
     "data": {
      "text/plain": [
       "[1, 4, 9]"
      ]
     },
     "execution_count": 7,
     "metadata": {},
     "output_type": "execute_result"
    }
   ],
   "source": [
    "squares = [1, 4, 9, 16, 25]\n",
    "squares[:3]"
   ]
  },
  {
   "cell_type": "code",
   "execution_count": 6,
   "metadata": {},
   "outputs": [
    {
     "name": "stdout",
     "output_type": "stream",
     "text": [
      "['hi', 'hi', 'hi', 'hi', 'hi']\n"
     ]
    }
   ],
   "source": [
    "my=[\"hi\"]\n",
    "print(my*5)"
   ]
  },
  {
   "cell_type": "code",
   "execution_count": 10,
   "metadata": {},
   "outputs": [],
   "source": [
    "word = ['1','2','3','4']\n",
    "word[ : ] = [ ]"
   ]
  },
  {
   "cell_type": "code",
   "execution_count": 1,
   "metadata": {},
   "outputs": [
    {
     "name": "stdout",
     "output_type": "stream",
     "text": [
      "SPSS\n"
     ]
    },
    {
     "ename": "AttributeError",
     "evalue": "'str' object has no attribute 'append'",
     "output_type": "error",
     "traceback": [
      "\u001b[0;31m---------------------------------------------------------------------------\u001b[0m",
      "\u001b[0;31mAttributeError\u001b[0m                            Traceback (most recent call last)",
      "Cell \u001b[0;32mIn[1], line 6\u001b[0m\n\u001b[1;32m      3\u001b[0m \u001b[38;5;66;03m#and add 'SPARK' in its place.\u001b[39;00m\n\u001b[1;32m      4\u001b[0m \u001b[38;5;28mprint\u001b[39m(input_list)\n\u001b[0;32m----> 6\u001b[0m input_list\u001b[38;5;241m=\u001b[39m\u001b[43minput_list\u001b[49m\u001b[38;5;241;43m.\u001b[39;49m\u001b[43mappend\u001b[49m(\u001b[38;5;124m'\u001b[39m\u001b[38;5;124mSPARK\u001b[39m\u001b[38;5;124m'\u001b[39m)\n\u001b[1;32m      7\u001b[0m \u001b[38;5;28mprint\u001b[39m(input_list)\n",
      "\u001b[0;31mAttributeError\u001b[0m: 'str' object has no attribute 'append'"
     ]
    }
   ],
   "source": [
    "input_list=['SAS', 'R', 'PYTHON', 'SPSS'] \n",
    "input_list=input_list.pop()\n",
    "#and add 'SPARK' in its place.\n",
    "print(input_list)\n",
    "\n",
    "input_list=input_list.append('SPARK')\n",
    "print(input_list)"
   ]
  },
  {
   "cell_type": "code",
   "execution_count": null,
   "metadata": {},
   "outputs": [],
   "source": [
    "#longest subsequnec using sorting\n",
    "\n",
    "def long_sub(input):\n",
    "    # sort the given list\n",
    "    \n",
    "    input.sort()\n",
    "    max_seq=[]\n",
    "    curr_index=[input[0]]\n",
    "    for i in range(1, len(input)):\n",
    "        if input[i]== input[i-1] +1:\n",
    "            curr_index.append(input[i])\n",
    "            \n",
    "        else:\n",
    "            if len(curr_index)> len(max_seq):\n",
    "                max_seq=curr_index\n",
    "            curr_index = [input[i]]\n",
    "            print(f\"curr index----------{curr_index}\")\n",
    "            \n",
    "    if len(curr_index)> len(max_seq):\n",
    "        max_seq=curr_index\n",
    "        \n",
    "    return max_seq\n",
    "    \n",
    "\n",
    "input = [3,9,11,8,9,10,20,9]\n",
    "output = long_sub(input)\n",
    "print(output)"
   ]
  },
  {
   "cell_type": "markdown",
   "metadata": {},
   "source": [
    "major difference between append and extend is that extend append all the items of \n",
    "iterable to a list at the end"
   ]
  },
  {
   "cell_type": "code",
   "execution_count": null,
   "metadata": {},
   "outputs": [],
   "source": [
    "# count occurences of all elements in a list\n",
    "\n",
    "# method1\n",
    "import random\n",
    "\n",
    "list1 = [random.randint(1, 20) for i in range(20)]\n",
    "count_dict = {}\n",
    "\n",
    "print(f\"list1: {list1}\")\n",
    "\n",
    "for i in list1:\n",
    "    if i in count_dict:\n",
    "        count_dict[i] += 1\n",
    "    else:\n",
    "        count_dict[i] = 1\n",
    "\n",
    "print(\"Count of each element in dictionary format:\")\n",
    "for key, value in count_dict.items():\n",
    "    print(f\"Number {key} occurs {value} times\")\n",
    "    \n",
    "#method2\n",
    "for i in list1:\n",
    "    a=list1.count(i)\n",
    "    \n",
    "    print()\n",
    "    print(f\"usinf simple count function\")\n",
    "    print(f\"\")\n",
    "    \n",
    "    \n",
    "# method 3\n",
    "\n",
    "from collections import Counter\n",
    "\n",
    "list2=[random.randint(40,10) for i in range(10)]\n",
    "print()\n",
    "print(f\"list2::::::::::{ list2}\")\n",
    "\n",
    "# count\n",
    "element_counts = Counter(list2)\n",
    "print(f\"element count ::::: {element_counts}\")\n",
    "# Print the result\n",
    "for element, count in element_counts.items():\n",
    "    print(f\"Element '{element}' occurs {count} time(s) in the list.\")\n"
   ]
  },
  {
   "cell_type": "code",
   "execution_count": null,
   "metadata": {},
   "outputs": [],
   "source": [
    "my_dict = {\n",
    "    \"name\": \"John\",\n",
    "    \"age\": 30,\n",
    "    \"city\": \"New York\"\n",
    "}\n",
    "for i in my_dict:\n",
    "    print(i)"
   ]
  },
  {
   "cell_type": "code",
   "execution_count": null,
   "metadata": {},
   "outputs": [],
   "source": [
    "# list insert method\n",
    "list1_i=[2,3,4,5]\n",
    "list1_i.insert(0,1)\n",
    "print(f\"iserted list {list1_i}\")"
   ]
  },
  {
   "cell_type": "code",
   "execution_count": null,
   "metadata": {},
   "outputs": [],
   "source": [
    "#change list items\n",
    "languages = ['Python', 'Swift', 'C++']\n",
    "\n",
    "# changing the third item to 'C'\n",
    "languages[2] = 'C'\n",
    "#changign first item to java\n",
    "languages[0]=\"java\"\n",
    "\n",
    "print(languages)  # ['Python', 'Swift', 'C']"
   ]
  },
  {
   "cell_type": "code",
   "execution_count": null,
   "metadata": {},
   "outputs": [],
   "source": [
    "# create a random list from a string\n",
    "s=\"prabhat\"\n",
    "s_list=s.split(\",\")\n",
    "print(s_list)\n",
    "joined_list=[' '.join(s_list[0])]\n",
    "print(f\"joinded list {joined_list}\")\n",
    "\n",
    "# join string with #\n",
    "\n",
    "s2='#'.join(s)\n",
    "print(s2)"
   ]
  },
  {
   "cell_type": "code",
   "execution_count": null,
   "metadata": {},
   "outputs": [],
   "source": [
    "# removing items from list\n",
    "#In Python we can use the del statement to remove one or more items from a list. For example,\n",
    "\n",
    "# del\n",
    "languages = ['Python', 'Swift', 'C++', 'C', 'Java', 'Rust', 'R']\n",
    "\n",
    "# deleting the second item\n",
    "del languages[1]\n",
    "print(languages) # ['Python', 'C++', 'C', 'Java', 'Rust', 'R']\n",
    "\n",
    "# deleting the last item\n",
    "del languages[-1]\n",
    "print(languages) # ['Python', 'C++', 'C', 'Java', 'Rust']\n",
    "\n",
    "# delete the first two items\n",
    "del languages[0 : 2]  # ['C', 'Java', 'Rust']\n",
    "del languages[3:4]\n",
    "print(languages)"
   ]
  },
  {
   "cell_type": "code",
   "execution_count": null,
   "metadata": {},
   "outputs": [],
   "source": [
    "# Remove()\n",
    "#We can also use the remove() method to delete a list item. For example,\n",
    "languages = ['Python', 'Swift', 'C++', 'C', 'Java', 'Rust', 'R']\n",
    "\n",
    "# remove 'Python' from the list\n",
    "languages.remove('Python')\n",
    "languages.remove('C++')\n",
    "languages.remove('Java')\n",
    "print(languages) # ['Swift', 'C++', 'C', 'Java', 'Rust', 'R']"
   ]
  },
  {
   "cell_type": "code",
   "execution_count": null,
   "metadata": {},
   "outputs": [],
   "source": [
    "#list comprehension\n",
    "# create a list with value n ** 2 where n is a number from 1 to 5\n",
    "numbers = [n**2 for n in range(1, 6)]\n",
    "\n",
    "print(numbers)    \n",
    "\n",
    "# Output: [1, 4, 9, 16, 25]"
   ]
  },
  {
   "cell_type": "code",
   "execution_count": null,
   "metadata": {},
   "outputs": [],
   "source": [
    "#create cube of numbers from 1 to 5 using list comp\n",
    "dict={n:n**3 for n in range(1,6)}\n",
    "print(dict)"
   ]
  },
  {
   "cell_type": "code",
   "execution_count": null,
   "metadata": {},
   "outputs": [],
   "source": [
    "s=\"prabhat\"\n",
    "join_s=' '.join(s)\n",
    "print(join_s)\n",
    "\n",
    "list_s=[letter for letter in s]\n",
    "print(list_s)"
   ]
  },
  {
   "cell_type": "code",
   "execution_count": null,
   "metadata": {},
   "outputs": [],
   "source": [
    "string=\"human\"\n",
    "# append all letters of human to a list\n",
    "list_h=[]\n",
    "for l in string:\n",
    "    list_h.append(l)\n",
    "print(list_h)\n",
    "    \n",
    "# using list comprehension\n",
    "list_h=[letter for letter in string]\n",
    "print(list_h)"
   ]
  },
  {
   "cell_type": "code",
   "execution_count": null,
   "metadata": {},
   "outputs": [],
   "source": [
    "# pop() method\n",
    "\n",
    "prime_numbers = [2, 3, 5, 7]\n",
    "\n",
    "# remove the element at index 2\n",
    "removed_element = prime_numbers.pop(2)\n",
    "removed_element1 = prime_numbers.pop(-1)\n",
    "\n",
    "print('Removed Element:', removed_element)\n",
    "print('Removed Element1:', removed_element1)\n",
    "\n",
    "print('Updated List:', prime_numbers)\n",
    "\n",
    "# Output: \n",
    "# Removed Element: 5"
   ]
  },
  {
   "cell_type": "code",
   "execution_count": null,
   "metadata": {},
   "outputs": [],
   "source": [
    "# conditionals in list comprehension\n",
    "number_list = [ x for x in range(20) if x % 2 == 0]\n",
    "print(number_list)\n",
    "\n",
    "# odd number\n",
    "odd_nums=[x for x in range(20) if x % 2 !=0]\n",
    "print(odd_nums)"
   ]
  },
  {
   "cell_type": "code",
   "execution_count": null,
   "metadata": {},
   "outputs": [],
   "source": [
    "# nested list comprehension\n",
    "num_list = [y for y in range(100) if y % 2 == 0 if y % 5 == 0]\n",
    "print(num_list)"
   ]
  },
  {
   "cell_type": "code",
   "execution_count": null,
   "metadata": {},
   "outputs": [],
   "source": [
    "# printing some texct\n",
    "string=[\"even\" if i % 2==0 else \"odd\" for i in range(20)]\n",
    "print(string)"
   ]
  },
  {
   "cell_type": "code",
   "execution_count": null,
   "metadata": {},
   "outputs": [],
   "source": [
    "# Python index() function\n",
    "animals = ['cat', 'dog', 'rabbit', 'horse']\n",
    "\n",
    "# get the index of 'dog'\n",
    "try:\n",
    "    \n",
    "    index = animals.index('dog')\n",
    "    index2= animals.index(\"horse\")\n",
    "    index3=animals.index(\"pk\")\n",
    "    #print(index,index2,index3)\n",
    "    \n",
    "except Exception as e:\n",
    "    print(index,index2)\n",
    "    \n",
    "    print(e)"
   ]
  },
  {
   "cell_type": "code",
   "execution_count": null,
   "metadata": {},
   "outputs": [],
   "source": [
    "# alphabets list\n",
    "alphabets = ['a', 'e', 'i', 'o', 'g', 'l', 'i', 'u']\n",
    "\n",
    "# index of 'i' in alphabets\n",
    "index = alphabets.index('e') \n",
    "\n",
    "#print('The index of e:', index)\n",
    "#print('The index of i:',alphabets.index(\"i\"))\n",
    "# 'i' after the 4th index is searched\n",
    "index = alphabets.index('i', 4) \n",
    "\n",
    "#print('The index of i:', index)\n",
    "\n",
    "# 'i' between 3rd and 5th index is searched\n",
    "index = alphabets.index('i', 0, 7)\n",
    "\n",
    "print('The index of i:', index)"
   ]
  },
  {
   "cell_type": "code",
   "execution_count": null,
   "metadata": {},
   "outputs": [],
   "source": [
    "# sort method\n",
    "prime_numbers = [11, 3, 7, 5, 2]\n",
    "\n",
    "# sorting the list in ascending order\n",
    "prime_numbers.sort()\n",
    "\n",
    "print(prime_numbers)"
   ]
  },
  {
   "cell_type": "markdown",
   "metadata": {},
   "source": [
    "#sort() :changes the list directly and doesn't return any value\n",
    "#while sorted() :doesn't change the list and returns the sorted list."
   ]
  },
  {
   "cell_type": "code",
   "execution_count": null,
   "metadata": {},
   "outputs": [],
   "source": [
    "# vowels list\n",
    "vowels = ['e', 'a', 'u', 'o', 'i']\n",
    "\n",
    "# sort the vowels\n",
    "vowels.sort()\n",
    "a=sorted(vowels,reverse=True)\n",
    "# print vowels\n",
    "print('Sorted list:', vowels)\n",
    "# sort method does not return any value ,it ony sort the list\n",
    "\n",
    "#where as sprted return a value with sorted"
   ]
  },
  {
   "cell_type": "code",
   "execution_count": null,
   "metadata": {},
   "outputs": [],
   "source": [
    "l_list1 = [42, 3.14, -7, 0, 1001, 2.71828]\n",
    "#l_list.sort(reverse=True) # sort in descending order\n",
    "print(l_list1)\n",
    "\n",
    "# using sorted\n",
    "sorted(l_list1)"
   ]
  },
  {
   "cell_type": "code",
   "execution_count": null,
   "metadata": {},
   "outputs": [],
   "source": [
    "# take second element for sort\n",
    "def takeSecond(elem):\n",
    "    return elem[1]\n",
    "\n",
    "# random list\n",
    "random = [(2, 2), (3, 4), (4, 1), (1, 3)]\n",
    "\n",
    "# sort list with key\n",
    "#random.sort(key=takeSecond)\n",
    "r=sorted(random,key=takeSecond)\n",
    "# print list\n",
    "print('Sorted list:', random)"
   ]
  },
  {
   "cell_type": "code",
   "execution_count": null,
   "metadata": {},
   "outputs": [],
   "source": [
    "#python count() method\n",
    "# create a list\n",
    "numbers = [2, 3, 5, 2, 11, 2, 7]\n",
    "\n",
    "# check the count of 2\n",
    "count = numbers.count(11)\n",
    "\n",
    "\n",
    "print('Count of 2:', count)"
   ]
  },
  {
   "cell_type": "code",
   "execution_count": null,
   "metadata": {},
   "outputs": [],
   "source": [
    "# Generate a random list of integers\n",
    "#random_list = [random.randint(1, 100) for _ in range(10)]\n",
    "import random\n",
    "random_list = [random.randint(1, 100) for i in range(20)]\n",
    "random_list1=[random.randint(200,300) for i in range(20)]\n",
    "# Print the random list\n",
    "print(random_list)\n",
    "print(random_list1)"
   ]
  },
  {
   "cell_type": "code",
   "execution_count": null,
   "metadata": {},
   "outputs": [],
   "source": [
    "# lambda functions\n",
    "#syntax\n",
    "#lambda argument(s) : \"expression\"\n",
    "# declare a lambda function\n",
    "greet = lambda : print('Hello World')\n",
    "\n",
    "# call lambda function\n",
    "greet()"
   ]
  },
  {
   "cell_type": "code",
   "execution_count": null,
   "metadata": {},
   "outputs": [],
   "source": [
    "# sorted function\n",
    "import random\n",
    "# vowels list\n",
    "py_list = ['e', 'a', 'u', 'o', 'i']\n",
    "\n",
    "# random integers\n",
    "random_list2=[random.randint(1,20) for i in range(10)]\n",
    "sorted_int = sorted(random_list2)\n",
    "sorted_int_des = sorted(random_list2,reverse=True)\n",
    "print(f\"random int sorted >>>>>>>>>>>>>>>>{sorted_int}\")\n",
    "print(f\"random int sorted descending ordr >>>>>>>>>>>>>>>>{sorted_int_des}\")\n",
    "print(sorted(py_list))\n",
    "s=sorted(py_list)\n",
    "print(f\"sorted return values>>>>>>>>>>>>>>>>>>>{s}\")\n",
    "\n",
    "\n",
    "# string\n",
    "py_string = 'Prabhat'\n",
    "print(f\"sorted string of my name >>>>>>>>>>> {sorted(py_string)}\")\n",
    "\n",
    "# vowels tuple\n",
    "py_tuple = ('e', 'a', 'u', 'o', 'i')\n",
    "print(sorted(py_tuple))\n",
    "\n",
    "\n",
    "# set\n",
    "py_set = {'e', 'a', 'u', 'o', 'i'}\n",
    "print(sorted(py_set, reverse=True))\n",
    "\n",
    "# dictionary\n",
    "py_dict = {'e': 1, 'a': 2, 'u': 3, 'o': 4, 'i': 5}\n",
    "print(f\"sorted dictionary>>>>>>>>> {sorted(py_dict, reverse=True)}\")\n",
    "\n",
    "# frozen set\n",
    "frozen_set = frozenset(('e', 'a', 'u', 'o', 'i'))\n",
    "print(f\"frozen set>>>>>>>>>>>>>>>>> {sorted(frozen_set, reverse=True)}\")\n",
    "\n",
    "\n",
    "\n",
    "\n",
    "#key function insorted\n",
    "\n",
    "\n",
    "# take the second element for sort\n",
    "def take_second(elem):\n",
    "    return elem[1]\n",
    "\n",
    "\n",
    "# random list\n",
    "random = [(2, 2), (3, 4), (4, 1), (1, 3)]\n",
    "\n",
    "# sort list with key\n",
    "sorted_list = sorted(random, key=take_second)\n",
    "\n",
    "# print list\n",
    "print('Sorted list:', sorted_list)\n",
    "\n",
    "\n",
    "# Nested list of student's info in a Science Olympiad\n",
    "# List elements: (Student's Name, Marks out of 100 , Age)\n",
    "participant_list = [\n",
    "    ('Alison', 50, 18),\n",
    "    ('Terence', 75, 12),\n",
    "    ('David', 75, 20),\n",
    "    ('Jimmy', 90, 22),\n",
    "    ('John', 45, 12)\n",
    "]\n",
    "\n",
    "\n",
    "def sorter(item):\n",
    "    # Since highest marks first, least error = most marks\n",
    "    error = 100 - item[1]\n",
    "    age = item[2]\n",
    "    return (error, age)\n",
    "\n",
    "\n",
    "sorted_list = sorted(participant_list, key=sorter)\n",
    "print(sorted_list)"
   ]
  },
  {
   "cell_type": "code",
   "execution_count": null,
   "metadata": {},
   "outputs": [],
   "source": [
    "s=['0-1']\n",
    "s=str(s)\n",
    "len(s)\n",
    "print(s)"
   ]
  },
  {
   "cell_type": "code",
   "execution_count": null,
   "metadata": {},
   "outputs": [],
   "source": [
    "s = ['0-1']\n",
    "string=str(s)\n",
    "string"
   ]
  },
  {
   "cell_type": "code",
   "execution_count": null,
   "metadata": {},
   "outputs": [],
   "source": [
    "# list reverse method()\n",
    "# create a random list of  5 ingtegers\n",
    "import random\n",
    "ran_list=[random.randint(1,20) for i in range(20)]\n",
    "# copying a list\n",
    "\n",
    "ran_list1=ran_list.copy()\n",
    "print(ran_list)\n",
    "print(ran_list1)"
   ]
  },
  {
   "cell_type": "code",
   "execution_count": null,
   "metadata": {},
   "outputs": [],
   "source": [
    "# deep copy vs shallow copy\n",
    "old_list = [[1, 2, 3], [4, 5, 6], [7, 8, 'a']]\n",
    "new_list = old_list\n",
    "\n",
    "new_list[2][2] = 9\n",
    "\n",
    "print('Old List:', old_list)\n",
    "print('ID of Old List:', id(old_list))\n",
    "\n",
    "print('New List:', new_list)\n",
    "print('ID of New List:', id(new_list))\n",
    "\n",
    "new_list[2][1] = 3\n",
    "print('New List change:', new_list)\n",
    "\n",
    "print('Old List change:', old_list)"
   ]
  },
  {
   "cell_type": "code",
   "execution_count": null,
   "metadata": {},
   "outputs": [],
   "source": [
    "# shallow copy\n",
    "import copy\n",
    "\n",
    "old_list = [[1, 2, 3], [4, 5, 6], [7, 8, 9]]\n",
    "new_list = copy.copy(old_list)\n",
    "\n",
    "print(\"Old list:\", old_list)\n",
    "print(\"id old list\",id(old_list))\n",
    "print(\"New list:\", new_list)\n",
    "print(\"id new list\",id(new_list))"
   ]
  },
  {
   "cell_type": "code",
   "execution_count": null,
   "metadata": {},
   "outputs": [],
   "source": [
    "# deep copy\n",
    "## Modifying the deep copied list does not affect the original list\n",
    "\n",
    "import copy\n",
    "\n",
    "old_list = [[1, 1, 1], [2, 2, 2], [3, 3, 3]]\n",
    "new_list = copy.deepcopy(old_list)\n",
    "\n",
    "print(\"Old list:\", old_list)\n",
    "print(\"id old list\",id(old_list))\n",
    "\n",
    "print(\"New list:\", new_list)\n",
    "print(\"id old list\",id(new_list))"
   ]
  },
  {
   "cell_type": "code",
   "execution_count": null,
   "metadata": {},
   "outputs": [],
   "source": [
    "# python list reverse()\n",
    "import random\n",
    "\n",
    "orig_list=[random.randint(1,20) for i in range(10)]\n",
    "print(f\"original list>>>>>>>>> {orig_list}\")\n",
    "#rev_list= orig_list.reverse()\n",
    "orig_list.reverse()\n",
    "print(f\"reversed list>>>>>>> {orig_list}\")"
   ]
  },
  {
   "cell_type": "code",
   "execution_count": null,
   "metadata": {},
   "outputs": [],
   "source": [
    "# Operating System List\n",
    "systems = ['Windows', 'macOS', 'Linux']\n",
    "print('Original List:', systems)\n",
    "\n",
    "# List Reverse\n",
    "systems.reverse()\n",
    "\n",
    "\n",
    "# updated list\n",
    "print('Updated List:', systems)"
   ]
  },
  {
   "cell_type": "code",
   "execution_count": null,
   "metadata": {},
   "outputs": [],
   "source": [
    "# Reverse list usin slicer\n",
    "# Operating System List\n",
    "systems = ['Windows', 'macOS', 'Linux']\n",
    "print('Original List:', systems)\n",
    "\n",
    "# Reversing a list\t\n",
    "# Syntax: reversed_list = systems[start:stop:step] \n",
    "reversed_list = systems[::-1]\n",
    "\n",
    "\n",
    "# updated list\n",
    "print('Updated List:', reversed_list)"
   ]
  },
  {
   "cell_type": "code",
   "execution_count": null,
   "metadata": {},
   "outputs": [],
   "source": [
    "name=\"prabhat kumar\"\n",
    "rev_name=name[::-1]\n",
    "rev_name"
   ]
  },
  {
   "cell_type": "code",
   "execution_count": null,
   "metadata": {},
   "outputs": [],
   "source": [
    "name1=\"kumar\"\n",
    "name1=reversed(name1)\n",
    "print(name1)"
   ]
  },
  {
   "cell_type": "code",
   "execution_count": null,
   "metadata": {},
   "outputs": [],
   "source": [
    "original_list = [1, 2, 3, 4, 5]\n",
    "\n",
    "# Using reversed() function\n",
    "reversed_iterator = reversed(original_list)\n",
    "\n",
    "# Converting the iterator to a list\n",
    "reversed_list = list(reversed_iterator)\n",
    "\n",
    "print(\"Original List:\", original_list)\n",
    "print(\"Reversed List:\", reversed_list)"
   ]
  },
  {
   "cell_type": "code",
   "execution_count": null,
   "metadata": {},
   "outputs": [],
   "source": [
    "original_list11 = [1, 2, 3, 4, 5]\n",
    "original_list11.reverse()\n",
    "original_list11"
   ]
  },
  {
   "cell_type": "markdown",
   "metadata": {},
   "source": []
  },
  {
   "cell_type": "code",
   "execution_count": null,
   "metadata": {},
   "outputs": [],
   "source": [
    "my_list = [1, 2, 3, 4, 5]\n",
    "del my_list[2]  # Removes the element at index 2 (3)\n",
    "print(my_list) "
   ]
  },
  {
   "cell_type": "code",
   "execution_count": null,
   "metadata": {},
   "outputs": [],
   "source": [
    "my_list = [1, 2, 3, 4, 5]\n",
    "popped_value = my_list.pop(0)  # Removes and returns the last element (5)\n",
    "print(my_list)                # Output: [1, 2, 3, 4]\n",
    "print(\"Popped value:\", popped_value)  # Output: Popped value: 5"
   ]
  },
  {
   "cell_type": "code",
   "execution_count": 6,
   "metadata": {},
   "outputs": [
    {
     "name": "stdout",
     "output_type": "stream",
     "text": [
      "012345678910111213141516171819"
     ]
    }
   ],
   "source": [
    "for i in range(20):\n",
    "    print(i,end=\"\")"
   ]
  },
  {
   "cell_type": "code",
   "execution_count": 19,
   "metadata": {},
   "outputs": [
    {
     "data": {
      "text/plain": [
       "1"
      ]
     },
     "execution_count": 19,
     "metadata": {},
     "output_type": "execute_result"
    }
   ],
   "source": [
    "email1 = \"example@example.com\"\n",
    "email1.count('@')"
   ]
  },
  {
   "cell_type": "code",
   "execution_count": null,
   "metadata": {},
   "outputs": [],
   "source": [
    "# Example of a do-while loop in Python\n",
    "def do_while_example():\n",
    "    # Initialize a counter\n",
    "    count = 0\n",
    "    \n",
    "    # Start a do-while loop\n",
    "    while True:\n",
    "        # Increment the counter\n",
    "        count += 1\n",
    "        \n",
    "        # Print the value of the counter\n",
    "        print(\"Count:\", count)\n",
    "        \n",
    "        # Check if the counter has reached a certain threshold\n",
    "        if count >= 5:\n",
    "            break  # Exit the loop if the condition is met\n",
    "\n",
    "# Call the function\n",
    "do_while_example()\n"
   ]
  },
  {
   "cell_type": "code",
   "execution_count": 21,
   "metadata": {},
   "outputs": [
    {
     "name": "stdout",
     "output_type": "stream",
     "text": [
      "Valid Email\n",
      "Valid Email\n",
      "Invalid Email\n"
     ]
    }
   ],
   "source": [
    "import re\n",
    "\n",
    "# Define a function for\n",
    "# for validating an Email\n",
    "def check(s):\n",
    "\tpat = r'\\b[A-Za-z0-9._%+-]+@[A-Za-z0-9.-]+\\.[A-Z|a-z]{2,7}\\b'\n",
    "\tif re.match(pat,s):\n",
    "\t\tprint(\"Valid Email\")\n",
    "\telse:\n",
    "\t\tprint(\"Invalid Email\")\n",
    "\n",
    "# Driver Code\n",
    "if __name__ == '__main__':\n",
    "\n",
    "\t# Enter the email\n",
    "\temail = \"ankitrai326@gmail.com\"\n",
    "\n",
    "\t# calling run function\n",
    "\tcheck(email)\n",
    "\n",
    "\temail = \"my.ownsite@our-earth.org\"\n",
    "\tcheck(email)\n",
    "\n",
    "\temail = \"ankitrai326.com\"\n",
    "\tcheck(email)\n"
   ]
  },
  {
   "cell_type": "code",
   "execution_count": null,
   "metadata": {},
   "outputs": [],
   "source": [
    "https://www.geeksforgeeks.org/python-regex-re-search-vs-re-findall/"
   ]
  }
 ],
 "metadata": {
  "kernelspec": {
   "display_name": "Python 3",
   "language": "python",
   "name": "python3"
  },
  "language_info": {
   "codemirror_mode": {
    "name": "ipython",
    "version": 3
   },
   "file_extension": ".py",
   "mimetype": "text/x-python",
   "name": "python",
   "nbconvert_exporter": "python",
   "pygments_lexer": "ipython3",
   "version": "3.8.10"
  }
 },
 "nbformat": 4,
 "nbformat_minor": 2
}
