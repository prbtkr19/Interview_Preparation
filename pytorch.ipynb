{
 "cells": [
  {
   "cell_type": "markdown",
   "metadata": {},
   "source": [
    "# what is pytorch"
   ]
  },
  {
   "cell_type": "code",
   "execution_count": null,
   "metadata": {},
   "outputs": [],
   "source": [
    "# open-source machine learning library for python\n",
    "# deep learning framework developed by faacebook"
   ]
  },
  {
   "cell_type": "markdown",
   "metadata": {},
   "source": []
  },
  {
   "cell_type": "markdown",
   "metadata": {},
   "source": [
    "# Tensor\n",
    "\n",
    "## a tensor is treated as generalized matrix, which could be 1D tensor,2D tensor or #D tensor"
   ]
  },
  {
   "cell_type": "markdown",
   "metadata": {},
   "source": [
    "# Are tensor and matrix the same?\n",
    "\n",
    "\n",
    "We can't say that tensor and matrix are the same. Tensor has some properties through which we can say both have some similarities such as we can perform all the mathematical operation of the matrix in tensor.\n",
    "\n",
    " If we transform the other entities in the structure in a regular way, then the tensor will obey a related transformation rule. This dynamical property of tensor makes it different from the matrix."
   ]
  },
  {
   "cell_type": "markdown",
   "metadata": {},
   "source": [
    "# The torch.from_numpy() :\n",
    "\n",
    "It is used to create a tensor from numpy.ndarray. The ndarray and return tensor share the same memory. If we do any changes in the returned tensor, then it will reflect the ndaaray also."
   ]
  },
  {
   "cell_type": "markdown",
   "metadata": {},
   "source": [
    "# variable and autograd variable\n",
    "\n",
    "Variable is a package which is used to wrap a tensor\n",
    "\n",
    "The torch.autograd provides classes and functions for implementing automatic differentiation of arbitrary scalar-valued functions."
   ]
  },
  {
   "cell_type": "markdown",
   "metadata": {},
   "source": [
    "# 8How do we find the derivatives of the function in PyTorch?\n",
    "\n",
    "The derivatives of the function are calculated with the help of the Gradient. \n"
   ]
  },
  {
   "cell_type": "markdown",
   "metadata": {},
   "source": [
    "# 12 Give any one difference between torch.nn and torch.nn.functional?\n",
    "\n",
    "torch.nn provide us many more classes and modules to implement and train the neural network.\n",
    "\n",
    "\n",
    "torch.nn.functional contains some useful function like activation function and convolution operation, which we can use. \n",
    "\n",
    "\n"
   ]
  },
  {
   "cell_type": "markdown",
   "metadata": {},
   "source": [
    "# What are the advantages of PyTorch?\n",
    "\n",
    "\n",
    "- PyTorch is very easy to debug.\n",
    "- It is a dynamic approach for graph computation.\n",
    "- It is very fast deep learning training than TensorFlow.\n",
    "- It increased developer productivity.\n",
    "- It is very easy to learn and simpler to code.- \n"
   ]
  },
  {
   "cell_type": "markdown",
   "metadata": {},
   "source": [
    "# difference between pytorch and tensorflow\n",
    "\n",
    "# Pytorch\n",
    "- It provides a lower level of APIs.\n",
    "- Its speed is fast\n",
    "- Graph construction is very simple in PyTorch.\n",
    "- It includes deployment highlight for mobile and embedded frameworks.\n",
    "\n",
    "# Tensorflow\n",
    "-t provides both high and low level of APIs\n",
    "- Its speed is slow.\n",
    "- Graph construction is not simple in PyTorch.\n",
    "- It works better for embedded frameworks."
   ]
  },
  {
   "cell_type": "markdown",
   "metadata": {},
   "source": [
    "#  What is Autograd module in PyTorch?\n",
    "\n",
    "- It is an automatic differentiation technique which is used in PyTorch.\n",
    "\n",
    "- It is more powerful when we are building a neural network. \n",
    "- There is a recorder which records each operation which we have performed, and then it replays it backs to compute our gradient.\n",
    "\n"
   ]
  },
  {
   "cell_type": "markdown",
   "metadata": {},
   "source": [
    "#  What is the optim module in PyTorch?\n",
    "\n",
    "\n",
    "- implements various optimization algorithm which is used for building neural networks.\n"
   ]
  },
  {
   "cell_type": "markdown",
   "metadata": {},
   "source": [
    "#  What is nn module in PyTorch?\n",
    "\n",
    "- help us in creating and training of the neural network. \n"
   ]
  },
  {
   "cell_type": "markdown",
   "metadata": {},
   "source": []
  },
  {
   "cell_type": "markdown",
   "metadata": {},
   "source": []
  },
  {
   "cell_type": "markdown",
   "metadata": {},
   "source": []
  },
  {
   "cell_type": "markdown",
   "metadata": {},
   "source": []
  },
  {
   "cell_type": "markdown",
   "metadata": {},
   "source": []
  },
  {
   "cell_type": "markdown",
   "metadata": {},
   "source": []
  },
  {
   "cell_type": "markdown",
   "metadata": {},
   "source": []
  },
  {
   "cell_type": "markdown",
   "metadata": {},
   "source": []
  },
  {
   "cell_type": "markdown",
   "metadata": {},
   "source": []
  },
  {
   "cell_type": "markdown",
   "metadata": {},
   "source": []
  },
  {
   "cell_type": "markdown",
   "metadata": {},
   "source": []
  },
  {
   "cell_type": "markdown",
   "metadata": {},
   "source": []
  },
  {
   "cell_type": "markdown",
   "metadata": {},
   "source": []
  },
  {
   "cell_type": "markdown",
   "metadata": {},
   "source": []
  },
  {
   "cell_type": "markdown",
   "metadata": {},
   "source": []
  },
  {
   "cell_type": "markdown",
   "metadata": {},
   "source": []
  }
 ],
 "metadata": {
  "kernelspec": {
   "display_name": "Python 3",
   "language": "python",
   "name": "python3"
  },
  "language_info": {
   "name": "python",
   "version": "3.8.10"
  }
 },
 "nbformat": 4,
 "nbformat_minor": 2
}
