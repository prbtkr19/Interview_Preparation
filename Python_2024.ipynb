{
 "cells": [
  {
   "cell_type": "code",
   "execution_count": null,
   "metadata": {},
   "outputs": [],
   "source": [
    "#syntax\n",
    "#assert experession , message"
   ]
  },
  {
   "cell_type": "code",
   "execution_count": null,
   "metadata": {},
   "outputs": [],
   "source": [
    "# assert keyword\n",
    "# used for debugging purpose \n",
    "#it test a condition and return true if conditon matches else\n",
    "\n",
    "x= 10\n",
    "assert x>0 ,\"condition true\"\n",
    "\n",
    "def iseven(n):\n",
    "    assert n%2==0,\"not even\"\n",
    "    \n",
    "iseven(2)\n",
    "iseven(3)\n",
    "        "
   ]
  },
  {
   "cell_type": "code",
   "execution_count": null,
   "metadata": {},
   "outputs": [],
   "source": [
    "x=1\n",
    "assert x % 2==0, \"even\""
   ]
  },
  {
   "cell_type": "code",
   "execution_count": null,
   "metadata": {},
   "outputs": [],
   "source": [
    "#python queue\n",
    "#queue module provides the Queue class, which implements  first-in, first-out (FIFO) data structure.\n",
    "#This is often used for thread-safe communication between different parts of a program.\n",
    "import queue\n",
    "\n",
    "# Create a new queue\n",
    "my_queue = queue.Queue()\n",
    "# Enqueue (put) elements into the queue\n",
    "my_queue.put(1)\n",
    "my_queue.put(2)\n",
    "my_queue.put(3)\n",
    "print(f\"queue after inserting elements {my_queue}\")\n",
    "# Dequeue (get) elements from the queue\n",
    "item = my_queue.get()\n",
    "print(item) \n",
    "\n",
    "item = my_queue.get()\n",
    "print(item) \n",
    "\n",
    "item = my_queue.get()\n",
    "print(item)  "
   ]
  },
  {
   "cell_type": "code",
   "execution_count": null,
   "metadata": {},
   "outputs": [],
   "source": [
    "import queue\n",
    "myqueue = queue.Queue()\n",
    "\n",
    "# inserting elements in queue\n",
    "my_queue.put(3)\n",
    "my_queue.put(5)\n",
    "\n",
    "print(my_queue)\n",
    "# getting queue elements\n",
    "\n",
    "my_queue.get()"
   ]
  },
  {
   "cell_type": "code",
   "execution_count": null,
   "metadata": {},
   "outputs": [],
   "source": [
    "# List slicing in Python\n",
    "\n",
    "my_list = ['p','r','o','g','r','a','m','i','z']\n",
    "\n",
    "# items from index 2 to index 4\n",
    "print(my_list[2:5])\n",
    "\n",
    "# items from index 5 to end\n",
    "print(my_list[5:])\n",
    "\n",
    "# items beginning to end\n",
    "print(my_list[0:len(my_list)])\n",
    "#or\n",
    "print(my_list[:])\n",
    "# last elemnent of list\n",
    "print([-1])\n",
    "\n",
    "# reverse a list\n",
    "print(f\"reversed list : {my_list[::-1]}\")"
   ]
  },
  {
   "cell_type": "code",
   "execution_count": null,
   "metadata": {},
   "outputs": [],
   "source": [
    "# adding elements to list\n",
    "#1 using Append method\n",
    "list1=[1,2,3,4,5]\n",
    "list2=[3,4]\n",
    "tup1=(3,4,5)\n",
    "dict={\"A\":1,\"B\":2}\n",
    "list1.append(list2)\n",
    "print(f\"appended list{list1}\")\n",
    "numbers = [1, 3, 5]\n",
    "\n",
    "\n",
    "#2 using extend method\n",
    "list1.extend(tup1)\n",
    "list1.extend(dict)\n",
    "string=\"prabhat\"\n",
    "list1.extend(string)\n",
    "print(f\"extended tuple {list1}\")\n",
    "print(f\"extended list {list1}\")\n",
    "even_numbers = [4, 6, 8]\n",
    "\n",
    "# add elements of even_numbers to the numbers list\n",
    "numbers.extend(even_numbers)\n",
    "\n",
    "print(\"List after append:\", numbers) "
   ]
  },
  {
   "cell_type": "code",
   "execution_count": null,
   "metadata": {},
   "outputs": [],
   "source": [
    "# extend\n",
    "list1= [1,2,3]\n",
    "dict={\"A\":1,\"B\":2}\n",
    "list1.extend(dict)\n",
    "print(list1)"
   ]
  },
  {
   "cell_type": "code",
   "execution_count": null,
   "metadata": {},
   "outputs": [],
   "source": [
    "#major difference between append and extend is that extend append all the items of \n",
    "#iterable to a list at the end"
   ]
  },
  {
   "cell_type": "code",
   "execution_count": null,
   "metadata": {},
   "outputs": [],
   "source": [
    "########## revise done till here ####################"
   ]
  },
  {
   "cell_type": "code",
   "execution_count": null,
   "metadata": {},
   "outputs": [],
   "source": [
    "# count occurences of all elements in a list\n",
    "\n",
    "# method1\n",
    "import random\n",
    "\n",
    "list1 = [random.randint(1, 20) for i in range(20)]\n",
    "count_dict = {}\n",
    "\n",
    "print(f\"list1: {list1}\")\n",
    "\n",
    "for i in list1:\n",
    "    if i in count_dict:\n",
    "        count_dict[i] += 1\n",
    "    else:\n",
    "        count_dict[i] = 1\n",
    "\n",
    "print(\"Count of each element in dictionary format:\")\n",
    "for key, value in count_dict.items():\n",
    "    print(f\"Number {key} occurs {value} times\")\n",
    "    \n",
    "#method2\n",
    "for i in list1:\n",
    "    a=list1.count(i)\n",
    "    \n",
    "    print()\n",
    "    print(f\"usinf simple count function\")\n",
    "    print(f\"\")\n",
    "    \n",
    "    \n",
    "# method 3\n",
    "\n",
    "from collections import Counter\n",
    "\n",
    "list2=[random.randint(40,10) for i in range(10)]\n",
    "print()\n",
    "print(f\"list2::::::::::{ list2}\")\n",
    "\n",
    "# count\n",
    "element_counts = Counter(list2)\n",
    "print(f\"element count ::::: {element_counts}\")\n",
    "# Print the result\n",
    "for element, count in element_counts.items():\n",
    "    print(f\"Element '{element}' occurs {count} time(s) in the list.\")\n"
   ]
  },
  {
   "cell_type": "code",
   "execution_count": null,
   "metadata": {},
   "outputs": [],
   "source": [
    "my_dict = {\n",
    "    \"name\": \"John\",\n",
    "    \"age\": 30,\n",
    "    \"city\": \"New York\"\n",
    "}\n",
    "for i in my_dict:\n",
    "    print(i)"
   ]
  },
  {
   "cell_type": "code",
   "execution_count": null,
   "metadata": {},
   "outputs": [],
   "source": [
    "# list insert method\n",
    "list1_i=[2,3,4,5]\n",
    "list1_i.insert(0,1)\n",
    "print(f\"iserted list {list1_i}\")"
   ]
  },
  {
   "cell_type": "code",
   "execution_count": null,
   "metadata": {},
   "outputs": [],
   "source": [
    "#change list items\n",
    "languages = ['Python', 'Swift', 'C++']\n",
    "\n",
    "# changing the third item to 'C'\n",
    "languages[2] = 'C'\n",
    "#changign first item to java\n",
    "languages[0]=\"java\"\n",
    "\n",
    "print(languages)  # ['Python', 'Swift', 'C']"
   ]
  },
  {
   "cell_type": "code",
   "execution_count": null,
   "metadata": {},
   "outputs": [],
   "source": [
    "# create a random list from a string\n",
    "s=\"prabhat\"\n",
    "s_list=s.split(\",\")\n",
    "print(s_list)\n",
    "joined_list=[' '.join(s_list[0])]\n",
    "print(f\"joinded list {joined_list}\")\n",
    "\n",
    "# join string with #\n",
    "\n",
    "s2='#'.join(s)\n",
    "print(s2)"
   ]
  },
  {
   "cell_type": "code",
   "execution_count": null,
   "metadata": {},
   "outputs": [],
   "source": [
    "# removing items from list\n",
    "#In Python we can use the del statement to remove one or more items from a list. For example,\n",
    "\n",
    "# del\n",
    "languages = ['Python', 'Swift', 'C++', 'C', 'Java', 'Rust', 'R']\n",
    "\n",
    "# deleting the second item\n",
    "del languages[1]\n",
    "print(languages) # ['Python', 'C++', 'C', 'Java', 'Rust', 'R']\n",
    "\n",
    "# deleting the last item\n",
    "del languages[-1]\n",
    "print(languages) # ['Python', 'C++', 'C', 'Java', 'Rust']\n",
    "\n",
    "# delete the first two items\n",
    "del languages[0 : 2]  # ['C', 'Java', 'Rust']\n",
    "del languages[3:4]\n",
    "print(languages)\n"
   ]
  },
  {
   "cell_type": "code",
   "execution_count": null,
   "metadata": {},
   "outputs": [],
   "source": [
    "# Remove()\n",
    "#We can also use the remove() method to delete a list item. For example,\n",
    "languages = ['Python', 'Swift', 'C++', 'C', 'Java', 'Rust', 'R']\n",
    "\n",
    "# remove 'Python' from the list\n",
    "languages.remove('Python')\n",
    "languages.remove('C++')\n",
    "languages.remove('Java')\n",
    "print(languages) # ['Swift', 'C++', 'C', 'Java', 'Rust', 'R']"
   ]
  },
  {
   "cell_type": "code",
   "execution_count": null,
   "metadata": {},
   "outputs": [],
   "source": [
    "#list comprehension\n",
    "# create a list with value n ** 2 where n is a number from 1 to 5\n",
    "numbers = [n**2 for n in range(1, 6)]\n",
    "\n",
    "print(numbers)    \n",
    "\n",
    "# Output: [1, 4, 9, 16, 25]\n",
    "\n"
   ]
  },
  {
   "cell_type": "code",
   "execution_count": null,
   "metadata": {},
   "outputs": [],
   "source": [
    "#create cube of numbers from 1 to 5 using list comp\n",
    "dict={n:n**3 for n in range(1,6)}\n",
    "print(dict)"
   ]
  },
  {
   "cell_type": "code",
   "execution_count": null,
   "metadata": {},
   "outputs": [],
   "source": [
    "s=\"prabhat\"\n",
    "join_s=' '.join(s)\n",
    "print(join_s)\n",
    "\n",
    "list_s=[letter for letter in s]\n",
    "print(list_s)"
   ]
  },
  {
   "cell_type": "code",
   "execution_count": null,
   "metadata": {},
   "outputs": [],
   "source": [
    "string=\"human\"\n",
    "# append all letters of human to a list\n",
    "list_h=[]\n",
    "for l in string:\n",
    "    list_h.append(l)\n",
    "print(list_h)\n",
    "    \n",
    "# using list comprehension\n",
    "list_h=[letter for letter in string]\n",
    "print(list_h)"
   ]
  },
  {
   "cell_type": "code",
   "execution_count": null,
   "metadata": {},
   "outputs": [],
   "source": [
    "# pop() method\n",
    "\n",
    "prime_numbers = [2, 3, 5, 7]\n",
    "\n",
    "# remove the element at index 2\n",
    "removed_element = prime_numbers.pop(2)\n",
    "removed_element1 = prime_numbers.pop(-1)\n",
    "\n",
    "print('Removed Element:', removed_element)\n",
    "print('Removed Element1:', removed_element1)\n",
    "\n",
    "print('Updated List:', prime_numbers)\n",
    "\n",
    "# Output: \n",
    "# Removed Element: 5\n",
    "# Updated List: [2, 3, 7]"
   ]
  },
  {
   "cell_type": "code",
   "execution_count": null,
   "metadata": {},
   "outputs": [],
   "source": [
    "# conditionals in list comprehension\n",
    "number_list = [ x for x in range(20) if x % 2 == 0]\n",
    "print(number_list)\n",
    "\n",
    "# odd number\n",
    "odd_nums=[x for x in range(20) if x % 2 !=0]\n",
    "print(odd_nums)"
   ]
  },
  {
   "cell_type": "code",
   "execution_count": null,
   "metadata": {},
   "outputs": [],
   "source": [
    "# nested list comprehension\n",
    "num_list = [y for y in range(100) if y % 2 == 0 if y % 5 == 0]\n",
    "print(num_list)"
   ]
  },
  {
   "cell_type": "code",
   "execution_count": null,
   "metadata": {},
   "outputs": [],
   "source": [
    "# printing some texct\n",
    "string=[\"even\" if i % 2==0 else \"odd\" for i in range(20)]\n",
    "print(string)"
   ]
  },
  {
   "cell_type": "code",
   "execution_count": null,
   "metadata": {},
   "outputs": [],
   "source": [
    "# Python index() function\n",
    "animals = ['cat', 'dog', 'rabbit', 'horse']\n",
    "\n",
    "# get the index of 'dog'\n",
    "try:\n",
    "    \n",
    "    index = animals.index('dog')\n",
    "    index2= animals.index(\"horse\")\n",
    "    index3=animals.index(\"pk\")\n",
    "    #print(index,index2,index3)\n",
    "    \n",
    "except Exception as e:\n",
    "    print(index,index2)\n",
    "    \n",
    "    print(e)\n"
   ]
  },
  {
   "cell_type": "code",
   "execution_count": null,
   "metadata": {},
   "outputs": [],
   "source": [
    "# alphabets list\n",
    "alphabets = ['a', 'e', 'i', 'o', 'g', 'l', 'i', 'u']\n",
    "\n",
    "# index of 'i' in alphabets\n",
    "index = alphabets.index('e') \n",
    "\n",
    "#print('The index of e:', index)\n",
    "#print('The index of i:',alphabets.index(\"i\"))\n",
    "# 'i' after the 4th index is searched\n",
    "index = alphabets.index('i', 4) \n",
    "\n",
    "#print('The index of i:', index)\n",
    "\n",
    "# 'i' between 3rd and 5th index is searched\n",
    "index = alphabets.index('i', 0, 7)\n",
    "\n",
    "print('The index of i:', index)"
   ]
  },
  {
   "cell_type": "code",
   "execution_count": null,
   "metadata": {},
   "outputs": [],
   "source": [
    "# sort method\n",
    "prime_numbers = [11, 3, 7, 5, 2]\n",
    "\n",
    "# sorting the list in ascending order\n",
    "prime_numbers.sort()\n",
    "\n",
    "print(prime_numbers)\n"
   ]
  },
  {
   "cell_type": "code",
   "execution_count": null,
   "metadata": {},
   "outputs": [],
   "source": [
    "#sort() :changes the list directly and doesn't return any value\n",
    "#while sorted() :doesn't change the list and returns the sorted list."
   ]
  },
  {
   "cell_type": "code",
   "execution_count": null,
   "metadata": {},
   "outputs": [],
   "source": [
    "# vowels list\n",
    "vowels = ['e', 'a', 'u', 'o', 'i']\n",
    "\n",
    "# sort the vowels\n",
    "vowels.sort()\n",
    "a=sorted(vowels,reverse=True)\n",
    "# print vowels\n",
    "print('Sorted list:', vowels)\n",
    "# sort method does not return any value ,it ony sort the list\n",
    "\n",
    "#where as sprted return a value with sorted "
   ]
  },
  {
   "cell_type": "code",
   "execution_count": null,
   "metadata": {},
   "outputs": [],
   "source": [
    "l_list1 = [42, 3.14, -7, 0, 1001, 2.71828]\n",
    "#l_list.sort(reverse=True) # sort in descending order\n",
    "print(l_list1)\n",
    "\n",
    "# using sorted\n",
    "sorted(l_list1)"
   ]
  },
  {
   "cell_type": "markdown",
   "metadata": {},
   "source": []
  },
  {
   "cell_type": "code",
   "execution_count": null,
   "metadata": {},
   "outputs": [],
   "source": [
    "# take second element for sort\n",
    "def takeSecond(elem):\n",
    "    return elem[1]\n",
    "\n",
    "# random list\n",
    "random = [(2, 2), (3, 4), (4, 1), (1, 3)]\n",
    "\n",
    "# sort list with key\n",
    "#random.sort(key=takeSecond)\n",
    "r=sorted(random,key=takeSecond)\n",
    "# print list\n",
    "print('Sorted list:', random)"
   ]
  },
  {
   "cell_type": "code",
   "execution_count": null,
   "metadata": {},
   "outputs": [],
   "source": [
    "#python count() method\n",
    "# create a list\n",
    "numbers = [2, 3, 5, 2, 11, 2, 7]\n",
    "\n",
    "# check the count of 2\n",
    "count = numbers.count(11)\n",
    "\n",
    "\n",
    "print('Count of 2:', count)\n"
   ]
  },
  {
   "cell_type": "code",
   "execution_count": null,
   "metadata": {},
   "outputs": [],
   "source": [
    "# Generate a random list of integers\n",
    "#random_list = [random.randint(1, 100) for _ in range(10)]\n",
    "import random\n",
    "random_list = [random.randint(1, 100) for i in range(20)]\n",
    "random_list1=[random.randint(200,300) for i in range(20)]\n",
    "# Print the random list\n",
    "print(random_list)\n",
    "print(random_list1)"
   ]
  },
  {
   "cell_type": "code",
   "execution_count": null,
   "metadata": {},
   "outputs": [],
   "source": [
    "# lambda functions\n",
    "#syntax\n",
    "#lambda argument(s) : \"expression\"\n",
    "# declare a lambda function\n",
    "greet = lambda : print('Hello World')\n",
    "\n",
    "# call lambda function\n",
    "greet()\n",
    "\n"
   ]
  },
  {
   "cell_type": "code",
   "execution_count": null,
   "metadata": {},
   "outputs": [],
   "source": [
    "# sorted function\n",
    "import random\n",
    "# vowels list\n",
    "py_list = ['e', 'a', 'u', 'o', 'i']\n",
    "\n",
    "# random integers\n",
    "random_list2=[random.randint(1,20) for i in range(10)]\n",
    "sorted_int = sorted(random_list2)\n",
    "sorted_int_des = sorted(random_list2,reverse=True)\n",
    "print(f\"random int sorted >>>>>>>>>>>>>>>>{sorted_int}\")\n",
    "print(f\"random int sorted descending ordr >>>>>>>>>>>>>>>>{sorted_int_des}\")\n",
    "print(sorted(py_list))\n",
    "s=sorted(py_list)\n",
    "print(f\"sorted return values>>>>>>>>>>>>>>>>>>>{s}\")\n",
    "\n",
    "\n",
    "# string\n",
    "py_string = 'Prabhat'\n",
    "print(f\"sorted string of my name >>>>>>>>>>> {sorted(py_string)}\")\n",
    "\n",
    "# vowels tuple\n",
    "py_tuple = ('e', 'a', 'u', 'o', 'i')\n",
    "print(sorted(py_tuple))\n",
    "\n",
    "\n",
    "# set\n",
    "py_set = {'e', 'a', 'u', 'o', 'i'}\n",
    "print(sorted(py_set, reverse=True))\n",
    "\n",
    "# dictionary\n",
    "py_dict = {'e': 1, 'a': 2, 'u': 3, 'o': 4, 'i': 5}\n",
    "print(f\"sorted dictionary>>>>>>>>> {sorted(py_dict, reverse=True)}\")\n",
    "\n",
    "# frozen set\n",
    "frozen_set = frozenset(('e', 'a', 'u', 'o', 'i'))\n",
    "print(f\"frozen set>>>>>>>>>>>>>>>>> {sorted(frozen_set, reverse=True)}\")\n",
    "\n",
    "\n",
    "\n",
    "\n",
    "#key function insorted\n",
    "\n",
    "\n",
    "# take the second element for sort\n",
    "def take_second(elem):\n",
    "    return elem[1]\n",
    "\n",
    "\n",
    "# random list\n",
    "random = [(2, 2), (3, 4), (4, 1), (1, 3)]\n",
    "\n",
    "# sort list with key\n",
    "sorted_list = sorted(random, key=take_second)\n",
    "\n",
    "# print list\n",
    "print('Sorted list:', sorted_list)\n",
    "\n",
    "\n",
    "# Nested list of student's info in a Science Olympiad\n",
    "# List elements: (Student's Name, Marks out of 100 , Age)\n",
    "participant_list = [\n",
    "    ('Alison', 50, 18),\n",
    "    ('Terence', 75, 12),\n",
    "    ('David', 75, 20),\n",
    "    ('Jimmy', 90, 22),\n",
    "    ('John', 45, 12)\n",
    "]\n",
    "\n",
    "\n",
    "def sorter(item):\n",
    "    # Since highest marks first, least error = most marks\n",
    "    error = 100 - item[1]\n",
    "    age = item[2]\n",
    "    return (error, age)\n",
    "\n",
    "\n",
    "sorted_list = sorted(participant_list, key=sorter)\n",
    "print(sorted_list)"
   ]
  },
  {
   "cell_type": "code",
   "execution_count": null,
   "metadata": {},
   "outputs": [],
   "source": [
    "s=['0-1']\n",
    "s=str(s)\n",
    "len(s)\n",
    "print(s)"
   ]
  },
  {
   "cell_type": "code",
   "execution_count": null,
   "metadata": {},
   "outputs": [],
   "source": [
    "s = ['0-1']\n",
    "string=str(s)\n",
    "string\n"
   ]
  },
  {
   "cell_type": "code",
   "execution_count": null,
   "metadata": {},
   "outputs": [],
   "source": [
    "# list reverse method()\n",
    "# create a random list of  5 ingtegers\n",
    "import random\n",
    "ran_list=[random.randint(1,20) for i in range(20)]\n",
    "# copying a list\n",
    "\n",
    "ran_list1=ran_list.copy()\n",
    "print(ran_list)\n",
    "print(ran_list1)"
   ]
  },
  {
   "cell_type": "code",
   "execution_count": null,
   "metadata": {},
   "outputs": [],
   "source": [
    "# deep copy vs shallow copy\n",
    "old_list = [[1, 2, 3], [4, 5, 6], [7, 8, 'a']]\n",
    "new_list = old_list\n",
    "\n",
    "new_list[2][2] = 9\n",
    "\n",
    "print('Old List:', old_list)\n",
    "print('ID of Old List:', id(old_list))\n",
    "\n",
    "print('New List:', new_list)\n",
    "print('ID of New List:', id(new_list))\n",
    "\n",
    "new_list[2][1] = 3\n",
    "print('New List change:', new_list)\n",
    "\n",
    "print('Old List change:', old_list)\n"
   ]
  },
  {
   "cell_type": "code",
   "execution_count": null,
   "metadata": {},
   "outputs": [],
   "source": [
    "# shallow copy\n",
    "import copy\n",
    "\n",
    "old_list = [[1, 2, 3], [4, 5, 6], [7, 8, 9]]\n",
    "new_list = copy.copy(old_list)\n",
    "\n",
    "print(\"Old list:\", old_list)\n",
    "print(\"id old list\",id(old_list))\n",
    "print(\"New list:\", new_list)\n",
    "print(\"id new list\",id(new_list))\n"
   ]
  },
  {
   "cell_type": "code",
   "execution_count": null,
   "metadata": {},
   "outputs": [],
   "source": [
    "# deep copy\n",
    "## Modifying the deep copied list does not affect the original list\n",
    "\n",
    "import copy\n",
    "\n",
    "old_list = [[1, 1, 1], [2, 2, 2], [3, 3, 3]]\n",
    "new_list = copy.deepcopy(old_list)\n",
    "\n",
    "print(\"Old list:\", old_list)\n",
    "print(\"id old list\",id(old_list))\n",
    "\n",
    "print(\"New list:\", new_list)\n",
    "print(\"id old list\",id(new_list))\n"
   ]
  },
  {
   "cell_type": "code",
   "execution_count": null,
   "metadata": {},
   "outputs": [],
   "source": [
    "# python list reverse()\n",
    "import random\n",
    "\n",
    "orig_list=[random.randint(1,20) for i in range(10)]\n",
    "print(f\"original list>>>>>>>>> {orig_list}\")\n",
    "#rev_list= orig_list.reverse()\n",
    "orig_list.reverse()\n",
    "print(f\"reversed list>>>>>>> {orig_list}\")\n",
    "\n",
    "\n"
   ]
  },
  {
   "cell_type": "code",
   "execution_count": null,
   "metadata": {},
   "outputs": [],
   "source": [
    "# Operating System List\n",
    "systems = ['Windows', 'macOS', 'Linux']\n",
    "print('Original List:', systems)\n",
    "\n",
    "# List Reverse\n",
    "systems.reverse()\n",
    "\n",
    "\n",
    "# updated list\n",
    "print('Updated List:', systems)"
   ]
  },
  {
   "cell_type": "code",
   "execution_count": null,
   "metadata": {},
   "outputs": [],
   "source": [
    "# Reverse list usin slicer\n",
    "# Operating System List\n",
    "systems = ['Windows', 'macOS', 'Linux']\n",
    "print('Original List:', systems)\n",
    "\n",
    "# Reversing a list\t\n",
    "# Syntax: reversed_list = systems[start:stop:step] \n",
    "reversed_list = systems[::-1]\n",
    "\n",
    "\n",
    "# updated list\n",
    "print('Updated List:', reversed_list)"
   ]
  },
  {
   "cell_type": "code",
   "execution_count": null,
   "metadata": {},
   "outputs": [],
   "source": [
    "name=\"prabhat kumar\"\n",
    "rev_name=name[::-1]\n",
    "rev_name"
   ]
  },
  {
   "cell_type": "code",
   "execution_count": null,
   "metadata": {},
   "outputs": [],
   "source": [
    "name1=\"kumar\"\n",
    "name1=reversed(name1)\n",
    "print(name1)"
   ]
  },
  {
   "cell_type": "code",
   "execution_count": null,
   "metadata": {},
   "outputs": [],
   "source": [
    "original_list = [1, 2, 3, 4, 5]\n",
    "\n",
    "# Using reversed() function\n",
    "reversed_iterator = reversed(original_list)\n",
    "\n",
    "# Converting the iterator to a list\n",
    "reversed_list = list(reversed_iterator)\n",
    "\n",
    "print(\"Original List:\", original_list)\n",
    "print(\"Reversed List:\", reversed_list)\n"
   ]
  },
  {
   "cell_type": "code",
   "execution_count": null,
   "metadata": {},
   "outputs": [],
   "source": [
    "original_list11 = [1, 2, 3, 4, 5]\n",
    "original_list11.reverse()\n",
    "original_list11"
   ]
  },
  {
   "cell_type": "markdown",
   "metadata": {},
   "source": [
    "# tuple"
   ]
  },
  {
   "cell_type": "code",
   "execution_count": null,
   "metadata": {},
   "outputs": [],
   "source": [
    "#tuple\n",
    "# Different types of tuples\n",
    "# diff between tuple and list is tha tuple elements cant be changed once assigned\n",
    "\n",
    "\n",
    "# Empty tuple\n",
    "my_tuple = ()\n",
    "print(my_tuple)\n",
    "\n",
    "# Tuple having integers\n",
    "my_tuple = (1, \"2\", 3)\n",
    "print(my_tuple)\n",
    "\n",
    "# tuple with mixed datatypes\n",
    "my_tuple = (1, \"Hello\", 3.4)\n",
    "print(my_tuple)\n",
    "\n",
    "# nested tuple\n",
    "my_tuple = (\"mouse\", [8, 4, 6], (1, 2, 3))\n",
    "print(my_tuple)"
   ]
  },
  {
   "cell_type": "code",
   "execution_count": null,
   "metadata": {},
   "outputs": [],
   "source": [
    "# creating tuple without paraenthesis ()\n",
    "my_tuple = 1, 2, 3\n",
    "my_tuple = 1, \"Hello\", 3.4\n",
    "print(\"my tuple\",my_tuple)"
   ]
  },
  {
   "cell_type": "code",
   "execution_count": null,
   "metadata": {},
   "outputs": [],
   "source": [
    "# accessing tuple elements using slicing\n",
    "my_tuple = ('p', 'r', 'o', 'g', 'r', 'a', 'm', 'i', 'z')\n",
    "\n",
    "# elements 2nd to 4th index\n",
    "print(my_tuple[1:4])  #  prints ('r', 'o', 'g')\n",
    "\n",
    "# elements beginning to 2nd\n",
    "print(my_tuple[:-7]) # prints ('p', 'r')\n",
    "print(my_tuple[0:2])\n",
    "# elements 8th to end\n",
    "print(my_tuple[7:]) # prints ('i', 'z')\n",
    "\n",
    "# elements beginning to end\n",
    "print(my_tuple[:]) # Prints ('p', 'r', 'o', 'g', 'r', 'a', 'm', 'i', 'z')"
   ]
  },
  {
   "cell_type": "code",
   "execution_count": null,
   "metadata": {},
   "outputs": [],
   "source": [
    "my_tuple = ('a', 'p', 'p', 'l', 'e',)\n",
    "\n",
    "print(my_tuple.count('p'))  # prints 2\n",
    "print(my_tuple.index('l'))  # prints 3"
   ]
  },
  {
   "cell_type": "code",
   "execution_count": null,
   "metadata": {},
   "outputs": [],
   "source": [
    "# tuple  questions"
   ]
  },
  {
   "cell_type": "markdown",
   "metadata": {},
   "source": [
    "We generally use tuples for heterogeneous (different) data types and lists for homogeneous (similar) data types.\n",
    "\n",
    "Since tuples are immutable, iterating through a tuple is faster than with a list. So there is a slight performance boost.\n",
    "\n",
    "Tuples that contain immutable elements can be used as a key for a dictionary. With lists, this is not possible.\n",
    "\n",
    "If you have data that doesn't change, implementing it as tuple will guarantee that it remains write-protected."
   ]
  },
  {
   "cell_type": "markdown",
   "metadata": {},
   "source": []
  },
  {
   "cell_type": "code",
   "execution_count": null,
   "metadata": {},
   "outputs": [],
   "source": []
  },
  {
   "cell_type": "markdown",
   "metadata": {},
   "source": [
    "# strings"
   ]
  },
  {
   "cell_type": "code",
   "execution_count": null,
   "metadata": {},
   "outputs": [],
   "source": [
    "string1 = \"Python programming\"\n",
    "len(string1)"
   ]
  },
  {
   "cell_type": "code",
   "execution_count": null,
   "metadata": {},
   "outputs": [],
   "source": [
    "greet = 'hello'\n",
    "# access 1st index element\n",
    "print(greet[1]) "
   ]
  },
  {
   "cell_type": "code",
   "execution_count": null,
   "metadata": {},
   "outputs": [],
   "source": [
    "# strings are immutable\n",
    "message = 'prabhat kumar'\n",
    "message[0] = 'H'\n",
    "print(message[0])\n",
    "\n",
    "print(message)"
   ]
  },
  {
   "cell_type": "markdown",
   "metadata": {},
   "source": [
    "String operations\n"
   ]
  },
  {
   "cell_type": "markdown",
   "metadata": {},
   "source": [
    "#str object does not support item assignment"
   ]
  },
  {
   "cell_type": "markdown",
   "metadata": {},
   "source": [
    "# compare two string\n"
   ]
  },
  {
   "cell_type": "markdown",
   "metadata": {},
   "source": []
  },
  {
   "cell_type": "code",
   "execution_count": null,
   "metadata": {},
   "outputs": [],
   "source": [
    "s1= \"prabhat\"\n",
    "s2=\"prbtkr\"\n",
    "if s1==s2:\n",
    "    print(\"h\")\n",
    "else:\n",
    "    None"
   ]
  },
  {
   "cell_type": "code",
   "execution_count": null,
   "metadata": {},
   "outputs": [],
   "source": [
    "s1=\"abc\"\n",
    "s3= ' '.join(s1)\n",
    "print(s3)"
   ]
  },
  {
   "cell_type": "code",
   "execution_count": null,
   "metadata": {},
   "outputs": [],
   "source": [
    "# list questions\n",
    "#1  "
   ]
  },
  {
   "cell_type": "code",
   "execution_count": null,
   "metadata": {},
   "outputs": [],
   "source": [
    "# iterator\n",
    "nums = [1, 2, 3, 4]\n",
    "obj = iter(nums)\n",
    "print(next(obj))\n",
    "print(next(obj))\n",
    "print(next(obj))\n",
    "print(next(obj))"
   ]
  },
  {
   "cell_type": "code",
   "execution_count": null,
   "metadata": {},
   "outputs": [],
   "source": [
    "str=\"prabhat\"\n",
    "ob1=iter(str)\n",
    "print(next(ob1))"
   ]
  },
  {
   "cell_type": "code",
   "execution_count": null,
   "metadata": {},
   "outputs": [],
   "source": [
    "#Generators in Python\n",
    "\n",
    "#A generator is a type of function that returns a generator object,\n",
    "#which can return a sequence of values instead of a single result.\n",
    "#The def keyword is commonly used to define generators.\n",
    "# At least one yield statement is required in a generator.\n",
    "\n",
    "\n",
    "def nums():\n",
    "    for i in range(1, 5):\n",
    "        yield i\n",
    "\n",
    "obj = nums()\n",
    "print(next(obj))\n",
    "print(next(obj))\n",
    "print(next(obj))\n",
    "print(next(obj))"
   ]
  },
  {
   "cell_type": "markdown",
   "metadata": {},
   "source": []
  },
  {
   "cell_type": "markdown",
   "metadata": {},
   "source": [
    "Iterators are created using classes whereas generators are created using functions.\n",
    "\n"
   ]
  },
  {
   "cell_type": "markdown",
   "metadata": {},
   "source": [
    "def Alphabets():\n",
    "\n",
    "   for i in range(65, 91):\n",
    "       yield chr(i)\n",
    "\n",
    "\n",
    "my_letters = Alphabets()\n",
    "\n",
    "for letter in my_letters:\n",
    "   print(letter, end=\" \")"
   ]
  },
  {
   "cell_type": "code",
   "execution_count": null,
   "metadata": {},
   "outputs": [],
   "source": [
    "def Alphabets():\n",
    "    for i in range(65, 91):\n",
    "        yield chr(i)\n",
    "\n",
    "\n",
    "my_letters = Alphabets()\n",
    "\n",
    "for letter in my_letters:\n",
    "    print(letter, end=\" \")"
   ]
  },
  {
   "cell_type": "markdown",
   "metadata": {},
   "source": [
    "Iterators are created using classes whereas generators are created using functions.\n",
    "\n"
   ]
  },
  {
   "cell_type": "code",
   "execution_count": null,
   "metadata": {},
   "outputs": [],
   "source": [
    "# generators\n",
    "def nums():\n",
    "    for i in range(1, 5):\n",
    "        yield i\n",
    "\n",
    "\n",
    "#nums() calling funcion it return gen object\n",
    "obj = nums()\n",
    "print(next(obj))\n",
    "print(next(obj))\n",
    "print(next(obj))\n",
    "print(next(obj))"
   ]
  },
  {
   "cell_type": "code",
   "execution_count": null,
   "metadata": {},
   "outputs": [],
   "source": [
    "def Alphabets():\n",
    "    for i in range(65, 91):\n",
    "        #print(i)\n",
    "        yield chr(i)\n",
    "        #return chr(i)\n",
    "\n",
    "\n",
    "my_letters = Alphabets()\n",
    "#print(f\"my letter {my_letters}\")\n",
    "#print(f\"my letter typr {type(my_letters)}\")\n",
    "\n",
    "\n",
    "for letter in my_letters:\n",
    "    print(letter, end=\" \")"
   ]
  },
  {
   "cell_type": "code",
   "execution_count": null,
   "metadata": {},
   "outputs": [],
   "source": [
    "def gener():\n",
    "    num = 1\n",
    "    while True:\n",
    "        yield num\n",
    "        num += 2\n",
    "\n",
    "obj = gener()\n",
    "print(next(obj))\n",
    "print(next(obj))\n",
    "print(next(obj))"
   ]
  },
  {
   "cell_type": "code",
   "execution_count": null,
   "metadata": {},
   "outputs": [],
   "source": [
    "def fun():\n",
    "    for i in range(1,10):\n",
    "        return chr(i)\n",
    "    \n",
    "fun()"
   ]
  },
  {
   "cell_type": "markdown",
   "metadata": {},
   "source": [
    "strings\n"
   ]
  },
  {
   "cell_type": "markdown",
   "metadata": {},
   "source": []
  },
  {
   "cell_type": "code",
   "execution_count": null,
   "metadata": {},
   "outputs": [],
   "source": [
    "# strings are immutable\n",
    "message = 'Hola Amigos'\n",
    "# convert to uppercase\n",
    "print(f\"uppercase {message.upper()}\")\n",
    "\n",
    "# convert to lowercase\n",
    "print(f\"uppercase {message.lower()}\")\n",
    "message[0] = 'H'\n",
    "print(message)\n"
   ]
  },
  {
   "cell_type": "code",
   "execution_count": null,
   "metadata": {},
   "outputs": [],
   "source": [
    "#Escape Sequences in Python\n",
    "#The escape sequence is used to escape some of the characters present inside a string.\n",
    "\n",
    "\n",
    "example = \"He said, \"What's there?\"\"\n",
    "\n",
    "print(example) # throws error"
   ]
  },
  {
   "cell_type": "code",
   "execution_count": null,
   "metadata": {},
   "outputs": [],
   "source": [
    "# escape double quotes\n",
    "example = \"He said, \\\"What's there?\\\"\"\n",
    "\n",
    "# escape single quotes\n",
    "example = 'He said, \"What\\'s there?\"'\n",
    "\n",
    "print(example)\n",
    "\n",
    "# Output: He said, \"What's there?\""
   ]
  },
  {
   "cell_type": "code",
   "execution_count": null,
   "metadata": {},
   "outputs": [],
   "source": [
    "# replace method\n",
    "\n",
    "text = 'bat ball'\n",
    "\n",
    "# replace 'ba' with 'ro'\n",
    "replaced_text = text.replace('bat', 'cricket')\n",
    "\n",
    "\n",
    "print(replaced_text)\n",
    "\n",
    "# Output: rot roll"
   ]
  },
  {
   "cell_type": "code",
   "execution_count": null,
   "metadata": {},
   "outputs": [],
   "source": [
    "song = 'cold, cold heart'\n",
    "\n",
    "# replacing 'cold' with 'hurt'\n",
    "print(song.replace('cold', 'hurt'))\n",
    "\n",
    "song = 'Let it be, let it be, let it be, let it be'\n",
    "\n",
    "# replacing only two occurrences of 'let'\n",
    "print(song.replace('let', \"don't let\", 2))"
   ]
  },
  {
   "cell_type": "code",
   "execution_count": null,
   "metadata": {},
   "outputs": [],
   "source": [
    "song = 'cold, cold heart'\n",
    "replaced_song = song.replace('o', 'e')\n",
    "\n",
    "# The original string is unchanged\n",
    "print('Original string:', song)\n",
    "\n",
    "print('Replaced string:', replaced_song)\n",
    "\n",
    "song = 'let it be, let it be, let it be'\n",
    "\n",
    "# maximum of 0 substring is replaced\n",
    "# returns copy of the original string\n",
    "print(song.replace('let', 'so', 0))"
   ]
  },
  {
   "cell_type": "code",
   "execution_count": null,
   "metadata": {},
   "outputs": [],
   "source": [
    "# string find\n",
    "message = 'Python is a fun programming language'\n",
    "\n",
    "# check the index of 'fun'\n",
    "print(message.find('a'))\n",
    "print(message.index('a'))\n",
    "\n",
    "\n",
    "# Output: 12"
   ]
  },
  {
   "cell_type": "code",
   "execution_count": null,
   "metadata": {},
   "outputs": [],
   "source": [
    "string1=\"pra1993\"\n",
    "print(string1.isnumeric()) \n"
   ]
  },
  {
   "cell_type": "code",
   "execution_count": null,
   "metadata": {},
   "outputs": [],
   "source": [
    "# string split()\n",
    "cars = 'BMW-Telsa-Range Rover'\n",
    "\n",
    "# split at '-'\n",
    "print(cars.split('-'))\n"
   ]
  },
  {
   "cell_type": "code",
   "execution_count": null,
   "metadata": {},
   "outputs": [],
   "source": [
    "grocery = 'Milk, Chicken, Bread, Butter'\n",
    "\n",
    "# maxsplit: 2\n",
    "print(grocery.split(', ', 2))\n",
    "\n",
    "# maxsplit: 1\n",
    "print(grocery.split(', ', 1))\n",
    "\n",
    "# maxsplit: 5\n",
    "print(grocery.split(', ', 5))\n",
    "\n",
    "# maxsplit: 0\n",
    "print(grocery.split(', ', 0))"
   ]
  },
  {
   "cell_type": "markdown",
   "metadata": {},
   "source": [
    "Set : It is collection of unique data"
   ]
  },
  {
   "cell_type": "code",
   "execution_count": null,
   "metadata": {},
   "outputs": [],
   "source": [
    "#defining set\n",
    "# create a set of integer type\n",
    "student_id = {112, 114, 116, 118, 115}\n",
    "print('Student ID:', student_id)\n",
    "\n",
    "# create a set of string type\n",
    "vowel_letters = {'a', 'e', 'i', \"i\",'o', 'u'}\n",
    "print('Vowel Letters:', vowel_letters)\n",
    "\n",
    "# create a set of mixed data types\n",
    "mixed_set = {'Hello', 101, -2, 'Bye'}\n",
    "print('Set of mixed data types:', mixed_set)"
   ]
  },
  {
   "cell_type": "code",
   "execution_count": null,
   "metadata": {},
   "outputs": [],
   "source": [
    "# create an empty set\n",
    "empty_set = set()\n",
    "print(type(set))\n",
    "# create an empty dictionary\n",
    "empty_dictionary = { }\n",
    "\n",
    "# check data type of empty_set\n",
    "print('Data type of empty_set:', type(empty_set))\n",
    "\n",
    "# check data type of dictionary_set\n",
    "print('Data type of empty_dictionary', type(empty_dictionary))"
   ]
  },
  {
   "cell_type": "code",
   "execution_count": null,
   "metadata": {},
   "outputs": [],
   "source": [
    "numbers = {2, 4, 6, 6, 2, 8}\n",
    "print(numbers)   # {8, 2, 4, 6}"
   ]
  },
  {
   "cell_type": "code",
   "execution_count": null,
   "metadata": {},
   "outputs": [],
   "source": [
    "# aadd item in set\n",
    "numbers = {21, 34, 54, 12}\n",
    "\n",
    "print('Initial Set:',numbers)\n",
    "\n",
    "# using add() method\n",
    "numbers.add(35)\n",
    "\n",
    "print('Updated Set:', numbers) "
   ]
  },
  {
   "cell_type": "code",
   "execution_count": null,
   "metadata": {},
   "outputs": [],
   "source": [
    "#update item set\n",
    "companies = {'Lacoste', 'Ralph Lauren'}\n",
    "tech_companies = ['apple', 'google', 'apple']\n",
    "\n",
    "companies.update(tech_companies)\n",
    "\n",
    "print(companies)\n",
    "\n"
   ]
  },
  {
   "cell_type": "code",
   "execution_count": null,
   "metadata": {},
   "outputs": [],
   "source": [
    "# remove element from set\n",
    "\n",
    "# we use discard in set to remove item \n",
    "languages = {'Swift', 'Java', 'Python'}\n",
    "\n",
    "print('Initial Set:',languages)\n",
    "\n",
    "# remove 'Java' from a set\n",
    "languages.discard('Swift')\n",
    "\n",
    "print('Set after remove():', languages)"
   ]
  },
  {
   "cell_type": "code",
   "execution_count": null,
   "metadata": {},
   "outputs": [],
   "source": [
    "s1=\"/home/multi-sy-003/Downloads/Scene_Change_Test_Analysis_Baseball/1700048573/1700048573.mp4\"\n",
    "s1.split(\".\")[0]"
   ]
  },
  {
   "cell_type": "code",
   "execution_count": null,
   "metadata": {},
   "outputs": [],
   "source": []
  },
  {
   "cell_type": "markdown",
   "metadata": {},
   "source": [
    "Built-in functions like \n",
    "all(), \n",
    "any(), \n",
    "enumerate(), \n",
    "len(), \n",
    "max(), \n",
    "min(), \n",
    "sorted(), \n",
    "sum() etc. are commonly used with sets to perform different tasks."
   ]
  },
  {
   "cell_type": "markdown",
   "metadata": {},
   "source": []
  },
  {
   "cell_type": "code",
   "execution_count": null,
   "metadata": {},
   "outputs": [],
   "source": [
    "# all()\n",
    "\n",
    "boolean_list = ['True', 'True', 'True']\n",
    "\n",
    "# check if all elements are true\n",
    "result = all(boolean_list)\n",
    "print(result)\n",
    "\n",
    "# Output: True"
   ]
  },
  {
   "cell_type": "code",
   "execution_count": null,
   "metadata": {},
   "outputs": [],
   "source": [
    "# any()\n",
    "\n",
    "boolean_list = ['True', 'False', 'True']\n",
    "\n",
    "# check if any element is true\n",
    "result = any(boolean_list)\n",
    "print(result)\n",
    "\n",
    "# Output: True"
   ]
  },
  {
   "cell_type": "code",
   "execution_count": null,
   "metadata": {},
   "outputs": [],
   "source": [
    "# sum ()\n",
    "\n",
    "marks = [65, 71, 68, 74, 61]\n",
    "\n",
    "# find sum of all marks\n",
    "total_marks = sum(marks)\n",
    "print(total_marks)\n",
    "\n",
    "# Output: 339"
   ]
  },
  {
   "cell_type": "code",
   "execution_count": null,
   "metadata": {},
   "outputs": [],
   "source": [
    "numbers = [9, 34, 11, -4, 27]\n",
    "\n",
    "# find the smallest number\n",
    "min_number = min(numbers)\n",
    "print(min_number)\n",
    "\n",
    "# Output: -4"
   ]
  },
  {
   "cell_type": "code",
   "execution_count": null,
   "metadata": {},
   "outputs": [],
   "source": [
    "fruits = {\"Apple\", \"Peach\", \"Mango\"}\n",
    "\n",
    "# for loop to access each fruits\n",
    "for fruit in fruits: \n",
    "    print(fruit)"
   ]
  },
  {
   "cell_type": "code",
   "execution_count": null,
   "metadata": {},
   "outputs": [],
   "source": [
    "# set operations\n"
   ]
  },
  {
   "cell_type": "code",
   "execution_count": null,
   "metadata": {},
   "outputs": [],
   "source": [
    "import re\n",
    "time_tuple = (00:00:30.750 [frame=369, fps=12.000], 00:00:55.000 [frame=660, fps=12.000])\n",
    "\n",
    "end_time_match = re.search(r'\\d{2}:\\d{2}:\\d{2}\\.\\d+', time_tuple[31:])\n",
    "end_time_match"
   ]
  },
  {
   "cell_type": "code",
   "execution_count": null,
   "metadata": {},
   "outputs": [],
   "source": [
    "\n",
    "scene_h=(00:00:12.312 [frame=369, fps=29.970], 00:00:22.022 [frame=660, fps=29.970])\n",
    "# Extracting the second timestamp\n",
    "second_timestamp = scene_h[1].split(' ')[0]\n",
    "\n",
    "print(second_timestamp)\n",
    "\n"
   ]
  },
  {
   "cell_type": "markdown",
   "metadata": {},
   "source": []
  },
  {
   "cell_type": "code",
   "execution_count": null,
   "metadata": {},
   "outputs": [],
   "source": [
    "#Set operations \n",
    "#union, intersection, subtraction, and symmetric difference."
   ]
  },
  {
   "cell_type": "code",
   "execution_count": null,
   "metadata": {},
   "outputs": [],
   "source": [
    "#union\n",
    "\n",
    "# first set\n",
    "A = {1, 4}\n",
    "\n",
    "# second set\n",
    "B = {0, 2, 4}\n",
    "\n",
    "# perform union operation using |\n",
    "print('Union using |:', A | B)\n",
    "\n",
    "# perform union operation using union()\n",
    "print('Union using union():', A.union(B)) "
   ]
  },
  {
   "cell_type": "code",
   "execution_count": null,
   "metadata": {},
   "outputs": [],
   "source": [
    "# set intersection\n",
    "# intersection means taking common elements between sets\n",
    "# first set\n",
    "A = {1, 7, 5}\n",
    "\n",
    "# second set\n",
    "B = {6, 7, 8}\n",
    "\n",
    "# perform intersection operation using &\n",
    "print('Intersection using &:', A & B)\n",
    "\n",
    "# perform intersection operation using intersection()\n",
    "print('Intersection using intersection():', A.intersection(B)) "
   ]
  },
  {
   "cell_type": "code",
   "execution_count": null,
   "metadata": {},
   "outputs": [],
   "source": [
    "# difference between two sets\n",
    "#The difference between two sets A and B include elements of set A that are not present on set B.\n",
    "\n",
    "# first set\n",
    "A = {2, 3, 5}\n",
    "\n",
    "# second set\n",
    "B = {1, 2, 6}\n",
    "\n",
    "# perform difference operation using &\n",
    "print('Difference using &:', A - B)\n",
    "\n",
    "# perform difference operation using difference()\n",
    "print('Difference using difference():', A.difference(B)) "
   ]
  },
  {
   "cell_type": "code",
   "execution_count": null,
   "metadata": {},
   "outputs": [],
   "source": [
    "#The symmetric difference between two sets A and B includes all elements of A and B without the common elements.\n",
    "\n",
    "# first set\n",
    "A = {2, 3, 5}\n",
    "\n",
    "# second set\n",
    "B = {1, 2, 6}\n",
    "\n",
    "# perform difference operation using &\n",
    "print('using ^:', A ^ B)\n",
    "\n",
    "# using symmetric_difference()\n",
    "print('using symmetric_difference():', A.symmetric_difference(B)) "
   ]
  },
  {
   "cell_type": "code",
   "execution_count": null,
   "metadata": {},
   "outputs": [],
   "source": [
    "# check if two sets are equal\n",
    "\n",
    "# first set\n",
    "A = {1, 3, 5}\n",
    "\n",
    "# second set\n",
    "B = {3, 5, 1}\n",
    "\n",
    "# perform difference operation using &\n",
    "if A == B:\n",
    "    print('Set A and Set B are equal')\n",
    "else:\n",
    "    print('Set A and Set B are not equal')"
   ]
  },
  {
   "cell_type": "code",
   "execution_count": null,
   "metadata": {},
   "outputs": [],
   "source": [
    "li=[1,2]\n",
    "l2=li.copy()\n",
    "\n",
    "l2.append(3)\n",
    "print(li)"
   ]
  },
  {
   "cell_type": "code",
   "execution_count": null,
   "metadata": {},
   "outputs": [],
   "source": [
    "#Method\tDescription\n"
   ]
  },
  {
   "cell_type": "code",
   "execution_count": null,
   "metadata": {},
   "outputs": [],
   "source": [
    "#add() : \tAdds an element to the set\n",
    "# set of vowels\n",
    "vowels = {'a', 'e', 'u'}\n",
    "\n",
    "# a tuple ('i', 'o')\n",
    "tup = ('i', 'o')\n",
    "\n",
    "# adding tuple\n",
    "vowels.add(tup)\n",
    "\n",
    "# adding same element\n",
    "vowels.add(\"e\")\n",
    "print(f\"updated vodel {vowels}\")\n",
    "\n",
    "print('Vowels are:', vowels)\n",
    "# adding same tuple again\n",
    "vowels.add(tup)\n",
    "\n",
    "print('Vowels are:', vowels)"
   ]
  },
  {
   "cell_type": "code",
   "execution_count": null,
   "metadata": {},
   "outputs": [],
   "source": [
    "# clear()\t:::::::: Removes all elements from the set\n",
    "# set of prime numbers\n",
    "primeNumbers = {2, 3, 5, 7}\n",
    "string = {\"a\",\"k\",\"f\",\"d\",\"q\"}\n",
    "# clear all elements\n",
    "primeNumbers.clear()\n",
    "string.clear()\n",
    "print(string)\n",
    "print(primeNumbers)\n",
    "\n",
    "# set() \n"
   ]
  },
  {
   "cell_type": "code",
   "execution_count": null,
   "metadata": {},
   "outputs": [],
   "source": [
    "# copy()\tReturns a copy of the set\n",
    "\n",
    "numbers = {1, 2, 3, 4}\n",
    "\n",
    "# copies the items of numbers to new_numbers\n",
    "new_numbers = numbers.copy()\n",
    "new_numbers.clear()\n",
    "print(new_numbers)\n",
    "print(numbers)\n"
   ]
  },
  {
   "cell_type": "code",
   "execution_count": null,
   "metadata": {},
   "outputs": [],
   "source": [
    "#copy : we can also copy set using = operator\n",
    "names = {\"John\", \"Charlie\", \"Marie\"}\n",
    "\n",
    "# copy set using = operator\n",
    "new_names = names\n",
    "\n",
    "print('Original Names: ', names)\n",
    "print('Copied Names: ', new_names)"
   ]
  },
  {
   "cell_type": "code",
   "execution_count": null,
   "metadata": {},
   "outputs": [],
   "source": [
    "# adding elements to set after copy\n",
    "new_names.add(2)\n",
    "print(new_names)"
   ]
  },
  {
   "cell_type": "code",
   "execution_count": null,
   "metadata": {},
   "outputs": [],
   "source": [
    "# difference()\tReturns the difference of two or more sets as a new set\n",
    "\n",
    "A = {'a', 'b', 'c', 'd'}\n",
    "B = {'c', 'f', 'g'}\n",
    "\n",
    "# equivalent to A-B\n",
    "print(A.difference(B)) # return unique elements of A only after removing elements from b\n",
    "\n",
    "# equivalent to B-A\n",
    "print(B.difference(A)) # return  unique elements of b only after removing element of b present in A\n",
    "\n",
    "\n",
    "#A.difference(B) - returns a set with elements unique to set A\n",
    "#B.difference(A) - returns a set with elements unique to set B\n",
    "#Note: Mathematically, the operation A.difference(B) is equivalent to A - B."
   ]
  },
  {
   "cell_type": "code",
   "execution_count": null,
   "metadata": {},
   "outputs": [],
   "source": [
    "# set difference using - operator\n",
    "\n",
    "A = {'a', 'b',\"f\"}\n",
    "B = {'c', 'f', 'g'}\n",
    "\n",
    "# prints the items of A that are not present in B\n",
    "print(A - B)\n",
    "\n",
    "# prints the items of B that are not present in A\n",
    "print(B - A)"
   ]
  },
  {
   "cell_type": "code",
   "execution_count": null,
   "metadata": {},
   "outputs": [],
   "source": [
    "#Set difference\n",
    "\n",
    "A = {2, 4, 5}\n",
    "B = {1, 7, 8}\n",
    "\n",
    "# compute intersection between A and B\n",
    "print(A.intersection(B))"
   ]
  },
  {
   "cell_type": "code",
   "execution_count": null,
   "metadata": {},
   "outputs": [],
   "source": [
    "# set intersection using & operator\n",
    "# intersection()\tReturns the intersection of two sets as a new set\n",
    "\n",
    "A = {100, 7, 8}\n",
    "B = {200, 4, 5}\n",
    "C = {300, 2, 3, 7}\n",
    "D = {100, 200, 300}\n",
    "\n",
    "print(A & C)\n",
    "print(A & D)\n",
    "\n",
    "print(A & C & D)\n",
    "\n",
    "print(A & B & C & D)"
   ]
  },
  {
   "cell_type": "code",
   "execution_count": null,
   "metadata": {},
   "outputs": [],
   "source": [
    "# discard()\tRemoves an element from the set if it is a member. (Do nothing if the element is not in set)\n",
    "\n",
    "# remove()\tRemoves an element from the set. If the element is not a member, raises a KeyError\n",
    "\n",
    "numbers = {2, 3, 4, 5}\n",
    "\n",
    "# removes 3 and returns the remaining set\n",
    "\n",
    "# remove() vs discard in set\n",
    "numbers.discard(7) \n",
    "print(numbers)\n",
    "\n",
    "numbers.remove(7)\n",
    "print(numbers)\n",
    "\n",
    "\n",
    "\n",
    "\n"
   ]
  },
  {
   "cell_type": "code",
   "execution_count": null,
   "metadata": {},
   "outputs": [],
   "source": [
    "#The difference_update() method computes the difference between two sets (A - B) \n",
    "#and updates set A with the resulting set.\n",
    "\n",
    "# sets of numbers\n",
    "A = {1, 3, 5, 7, 9}\n",
    "B = {2, 3, 5, 7, 11}\n",
    "\n",
    "# computes A - B and updates A with the resulting set\n",
    "A.difference_update(B)\n",
    "\n",
    "print('A = ', A)\n",
    "\n",
    "# Output: A =  {1, 9}"
   ]
  },
  {
   "cell_type": "code",
   "execution_count": null,
   "metadata": {},
   "outputs": [],
   "source": [
    "# intersection_update()\tUpdates the set with the intersection of itself and another\n",
    "A = {1, 2, 3, 4}\n",
    "B = {2, 3, 4, 5}\n",
    "\n",
    "# updates set A with the items common to both sets A and B\n",
    "A.intersection_update(B)\n",
    "\n",
    "print('A =', A)\n",
    "\n",
    "# Output: A = {2, 3, 4}"
   ]
  },
  {
   "cell_type": "code",
   "execution_count": null,
   "metadata": {},
   "outputs": [],
   "source": [
    "# isdisjoint()\tReturns True if two sets have a null intersection\n",
    "A = {1, 2, 3, }\n",
    "B = {4, 5, 6}\n",
    "\n",
    "# checks if set A and set B are disjoint\n",
    "print(A.isdisjoint(B))\n",
    "\n",
    "# Output: True"
   ]
  },
  {
   "cell_type": "code",
   "execution_count": null,
   "metadata": {},
   "outputs": [],
   "source": [
    "# issubset()\tReturns True if another set contains this set\n",
    "A = {1, 2, 3}\n",
    "B = {1, 2, 3, 4, 5}\n",
    "\n",
    "# all items of A are present in B\n",
    "print(A.issubset(B))\n",
    "\n",
    "# Output: True"
   ]
  },
  {
   "cell_type": "code",
   "execution_count": null,
   "metadata": {},
   "outputs": [],
   "source": [
    "# pop()\tRemoves and returns an arbitrary set element. Raises KeyError if the set is empty\n",
    "#method doesn't take any parameters.\n",
    "A = {'a', 'b', 'c', 'd'}\n",
    "removed_item = A.pop()\n",
    "print(removed_item)\n",
    "\n",
    "# Output: c"
   ]
  },
  {
   "cell_type": "code",
   "execution_count": null,
   "metadata": {},
   "outputs": [],
   "source": [
    "# symmetric_difference()\tReturns the symmetric difference of two sets as a new set\n",
    "#The symmetric_difference() method returns all the items present in given sets,\n",
    "# except the items in their intersections\n",
    "\n",
    "A = {'a', 'b', 'c', 'd'}\n",
    "B = {'c', 'd', 'e' }\n",
    "\n",
    "# returns all items to result variable except the items on intersection\n",
    "result = A.symmetric_difference(B)\n",
    "print(result)\n",
    "\n",
    "\n",
    "#Symmetric Difference Using ^ Operator\n",
    "A = {'a', 'b', 'c', 'd'}\n",
    "B = {'c', 'd', 'e' }\n",
    "C = {'i'}\n",
    "\n",
    "# works as (A).symmetric_difference(B)\n",
    "print(A ^ B)\n",
    "\n",
    "# symmetric difference of 3 sets\n",
    "print(A ^ B ^ C)\n",
    "\n",
    "# Output: {'a', 'b', 'e'}"
   ]
  },
  {
   "cell_type": "code",
   "execution_count": null,
   "metadata": {},
   "outputs": [],
   "source": [
    "# symmetric_difference_update()\tUpdates a set with the symmetric difference of itself and another\n",
    "#The symmetric_difference_update() method finds the symmetric difference of two sets (non-similar items of both sets) \n",
    "#and updates it to the set that calls the method\n",
    "\n",
    "\n",
    "A = {'a', 'c', 'd'}\n",
    "B = {'c', 'd', 'g' }\n",
    "\n",
    "# updates A with the symmetric difference of A and B\n",
    "A.symmetric_difference_update(B)\n",
    "\n",
    "print(A)\n",
    "\n",
    "# Output: {a, e}"
   ]
  },
  {
   "cell_type": "code",
   "execution_count": null,
   "metadata": {},
   "outputs": [],
   "source": [
    "# union()\tReturns the union of sets in a new set\n",
    "#The Python set union() m\n",
    "#method returns a new set with distinct elements from all the sets.\n",
    "\n",
    "A = {2, 3, 5}\n",
    "B = {1, 3, 5}\n",
    "\n",
    "# compute union between A and B\n",
    "print('A U B = ', A.union(B))\n",
    "\n",
    "\n",
    "# Output: A U B =  {1, 2, 3, 5}"
   ]
  },
  {
   "cell_type": "code",
   "execution_count": null,
   "metadata": {},
   "outputs": [],
   "source": [
    "# update() : Updates the set with the union of itself and others\n",
    "\n",
    "A = {'a', 'b'}\n",
    "B = {1, 2, 3}\n",
    "\n",
    "# updates A after the items of B is added to A\n",
    "A.update(B)\n",
    "\n",
    "print(A)\n",
    "print(A|B)\n",
    "\n",
    "# Output: {'a', 1, 2, 'b', 3}"
   ]
  },
  {
   "cell_type": "markdown",
   "metadata": {},
   "source": [
    "# functions"
   ]
  },
  {
   "cell_type": "code",
   "execution_count": null,
   "metadata": {},
   "outputs": [],
   "source": [
    "# def fun(arguments):\n",
    "# arguments  : any value passed to function\n",
    "\n",
    "# write function to print sum of square of first n natural number\n",
    "# function definition\n",
    "def find_square(n):\n",
    "    sum_sq = 0\n",
    "    for i in range(1, n + 1):  # Include n in the range\n",
    "        sq = i * i\n",
    "        print(sq)\n",
    "        sum_sq += sq  # Increment the sum by the square of each number\n",
    "    return sum_sq\n",
    "\n",
    "sum_square = find_square(5)\n",
    "print('sum of Square:', sum_square)\n",
    "\n"
   ]
  },
  {
   "cell_type": "code",
   "execution_count": null,
   "metadata": {},
   "outputs": [],
   "source": [
    "import math\n",
    "a=pow(2, 3)  #computes the power of a number\n",
    "print(f\"a::::::::::: {a}\")\n",
    "\n",
    "sqrt=math.sqrt(4) #to compute the square root of 4\n",
    "sqrt"
   ]
  },
  {
   "cell_type": "code",
   "execution_count": null,
   "metadata": {},
   "outputs": [],
   "source": [
    "def f(s):\n",
    "    a=s.replace(s,\"sa\")\n",
    "    return a\n",
    "s=\"ka\"\n",
    "f(s)"
   ]
  },
  {
   "cell_type": "code",
   "execution_count": null,
   "metadata": {},
   "outputs": [],
   "source": [
    "my_list = [1, 2, 3, 4, 5]\n",
    "del my_list[2]  # Removes the element at index 2 (3)\n",
    "print(my_list) \n"
   ]
  },
  {
   "cell_type": "code",
   "execution_count": null,
   "metadata": {},
   "outputs": [],
   "source": [
    "my_list = [1, 2, 3, 4, 5]\n",
    "popped_value = my_list.pop(0)  # Removes and returns the last element (5)\n",
    "print(my_list)                # Output: [1, 2, 3, 4]\n",
    "print(\"Popped value:\", popped_value)  # Output: Popped value: 5\n"
   ]
  },
  {
   "cell_type": "code",
   "execution_count": null,
   "metadata": {},
   "outputs": [],
   "source": [
    "list=\"/home/multi-sy-003/Downloads/etet.txt\"\n",
    "# Specify the path to your text file\n",
    "file_path = list\n",
    "\n",
    "# Open the file in read mode ('r')\n",
    "with open(file_path, 'r', encoding='utf-8') as file:\n",
    "    # Read the entire content of the file\n",
    "    file_content = file.read()\n",
    "    \n",
    "# Print or process the content as needed\n",
    "#print(file_content)\n"
   ]
  },
  {
   "cell_type": "code",
   "execution_count": null,
   "metadata": {},
   "outputs": [],
   "source": [
    "def factorial(x):\n",
    "    \"\"\"This is a recursive function\n",
    "    to find the factorial of an integer\"\"\"\n",
    "\n",
    "    if x == 1:\n",
    "        return 1\n",
    "    else:\n",
    "        return (x * factorial(x-1))\n",
    "\n",
    "\n",
    "num = 6\n",
    "print(\"The factorial of\", num, \"is\", factorial(num))"
   ]
  },
  {
   "cell_type": "code",
   "execution_count": null,
   "metadata": {},
   "outputs": [],
   "source": [
    "# factorial using simple way\n",
    "# find factorial of 5\n",
    "# 5*4*3*2*1\n",
    "def factorial(n):\n",
    "    result = 1\n",
    "    for i in range(1, n + 1):\n",
    "        result *= i\n",
    "    return result\n",
    "\n",
    "# Example usage\n",
    "number = 5\n",
    "result = factorial(number)\n",
    "print(f\"The factorial of {number} is: {result}\")\n"
   ]
  },
  {
   "cell_type": "markdown",
   "metadata": {},
   "source": [
    "# dictionary"
   ]
  },
  {
   "cell_type": "markdown",
   "metadata": {},
   "source": [
    "# dictionary key must be immmutable"
   ]
  },
  {
   "cell_type": "markdown",
   "metadata": {},
   "source": []
  },
  {
   "cell_type": "code",
   "execution_count": null,
   "metadata": {},
   "outputs": [],
   "source": [
    "a=dict()\n",
    "print(type(a))"
   ]
  },
  {
   "cell_type": "code",
   "execution_count": null,
   "metadata": {},
   "outputs": [],
   "source": [
    "# access dictionary item\n",
    "country_capitals = {\n",
    "  \"Germany\": \"Berlin\", \n",
    "  \"Canada\": \"Ottawa\", \n",
    "  \"England\": \"London\"\n",
    "}\n",
    "\n",
    "print(country_capitals[\"Germany\"])   \n",
    "\n",
    "print(country_capitals[\"England\"])  "
   ]
  },
  {
   "cell_type": "code",
   "execution_count": null,
   "metadata": {},
   "outputs": [],
   "source": [
    "# adding item in dictionary\n",
    "country_capitals['india']=\"New Delhi\"\n",
    "print(country_capitals)"
   ]
  },
  {
   "cell_type": "code",
   "execution_count": null,
   "metadata": {},
   "outputs": [],
   "source": [
    "# remove an item from dictionary\n",
    "# del or pop\n",
    "country_capitals1 = {\n",
    "  \"Germany\": \"Berlin\", \n",
    "  \"Canada\": \"Ottawa\", \n",
    "}\n",
    "\n",
    "# delete item having \"Germany\" key\n",
    "del country_capitals1[\"Germany\"]\n",
    "\n",
    "print(country_capitals1)"
   ]
  },
  {
   "cell_type": "code",
   "execution_count": null,
   "metadata": {},
   "outputs": [],
   "source": [
    "# clear() method. :remove all items from the dictionary at once, we can use the\n",
    "\n",
    "country_capitals1.clear()\n",
    "print(country_capitals1)"
   ]
  },
  {
   "cell_type": "code",
   "execution_count": null,
   "metadata": {},
   "outputs": [],
   "source": [
    "# change dictionary items\n",
    "# dictionary keys are immutable and its values are mutable\n",
    "# dictinary are mutable\n",
    "country_capitals = {\n",
    "  \"Germany\": \"Berlin\", \n",
    "  \"Italy\": \"Naples\", \n",
    "  \"England\": \"London\"\n",
    "}\n",
    "\n",
    "# change the value of \"Italy\" key to \"Rome\"\n",
    "country_capitals[\"Italy\"] = \"Rome\"\n",
    "\n",
    "print(country_capitals)"
   ]
  },
  {
   "cell_type": "code",
   "execution_count": null,
   "metadata": {},
   "outputs": [],
   "source": [
    "list=['1','3']\n",
    "for i,num in enumerate(list):\n",
    "    print(f\"i:{i}, num {num}\")"
   ]
  },
  {
   "cell_type": "code",
   "execution_count": null,
   "metadata": {},
   "outputs": [],
   "source": []
  },
  {
   "cell_type": "markdown",
   "metadata": {},
   "source": [
    "# iterating through dictionary"
   ]
  },
  {
   "cell_type": "markdown",
   "metadata": {},
   "source": [
    "# dictionary is ordered collection of items,so we can iterate throught it"
   ]
  },
  {
   "cell_type": "markdown",
   "metadata": {},
   "source": []
  },
  {
   "cell_type": "code",
   "execution_count": null,
   "metadata": {},
   "outputs": [],
   "source": [
    "country_capitals = {\n",
    "    \"United States\": \"Washington D.C.\", \n",
    "    \"Italy\": \"Rome\" \n",
    "}\n",
    "# print dictionary keys one by one\n",
    "for country in country_capitals:\n",
    "    print(f\"dict keys:::::{country}\")\n",
    "\n",
    "print()\n",
    "\n",
    "# print dictionary values one by one\n",
    "for country in country_capitals:\n",
    "    capital = country_capitals[country]\n",
    "    print(f\" dict values::::::{capital}\")"
   ]
  },
  {
   "cell_type": "code",
   "execution_count": null,
   "metadata": {},
   "outputs": [],
   "source": [
    "cc = {\n",
    "    \"United States\": \"Washington D.C.\", \n",
    "    \"Italy\": \"Rome\" ,\n",
    "    \"India\" : \"New Delhi\"\n",
    "}\n",
    "# adding item in dict\n",
    "cc['bang']='Dhaka'\n",
    "print(f\"orig doct::{cc}\")\n",
    "\n",
    "# finding length of dict\n",
    "\n",
    "print(f\"len of dict:::::;{len(cc)}\")\n",
    "for item in cc:\n",
    "    v=cc[item]\n",
    "    print(v)"
   ]
  },
  {
   "cell_type": "code",
   "execution_count": null,
   "metadata": {},
   "outputs": [],
   "source": [
    "# generating random dictionayr using dict comprehension\n",
    "import random\n",
    "\n",
    "# Define the size of the dictionary\n",
    "dictionary_size = 5\n",
    "\n",
    "# Create a random dictionary using dictionary comprehension\n",
    "random_dict = {random.randint(1, 10): random.randint(1, 100) for _ in range(dictionary_size)}\n",
    "\n",
    "print(\"Random Dictionary:\", random_dict)\n"
   ]
  },
  {
   "cell_type": "code",
   "execution_count": null,
   "metadata": {},
   "outputs": [],
   "source": [
    "# count occurences of all elements in dictionayr\n",
    "\n",
    "from collections import Counter\n",
    "\n",
    "# Sample dictionary\n",
    "sample_dict = {'a': 1, 'b': 2, 'c': 1, 'd': 3, 'e': 2, 'f': 1,'a': 16, 'b': 26, 'c': 11, 'd': 30, 'e': 21, 'f': 11}\n",
    "# if we define duplicate keys in dictionay as above\n",
    "# the duplicate keys will be overwritten, \n",
    "# and only the last occurrence of each key-value pair will be retained in the dictionary. \n",
    "\n",
    "# Count occurrences of all elements in the dictionary\n",
    "element_counts = Counter(sample_dict.values())\n",
    "print(element_counts)\n",
    "\n",
    "# Print the result\n",
    "print(\"Occurrences of all elements:\")\n",
    "for element, count in element_counts.items():\n",
    "    print(f\"{element}: {count}\")\n"
   ]
  },
  {
   "cell_type": "code",
   "execution_count": null,
   "metadata": {},
   "outputs": [],
   "source": [
    "# Dictionary methods\n",
    "#pop(): Removes the item with the specified key.\n",
    "#dictionary.pop(key[, default])\n",
    "print(cc)\n",
    "#rem=cc.pop('Italy')\n",
    "#rem2=cc.pop('japan')\n",
    "#print(rem)\n",
    "\n",
    "# random sales dictionary\n",
    "sales = { 'apple': 2, 'orange': 3, 'grapes': 4 }\n",
    "\n",
    "element = sales.pop('guava', 'banana')\n",
    "\n",
    "print('The popped element is:', element)\n",
    "print('The dictionary is:', sales)"
   ]
  },
  {
   "cell_type": "code",
   "execution_count": null,
   "metadata": {},
   "outputs": [],
   "source": [
    "#update(): Adds or changes dictionary items.\n",
    "marks = {'Physics':67, 'Maths':87}\n",
    "internal_marks = {'Physics':48}\n",
    "internal_marks= {\"Science\": 34}\n",
    "marks.update(internal_marks)\n",
    "\n",
    "\n",
    "print(marks)\n",
    "\n"
   ]
  },
  {
   "cell_type": "code",
   "execution_count": null,
   "metadata": {},
   "outputs": [],
   "source": [
    "\n",
    "#clear(): Remove all the items from the dictionary.\n",
    "#copy() : Returns a copy of the dictionary.\n",
    "marks1=marks.copy()\n",
    "print(marks1)\n",
    "\n",
    "marks1.clear()\n",
    "print(marks1)\n",
    "print(marks)"
   ]
  },
  {
   "cell_type": "code",
   "execution_count": null,
   "metadata": {},
   "outputs": [],
   "source": [
    "\n",
    "#keys():Returns all the dictionary's keys.\n",
    "\n",
    "cc_1=cc.copy()\n",
    "cc_1.clear()\n",
    "new={\"A\":1, \"B\":2,\"C\":3,\"D\":4}\n",
    "cc_1.update(new)\n",
    "print(cc_1)\n",
    "\n",
    "# extracting keys from dict\n",
    "k=cc_1.keys()\n",
    "print(f\"keys:::{k}\")\n",
    "\n",
    "\n",
    "# adding element to dict\n",
    "new.update({\"E\":5})\n",
    "print(f\"new:{new}\")\n",
    "#dict_keys(['A', 'B', 'C', 'D'])\n",
    "# here dict_keys() ; is a view object whichstore list of all keys"
   ]
  },
  {
   "cell_type": "code",
   "execution_count": null,
   "metadata": {},
   "outputs": [],
   "source": [
    "\n",
    "#values() : Returns all the dictionary's values.\n",
    "cc2=cc_1.copy()\n",
    "\n",
    "# extracting values \n",
    "v= cc2.values()\n",
    "print(f\"values of dict:::::::{v}\")\n",
    "\n",
    "\n",
    "# how dict works when values modified\n",
    "# random sales dictionary\n",
    "sales = { 'apple': 2, 'orange': 3, 'grapes': 4 }\n",
    "\n",
    "values = sales.values()\n",
    "\n",
    "print('Original items:', values)\n",
    "\n",
    "# delete an item from dictionary\n",
    "del[sales['apple']]\n",
    "del[cc2['A']]\n",
    "\n",
    "print('Updated items:', values)\n",
    "print('Updated items CC2:',cc2)\n",
    "\n",
    "\n",
    "\n",
    "\n"
   ]
  },
  {
   "cell_type": "code",
   "execution_count": null,
   "metadata": {},
   "outputs": [],
   "source": [
    "#get() : Returns the value of the specified key.\n",
    "\n",
    "scores = {\n",
    "    'Physics': 67, \n",
    "    'Maths': 87,\n",
    "    'History': 75\n",
    "}\n",
    "\n",
    "result = scores.get('Physics')\n",
    "\n",
    "print(result)"
   ]
  },
  {
   "cell_type": "code",
   "execution_count": null,
   "metadata": {},
   "outputs": [],
   "source": [
    "#popitem() :Returns the last inserted key and value as a tuple.\n",
    "cc3=cc2.copy()\n",
    "cc3"
   ]
  },
  {
   "cell_type": "code",
   "execution_count": null,
   "metadata": {},
   "outputs": [],
   "source": [
    "l=['2','300']\n",
    "l1=l\n",
    "#l1=l.copy()\n",
    "l1.append(4)\n",
    "print(l1,l)"
   ]
  },
  {
   "cell_type": "markdown",
   "metadata": {},
   "source": [
    "# Functions"
   ]
  },
  {
   "cell_type": "code",
   "execution_count": null,
   "metadata": {},
   "outputs": [],
   "source": [
    "lambda : print('Hello World')"
   ]
  },
  {
   "cell_type": "code",
   "execution_count": null,
   "metadata": {},
   "outputs": [],
   "source": [
    "# syntax of lambda function\n",
    "#lambda argument(s) : expression \n",
    "greet= lambda : print(\"hello\")\n",
    "greet() # for calling lambda function"
   ]
  },
  {
   "cell_type": "code",
   "execution_count": null,
   "metadata": {},
   "outputs": [],
   "source": [
    "# lambda function with argument\n",
    "# lambda that accepts one argument\n",
    "greet_user = lambda name : print('Hey there,', name)\n",
    "\n",
    "# lambda call\n",
    "greet_user('Delilah')\n"
   ]
  },
  {
   "cell_type": "code",
   "execution_count": null,
   "metadata": {},
   "outputs": [],
   "source": [
    "# lambda practic questions\n"
   ]
  },
  {
   "cell_type": "code",
   "execution_count": null,
   "metadata": {},
   "outputs": [],
   "source": [
    "# declare global variable\n",
    "message = 'Hello'\n",
    "s1=0\n",
    "def greet():\n",
    "    # declare local variable\n",
    "    print('Local', message)\n",
    "    print(s1+4)\n",
    "    #print(s2)\n",
    "\n",
    "greet()\n",
    "print('Global', message)\n",
    "\n",
    "#Here, we can see that we have accessed a global variable from the inside of a function.\n",
    "\n",
    "#However, if we try to modify the global variable from inside a function as:"
   ]
  },
  {
   "cell_type": "code",
   "execution_count": null,
   "metadata": {},
   "outputs": [],
   "source": [
    "# global variable\n",
    "c = 1 \n",
    "\n",
    "def add():\n",
    "\n",
    "     # increment c by 2\n",
    "    # c = c + 2 # we cant modify global variable from inside of a function\n",
    "\n",
    "    # print(c)\n",
    "    \n",
    "    d=c+2\n",
    "    print(f\"d ::::::::::::::::::; {d}\")\n",
    "\n",
    "add()"
   ]
  },
  {
   "cell_type": "code",
   "execution_count": null,
   "metadata": {},
   "outputs": [],
   "source": [
    "# if we want to modify global variable from inside \n",
    "# The solution for this is to use the global keyword.\n",
    "\n",
    "# global variable\n",
    "c = 1 \n",
    "\n",
    "def add():\n",
    "\n",
    "    # use of global keyword\n",
    "    global c\n",
    "\n",
    "    # increment c by 2\n",
    "    c = c + 2 \n",
    "\n",
    "    print(c)\n",
    "\n",
    "add()\n"
   ]
  },
  {
   "cell_type": "markdown",
   "metadata": {},
   "source": [
    "# lambda"
   ]
  },
  {
   "cell_type": "code",
   "execution_count": null,
   "metadata": {},
   "outputs": [],
   "source": [
    "#1 write lamba function for sq a given number\n",
    "square= lambda x : x**2\n",
    "print(square(5))\n"
   ]
  },
  {
   "cell_type": "code",
   "execution_count": null,
   "metadata": {},
   "outputs": [],
   "source": [
    "#2 lambda function that adds two number\n",
    "add= lambda x1,x2: x1+x2\n",
    "print(add(4,5))"
   ]
  },
  {
   "cell_type": "code",
   "execution_count": null,
   "metadata": {},
   "outputs": [],
   "source": [
    "# 3 Write a lambda function that checks whether a given number is even.\n",
    "\n",
    "check_even = lambda x : x %2==0\n",
    "print(check_even(4)) "
   ]
  },
  {
   "cell_type": "code",
   "execution_count": null,
   "metadata": {},
   "outputs": [],
   "source": [
    "# 4 lambda function to get max of three number\n",
    "max_of_three = lambda x,y,z: max(x,y,z)\n",
    "print(max_of_three(3,4,5))  \n"
   ]
  },
  {
   "cell_type": "code",
   "execution_count": null,
   "metadata": {},
   "outputs": [],
   "source": [
    "# 5 lambda function to reverse string\n",
    "rev_str= lambda str : str[::-1]\n",
    "print(\"reversed tring is \", rev_str(\"prabhat\"))"
   ]
  },
  {
   "cell_type": "code",
   "execution_count": null,
   "metadata": {},
   "outputs": [],
   "source": [
    "# 6 Write a lambda function that returns True if a given string starts with the letter 'A'.\n",
    "\n",
    "st_a =  lambda a : a[0].upper()=='A'\n",
    "print(st_a(\"animal\"))\n",
    "print(st_a(\"Animal\"))\n",
    "\n"
   ]
  },
  {
   "cell_type": "code",
   "execution_count": null,
   "metadata": {},
   "outputs": [],
   "source": [
    "# 7 Write a lambda function that computes the product of all elements in a list.\n",
    "\n",
    "prod = lambda list : 1 if not list else  \n",
    "print(prod([1,2]))\n",
    " "
   ]
  },
  {
   "cell_type": "code",
   "execution_count": null,
   "metadata": {},
   "outputs": [],
   "source": [
    "# reduce()\n",
    "# reduce function is a part of functools\n",
    "# reduce takes two arguemtns : function and iterables\n",
    "from functools import reduce\n",
    "# find product of all elements i list using reduce\n",
    "numbers = [2, 3, 4, 5]\n",
    "product = reduce(lambda x, y: x * y, numbers)\n",
    "print(product) \n",
    "\n",
    "\n",
    "\n"
   ]
  },
  {
   "cell_type": "code",
   "execution_count": null,
   "metadata": {},
   "outputs": [],
   "source": [
    "# filter()\n",
    "# syntax : filter(function, iterable)\n",
    "# filter returns an iterator\n",
    "numbers = [1, 2, 3, 4, 5, 6, 7, 8, 9, 10]\n",
    "\n",
    "# Define the function to filter even numbers\n",
    "def is_even(num):\n",
    "    return num % 2 == 0\n",
    "\n",
    "# Use filter to get only even numbers\n",
    "even_numbers = filter(is_even, numbers)\n",
    "print(\"even numbers\",even_numbers)\n",
    "for i in even_numbers:\n",
    "    print(i)\n",
    "# Convert the result to a list (since filter returns an iterator)\n",
    "even_numbers_list = list(even_numbers)\n",
    "\n",
    "#print(even_numbers_list)"
   ]
  },
  {
   "cell_type": "code",
   "execution_count": null,
   "metadata": {},
   "outputs": [],
   "source": [
    "\n",
    "# map()\n",
    "# syntax :map_object = map(function, iterable)\n",
    "numbers = [1, 2, 3, 4, 5]\n",
    "\n",
    "# Define the function to square a number\n",
    "def square(x):\n",
    "    return x ** 2\n",
    "\n",
    "# Use map to apply the square function to each element in the list\n",
    "squared_numbers = map(square, numbers)\n",
    "\n",
    "# Use map with a lambda function to square each element in the list\n",
    "squared_numbers = map(lambda x: x ** 2, numbers)\n",
    "even_numbers = map(lambda x: x % 2==0, numbers)\n",
    "print(squared_numbers,even_numbers)\n",
    "for i in squared_numbers:\n",
    "    print(f\"{i}\")\n",
    "    \n",
    "for i in even_numbers:\n",
    "    print(f\"even nymber {i}\")\n"
   ]
  },
  {
   "cell_type": "code",
   "execution_count": null,
   "metadata": {},
   "outputs": [],
   "source": [
    "\n",
    "\n",
    "# enumerate()\n",
    "# it returns index,value as 1st and 2nd paramter\n",
    "import random\n",
    "\n",
    "ran=[random.randint(1,10) for i in range(10)]\n",
    "for i,it in enumerate(ran):\n",
    "    print(i,it)"
   ]
  },
  {
   "cell_type": "code",
   "execution_count": null,
   "metadata": {},
   "outputs": [],
   "source": [
    "# zip()\n",
    "#The zip function in Python is used to combine elements from two or more iterables into tuples.\n",
    "\n",
    "list1 = [1, 2, 3]\n",
    "list2 = ['a', 'b', 'c']\n",
    "\n",
    "# Use zip to combine the two lists into tuples\n",
    "zip_result = zip(list1, list2)\n",
    "\n",
    "# Convert the result to a list (since zip returns an iterator)\n",
    "result_list = list(zip_result)\n",
    "res_dict=dict(result_list)\n",
    "print(f\"res dct:::::; {res_dict}\")\n",
    "\n",
    "print(result_list)\n",
    "\n"
   ]
  },
  {
   "cell_type": "code",
   "execution_count": null,
   "metadata": {},
   "outputs": [],
   "source": [
    "list1 = [1, 2, 3]\n",
    "list2 = ['a', 'b', 'c','d']\n",
    "\n",
    "my_dict = {}\n",
    "\n",
    "# Iterate over the indices of the lists\n",
    "for i in range(min(len(list1), len(list2))):\n",
    "    my_dict[list1[i]] = list2[i]\n",
    "\n",
    "print(my_dict)\n"
   ]
  },
  {
   "cell_type": "code",
   "execution_count": null,
   "metadata": {},
   "outputs": [],
   "source": [
    "#find cube using generator\n",
    "def gencube(n):\n",
    "    for i in range(n):\n",
    "        yield i**3\n",
    "        \n",
    "for i in gencube(6):\n",
    "    print(i)"
   ]
  },
  {
   "cell_type": "code",
   "execution_count": null,
   "metadata": {},
   "outputs": [],
   "source": [
    "import functools\n",
    "#The functools module is for higher-order functions: functions that act on or return other functions.\n",
    "product_of_list = lambda lst: 1 if not lst else functools.reduce(lambda x, y: x * y, lst)\n",
    "print(product_of_list([2, 3, 4])) \n"
   ]
  },
  {
   "cell_type": "code",
   "execution_count": null,
   "metadata": {},
   "outputs": [],
   "source": [
    "# 8 Write a lambda function to filter out even numbers from a list.\n",
    "filter_even = lambda lst: list(filter(lambda x: x % 2 != 0, lst))\n",
    "print(filter_even([1, 2, 3, 4, 5, 6]))\n"
   ]
  },
  {
   "cell_type": "code",
   "execution_count": null,
   "metadata": {},
   "outputs": [],
   "source": [
    "#9 Write a lambda function to extract the first character of each word in a list of strings.\n",
    "\n",
    "first_char_of_words = lambda lst: [word[0] for word in lst]\n",
    "print(first_char_of_words([\"apple\", \"banana\", \"cherry\"]))  # Output: ['a', 'b', 'c']\n"
   ]
  },
  {
   "cell_type": "code",
   "execution_count": null,
   "metadata": {},
   "outputs": [],
   "source": [
    "# 10 Write a lambda function that returns True if a number is a prime number.\n",
    "\n",
    "is_prime = lambda n: n > 1 and all(n % i != 0 for i in range(2, int(n**0.5) + 1))\n",
    "print(is_prime(7))  # Output: True\n",
    "print(is_prime(10))  # Output: False\n"
   ]
  },
  {
   "cell_type": "code",
   "execution_count": null,
   "metadata": {},
   "outputs": [],
   "source": [
    "# file operations in python\n",
    "#Hence, in Python, a file operation takes place in the following order:\n",
    "\n",
    "#1.Open a file\n",
    "#2.Read or write (perform operation)\n",
    "#3.Close the file\n"
   ]
  },
  {
   "cell_type": "code",
   "execution_count": null,
   "metadata": {},
   "outputs": [],
   "source": [
    "#open file in python\n",
    "# open a file\n",
    "file1 = open(\"/home/multi-sy-003/Videoverse_Projects/baseball/test.txt\", \"r\") # opening in read mode\n",
    "\n",
    "# read the file\n",
    "read_content = file1.read()\n",
    "print(read_content)\n",
    "\n",
    "#Closing a file will free up the resources that were tied with the file. \n",
    "# It is done using the close() method in Python. For example,\n",
    "file1.close()\n"
   ]
  },
  {
   "cell_type": "code",
   "execution_count": null,
   "metadata": {},
   "outputs": [],
   "source": [
    "# handling exceptions in file\n",
    "try:\n",
    "    file1 = open(\"test.txt\", \"r\")\n",
    "    #file1 = open(\"/home/multi-sy-003/Videoverse_Projects/baseball/test.txt\", \"r\") # opening in read mode\n",
    "\n",
    "    read_content = file1.read()\n",
    "    print(read_content)\n",
    "\n",
    "except Exception as e:\n",
    "    print(f\"error in reading file:::::::::;; {e}\")\n",
    "finally:\n",
    "    # close the file\n",
    "    file1.close()"
   ]
  },
  {
   "cell_type": "markdown",
   "metadata": {},
   "source": [
    "# File Operations"
   ]
  },
  {
   "cell_type": "code",
   "execution_count": null,
   "metadata": {},
   "outputs": [],
   "source": [
    "# use of with open syntax file\n",
    "# make a habit of opening file using below script\n",
    "#no need to close the file\n",
    "file2 = \"/home/multi-sy-003/Videoverse_Projects/baseball/test.txt\"\n",
    "\n",
    "with open(file2, \"r\") as r:\n",
    "    read_content = r.read()\n",
    "    print(read_content)"
   ]
  },
  {
   "cell_type": "code",
   "execution_count": null,
   "metadata": {},
   "outputs": [],
   "source": [
    "# writing to files in python\n",
    "#There are two things we need to remember while writing to a file.\n",
    "\n",
    "#If we try to open a file that doesn't exist, a new file is created.\n",
    "#If a file already exists, its content is erased, and new content is added to the file.\n"
   ]
  },
  {
   "cell_type": "code",
   "execution_count": null,
   "metadata": {},
   "outputs": [],
   "source": [
    "with open(\"test2.txt\", 'w') as w:\n",
    "    w.write(\"first line.\")\n",
    "    w.write(\"second line.\")"
   ]
  },
  {
   "cell_type": "code",
   "execution_count": null,
   "metadata": {},
   "outputs": [],
   "source": [
    "with open (\"test2.txt\", 'r') as r1:\n",
    "    read_c=r1.read()\n",
    "    print(read_c)"
   ]
  },
  {
   "cell_type": "code",
   "execution_count": null,
   "metadata": {},
   "outputs": [],
   "source": [
    "# write() vs writelines()\n",
    "\n",
    "#1.write(): write a string to file\n",
    "with open (\"test2.txt\", 'w') as w1:\n",
    "    w1.write(\"Hello, world\") #Expects a single string as input.\n",
    "    # Overwrites the existing content of the file with the new string"
   ]
  },
  {
   "cell_type": "code",
   "execution_count": null,
   "metadata": {},
   "outputs": [],
   "source": [
    "# writelines() : Writes a list of strings to the file, where each string represents a line.\n",
    "\n",
    "\n",
    "# Using writelines()\n",
    "with open('test2.txt', 'w') as file:\n",
    "    lines = ['Line 1\\n', 'Line 2\\n', 'Line 3\\n']\n",
    "    file.writelines(lines)\n"
   ]
  },
  {
   "cell_type": "code",
   "execution_count": null,
   "metadata": {},
   "outputs": [],
   "source": [
    "# read vs readlines\n",
    "#read() : read entire content of file as a single string\n",
    "with open (\"test2.txt\", 'r') as r1:\n",
    "    read_c=r1.read()\n",
    "    print(read_c)  # content returned as single string\n",
    "    \n",
    "    \n",
    "# readlines() : \n",
    "#Reads all the lines from the file and \n",
    "#returns them as a list of strings, where each string represents a line.\n",
    "with open (\"test2.txt\", 'r') as r1:\n",
    "    read_c=r1.readlines()\n",
    "    print(read_c) #A list of strings where each string corresponds to a line in the file.\n",
    "\n"
   ]
  },
  {
   "cell_type": "code",
   "execution_count": null,
   "metadata": {},
   "outputs": [],
   "source": [
    "# Python Directories and files\n",
    "import os\n",
    "curr_dir=os.getcwd()\n",
    "print(curr_dir)"
   ]
  },
  {
   "cell_type": "code",
   "execution_count": null,
   "metadata": {},
   "outputs": [],
   "source": [
    "# os.listdir() : This method takes in a path and returns a list of subdirectories and files in that path\n",
    "\n",
    "print(os.listdir())"
   ]
  },
  {
   "cell_type": "code",
   "execution_count": null,
   "metadata": {},
   "outputs": [],
   "source": [
    "os.mkdir(\"test\")"
   ]
  },
  {
   "cell_type": "code",
   "execution_count": null,
   "metadata": {},
   "outputs": [],
   "source": [
    "os.rmdir('test')"
   ]
  },
  {
   "cell_type": "code",
   "execution_count": 11,
   "metadata": {},
   "outputs": [],
   "source": [
    "# shutil\n",
    "\n",
    "#to remove a non-empty directory,\n",
    "#we can use the rmtree() method inside shutil modeule\n",
    "\n",
    "import shutil\n",
    "# delete \"mydir\" directory and all of its contents\n",
    "#shutil.rmtree(\"test\")\n",
    "path = \"/home/multi-sy-003/Videoverse_Projects/baseball/pyscene_detect/framepath/\"\n",
    "dir = \"1685304796_2572842\"\n",
    "c_path=path+dir\n",
    "shutil.rmtree(c_path)\n",
    "\n",
    "# this permanently deletes all folder and files inside\n"
   ]
  },
  {
   "cell_type": "code",
   "execution_count": null,
   "metadata": {},
   "outputs": [],
   "source": []
  },
  {
   "cell_type": "code",
   "execution_count": null,
   "metadata": {},
   "outputs": [],
   "source": [
    "if not os.path.exists(\"test2\"):\n",
    "    os.mkdir(\"test2\")\n",
    "    "
   ]
  },
  {
   "cell_type": "code",
   "execution_count": null,
   "metadata": {},
   "outputs": [],
   "source": [
    "os.mkdir('opencv')"
   ]
  },
  {
   "cell_type": "code",
   "execution_count": null,
   "metadata": {},
   "outputs": [],
   "source": [
    "os.getcwd()"
   ]
  },
  {
   "cell_type": "code",
   "execution_count": null,
   "metadata": {},
   "outputs": [],
   "source": [
    "os.rmdir('test2')"
   ]
  },
  {
   "cell_type": "code",
   "execution_count": null,
   "metadata": {},
   "outputs": [],
   "source": [
    "os.rmdir('opencv')"
   ]
  },
  {
   "cell_type": "markdown",
   "metadata": {},
   "source": [
    "# Thread"
   ]
  },
  {
   "cell_type": "code",
   "execution_count": null,
   "metadata": {},
   "outputs": [],
   "source": [
    "#thread runs in its own space, allowing multiple tasks to be executed simultaneously. \n",
    "\n",
    "# 1 basic threading\n",
    "from threading import Thread\n",
    "import time\n",
    "\n",
    "def print_numbers():\n",
    "    for i in range(5):\n",
    "        time.sleep(1)\n",
    "        print(i)\n",
    "\n",
    "def print_letters():\n",
    "    for letter in 'ABCDE':\n",
    "        time.sleep(1) # pause for 1 sec\n",
    "        print(letter)\n",
    "\n",
    "# Creating threads\n",
    "thread1 = Thread(target=print_numbers)\n",
    "thread2 = Thread(target=print_letters)\n",
    "\n",
    "# Starting threads\n",
    "thread1.start()\n",
    "thread2.start()\n",
    "\n",
    "# Waiting for threads to finish\n",
    "thread1.join()\n",
    "thread2.join()\n",
    "\n",
    "print(\"Both threads have finished.\")\n",
    "#The join method is called on each thread to wait for them to complete before moving on.\n"
   ]
  },
  {
   "cell_type": "markdown",
   "metadata": {},
   "source": [
    "# glob"
   ]
  },
  {
   "cell_type": "code",
   "execution_count": null,
   "metadata": {},
   "outputs": [],
   "source": [
    "#that can be used to match files and directories using shell-style patterns. This is particularly useful for working with file paths that match a certain pattern. Here are some examples:\n",
    "    \n",
    "import glob\n",
    "\n",
    "# Match all .txt files in the current directory\n",
    "txt_files = glob.glob('*.txt')\n",
    "print(\"Text Files:\", txt_files)\n",
    "\n",
    "# Match all files in the current directory\n",
    "all_files = glob.glob('*')\n",
    "print(\"All Files:\", all_files)\n",
    "\n"
   ]
  },
  {
   "cell_type": "code",
   "execution_count": null,
   "metadata": {},
   "outputs": [],
   "source": [
    "import os\n",
    "os.getcwd()"
   ]
  },
  {
   "cell_type": "code",
   "execution_count": null,
   "metadata": {},
   "outputs": [],
   "source": [
    "import glob\n",
    "directory_path=\"/home/multi-sy-003/Videoverse_Projects/baseball\"\n",
    "jpg_files=glob.glob(directory_path + \"/\" + \"*.jpg\")\n",
    "print(jpg_files)"
   ]
  },
  {
   "cell_type": "code",
   "execution_count": null,
   "metadata": {},
   "outputs": [],
   "source": [
    "# Recursive file matching\n",
    "import glob\n",
    "\n",
    "# Match all .txt files in the current directory and its subdirectories\n",
    "txt_files_recursive = glob.glob('**/*.txt', recursive=True)\n",
    "print(\"Recursive Text Files:\", txt_files_recursive)\n"
   ]
  },
  {
   "cell_type": "code",
   "execution_count": null,
   "metadata": {},
   "outputs": [],
   "source": [
    "# matching directoreis\n",
    "\n",
    "import glob\n",
    "\n",
    "# Match all directories in the current directory\n",
    "directories = glob.glob('*/*/')\n",
    "print(\"Directories:\", directories)\n"
   ]
  },
  {
   "cell_type": "code",
   "execution_count": null,
   "metadata": {},
   "outputs": [],
   "source": [
    "# using wildcard\n",
    "import glob\n",
    "\n",
    "# Match files that start with 'file' and have any extension\n",
    "files_starting_with_file = glob.glob('file*.*')\n",
    "print(\"Files Starting with 'file':\", files_starting_with_file)\n"
   ]
  },
  {
   "cell_type": "code",
   "execution_count": null,
   "metadata": {},
   "outputs": [],
   "source": [
    "# using character ranges\n",
    "import glob\n",
    "\n",
    "# Match files with names like 'file1.txt', 'file2.txt', ..., 'file9.txt'\n",
    "files_with_numbers = glob.glob('file[1-9].txt')\n",
    "print(\"Files with Numbers:\", files_with_numbers)\n"
   ]
  },
  {
   "cell_type": "markdown",
   "metadata": {},
   "source": [
    "# json operations"
   ]
  },
  {
   "cell_type": "code",
   "execution_count": null,
   "metadata": {},
   "outputs": [],
   "source": [
    "# json is lightweight data interchange format \n",
    "# used for data exchange btw server and web applications\n"
   ]
  },
  {
   "cell_type": "code",
   "execution_count": null,
   "metadata": {},
   "outputs": [],
   "source": [
    "import json\n",
    "# encoding\n",
    "\n",
    "# Example dictionary\n",
    "data = {\n",
    "    \"name\": \"John\",\n",
    "    \"age\": 30,\n",
    "    \"city\": \"New York\"\n",
    "}\n",
    "\n",
    "# Convert Python dictionary to JSON string\n",
    "json_string = json.dumps(data, indent=6)\n",
    "print(\"JSON String:\", json_string)\n",
    "\n",
    "\n",
    "# decoding\n",
    "\n",
    "# Example JSON string\n",
    "json_string = '{\"name\": \"John\", \"age\": 30, \"city\": \"New York\"}'\n",
    "\n",
    "# Convert JSON string to Python dictionary\n",
    "python_dict = json.loads(json_string)\n",
    "print(\"Python Dictionary:\", python_dict)\n"
   ]
  },
  {
   "cell_type": "markdown",
   "metadata": {},
   "source": [
    "# Multithreading"
   ]
  },
  {
   "cell_type": "code",
   "execution_count": null,
   "metadata": {},
   "outputs": [],
   "source": [
    "#xecute multiple threads (tasks) concurrently within the same process. Here's a b\n",
    "from threading import Thread\n",
    "import time\n",
    "\n",
    "# Define a function that will be executed by each thread\n",
    "def print_numbers():\n",
    "    for i in range(5):\n",
    "        #print(Thread.current_thread().getName(), i)\n",
    "        time.sleep(1)  # Simulate some work being done\n",
    "\n",
    "# Create two threads\n",
    "thread1 = Thread(target=print_numbers, name='Thread 1')\n",
    "thread2 = Thread(target=print_numbers, name='Thread 2')\n",
    "\n",
    "# Start the threads\n",
    "thread1.start()\n",
    "thread2.start()\n",
    "\n",
    "# Wait for both threads to finish\n",
    "thread1.join()\n",
    "thread2.join()\n",
    "\n",
    "print(\"Threads finished execution\")\n"
   ]
  },
  {
   "cell_type": "markdown",
   "metadata": {},
   "source": [
    "# Exceptions"
   ]
  },
  {
   "cell_type": "code",
   "execution_count": null,
   "metadata": {},
   "outputs": [],
   "source": [
    "# errors that occurs at runtine\n",
    "#try to open a file(for reading) that does not exist (FileNotFoundError)\n",
    "#try to divide a number by zero (ZeroDivisionError)\n",
    "#try to import a module that does not exist (ImportError) and so on\n",
    "\n",
    "\n",
    "\n",
    "# see all builtin exceptions\n",
    "print(dir(locals()['__builtins__']))"
   ]
  },
  {
   "cell_type": "code",
   "execution_count": null,
   "metadata": {},
   "outputs": [],
   "source": [
    "# AssertionError : Raised when an assert statement fails.\n",
    "# AttributeError : Raised when attribute assignment or reference fails.\n",
    "#ValueError : Raised when a function gets an argument of correct type but improper value.\n",
    "# TypeError : Raised when a function or operation is applied to an object of incorrect type."
   ]
  },
  {
   "cell_type": "code",
   "execution_count": null,
   "metadata": {},
   "outputs": [],
   "source": [
    "#Errors represent conditions such as compilation error, syntax error, error in the logical part of the code, library incompatibility, infinite recursion, etc.\n",
    "#Errors are usually beyond the control of the programmer and we should not try to handle errors.\n",
    "\n",
    "#Exceptions can be caught and handled by the program."
   ]
  },
  {
   "cell_type": "code",
   "execution_count": null,
   "metadata": {},
   "outputs": [],
   "source": [
    "# user defined exceptions\n",
    "# define Python user-defined exceptions\n",
    "class InvalidAgeException(Exception):\n",
    "    \"Raised when the input value is less than 18\"\n",
    "    pass\n",
    "\n",
    "# you need to guess this number\n",
    "number = 18\n",
    "\n",
    "try:\n",
    "    input_num = int(input(\"Enter a number: \"))\n",
    "    if input_num < number:\n",
    "        raise InvalidAgeException\n",
    "    else:\n",
    "        print(\"Eligible to Vote\")\n",
    "        \n",
    "except InvalidAgeException:\n",
    "    print(\"Exception occurred: Invalid Age\")"
   ]
  },
  {
   "cell_type": "code",
   "execution_count": null,
   "metadata": {},
   "outputs": [],
   "source": [
    "# zero divison error\n",
    "\n",
    "try:\n",
    "    numerator = 10\n",
    "    denominator = 0\n",
    "\n",
    "    result = numerator/denominator\n",
    "\n",
    "    print(result)\n",
    "except:\n",
    "    print(\"Error: Denominator cannot be 0.\")\n"
   ]
  },
  {
   "cell_type": "code",
   "execution_count": null,
   "metadata": {},
   "outputs": [],
   "source": [
    "# program to print the reciprocal of even numbers\n",
    "\n",
    "try:\n",
    "    num = int(input(\"Enter a number: \"))\n",
    "    assert num % 2 == 0\n",
    "except:\n",
    "    print(\"Not an even number!\")\n",
    "else:\n",
    "    reciprocal = 1/num\n",
    "    print(reciprocal)"
   ]
  },
  {
   "cell_type": "code",
   "execution_count": null,
   "metadata": {},
   "outputs": [],
   "source": [
    "num = int(input(\"Enter a number: \"))\n",
    "assert num % 2 == 0\n"
   ]
  },
  {
   "cell_type": "code",
   "execution_count": null,
   "metadata": {},
   "outputs": [],
   "source": [
    "#example 1\n",
    "\n",
    "try:\n",
    "    # Code that might raise an exception\n",
    "    num1 = int(input(\"Enter a number: \"))\n",
    "    num2 = int(input(\"Enter another number: \"))\n",
    "    result = num1 / num2\n",
    "    print(\"Result:\", result)\n",
    "\n",
    "except ZeroDivisionError:\n",
    "    print(\"Error: Cannot divide by zero!\")\n",
    "\n",
    "except ValueError:\n",
    "    print(\"Error: Invalid input! Please enter a number.\")\n",
    "\n",
    "except Exception as e:\n",
    "    print(\"An unexpected error occurred:\", e)\n",
    "\n",
    "else:\n",
    "    print(\"No exceptions were raised.\")\n",
    "\n",
    "finally:\n",
    "    print(\"This block always executes, regardless of exceptions.\")\n"
   ]
  },
  {
   "cell_type": "code",
   "execution_count": null,
   "metadata": {},
   "outputs": [],
   "source": [
    "#Example 2: Handling Multiple Exceptions\n",
    "try:\n",
    "    file = open(\"nonexistent_file.txt\", \"r\")\n",
    "    content = file.read()\n",
    "    file.close()\n",
    "\n",
    "except FileNotFoundError:\n",
    "    print(\"Error: File not found!\")\n",
    "\n",
    "except PermissionError:\n",
    "    print(\"Error: Permission denied!\")\n",
    "\n",
    "except Exception as e:\n",
    "    print(\"An unexpected error occurred:\", e)\n"
   ]
  },
  {
   "cell_type": "code",
   "execution_count": null,
   "metadata": {},
   "outputs": [],
   "source": [
    "# example 3 custom exceptions\n",
    "class CustomError(Exception):\n",
    "    def __init__(self, message):\n",
    "        self.message = message\n",
    "\n",
    "try:\n",
    "    raise CustomError(\"This is a custom exception.\")\n",
    "\n",
    "except CustomError as ce:\n",
    "    print(\"Custom exception caught:\", ce.message)\n"
   ]
  },
  {
   "cell_type": "code",
   "execution_count": null,
   "metadata": {},
   "outputs": [],
   "source": [
    "# using else and finally block\n",
    "try:\n",
    "    result = 10 / 2\n",
    "\n",
    "except ZeroDivisionError:\n",
    "    print(\"Error: Cannot divide by zero!\")\n",
    "\n",
    "else:\n",
    "    print(\"Result:\", result)\n",
    "\n",
    "finally:\n",
    "    print(\"This block always executes, regardless of exceptions.\")\n"
   ]
  },
  {
   "cell_type": "code",
   "execution_count": null,
   "metadata": {},
   "outputs": [],
   "source": [
    "# create a random list and store all item of list into dictionary with their index value as key \n",
    "# and item as value\n",
    "import random\n",
    "dict={}\n",
    "list1= [random.randint(1,5) for i in range(10)]\n",
    "print(f\"list\",list1)\n",
    "\n",
    "for i,val in enumerate(list1):\n",
    "    dict[i]=val\n",
    "    \n",
    "print(f\"final dict\",dict)"
   ]
  },
  {
   "cell_type": "code",
   "execution_count": null,
   "metadata": {},
   "outputs": [],
   "source": [
    "def is_prime(n):\n",
    "    if n < 2:\n",
    "        return False  # Numbers less than 2 are not prime\n",
    "    \n",
    "    for i in range(2,n):\n",
    "        if n % i == 0:\n",
    "            return False  # If n is divisible by any number in this range, it's not prime\n",
    "    \n",
    "    return True  # If no divisors were found, n is prime\n",
    "\n",
    "# Example usage:\n",
    "number_to_check = 11\n",
    "if is_prime(number_to_check):\n",
    "    print(f\"{number_to_check} is prime.\")\n",
    "else:\n",
    "    print(f\"{number_to_check} is not prime.\")\n"
   ]
  },
  {
   "cell_type": "code",
   "execution_count": null,
   "metadata": {},
   "outputs": [],
   "source": [
    "l1= [\"2\",\"3\",\"2\",\"5\"]\n",
    "l2=set(l1)\n",
    "print(l2)"
   ]
  },
  {
   "cell_type": "code",
   "execution_count": null,
   "metadata": {},
   "outputs": [],
   "source": []
  },
  {
   "cell_type": "markdown",
   "metadata": {},
   "source": [
    "# practice ques"
   ]
  },
  {
   "cell_type": "code",
   "execution_count": null,
   "metadata": {},
   "outputs": [],
   "source": [
    "# Reverse a String:\n",
    "# Write a function to reverse a string in Python.\n",
    "\n",
    "# Palindrome Check:\n",
    "# Write a function to check if a given string is a palindrome.\n",
    "\n",
    "# Factorial Calculation:\n",
    "# Write a function to calculate the factorial of a given number.\n",
    "\n",
    "# Fibonacci Sequence:\n",
    "# Implement a function to generate the Fibonacci sequence up to a specified limit.\n",
    "\n",
    "# Find the Maximum Element in a List:\n",
    "# Write a function to find the maximum element in a list.\n",
    "\n",
    "# Remove Duplicates from a List:\n",
    "# Write a function to remove duplicates from a list.\n",
    "\n",
    "# Anagram Check:\n",
    "# Write a function to check if two strings are anagrams.\n",
    "\n",
    "# Count Words in a String:\n",
    "# Write a function to count the number of words in a given string.\n",
    "\n",
    "# Binary Search:\n",
    "# Implement the binary search algorithm to find an element in a sorted list.\n",
    "\n",
    "# Check for Prime Number:\n",
    "# Write a function to check if a given number is prime.\n",
    "\n",
    "# Merge Two Sorted Lists:\n",
    "# Write a function to merge two sorted lists into a new sorted list.\n",
    "\n",
    "# Calculate Power:\n",
    "# Write a function to calculate the power of a number using recursion.\n",
    "\n",
    "# Find Missing Number:\n",
    "# Given a list containing n distinct numbers taken from the range 0 to n, find the one that is missing.\n",
    "\n",
    "# Matrix Transpose:\n",
    "# Write a function to transpose a matrix.\n",
    "\n",
    "# Implement a Stack:\n",
    "# Implement a stack data structure with push, pop, and peek operations.\n",
    "\n",
    "# Check for Balanced Parentheses:\n",
    "# Write a function to check if a given expression has balanced parentheses.\n",
    "\n",
    "# Calculate the GCD (Greatest Common Divisor):\n",
    "# Write a function to calculate the GCD of two numbers.\n",
    "\n",
    "# Rotate a List:\n",
    "# Given a list and an integer k, rotate the list to the right by k steps.\n",
    "\n",
    "# Implement a Queue:\n",
    "# Implement a queue data structure with enqueue and dequeue operations.\n",
    "\n",
    "# Calculate Square Root:\n",
    "# Write a function to calculate the square root of a given number.\n",
    "\n"
   ]
  },
  {
   "cell_type": "markdown",
   "metadata": {},
   "source": [
    "#write vales to csv after every iteration like in single columns videro and other colum its predictions\n",
    "## save list of dictionary to csv\n",
    "## dave dictionay to a csv"
   ]
  },
  {
   "cell_type": "code",
   "execution_count": null,
   "metadata": {},
   "outputs": [],
   "source": []
  },
  {
   "cell_type": "code",
   "execution_count": null,
   "metadata": {},
   "outputs": [],
   "source": []
  },
  {
   "cell_type": "markdown",
   "metadata": {},
   "source": [
    "# OOPS"
   ]
  },
  {
   "cell_type": "code",
   "execution_count": null,
   "metadata": {},
   "outputs": [],
   "source": [
    "#Class: It specifies what attributes (characteristics or properties) and methods (actions or behaviors) the object will have."
   ]
  },
  {
   "cell_type": "code",
   "execution_count": 1,
   "metadata": {},
   "outputs": [],
   "source": [
    "class clg:\n",
    "    def __init__(self,phone,email,id):\n",
    "        self.phone=phone\n",
    "        self.email=email\n",
    "        self.id=id\n",
    "        \n",
    "    def return_values(self):\n",
    "        return self.phone,self.email,self.id\n",
    "    \n",
    "    "
   ]
  },
  {
   "cell_type": "code",
   "execution_count": 2,
   "metadata": {},
   "outputs": [
    {
     "ename": "TypeError",
     "evalue": "__init__() missing 3 required positional arguments: 'phone', 'email', and 'id'",
     "output_type": "error",
     "traceback": [
      "\u001b[0;31m---------------------------------------------------------------------------\u001b[0m",
      "\u001b[0;31mTypeError\u001b[0m                                 Traceback (most recent call last)",
      "Cell \u001b[0;32mIn[2], line 1\u001b[0m\n\u001b[0;32m----> 1\u001b[0m obj1\u001b[38;5;241m=\u001b[39m\u001b[43mclg\u001b[49m\u001b[43m(\u001b[49m\u001b[43m)\u001b[49m\n",
      "\u001b[0;31mTypeError\u001b[0m: __init__() missing 3 required positional arguments: 'phone', 'email', and 'id'"
     ]
    }
   ],
   "source": [
    "obj1=clg()"
   ]
  },
  {
   "cell_type": "code",
   "execution_count": 4,
   "metadata": {},
   "outputs": [],
   "source": [
    "obj1=clg(7512,\"abc@gmail.com\",6)"
   ]
  },
  {
   "cell_type": "code",
   "execution_count": 5,
   "metadata": {},
   "outputs": [
    {
     "data": {
      "text/plain": [
       "7512"
      ]
     },
     "execution_count": 5,
     "metadata": {},
     "output_type": "execute_result"
    }
   ],
   "source": [
    "obj1.phone"
   ]
  },
  {
   "cell_type": "markdown",
   "metadata": {},
   "source": [
    "# Polymorphism : func having diffeent behaviour"
   ]
  },
  {
   "cell_type": "markdown",
   "metadata": {},
   "source": []
  },
  {
   "cell_type": "code",
   "execution_count": 6,
   "metadata": {},
   "outputs": [],
   "source": [
    "def test(a,b):\n",
    "    return a+b\n",
    "\n"
   ]
  },
  {
   "cell_type": "code",
   "execution_count": 7,
   "metadata": {},
   "outputs": [
    {
     "data": {
      "text/plain": [
       "5"
      ]
     },
     "execution_count": 7,
     "metadata": {},
     "output_type": "execute_result"
    }
   ],
   "source": [
    "test(2,3) # function behaviour changing"
   ]
  },
  {
   "cell_type": "code",
   "execution_count": 8,
   "metadata": {},
   "outputs": [
    {
     "data": {
      "text/plain": [
       "'pk'"
      ]
     },
     "execution_count": 8,
     "metadata": {},
     "output_type": "execute_result"
    }
   ],
   "source": [
    "test(\"p\",\"k\")# here function concatenationg string"
   ]
  },
  {
   "cell_type": "code",
   "execution_count": 9,
   "metadata": {},
   "outputs": [
    {
     "data": {
      "text/plain": [
       "[1, 2, 3, 4, 2, 3, 4]"
      ]
     },
     "execution_count": 9,
     "metadata": {},
     "output_type": "execute_result"
    }
   ],
   "source": [
    "test([1,2,3,4],[2,3,4])"
   ]
  },
  {
   "cell_type": "code",
   "execution_count": 28,
   "metadata": {},
   "outputs": [],
   "source": [
    "# how to acheive conept of pilymorphism in oops\n",
    "class ds:\n",
    "    def syllabus(self):\n",
    "        print(\"this is my method for datas cienec\")\n",
    "        \n",
    "class web:\n",
    "    def syllabus(self):\n",
    "        print(\"this is syllabus of web\")"
   ]
  },
  {
   "cell_type": "code",
   "execution_count": 38,
   "metadata": {},
   "outputs": [],
   "source": [
    "def test_poly(object):\n",
    "    print(f'object-----{object}')\n",
    "    for i in object:\n",
    "        #print(i.syllabus()) # try this also it print something inside print\n",
    "        i.syllabus()"
   ]
  },
  {
   "cell_type": "code",
   "execution_count": 39,
   "metadata": {},
   "outputs": [],
   "source": [
    "ds_ob=ds()"
   ]
  },
  {
   "cell_type": "code",
   "execution_count": 40,
   "metadata": {},
   "outputs": [],
   "source": [
    "deb_obj=web()"
   ]
  },
  {
   "cell_type": "code",
   "execution_count": 41,
   "metadata": {},
   "outputs": [],
   "source": [
    "# storing above objs into list\n",
    "cls_obj = [ds_ob,deb_obj]"
   ]
  },
  {
   "cell_type": "code",
   "execution_count": 42,
   "metadata": {},
   "outputs": [
    {
     "name": "stdout",
     "output_type": "stream",
     "text": [
      "object-----[<__main__.ds object at 0x7f39605aabe0>, <__main__.web object at 0x7f3960488df0>]\n",
      "this is my method for datas cienec\n",
      "this is syllabus of web\n"
     ]
    }
   ],
   "source": [
    "test_poly(cls_obj)"
   ]
  },
  {
   "cell_type": "markdown",
   "metadata": {},
   "source": []
  },
  {
   "cell_type": "markdown",
   "metadata": {},
   "source": [
    "# Encapsulation\n",
    "## it help to hide important varibale ,no body can access outside class\n",
    "## example is capsule"
   ]
  },
  {
   "cell_type": "code",
   "execution_count": 50,
   "metadata": {},
   "outputs": [],
   "source": [
    "class test():\n",
    "    def __init__(self,a,b):\n",
    "        self.a=a\n",
    "        self.b=b\n",
    "        \n",
    "        "
   ]
  },
  {
   "cell_type": "code",
   "execution_count": 44,
   "metadata": {},
   "outputs": [
    {
     "ename": "TypeError",
     "evalue": "test() missing 2 required positional arguments: 'a' and 'b'",
     "output_type": "error",
     "traceback": [
      "\u001b[0;31m---------------------------------------------------------------------------\u001b[0m",
      "\u001b[0;31mTypeError\u001b[0m                                 Traceback (most recent call last)",
      "Cell \u001b[0;32mIn[44], line 1\u001b[0m\n\u001b[0;32m----> 1\u001b[0m obj_t\u001b[38;5;241m=\u001b[39m\u001b[43mtest\u001b[49m\u001b[43m(\u001b[49m\u001b[43m)\u001b[49m\n",
      "\u001b[0;31mTypeError\u001b[0m: test() missing 2 required positional arguments: 'a' and 'b'"
     ]
    }
   ],
   "source": [
    "obj_t=test()"
   ]
  },
  {
   "cell_type": "code",
   "execution_count": 51,
   "metadata": {},
   "outputs": [],
   "source": [
    "t=test(5,4)"
   ]
  },
  {
   "cell_type": "code",
   "execution_count": 52,
   "metadata": {},
   "outputs": [
    {
     "data": {
      "text/plain": [
       "5"
      ]
     },
     "execution_count": 52,
     "metadata": {},
     "output_type": "execute_result"
    }
   ],
   "source": [
    "t.a"
   ]
  },
  {
   "cell_type": "code",
   "execution_count": 53,
   "metadata": {},
   "outputs": [],
   "source": [
    "# changing variable outside\n",
    "t.a=10\n"
   ]
  },
  {
   "cell_type": "code",
   "execution_count": 54,
   "metadata": {},
   "outputs": [
    {
     "data": {
      "text/plain": [
       "10"
      ]
     },
     "execution_count": 54,
     "metadata": {},
     "output_type": "execute_result"
    }
   ],
   "source": [
    "t.a # here variable gets changes ,wo dont use in production"
   ]
  },
  {
   "cell_type": "code",
   "execution_count": null,
   "metadata": {},
   "outputs": [],
   "source": [
    "class car:\n",
    "    "
   ]
  },
  {
   "cell_type": "code",
   "execution_count": null,
   "metadata": {},
   "outputs": [],
   "source": [
    "class Parrot:\n",
    "# class attribute\n",
    "    name = \"\"\n",
    "    age = 0\n",
    "\n",
    "# create parrot1 object\n",
    "parrot1 = Parrot()\n",
    "parrot1.name = \"Blu\"\n",
    "parrot1.age = 10\n",
    "\n",
    "# create another object parrot2\n",
    "parrot2 = Parrot()\n",
    "parrot2.name = \"Woo\"\n",
    "parrot2.age = 15\n",
    "\n",
    "# access attributes\n",
    "print(f\"{parrot1.name} is {parrot1.age} years old\")\n",
    "print(f\"{parrot2.name} is {parrot2.age} years old\")"
   ]
  },
  {
   "cell_type": "markdown",
   "metadata": {},
   "source": [
    "# Inheritance"
   ]
  },
  {
   "cell_type": "code",
   "execution_count": null,
   "metadata": {},
   "outputs": [],
   "source": [
    "# Inheritance\n",
    "\n",
    "#Inheritance is a way of creating a new class for using details of an existing class without modifying it.\n",
    "#The newly formed class is a derived class (or child class). Similarly, the existing class is a base class (or parent class"
   ]
  },
  {
   "cell_type": "code",
   "execution_count": null,
   "metadata": {},
   "outputs": [],
   "source": [
    "# base class\n",
    "class Animal:\n",
    "    \n",
    "    def eat(self):\n",
    "        print( \"I can eat!\")\n",
    "    \n",
    "    def sleep(self):\n",
    "        print(\"I can sleep!\")\n",
    "\n",
    "# derived class\n",
    "class Dog(Animal):\n",
    "    \n",
    "    def bark(self):\n",
    "        print(\"I can bark! Woof woof!!\")\n",
    "\n",
    "# Create object of the Dog class\n",
    "dog1 = Dog()\n",
    "\n",
    "# Calling members of the base class\n",
    "dog1.eat()\n",
    "dog1.sleep()\n",
    "\n",
    "# Calling member of the derived class\n",
    "dog1.bark()"
   ]
  },
  {
   "cell_type": "code",
   "execution_count": null,
   "metadata": {},
   "outputs": [],
   "source": [
    "# super class \n",
    "class Animal:\n",
    "\n",
    "    name = \"\"\n",
    "    \n",
    "    def eat(self):\n",
    "        print(\"I can eat\")\n",
    "\n",
    "# inherit from Animal\n",
    "class Dog(Animal):\n",
    "    \n",
    "    # override eat() method\n",
    "    def eat(self):\n",
    "        \n",
    "        # call the eat() method of the superclass using super()\n",
    "        super().eat()\n",
    "        \n",
    "        print(\"I like to eat bones\")\n",
    "\n",
    "# create an object of the subclass\n",
    "labrador = Dog()\n",
    "\n",
    "labrador.eat()"
   ]
  },
  {
   "cell_type": "code",
   "execution_count": null,
   "metadata": {},
   "outputs": [],
   "source": [
    "# call method of superclass\n",
    "super().eat()\n",
    "\n",
    "# call the eat() method\n",
    "labrador.eat()"
   ]
  },
  {
   "cell_type": "code",
   "execution_count": null,
   "metadata": {},
   "outputs": [],
   "source": [
    "# use of super class\n",
    "\n",
    "#Allows us to avoid using the base class name explicitly\n",
    "#Working with Multiple Inheritance\n",
    "\n",
    "class Mammal:\n",
    "    def mammal_info(self):\n",
    "        print(\"Mammals can give direct birth.\")\n",
    "\n",
    "class WingedAnimal:\n",
    "    def winged_animal_info(self):\n",
    "        print(\"Winged animals can flap.\")\n",
    "\n",
    "class Bat(Mammal, WingedAnimal):\n",
    "    pass\n",
    "\n",
    "# create an object of Bat class\n",
    "b1 = Bat()\n",
    "\n",
    "b1.mammal_info()\n",
    "b1.winged_animal_info()\n"
   ]
  },
  {
   "cell_type": "code",
   "execution_count": null,
   "metadata": {},
   "outputs": [],
   "source": [
    "# Multilevel Inheritance\n"
   ]
  },
  {
   "cell_type": "code",
   "execution_count": null,
   "metadata": {},
   "outputs": [],
   "source": [
    "# super class with single inheritance\n",
    "class Mammal(object):\n",
    "  def __init__(self, mammalName):\n",
    "    print(mammalName, 'is a warm-blooded animal.')\n",
    "    \n",
    "class Dog(Mammal):\n",
    "  def __init__(self):\n",
    "    print('Dog has four legs.')\n",
    "    super().__init__('Dog')\n",
    "    \n",
    "d1 = Dog()\n",
    "#Here, we called the __init__() method of the Mammal class (from the Dog class) using code\n",
    "super().__init__('Dog')\n",
    "Mammal.__init__(self, 'Dog')"
   ]
  },
  {
   "cell_type": "code",
   "execution_count": null,
   "metadata": {},
   "outputs": [],
   "source": [
    "#  super class with multiple inheritance\n",
    "class Animal:\n",
    "  def __init__(self, Animal):\n",
    "    print(Animal, 'is an animal.');\n",
    "\n",
    "class Mammal(Animal):\n",
    "  def __init__(self, mammalName):\n",
    "    print(mammalName, 'is a warm-blooded animal.')\n",
    "    super().__init__(mammalName)\n",
    "    \n",
    "class NonWingedMammal(Mammal):\n",
    "  def __init__(self, NonWingedMammal):\n",
    "    print(NonWingedMammal, \"can't fly.\")\n",
    "    super().__init__(NonWingedMammal)\n",
    "\n",
    "class NonMarineMammal(Mammal):\n",
    "  def __init__(self, NonMarineMammal):\n",
    "    print(NonMarineMammal, \"can't swim.\")\n",
    "    super().__init__(NonMarineMammal)\n",
    "\n",
    "class Dog(NonMarineMammal, NonWingedMammal):\n",
    "  def __init__(self):\n",
    "    print('Dog has 4 legs.');\n",
    "    super().__init__('Dog')\n",
    "    \n",
    "d = Dog()\n",
    "print('')\n",
    "bat = NonMarineMammal('Bat')"
   ]
  },
  {
   "cell_type": "code",
   "execution_count": null,
   "metadata": {},
   "outputs": [],
   "source": [
    "#Method Resolution Order (MRO) is the order in which \n",
    "# methods should be inherited in the presence of multiple inheritance.\n",
    "# You can view the MRO by using the __mro__ attribute."
   ]
  },
  {
   "cell_type": "code",
   "execution_count": null,
   "metadata": {},
   "outputs": [],
   "source": [
    "class Animal(object):\n",
    "  def __init__(self, animal_type):\n",
    "    print('Animal Type:', animal_type)\n",
    "    \n",
    "class Mammal(Animal):\n",
    "  def __init__(self):\n",
    "\n",
    "    # call superclass\n",
    "    super().__init__('Mammal')\n",
    "    print('Mammals give birth directly')\n",
    "    \n",
    "dog = Mammal()\n",
    "\n",
    "# Output: Animal Type: Mammal\n",
    "#         Mammals give birth directly"
   ]
  },
  {
   "cell_type": "code",
   "execution_count": null,
   "metadata": {},
   "outputs": [],
   "source": [
    "# base class\n",
    "class Animal():\n",
    "    def eat(self):\n",
    "        print(\"i can eat\")\n",
    "    def sleep(self):\n",
    "        print(\"i can sleep\")\n",
    "# child class        \n",
    "class dog(Animal):\n",
    "    def bark(self):\n",
    "        print(\"i can bark\")\n",
    "        \n",
    "dog1=dog()\n",
    "dog1.eat()\n",
    "dog1.sleep()\n",
    "dog1.bark()"
   ]
  },
  {
   "cell_type": "code",
   "execution_count": null,
   "metadata": {},
   "outputs": [],
   "source": [
    "# operator overloading\n",
    "# __str__(): returns a string representation of the object\n",
    "\n",
    "class Point:\n",
    "    def __init__(self, x=0, y=0):\n",
    "        self.x = x\n",
    "        self.y = y\n",
    "\n",
    "    def __str__(self):\n",
    "        return \"({0},{1})\".format(self.x, self.y)\n",
    "\n",
    "    def __add__(self, other):\n",
    "        x = self.x + other.x\n",
    "        y = self.y + other.y\n",
    "        return Point(x, y)\n",
    "\n",
    "\n",
    "p1 = Point(1, 2)\n",
    "p2 = Point(2, 3)\n",
    "\n",
    "print(p1+p2)\n",
    "\n",
    "# Output: (3,5)"
   ]
  },
  {
   "cell_type": "code",
   "execution_count": null,
   "metadata": {},
   "outputs": [],
   "source": [
    "# Python Encapsulation\n",
    "\n",
    "#Encapsulation refers to the bundling of attributes and methods inside a single class.\n",
    "#It prevents outer classes from accessing and changing attributes and methods of a class.\n",
    "# This also helps to achieve data hiding."
   ]
  },
  {
   "cell_type": "code",
   "execution_count": null,
   "metadata": {},
   "outputs": [],
   "source": [
    "class Computer:\n",
    "\n",
    "    def __init__(self):\n",
    "        self.__maxprice = 900\n",
    "\n",
    "    def sell(self):\n",
    "        print(\"Selling Price: {}\".format(self.__maxprice))\n",
    "\n",
    "    def setMaxPrice(self, price):\n",
    "        self.__maxprice = price\n",
    "\n",
    "c = Computer()\n",
    "c.sell()\n",
    "\n",
    "# change the price\n",
    "c.__maxprice = 1000\n",
    "c.sell()\n",
    "\n",
    "\n",
    "\n",
    "#to change the value, we have to use a setter function i.e setMaxPrice() which takes price as a parameter.\n",
    "# using setter function\n",
    "c.setMaxPrice(1000)\n",
    "print()\n",
    "print(f\"after changing price::::::::{c.sell}\")\n",
    "c.sell()"
   ]
  },
  {
   "cell_type": "code",
   "execution_count": null,
   "metadata": {},
   "outputs": [],
   "source": [
    "# It simply means more than one form.\n",
    "#the same entity (method or operator or object) can perform different operations in different scenarios.\n",
    "\n",
    "\n",
    "class Polygon:\n",
    "    # method to render a shape\n",
    "    def render(self):\n",
    "        print(\"Rendering Polygon...\")\n",
    "\n",
    "class Square(Polygon):\n",
    "    # renders Square\n",
    "    def render(self):\n",
    "        print(\"Rendering Square...\")\n",
    "\n",
    "class Circle(Polygon):\n",
    "    # renders circle\n",
    "    def render(self):\n",
    "        print(\"Rendering Circle...\")\n",
    "    \n",
    "# create an object of Square\n",
    "s1 = Square()\n",
    "s1.render()\n",
    "\n",
    "# create an object of Circle\n",
    "c1 = Circle()\n",
    "c1.render()"
   ]
  },
  {
   "cell_type": "code",
   "execution_count": null,
   "metadata": {},
   "outputs": [],
   "source": [
    "class Bike:\n",
    "\n",
    "    # constructor function    \n",
    "    def __init__(self, name = \"\"):\n",
    "        self.name = name\n",
    "\n",
    "bike1 = Bike(name=\"praabht\")\n",
    "bike1.name"
   ]
  },
  {
   "cell_type": "code",
   "execution_count": null,
   "metadata": {},
   "outputs": [],
   "source": [
    "#Here, __init__() is the constructor function that is called \n",
    "#whenever a new object of that class is instantiated."
   ]
  },
  {
   "cell_type": "code",
   "execution_count": null,
   "metadata": {},
   "outputs": [],
   "source": [
    "#what if the same method is present in both the superclass and subclass?\n",
    "\n",
    "#In this case, the method in the subclass overrides the method in the superclass. \n",
    "# This concept is known as method overriding in\n",
    "\n",
    "\n",
    "class Animal:\n",
    "\n",
    "    # attributes and method of the parent class\n",
    "    name = \"\"\n",
    "    \n",
    "    def eat(self):\n",
    "        print(\"I can eat\")\n",
    "\n",
    "# inherit from Animal\n",
    "class Dog(Animal):\n",
    "\n",
    "    # override eat() method\n",
    "    def eat(self):\n",
    "        print(\"I like to eat bones\")\n",
    "\n",
    "# create an object of the subclass\n",
    "labrador = Dog()\n",
    "\n",
    "# call the eat() method on the labrador object\n",
    "labrador.eat() "
   ]
  },
  {
   "cell_type": "markdown",
   "metadata": {},
   "source": [
    "# python Advance concepts\n",
    "## Iterator\n",
    "## Generator"
   ]
  },
  {
   "cell_type": "code",
   "execution_count": null,
   "metadata": {},
   "outputs": [],
   "source": [
    "\n",
    "# iterators\n",
    "# define a list\n",
    "my_list = [4, 7, 0]\n",
    "\n",
    "# create an iterator from the list\n",
    "iterator = iter(my_list)\n",
    "print(f\"iter object::::: { iterator}\")\n",
    "# get the first element of the iterator\n",
    "print(next(iterator))  # prints 4\n",
    "\n",
    "# get the second element of the iterator\n",
    "print(next(iterator))  # prints 7\n",
    "\n",
    "# get the third element of the iterator\n",
    "print(next(iterator))  # prints 0"
   ]
  },
  {
   "cell_type": "code",
   "execution_count": null,
   "metadata": {},
   "outputs": [],
   "source": [
    "# __iter__() returns the iterator object itself.\n",
    "\n",
    "# __next__() must return the next item in the sequence. \n",
    "# On reaching the end, and in subsequent calls, it must raise StopIteration"
   ]
  },
  {
   "cell_type": "code",
   "execution_count": null,
   "metadata": {},
   "outputs": [],
   "source": [
    "# Python Infinite Iterator\n",
    "from itertools import count\n",
    "\n",
    "# create an infinite iterator that starts at 1 and increments by 1 each time\n",
    "infinite_iterator = count(1)\n",
    "\n",
    "# print the first 5 elements of the infinite iterator\n",
    "for i in range(10):\n",
    "    print(next(infinite_iterator))"
   ]
  },
  {
   "cell_type": "code",
   "execution_count": null,
   "metadata": {},
   "outputs": [],
   "source": []
  },
  {
   "cell_type": "code",
   "execution_count": null,
   "metadata": {},
   "outputs": [],
   "source": [
    "# create a list of integers\n",
    "my_list = [1, 2, 3, 4, 5]\n",
    "\n",
    "# create an iterator from the list\n",
    "iterator = iter(my_list)\n",
    "\n",
    "# iterate through the elements of the iterator\n",
    "for element in iterator:\n",
    "\n",
    "    # Print each element\n",
    "    \n",
    "    print(element)"
   ]
  },
  {
   "cell_type": "markdown",
   "metadata": {},
   "source": [
    "# Generators\n"
   ]
  },
  {
   "cell_type": "code",
   "execution_count": null,
   "metadata": {},
   "outputs": [],
   "source": [
    "#Generators are useful when we want to produce a large sequence of values,\n",
    "# but we don't want to store all of them in memory at once.\n",
    "def my_generator(n):\n",
    "\n",
    "    # initialize counter\n",
    "    value = 0\n",
    "\n",
    "    # loop until counter is less than n\n",
    "    while value < n:\n",
    "\n",
    "        # produce the current value of the counter\n",
    "        yield value\n",
    "\n",
    "        # increment the counter\n",
    "        #value += 1\n",
    "        #print(f\"value:::::::::{value}\")\n",
    "\n",
    "# iterate over the generator object produced by my_generator\n",
    "for value in my_generator(3):\n",
    "\n",
    "    # print each value produced by generator\n",
    "    print(value)"
   ]
  },
  {
   "cell_type": "code",
   "execution_count": null,
   "metadata": {},
   "outputs": [],
   "source": [
    "# create sq of numbers using generator\n",
    "# create the generator object\n",
    "squares_generator = (i * i for i in range(5))\n",
    "\n",
    "# iterate over the generator and print the values\n",
    "for i in squares_generator:\n",
    "    print(i)"
   ]
  },
  {
   "cell_type": "code",
   "execution_count": null,
   "metadata": {},
   "outputs": [],
   "source": [
    "sq=(i*i for i in range(5))\n",
    "print(type(sq))\n",
    "print(sq)\n",
    "for i in sq:\n",
    "    print(i)"
   ]
  },
  {
   "cell_type": "code",
   "execution_count": null,
   "metadata": {},
   "outputs": [],
   "source": [
    "# Generator use cases\n",
    "#1 easy to implement\n",
    "#2 memory efficient\n",
    "#A normal function to return a sequence will create the entire sequence in memory before returning the result. \n",
    "#This is an overkill, if the number of items in the sequence is very large.\n",
    "\n",
    "#Generator implementation of such sequences is memory friendly \n",
    "#and is preferred since it only produces one item at a time.\n",
    "#\n",
    "\n",
    "#implement a sequence of power of 2 using an iterator class.\n",
    "class PowTwo:\n",
    "    def __init__(self, max=0):\n",
    "        self.n = 0\n",
    "        self.max = max\n",
    "\n",
    "    def __iter__(self):\n",
    "        return self\n",
    "\n",
    "    def __next__(self):\n",
    "        if self.n > self.max:\n",
    "            raise StopIteration\n",
    "\n",
    "        result = 2 ** self.n\n",
    "        self.n += 1\n",
    "        return result\n",
    "    \n",
    "ob=PowTwo(max=4)\n",
    "print(ob.__iter__())\n",
    "\n",
    "for i in ob.__iter__():\n",
    "    print(i)\n"
   ]
  },
  {
   "cell_type": "code",
   "execution_count": null,
   "metadata": {},
   "outputs": [],
   "source": [
    "def powtwo(n):\n",
    "    for i in range(n):\n",
    "        yield 2**i\n",
    "        \n",
    "powtwo(4)\n",
    "for i in powtwo(6):\n",
    "    print(i)"
   ]
  },
  {
   "cell_type": "code",
   "execution_count": null,
   "metadata": {},
   "outputs": [],
   "source": [
    "# above program was lenghtly so use with generator\n",
    "def PowTwoGen(max=0):\n",
    "    print(f\"value of max::{max}\")\n",
    "    n = 0\n",
    "    while n < max:\n",
    "        yield 2 ** n\n",
    "        n += 1\n",
    "        \n",
    "PowTwoGen(8)\n",
    "for i in PowTwoGen(8):\n",
    "    print(i)"
   ]
  },
  {
   "cell_type": "code",
   "execution_count": null,
   "metadata": {},
   "outputs": [],
   "source": [
    "# generate all even nos till 2024\n",
    "def all():\n",
    "    n=0\n",
    "    while n<=2024:\n",
    "        yield n\n",
    "        n+=2\n",
    "        \n",
    "for i in all():\n",
    "    print(i)"
   ]
  },
  {
   "cell_type": "code",
   "execution_count": null,
   "metadata": {},
   "outputs": [],
   "source": [
    "#3 represent infinite stream of data\n",
    "# following code geneates all even nos\n",
    "def all_even():\n",
    "    n = 0\n",
    "    while True:\n",
    "        yield n\n",
    "        n += 2\n",
    "#all_even()\n",
    "#for i in all_even():\n",
    "    #print(i)"
   ]
  },
  {
   "cell_type": "code",
   "execution_count": 2,
   "metadata": {},
   "outputs": [
    {
     "name": "stdout",
     "output_type": "stream",
     "text": [
      "1\n",
      "1\n",
      "2\n",
      "3\n",
      "5\n",
      "40\n"
     ]
    }
   ],
   "source": [
    "# 4. Pipelining Generators\n",
    "#Suppose we have a generator that produces the numbers in the Fibonacci series. \n",
    "# And we have another generator for squaring numbers.\n",
    "\n",
    "def fibonacci_numbers(nums):\n",
    "    x, y = 0, 1\n",
    "    for i in range(nums):\n",
    "        x, y = y, x+y\n",
    "        yield x\n",
    "for i in fibonacci_numbers(5):\n",
    "    print(i)\n",
    "    \n",
    "def square(nums):\n",
    "    for num in nums:\n",
    "        yield num**2\n",
    "\n",
    "print(sum(square(fibonacci_numbers(5))))\n"
   ]
  },
  {
   "cell_type": "markdown",
   "metadata": {},
   "source": [
    "# Decorators\n"
   ]
  },
  {
   "cell_type": "code",
   "execution_count": null,
   "metadata": {},
   "outputs": [],
   "source": [
    "# pass function as a argument\n",
    "def add(x, y):\n",
    "    return x + y\n",
    "\n",
    "def calculate(func, x, y):\n",
    "    return func(x, y)\n",
    "\n",
    "result = calculate(add, 4, 6)\n",
    "print(result)  # prints 10"
   ]
  },
  {
   "cell_type": "code",
   "execution_count": null,
   "metadata": {},
   "outputs": [],
   "source": [
    "#A Python decorator is a function that takes in a function and returns it by adding some functionality.\n",
    "\n",
    "#any object which implements the special __call__() method is termed callable.\n",
    "# So, in the most basic sense, a decorator is a callable that returns a callable.\n",
    "\n",
    "#Basically, a decorator takes in a function, adds some functionality and returns it."
   ]
  },
  {
   "cell_type": "code",
   "execution_count": null,
   "metadata": {},
   "outputs": [],
   "source": [
    "def make_pretty(func):\n",
    "    def inner():\n",
    "        print(\"I got decorated\")\n",
    "        func()\n",
    "    return inner\n",
    "\n",
    "\n",
    "def ordinary():\n",
    "    print(\"I am ordinary\")\n"
   ]
  },
  {
   "cell_type": "code",
   "execution_count": null,
   "metadata": {},
   "outputs": [],
   "source": [
    "# lets call it using decorator function\n",
    "def make_pretty(func):\n",
    "    # define the inner function \n",
    "    def inner():\n",
    "        # add some additional behavior to decorated function\n",
    "        print(\"I got decorated\")\n",
    "\n",
    "        # call original function\n",
    "        func()\n",
    "    # return the inner function\n",
    "    return inner\n",
    "\n",
    "# define ordinary function\n",
    "def ordinary():\n",
    "    print(\"I am ordinary\")\n",
    "    \n",
    "# decorate the ordinary function\n",
    "decorated_func = make_pretty(ordinary)\n",
    "\n",
    "# call the decorated function\n",
    "decorated_func()"
   ]
  },
  {
   "cell_type": "code",
   "execution_count": null,
   "metadata": {},
   "outputs": [],
   "source": [
    "#We are now passing the ordinary() function as the argument to the make_pretty().\n",
    "#The make_pretty() function returns the inner function, \n",
    "# and it is now assigned to the decorated_func variable"
   ]
  },
  {
   "cell_type": "code",
   "execution_count": null,
   "metadata": {},
   "outputs": [],
   "source": [
    "def make_pretty(func):\n",
    "\n",
    "    def inner():\n",
    "        print(\"I got decorated\")\n",
    "        func()\n",
    "    return inner\n",
    "\n",
    "@make_pretty\n",
    "def ordinary():\n",
    "    print(\"I am ordinary\")\n",
    "\n",
    "ordinary()  \n",
    "\n",
    "#Here, the ordinary() function is decorated with the make_pretty() decorator \n",
    "# using the @make_pretty syntax, which is equivalent to calling ordinary = make_pretty(ordinary)."
   ]
  },
  {
   "cell_type": "markdown",
   "metadata": {},
   "source": [
    "# Decorating Functions with Parameters\n"
   ]
  },
  {
   "cell_type": "code",
   "execution_count": null,
   "metadata": {},
   "outputs": [],
   "source": [
    "def divide(a, b):\n",
    "    return a/b\n",
    "\n"
   ]
  },
  {
   "cell_type": "code",
   "execution_count": null,
   "metadata": {},
   "outputs": [],
   "source": [
    "# do this with decorator\n",
    "def smart_divide(func):\n",
    "    def inner(a, b):\n",
    "        print(\"I am going to divide\", a, \"and\", b)\n",
    "        if b == 0:\n",
    "            print(\"Whoops! cannot divide\")\n",
    "            return\n",
    "\n",
    "        return func(a, b)\n",
    "    return inner\n",
    "\n",
    "@smart_divide\n",
    "def divide(a, b):\n",
    "    print(a/b)\n",
    "\n",
    "divide(2,5)\n",
    "\n",
    "divide(2,0)"
   ]
  },
  {
   "cell_type": "markdown",
   "metadata": {},
   "source": [
    "# class without getter and setter"
   ]
  },
  {
   "cell_type": "code",
   "execution_count": null,
   "metadata": {},
   "outputs": [],
   "source": [
    "# Basic method of setting and getting attributes in Python\n",
    "class Celsius:\n",
    "    def __init__(self, temperature=0):\n",
    "        self.temperature = temperature\n",
    "\n",
    "    def to_fahrenheit(self):\n",
    "        return (self.temperature * 1.8) + 32\n",
    "\n",
    "\n",
    "# Create a new object\n",
    "human = Celsius()\n",
    "\n",
    "# Set the temperature\n",
    "human.temperature = 37\n",
    "\n",
    "# Get the temperature attribute\n",
    "print(human.temperature)\n",
    "\n",
    "# Get the to_fahrenheit method\n",
    "print(human.to_fahrenheit())"
   ]
  },
  {
   "cell_type": "markdown",
   "metadata": {},
   "source": [
    "# using getter and setter"
   ]
  },
  {
   "cell_type": "code",
   "execution_count": null,
   "metadata": {},
   "outputs": [],
   "source": [
    "# Making Getters and Setter methods\n",
    "class Celsius:\n",
    "    def __init__(self, temperature=0):\n",
    "        self.set_temperature(temperature)\n",
    "\n",
    "    def to_fahrenheit(self):\n",
    "        return (self.get_temperature() * 1.8) + 32\n",
    "\n",
    "    # getter method\n",
    "    def get_temperature(self):\n",
    "        return self._temperature\n",
    "\n",
    "    # setter method\n",
    "    def set_temperature(self, value):\n",
    "        if value < -273.15:\n",
    "            raise ValueError(\"Temperature below -273.15 is not possible.\")\n",
    "        self._temperature = value"
   ]
  },
  {
   "cell_type": "code",
   "execution_count": null,
   "metadata": {},
   "outputs": [],
   "source": [
    "# Making Getters and Setter methods\n",
    "class Celsius:\n",
    "    def __init__(self, temperature=0):\n",
    "        self.set_temperature(temperature)\n",
    "\n",
    "    def to_fahrenheit(self):\n",
    "        return (self.get_temperature() * 1.8) + 32\n",
    "\n",
    "    # getter method\n",
    "    def get_temperature(self):\n",
    "        return self._temperature\n",
    "\n",
    "    # setter method\n",
    "    def set_temperature(self, value):\n",
    "        if value < -273.15:\n",
    "            raise ValueError(\"Temperature below -273.15 is not possible.\")\n",
    "        self._temperature = value\n",
    "\n",
    "\n",
    "# Create a new object, set_temperature() internally called by __init__\n",
    "human = Celsius(37)\n",
    "\n",
    "# Get the temperature attribute via a getter\n",
    "print(human.get_temperature())\n",
    "\n",
    "# Get the to_fahrenheit method, get_temperature() called by the method itself\n",
    "print(human.to_fahrenheit())\n",
    "\n",
    "# new constraint implementation\n",
    "human.set_temperature(-300)\n",
    "\n",
    "# Get the to_fahreheit method\n",
    "print(human.to_fahrenheit())"
   ]
  },
  {
   "cell_type": "markdown",
   "metadata": {},
   "source": [
    "# RegEx"
   ]
  },
  {
   "cell_type": "code",
   "execution_count": null,
   "metadata": {},
   "outputs": [],
   "source": [
    "import re\n",
    "\n",
    "pattern = '^a...s$'\n",
    "test_string = 'abyss'\n",
    "result = re.match(pattern, test_string)\n",
    "\n",
    "if result:\n",
    "  print(\"Search successful.\")\n",
    "else:\n",
    "  print(\"Search unsuccessful.\")\t\n"
   ]
  },
  {
   "cell_type": "code",
   "execution_count": null,
   "metadata": {},
   "outputs": [],
   "source": [
    "Here, we used re.match() function to search pattern within the test_string. The method returns a match object if the search is successful. If not, it returns None.\n",
    "\n",
    "There are other several functions defined in the re module to work with RegEx. Before we explore that, let's learn about regular expressions themselves."
   ]
  },
  {
   "cell_type": "code",
   "execution_count": null,
   "metadata": {},
   "outputs": [],
   "source": [
    "Specify Pattern Using RegEx\n",
    "To specify regular expressions, metacharacters are used. In the above example, ^ and $ are metacharacters.\n",
    "\n",
    "MetaCharacters\n",
    "Metacharacters are characters that are interpreted in a special way by a RegEx engine. \n",
    "Here's a list of metacharacters:\n",
    "\n",
    "[] . ^ $ * + ? {} () \\ |\n",
    "\n",
    "[] - Square brackets\n",
    "\n",
    "Square brackets specifies a set of characters you wish to match.\n",
    "\n",
    "Expression\tString\tMatched?\n",
    "[abc]\ta\t1 match\n",
    "ac\t2 matches\n",
    "Hey Jude\tNo match\n",
    "abc de ca\t"
   ]
  },
  {
   "cell_type": "code",
   "execution_count": null,
   "metadata": {},
   "outputs": [],
   "source": [
    "You can complement (invert) the character set by using caret ^ symbol at the start of a square-bracket.\n",
    "\n",
    "[^abc] means any character except a or b or c.\n",
    "[^0-9] means any non-digit character."
   ]
  },
  {
   "cell_type": "code",
   "execution_count": null,
   "metadata": {},
   "outputs": [],
   "source": [
    ". - Period\n",
    "\n",
    "A period matches any single character (except newline '\\n')."
   ]
  },
  {
   "cell_type": "code",
   "execution_count": null,
   "metadata": {},
   "outputs": [],
   "source": [
    "^ - Caret\n",
    "\n",
    "The caret symbol ^ is used to check if a string starts with a certain character."
   ]
  },
  {
   "cell_type": "code",
   "execution_count": 7,
   "metadata": {},
   "outputs": [],
   "source": [
    "s=['PT', 'PT', 'PT', 'PT', 'PT', 'PT', 'PT', 'PT', 'PT', 'PT', 'PT', 'PT', 'PT', 'PT', 'PT', 'PT', 'PT', 'PT', 'PT', 'PT', 'PT', 'PT', 'PT', 'PT', 'PT', 'PT', 'PT', 'PT', 'PT', 'PT', 'PT', 'PT', 'PT', 'PT', 'PT', 'PT', 'PT', 'PT', 'PT', 'PT', 'PT', 'PT', 'PT', 'PT', 'PT', 'PT', 'PT', 'PT', 'PT', 'PT', 'PT', 'PT', 'PT', 'PT', 'PT', 'PT', 'PT', 'PT', 'PT', 'PT', 'PT', 'PT', 'PT', 'PT', 'PT', 'PT', 'PT', 'PT', 'PT', 'PT', 'PT', 'PT', 'PT', 'PT', 'PT', 'PT', 'PT', 'PT', 'PT', 'PT', 'PT', 'PT', 'PT', 'PT', 'PT', 'PT', 'PT', 'PT', 'PT', 'PT', 'PT', 'PT', 'PT', 'PT', 'PT', 'PT', 'PT', 'PT', 'PT', 'PT', 'PT', 'P', 'P', 'P', 'P', 'P', 'P', 'P', 'P', 'P', 'P', 'P', 'P', 'P', 'P', 'P', 'P', 'P', 'P', 'P', 'P', 'P', 'P', 'P', 'P', 'P', 'P', 'P', 'P', 'P', 'P', 'P', 'P', 'P', 'P', 'P', 'P', 'P', 'P', 'P', 'P', 'P', 'P', 'P', 'P', 'P', 'P', 'P', 'P', 'P', 'P', 'P', 'P', 'P', 'P', 'P', 'P', 'P', 'P', 'P', 'P', 'P', 'P', 'P', 'P', 'P', 'P', 'P', 'P', 'P', 'P', 'P', 'P', 'P', 'P', 'P', 'P', 'P', 'P', 'P', 'P', 'P', 'P', 'P', 'P', 'P', 'P', 'P', 'P', 'P', 'P', 'P', 'P', 'P', 'P', 'P', 'P', 'P', 'P', 'P', 'P', 'P', 'P', 'P', 'P', 'P', 'P', 'P', 'P', 'P', 'P', 'P', 'P', 'P', 'P', 'P', 'P', 'P', 'P', 'P', 'P', 'P', 'P', 'P', 'P', 'P', 'P', 'P', 'P', 'P', 'P', 'P', 'P', 'P', 'P', 'P', 'P', 'P', 'P', 'P', 'P', 'P', 'P', 'P', 'P', 'P', 'P', 'P', 'P', 'P', 'P', 'P', 'P', 'P', 'P', 'P', 'P']"
   ]
  },
  {
   "cell_type": "code",
   "execution_count": null,
   "metadata": {},
   "outputs": [],
   "source": [
    "$ - Dollar\n",
    "\n",
    "The dollar symbol $ is used to check if a string ends with a certain character."
   ]
  },
  {
   "cell_type": "code",
   "execution_count": null,
   "metadata": {},
   "outputs": [],
   "source": [
    "* - Star\n",
    "\n",
    "The star symbol * matches zero or more occurrences of the pattern left to it."
   ]
  },
  {
   "cell_type": "code",
   "execution_count": null,
   "metadata": {},
   "outputs": [],
   "source": [
    "+ - Plus\n",
    "\n",
    "The plus symbol + matches one or more occurrences of the pattern left to it."
   ]
  },
  {
   "cell_type": "code",
   "execution_count": null,
   "metadata": {},
   "outputs": [],
   "source": [
    "? - Question Mark\n",
    "\n",
    "The question mark symbol ? matches zero or one occurrence of the pattern left to it."
   ]
  },
  {
   "cell_type": "code",
   "execution_count": null,
   "metadata": {},
   "outputs": [],
   "source": [
    "{} - Braces\n",
    "\n",
    "Consider this code: {n,m}. This means at least n, and at most m repetitions of the pattern left to it.\n",
    "\n"
   ]
  },
  {
   "cell_type": "code",
   "execution_count": null,
   "metadata": {},
   "outputs": [],
   "source": [
    "| - Alternation\n",
    "\n",
    "Vertical bar | is used for alternation (or operator)."
   ]
  },
  {
   "cell_type": "code",
   "execution_count": null,
   "metadata": {},
   "outputs": [],
   "source": [
    "() - Group\n",
    "\n",
    "Parentheses () is used to group sub-patterns. For example, (a|b|c)xz match any string that matches either a or b or c followed by xz"
   ]
  },
  {
   "cell_type": "code",
   "execution_count": null,
   "metadata": {},
   "outputs": [],
   "source": [
    "\\ - Backslash\n",
    "\n",
    "Backlash \\ is used to escape various characters including all metacharacters. For example,\n",
    "\n",
    "\\$a match if a string contains $ followed by a. Here, $ is not interpreted by a RegEx engine in a special way."
   ]
  },
  {
   "cell_type": "code",
   "execution_count": null,
   "metadata": {},
   "outputs": [],
   "source": [
    "Special Sequences\n",
    "\n",
    "Special sequences make commonly used patterns easier to write. Here's a list of special sequences:\n",
    "\n",
    "\\A - Matches if the specified characters are at the start of a string."
   ]
  },
  {
   "cell_type": "code",
   "execution_count": null,
   "metadata": {},
   "outputs": [],
   "source": [
    "\\b - Matches if the specified characters are at the beginning or end of a word."
   ]
  },
  {
   "cell_type": "code",
   "execution_count": null,
   "metadata": {},
   "outputs": [],
   "source": [
    "\\B - Opposite of \\b. Matches if the specified characters are not at the beginning or end of a word."
   ]
  },
  {
   "cell_type": "code",
   "execution_count": null,
   "metadata": {},
   "outputs": [],
   "source": [
    "\\d - Matches any decimal digit. Equivalent to [0-9]"
   ]
  },
  {
   "cell_type": "code",
   "execution_count": null,
   "metadata": {},
   "outputs": [],
   "source": [
    "re.findall()\n",
    "The re.findall() method returns a list of strings containing all matches.\n",
    "\n"
   ]
  },
  {
   "cell_type": "code",
   "execution_count": null,
   "metadata": {},
   "outputs": [],
   "source": [
    "\n",
    "# Program to extract numbers from a string\n",
    "\n",
    "import re\n",
    "\n",
    "string = 'hello 12 hi 89. Howdy 34'\n",
    "pattern = '\\d+'\n",
    "\n",
    "result = re.findall(pattern, string) \n",
    "print(result)\n",
    "\n",
    "# Output: ['12', '89', '34']\n",
    "\n",
    "# Program to extract numbers from a string\n",
    "\n",
    "import re\n",
    "\n",
    "string = 'hello 12 hi 89. Howdy 34'\n",
    "pattern = '\\d+'\n",
    "\n",
    "result = re.findall(pattern, string) \n",
    "print(result)\n",
    "\n",
    "# Output: ['12', '89', '34']"
   ]
  },
  {
   "cell_type": "code",
   "execution_count": null,
   "metadata": {},
   "outputs": [],
   "source": [
    "re.split()\n",
    "The re.split method splits the string where there is a match and returns a list of strings where the splits have occurred."
   ]
  },
  {
   "cell_type": "code",
   "execution_count": null,
   "metadata": {},
   "outputs": [],
   "source": [
    "\n",
    "import re\n",
    "\n",
    "string = 'Twelve:12 Eighty nine:89.'\n",
    "pattern = '\\d+'\n",
    "\n",
    "result = re.split(pattern, string) \n",
    "print(result)\n",
    "\n",
    "# Output: ['Twelve:', ' Eighty nine:', '.']\n",
    "If the pattern is not found, re.split() returns a list containing the original string.\n",
    "\n"
   ]
  },
  {
   "cell_type": "code",
   "execution_count": null,
   "metadata": {},
   "outputs": [],
   "source": [
    "\n",
    "import re\n",
    "\n",
    "string = 'Twelve:12 Eighty nine:89 Nine:9.'\n",
    "pattern = '\\d+'\n",
    "\n",
    "# maxsplit = 1\n",
    "# split only at the first occurrence\n",
    "result = re.split(pattern, string, 1) \n",
    "print(result)\n",
    "\n",
    "# Output: ['Twelve:', ' Eighty nine:89 Nine:9.']\n",
    "By the way, the default value of maxsplit is 0; meaning all possible splits.\n",
    "\n"
   ]
  },
  {
   "cell_type": "code",
   "execution_count": null,
   "metadata": {},
   "outputs": [],
   "source": [
    "re.sub()\n",
    "The syntax of re.sub() is:\n",
    "    re.sub(pattern, replace, string)\n"
   ]
  },
  {
   "cell_type": "code",
   "execution_count": null,
   "metadata": {},
   "outputs": [],
   "source": [
    "\n",
    "# Program to remove all whitespaces\n",
    "import re\n",
    "\n",
    "# multiline string\n",
    "string = 'abc 12\\\n",
    "de 23 \\n f45 6'\n",
    "\n",
    "# matches all whitespace characters\n",
    "pattern = '\\s+'\n",
    "\n",
    "# empty string\n",
    "replace = ''\n",
    "\n",
    "new_string = re.sub(pattern, replace, string) \n",
    "print(new_string)\n",
    "\n",
    "# Output: abc12de23f456\n"
   ]
  },
  {
   "cell_type": "code",
   "execution_count": null,
   "metadata": {},
   "outputs": [],
   "source": [
    "re.subn()\n",
    "The re.subn() is similar to re.sub() except it returns a tuple of 2 items containing the new string and the number of substitutions made.\n",
    "\n",
    "\n",
    "# Program to remove all whitespaces\n",
    "import re\n",
    "\n",
    "# multiline string\n",
    "string = 'abc 12\\\n",
    "de 23 \\n f45 6'\n",
    "\n",
    "# matches all whitespace characters\n",
    "pattern = '\\s+'\n",
    "\n",
    "# empty string\n",
    "replace = ''\n",
    "\n",
    "new_string = re.subn(pattern, replace, string) \n",
    "print(new_string)\n",
    "\n",
    "# Output: ('abc12de23f456', 4)\n"
   ]
  },
  {
   "cell_type": "code",
   "execution_count": null,
   "metadata": {},
   "outputs": [],
   "source": [
    "re.search()\n",
    "The re.search() method takes two arguments: a pattern and a string. The method looks for the first location where the RegEx pattern produces a match with the string.\n",
    "\n",
    "If the search is successful, re.search() returns a match object; if not, it returns None.\n",
    "\n",
    "match = re.search(pattern, str)\n",
    "\n",
    "\n",
    "\n",
    "import re\n",
    "\n",
    "string = \"Python is fun\"\n",
    "\n",
    "# check if 'Python' is at the beginning\n",
    "match = re.search('\\APython', string)\n",
    "\n",
    "if match:\n",
    "  print(\"pattern found inside the string\")\n",
    "else:\n",
    "  print(\"pattern not found\")  \n",
    "\n",
    "# Output: pattern found inside the string\n"
   ]
  },
  {
   "cell_type": "code",
   "execution_count": null,
   "metadata": {},
   "outputs": [],
   "source": [
    "match.group()\n",
    "The group() method returns the part of the string where there is a match.\n",
    "\n",
    "\n",
    "import re\n",
    "\n",
    "string = '39801 356, 2102 1111'\n",
    "\n",
    "# Three digit number followed by space followed by two digit number\n",
    "pattern = '(\\d{3}) (\\d{2})'\n",
    "\n",
    "# match variable contains a Match object.\n",
    "match = re.search(pattern, string) \n",
    "\n",
    "if match:\n",
    "  print(match.group())\n",
    "else:\n",
    "  print(\"pattern not found\")\n",
    "\n",
    "# Output: 801 35\n"
   ]
  },
  {
   "cell_type": "code",
   "execution_count": null,
   "metadata": {},
   "outputs": [],
   "source": [
    "match.start(), match.end() and match.span()\n",
    "The start() function returns the index of the start of the matched substring. Similarly, end() returns the end index of the matched substring.\n",
    "\n",
    ">>> match.start()\n",
    "2\n",
    ">>> match.end()\n",
    "\n",
    "The span() function returns a tuple containing start and end index of the matched part.\n",
    "\n",
    ">>> match.span()\n",
    "(2, 8)"
   ]
  },
  {
   "cell_type": "code",
   "execution_count": null,
   "metadata": {},
   "outputs": [],
   "source": [
    "match.re and match.string\n",
    "The re attribute of a matched object returns a regular expression object. Similarly, string attribute returns the passed string.\n",
    "\n",
    ">>> match.re\n",
    "re.compile('(\\\\d{3}) (\\\\d{2})')\n",
    "\n",
    ">>> match.string\n",
    "'39801 356, 2102 1111'"
   ]
  },
  {
   "cell_type": "code",
   "execution_count": null,
   "metadata": {},
   "outputs": [],
   "source": [
    "Using r prefix before RegEx\n",
    "When r or R prefix is used before a regular expression, it means raw string. For example, '\\n' is a new line whereas r'\\n' means two characters: a backslash \\ followed by n.\n",
    "\n",
    "Backlash \\ is used to escape various characters including all metacharacters. However, using r prefix makes \\ treat as a normal character.\n",
    "\n"
   ]
  },
  {
   "cell_type": "code",
   "execution_count": null,
   "metadata": {},
   "outputs": [],
   "source": [
    "\n",
    "import re\n",
    "\n",
    "string = '\\n and \\r are escape sequences.'\n",
    "\n",
    "result = re.findall(r'[\\n\\r]', string) \n",
    "print(result)\n",
    "\n",
    "# Output: ['\\n', '\\r']"
   ]
  },
  {
   "cell_type": "code",
   "execution_count": null,
   "metadata": {},
   "outputs": [],
   "source": []
  },
  {
   "cell_type": "code",
   "execution_count": 8,
   "metadata": {},
   "outputs": [
    {
     "data": {
      "text/plain": [
       "257"
      ]
     },
     "execution_count": 8,
     "metadata": {},
     "output_type": "execute_result"
    }
   ],
   "source": [
    "len(s)"
   ]
  },
  {
   "cell_type": "markdown",
   "metadata": {},
   "source": [
    "# datetime Module"
   ]
  },
  {
   "cell_type": "code",
   "execution_count": 6,
   "metadata": {},
   "outputs": [
    {
     "name": "stdout",
     "output_type": "stream",
     "text": [
      "today date & time                     2024-02-15 10:53:47.096271\n"
     ]
    }
   ],
   "source": [
    "# get current date and time\n",
    "import datetime\n",
    "t_n= datetime.datetime.now()\n",
    "print(f\"today date & time                     {t_n}\")"
   ]
  },
  {
   "cell_type": "code",
   "execution_count": 8,
   "metadata": {},
   "outputs": [
    {
     "name": "stdout",
     "output_type": "stream",
     "text": [
      "todays date                  2024-02-15\n"
     ]
    }
   ],
   "source": [
    "# get curremt date\n",
    "c_d= datetime.date.today()\n",
    "print(f\"todays date                  {c_d}\")\n"
   ]
  },
  {
   "cell_type": "code",
   "execution_count": 9,
   "metadata": {},
   "outputs": [
    {
     "name": "stdout",
     "output_type": "stream",
     "text": [
      "['MAXYEAR', 'MINYEAR', '__builtins__', '__cached__', '__doc__', '__file__', '__loader__', '__name__', '__package__', '__spec__', 'date', 'datetime', 'datetime_CAPI', 'sys', 'time', 'timedelta', 'timezone', 'tzinfo']\n"
     ]
    }
   ],
   "source": [
    "import datetime\n",
    "\n",
    "print(dir(datetime)) # get list containing all attributes"
   ]
  },
  {
   "cell_type": "code",
   "execution_count": null,
   "metadata": {},
   "outputs": [],
   "source": [
    "#datetime.timedelta - represents a duration, which can be used to perform arithmetic with datetime objects."
   ]
  },
  {
   "cell_type": "code",
   "execution_count": 10,
   "metadata": {},
   "outputs": [
    {
     "name": "stdout",
     "output_type": "stream",
     "text": [
      "2022-12-25\n"
     ]
    }
   ],
   "source": [
    "import datetime\n",
    "\n",
    "d = datetime.date(2022, 12, 25)\n",
    "print(d)"
   ]
  },
  {
   "cell_type": "code",
   "execution_count": 12,
   "metadata": {},
   "outputs": [
    {
     "name": "stdout",
     "output_type": "stream",
     "text": [
      "today's date               2024-02-15\n"
     ]
    }
   ],
   "source": [
    "from datetime import date\n",
    "curr_d= date.today()\n",
    "print(f\"today's date               {curr_d}\")"
   ]
  },
  {
   "cell_type": "code",
   "execution_count": 15,
   "metadata": {},
   "outputs": [
    {
     "name": "stdout",
     "output_type": "stream",
     "text": [
      "Date = 1970-08-23\n"
     ]
    }
   ],
   "source": [
    "# converting timestamp to date\n",
    "from datetime import date\n",
    "\n",
    "timestamp = date.fromtimestamp(20240502)\n",
    "print(\"Date =\", timestamp)"
   ]
  },
  {
   "cell_type": "code",
   "execution_count": 6,
   "metadata": {},
   "outputs": [
    {
     "name": "stdout",
     "output_type": "stream",
     "text": [
      "Current Time: 10:41:07.970263\n"
     ]
    }
   ],
   "source": [
    "# get only current time\n",
    "from datetime import datetime\n",
    "\n",
    "# Get the current time\n",
    "current_time = datetime.now().time()\n",
    "\n",
    "print(\"Current Time:\", current_time)\n"
   ]
  },
  {
   "cell_type": "code",
   "execution_count": 16,
   "metadata": {},
   "outputs": [
    {
     "name": "stdout",
     "output_type": "stream",
     "text": [
      "todays date                2024-02-15\n",
      "Current year: 2024\n",
      "Current month: 2\n",
      "Current day: 15\n"
     ]
    }
   ],
   "source": [
    "# print today year month date\n",
    "from datetime import date\n",
    "\n",
    "# get date object\n",
    "today=date.today()\n",
    "print(f\"todays date                {today}\")\n",
    "\n",
    "print(\"Current year:\", today.year)\n",
    "print(\"Current month:\", today.month)\n",
    "print(\"Current day:\", today.day)"
   ]
  },
  {
   "cell_type": "code",
   "execution_count": null,
   "metadata": {},
   "outputs": [],
   "source": [
    "# time object to represtent time\n",
    "from datetime import time\n",
    "\n",
    "# time(hour = 0, minute = 0, second = 0)\n",
    "a = time()\n",
    "print(a)\n",
    "\n",
    "# time(hour, minute and second)\n",
    "b = time(11, 34, 56)\n",
    "print(b)\n",
    "\n",
    "# time(hour, minute and second)\n",
    "c = time(hour = 11, minute = 34, second = 56)\n",
    "print(c)\n",
    "\n",
    "# time(hour, minute, second, microsecond)\n",
    "d = time(11, 34, 56, 234566)\n",
    "print(d)"
   ]
  },
  {
   "cell_type": "code",
   "execution_count": null,
   "metadata": {},
   "outputs": [],
   "source": [
    "# start from here monday"
   ]
  },
  {
   "cell_type": "code",
   "execution_count": null,
   "metadata": {},
   "outputs": [],
   "source": [
    "# absolute path\n",
    "# check how to find abslute path"
   ]
  },
  {
   "cell_type": "code",
   "execution_count": 10,
   "metadata": {},
   "outputs": [
    {
     "name": "stdout",
     "output_type": "stream",
     "text": [
      "['image1.jpg', 'image2.jpg', 'image10.jpg', 'image20.jpg']\n"
     ]
    }
   ],
   "source": [
    "# natsort\n",
    "\n",
    "#natsort is a Python library that provides natural sorting of lists. \n",
    "# Natural sorting means sorting alphanumeric strings in a way that human beings would expect.\n",
    "# For example, when sorting a list of file names, natural sorting ensures that\n",
    "# file names containing numbers are sorted in numerical order rather than purely lexicographical order.\n",
    "from natsort import natsorted\n",
    "\n",
    "# List of strings to be sorted\n",
    "strings = ['image1.jpg', 'image10.jpg', 'image2.jpg', 'image20.jpg']\n",
    "\n",
    "# Sort the list using natsort\n",
    "sorted_strings = natsorted(strings)\n",
    "\n",
    "print(sorted_strings)\n"
   ]
  },
  {
   "cell_type": "code",
   "execution_count": 7,
   "metadata": {},
   "outputs": [
    {
     "name": "stdout",
     "output_type": "stream",
     "text": [
      "t3 = 201 days, 0:00:00\n",
      "t6 = -333 days, 1:14:20\n",
      "Type of t3 = <class 'datetime.timedelta'>\n",
      "Type of t6 = <class 'datetime.timedelta'>\n"
     ]
    }
   ],
   "source": [
    "#timedelta : timedelta object represents the difference between two dates or times. For example\n",
    "\n",
    "from datetime import datetime, date\n",
    "\n",
    "# using date()\n",
    "t1 = date(year = 2018, month = 7, day = 12)\n",
    "t2 = date(year = 2017, month = 12, day = 23)\n",
    "\n",
    "t3 = t1 - t2\n",
    "\n",
    "print(\"t3 =\", t3)\n",
    "\n",
    "# using datetime()\n",
    "t4 = datetime(year = 2018, month = 7, day = 12, hour = 7, minute = 9, second = 33)\n",
    "t5 = datetime(year = 2019, month = 6, day = 10, hour = 5, minute = 55, second = 13)\n",
    "t6 = t4 - t5\n",
    "print(\"t6 =\", t6)\n",
    "\n",
    "print(\"Type of t3 =\", type(t3)) \n",
    "print(\"Type of t6 =\", type(t6))  "
   ]
  },
  {
   "cell_type": "code",
   "execution_count": 8,
   "metadata": {},
   "outputs": [
    {
     "name": "stdout",
     "output_type": "stream",
     "text": [
      "Total seconds = 435633.233423\n"
     ]
    }
   ],
   "source": [
    "# time duration in seconds\n",
    "from datetime import timedelta\n",
    "\n",
    "t = timedelta(days = 5, hours = 1, seconds = 33, microseconds = 233423)\n",
    "print(\"Total seconds =\", t.total_seconds())"
   ]
  },
  {
   "cell_type": "code",
   "execution_count": null,
   "metadata": {},
   "outputs": [],
   "source": [
    "# Python strftime() : this method creates formatted string from given date time\n",
    "from datetime import datetime\n",
    "\n",
    "# current date and time\n",
    "now = datetime.now()\n",
    "print(f\"current date adn time---------------{now}\")\n",
    "t = now.strftime(\"%H:%M:%S\")\n",
    "print(\"Time:\", t)\n",
    "\n",
    "s1 = now.strftime(\"%m/%d/%Y, %H:%M:%S\")\n",
    "# mm/dd/YY H:M:S format\n",
    "print(\"s1:\", s1)\n",
    "\n",
    "s2 = now.strftime(\"%d/%m/%Y, %H:%M:%S\")\n",
    "# dd/mm/YY H:M:S format\n",
    "print(\"s2:\", s2)"
   ]
  },
  {
   "cell_type": "code",
   "execution_count": null,
   "metadata": {},
   "outputs": [],
   "source": [
    "# Python strptime() : The strptime() method creates a datetime object from a given string (representing date and time). \n",
    "# For example,\n",
    "\n",
    "from datetime import datetime\n",
    "\n",
    "date_string = \"25 December, 2022\"\n",
    "print(\"date_string =\", date_string)\n",
    "\n",
    "# use strptime() to create date object\n",
    "date_object = datetime.strptime(date_string, \"%d %B, %Y\")\n",
    "\n",
    "print(\"date_object =\", date_object)"
   ]
  },
  {
   "cell_type": "code",
   "execution_count": null,
   "metadata": {},
   "outputs": [],
   "source": [
    "from datetime import datetime\n",
    "import pytz\n",
    "\n",
    "local = datetime.now()\n",
    "print(\"Local:\", local.strftime(\"%m/%d/%Y, %H:%M:%S\"))\n",
    "\n",
    "\n",
    "tz_NY = pytz.timezone('America/New_York') \n",
    "datetime_NY = datetime.now(tz_NY)\n",
    "print(\"NY:\", datetime_NY.strftime(\"%m/%d/%Y, %H:%M:%S\"))\n",
    "\n",
    "tz_London = pytz.timezone('Europe/London')\n",
    "datetime_London = datetime.now(tz_London)\n",
    "print(\"London:\", datetime_London.strftime(\"%m/%d/%Y, %H:%M:%S\"))"
   ]
  },
  {
   "cell_type": "code",
   "execution_count": null,
   "metadata": {},
   "outputs": [],
   "source": [
    "#STRFTIME\n",
    "#The strftime() method returns a string representing date and time using date, time or datetime object."
   ]
  },
  {
   "cell_type": "code",
   "execution_count": null,
   "metadata": {},
   "outputs": [],
   "source": [
    "# datetime to string\n",
    "\n",
    "from datetime import datetime\n",
    "\n",
    "now = datetime.now() # current date and time\n",
    "#now is a datetime object.\n",
    "year = now.strftime(\"%Y\")\n",
    "print(\"year:\", year)\n",
    "\n",
    "month = now.strftime(\"%m\")\n",
    "print(\"month:\", month)\n",
    "\n",
    "day = now.strftime(\"%d\")\n",
    "print(\"day:\", day)\n",
    "\n",
    "time = now.strftime(\"%H:%M:%S\")\n",
    "print(\"time:\", time)\n",
    "\n",
    "date_time = now.strftime(\"%m/%d/%Y, %H:%M:%S\")\n",
    "print(\"date and time:\",date_time)\t\n"
   ]
  },
  {
   "cell_type": "code",
   "execution_count": null,
   "metadata": {},
   "outputs": [],
   "source": [
    "#How strftime() works?\n",
    "\n",
    "#In the above program, %Y, %m, %d etc. are format codes. \n",
    "# The strftime() method takes one or more format codes as an argument \n",
    "# and returns a formatted string based on it.\n",
    "#\n",
    "#1: We imported datetime class from the datetime module.\n",
    "# It's because the object of datetime class can access strftime() method.\n",
    "\n",
    "\n",
    "# 2 The datetime object containing current date and time is stored in now variable."
   ]
  },
  {
   "cell_type": "code",
   "execution_count": null,
   "metadata": {},
   "outputs": [],
   "source": [
    "# creating strings from timestamp\n",
    "\n",
    "from datetime import datetime\n",
    "\n",
    "timestamp = 1528797322\n",
    "date_time = datetime.fromtimestamp(timestamp)\n",
    "\n",
    "print(\"Date time object:\", date_time)\n",
    "\n",
    "d = date_time.strftime(\"%m/%d/%Y, %H:%M:%S\")\n",
    "print(\"Output 2:\", d)\t\n",
    "\n",
    "d = date_time.strftime(\"%d %b, %Y\")\n",
    "print(\"Output 3:\", d)\n",
    "\n",
    "d = date_time.strftime(\"%d %B, %Y\")\n",
    "print(\"Output 4:\", d)\n",
    "\n",
    "d = date_time.strftime(\"%I%p\")\n",
    "print(\"Output 5:\", d)"
   ]
  },
  {
   "cell_type": "code",
   "execution_count": null,
   "metadata": {},
   "outputs": [],
   "source": [
    "# locale appropriate date and time\n",
    "from datetime import datetime\n",
    "\n",
    "timestamp = 1528797322\n",
    "date_time = datetime.fromtimestamp(timestamp)\n",
    "\n",
    "d = date_time.strftime(\"%c\")\n",
    "print(\"Output 1:\", d)\t\n",
    "\n",
    "d = date_time.strftime(\"%x\")\n",
    "print(\"Output 2:\", d)\n",
    "\n",
    "d = date_time.strftime(\"%X\")\n",
    "print(\"Output 3:\", d)\n"
   ]
  },
  {
   "cell_type": "code",
   "execution_count": null,
   "metadata": {},
   "outputs": [],
   "source": [
    "# Python Strptime()\n",
    "# The strptime() method creates a datetime object from the given string.\n",
    "# it takes two arguments 1) string 2) format codes\n",
    "# Example 1: \n",
    "\n",
    "# %B - Month's name in full. Example: January, February etc\n",
    "from datetime import datetime\n",
    "\n",
    "date_string = \"21 June, 2018\"\n",
    "\n",
    "print(\"date_string =\", date_string)\n",
    "print(\"type of date_string =\", type(date_string))\n",
    "\n",
    "date_object = datetime.strptime(date_string, \"%d %B, %Y\")\n",
    "\n",
    "print(\"date_object =\", date_object)\n",
    "print(\"type of date_object =\", type(date_object))\n",
    "\n"
   ]
  },
  {
   "cell_type": "code",
   "execution_count": null,
   "metadata": {},
   "outputs": [],
   "source": [
    "# string to datetime objects\n",
    "from datetime import datetime\n",
    "\n",
    "dt_string = \"12/11/2018 09:15:32\"\n",
    "\n",
    "# Considering date is in dd/mm/yyyy format\n",
    "dt_object1 = datetime.strptime(dt_string, \"%d/%m/%Y %H:%M:%S\")\n",
    "print(\"dt_object1 =\", dt_object1)\n",
    "\n",
    "# Considering date is in mm/dd/yyyy format\n",
    "dt_object2 = datetime.strptime(dt_string, \"%m/%d/%Y %H:%M:%S\")\n",
    "print(\"dt_object2 =\", dt_object2)"
   ]
  },
  {
   "cell_type": "code",
   "execution_count": null,
   "metadata": {},
   "outputs": [],
   "source": [
    "#If the string (first argument) and the format code (second argument) passed to the strptime() \n",
    "# doesn't match, you will get ValueError. For example:\n",
    "\n",
    "from datetime import datetime\n",
    "\n",
    "date_string = \"12/11/2018\"\n",
    "date_object = datetime.strptime(date_string, \"%d %m %Y\")\n",
    "\n",
    "print(\"date_object =\", date_object)"
   ]
  },
  {
   "cell_type": "code",
   "execution_count": null,
   "metadata": {},
   "outputs": [],
   "source": [
    "# get todays date\n",
    "from datetime import date\n",
    "\n",
    "today = date.today()\n",
    "print(\"Today's date:\", today)"
   ]
  },
  {
   "cell_type": "code",
   "execution_count": null,
   "metadata": {},
   "outputs": [],
   "source": [
    "# current date in different format\n",
    "from datetime import date\n",
    "\n",
    "today = date.today()\n",
    "\n",
    "# dd/mm/YY\n",
    "d1 = today.strftime(\"%d/%m/%Y\")\n",
    "print(\"d1 =\", d1)\n",
    "\n",
    "# Textual month, day and year\t\n",
    "d2 = today.strftime(\"%B %d, %Y\")\n",
    "print(\"d2 =\", d2)\n",
    "\n",
    "# mm/dd/y\n",
    "d3 = today.strftime(\"%m/%d/%y\")\n",
    "print(\"d3 =\", d3)\n",
    "\n",
    "# Month abbreviation, day and year\t\n",
    "d4 = today.strftime(\"%b-%d-%Y\")\n",
    "print(\"d4 =\", d4)"
   ]
  },
  {
   "cell_type": "code",
   "execution_count": null,
   "metadata": {},
   "outputs": [],
   "source": [
    "# current date and time\n",
    "from datetime import datetime\n",
    "\n",
    "# datetime object containing current date and time\n",
    "now = datetime.now()\n",
    "\n",
    "print(\"now =\", now)\n",
    "\n",
    "# dd/mm/YY H:M:S\n",
    "dt_string = now.strftime(\"%d/%m/%Y %H:%M:%S\")\n",
    "print(\"date and time =\", dt_string)"
   ]
  },
  {
   "cell_type": "code",
   "execution_count": null,
   "metadata": {},
   "outputs": [],
   "source": [
    "# timestamp to datetime\n",
    "from datetime import datetime\n",
    "\n",
    "# timestamp is number of seconds since 1970-01-01 \n",
    "timestamp = 1545730073\n",
    "\n",
    "# convert the timestamp to a datetime object in the local timezone\n",
    "dt_object = datetime.fromtimestamp(timestamp)\n",
    "\n",
    "# print the datetime object and its type\n",
    "print(\"dt_object =\", dt_object)\n",
    "print(\"type(dt_object) =\", type(dt_object))"
   ]
  },
  {
   "cell_type": "code",
   "execution_count": 9,
   "metadata": {},
   "outputs": [
    {
     "name": "stdout",
     "output_type": "stream",
     "text": [
      "Seconds since epoch = 1708323594.9053822\n"
     ]
    }
   ],
   "source": [
    "# import the time module\n",
    "import time\n",
    "\n",
    "# get the current time in seconds since the epoch\n",
    "seconds = time.time()\n",
    "\n",
    "print(\"Seconds since epoch =\", seconds)\t\n",
    "\n",
    "# Output: Seconds since epoch = 1672214933.6804628"
   ]
  },
  {
   "cell_type": "code",
   "execution_count": null,
   "metadata": {},
   "outputs": [],
   "source": [
    "#The time.ctime() function in Python takes seconds passed since epoch as an argument and\n",
    "# returns a string representing local time.\n",
    "\n",
    "import time\n",
    "\n",
    "# seconds passed since epoch\n",
    "seconds = 1672215379.5045543\n",
    "\n",
    "# convert the time in seconds since the epoch to a readable format\n",
    "local_time = time.ctime(seconds)\n",
    "\n",
    "print(\"Local time:\", local_time)"
   ]
  },
  {
   "cell_type": "code",
   "execution_count": null,
   "metadata": {},
   "outputs": [],
   "source": [
    "# python time.sleep\n",
    "#The sleep() function suspends (delays) execution of the current thread for the given number of seconds.\n",
    "import time\n",
    "\n",
    "print(\"Printed immediately.\")\n",
    "time.sleep(2.4)\n",
    "print(\"Printed after 2.4 seconds.\")"
   ]
  },
  {
   "cell_type": "code",
   "execution_count": null,
   "metadata": {},
   "outputs": [],
   "source": [
    "# python time.strftime\n",
    "import time\n",
    "\n",
    "time_string = \"14 July, 2023\"\n",
    "result = time.strptime(time_string, \"%d %B, %Y\")\n",
    "\n",
    "print(result)"
   ]
  },
  {
   "cell_type": "code",
   "execution_count": null,
   "metadata": {},
   "outputs": [],
   "source": [
    "import time\n",
    "# sleep method does not return any value\n",
    "time.sleep(2)\n",
    "print(\"Wait until 2 seconds.\")\n",
    "\n",
    "# Output: Wait until 2 seconds."
   ]
  },
  {
   "cell_type": "code",
   "execution_count": null,
   "metadata": {},
   "outputs": [],
   "source": [
    "# create digital clock in python\n",
    "import time\n",
    "\n",
    "while True:\n",
    "    \n",
    "    # get current local time as structured data\n",
    "    current_time = time.localtime()\n",
    "    # format the time in 12-hour clock with AM/PM\n",
    "    formatted_time = time.strftime(\"%I:%M:%S %p\", current_time)\n",
    "    \n",
    "    print(formatted_time)\n",
    "    time.sleep(1)"
   ]
  },
  {
   "cell_type": "markdown",
   "metadata": {},
   "source": []
  },
  {
   "cell_type": "code",
   "execution_count": null,
   "metadata": {},
   "outputs": [],
   "source": []
  },
  {
   "cell_type": "code",
   "execution_count": null,
   "metadata": {},
   "outputs": [],
   "source": [
    "\n",
    "\n"
   ]
  },
  {
   "cell_type": "code",
   "execution_count": null,
   "metadata": {},
   "outputs": [],
   "source": [
    "\n",
    "\n"
   ]
  },
  {
   "cell_type": "code",
   "execution_count": null,
   "metadata": {},
   "outputs": [],
   "source": []
  },
  {
   "cell_type": "code",
   "execution_count": null,
   "metadata": {},
   "outputs": [],
   "source": []
  },
  {
   "cell_type": "code",
   "execution_count": null,
   "metadata": {},
   "outputs": [],
   "source": []
  },
  {
   "cell_type": "code",
   "execution_count": null,
   "metadata": {},
   "outputs": [],
   "source": []
  },
  {
   "cell_type": "code",
   "execution_count": null,
   "metadata": {},
   "outputs": [],
   "source": []
  },
  {
   "cell_type": "code",
   "execution_count": null,
   "metadata": {},
   "outputs": [],
   "source": []
  },
  {
   "cell_type": "code",
   "execution_count": null,
   "metadata": {},
   "outputs": [],
   "source": []
  },
  {
   "cell_type": "code",
   "execution_count": null,
   "metadata": {},
   "outputs": [],
   "source": []
  },
  {
   "cell_type": "code",
   "execution_count": null,
   "metadata": {},
   "outputs": [],
   "source": []
  },
  {
   "cell_type": "code",
   "execution_count": null,
   "metadata": {},
   "outputs": [],
   "source": []
  },
  {
   "cell_type": "code",
   "execution_count": null,
   "metadata": {},
   "outputs": [],
   "source": []
  },
  {
   "cell_type": "code",
   "execution_count": null,
   "metadata": {},
   "outputs": [],
   "source": []
  },
  {
   "cell_type": "code",
   "execution_count": null,
   "metadata": {},
   "outputs": [],
   "source": []
  },
  {
   "cell_type": "code",
   "execution_count": null,
   "metadata": {},
   "outputs": [],
   "source": []
  },
  {
   "cell_type": "markdown",
   "metadata": {},
   "source": [
    "# star patterns"
   ]
  },
  {
   "cell_type": "code",
   "execution_count": 20,
   "metadata": {},
   "outputs": [
    {
     "name": "stdout",
     "output_type": "stream",
     "text": [
      "*\n",
      "**\n",
      "***\n",
      "****\n",
      "*****\n"
     ]
    }
   ],
   "source": [
    "# Right triangle\n",
    "def print_right_triangle(rows):\n",
    "    for i in range(1, rows + 1):\n",
    "        print('*' * i)\n",
    "\n",
    "# Example usage\n",
    "print_right_triangle(5)\n"
   ]
  },
  {
   "cell_type": "code",
   "execution_count": null,
   "metadata": {},
   "outputs": [],
   "source": []
  }
 ],
 "metadata": {
  "kernelspec": {
   "display_name": "localenv",
   "language": "python",
   "name": "python3"
  },
  "language_info": {
   "codemirror_mode": {
    "name": "ipython",
    "version": 3
   },
   "file_extension": ".py",
   "mimetype": "text/x-python",
   "name": "python",
   "nbconvert_exporter": "python",
   "pygments_lexer": "ipython3",
   "version": "3.8.10"
  }
 },
 "nbformat": 4,
 "nbformat_minor": 2
}
