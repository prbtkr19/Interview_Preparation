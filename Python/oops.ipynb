{
 "cells": [
  {
   "cell_type": "markdown",
   "metadata": {},
   "source": [
    "<center>Object Oriented Programming ( OOPS )</center>"
   ]
  },
  {
   "cell_type": "markdown",
   "metadata": {},
   "source": [
    "Class: \n",
    "    It specifies what attributes (characteristics or properties) and\n",
    "    methods (actions or behaviors) the object will have."
   ]
  },
  {
   "cell_type": "code",
   "execution_count": 1,
   "metadata": {},
   "outputs": [],
   "source": [
    "class clg:\n",
    "    def __init__(self,phone,email,id):\n",
    "        self.phone=phone\n",
    "        self.email=email\n",
    "        self.id=id\n",
    "        \n",
    "    def return_values(self):\n",
    "        return self.phone,self.email,self.id\n",
    "    \n",
    "    "
   ]
  },
  {
   "cell_type": "code",
   "execution_count": 2,
   "metadata": {},
   "outputs": [
    {
     "ename": "TypeError",
     "evalue": "__init__() missing 3 required positional arguments: 'phone', 'email', and 'id'",
     "output_type": "error",
     "traceback": [
      "\u001b[0;31m---------------------------------------------------------------------------\u001b[0m",
      "\u001b[0;31mTypeError\u001b[0m                                 Traceback (most recent call last)",
      "Cell \u001b[0;32mIn[2], line 1\u001b[0m\n\u001b[0;32m----> 1\u001b[0m obj1\u001b[38;5;241m=\u001b[39m\u001b[43mclg\u001b[49m\u001b[43m(\u001b[49m\u001b[43m)\u001b[49m\n",
      "\u001b[0;31mTypeError\u001b[0m: __init__() missing 3 required positional arguments: 'phone', 'email', and 'id'"
     ]
    }
   ],
   "source": [
    "obj1=clg()"
   ]
  },
  {
   "cell_type": "code",
   "execution_count": 4,
   "metadata": {},
   "outputs": [
    {
     "name": "stdout",
     "output_type": "stream",
     "text": [
      "<__main__.clg object at 0x7f5c781475e0>\n"
     ]
    }
   ],
   "source": [
    "obj1=clg(7512,\"abc@gmail.com\",6)\n",
    "print(obj1)"
   ]
  },
  {
   "cell_type": "markdown",
   "metadata": {},
   "source": [
    "<__main__.clg> : This part indicates the class to which the object belongs. \n",
    "In this case, the class name is clg, which is defined in the __main__ module.\n",
    "\n",
    "0x7f5c781475e0: This part is the memory address where the object is stored in the computer's memory. It is represented in hexadecimal format."
   ]
  },
  {
   "cell_type": "code",
   "execution_count": 5,
   "metadata": {},
   "outputs": [
    {
     "data": {
      "text/plain": [
       "7512"
      ]
     },
     "execution_count": 5,
     "metadata": {},
     "output_type": "execute_result"
    }
   ],
   "source": [
    "obj1.phone"
   ]
  },
  {
   "cell_type": "markdown",
   "metadata": {},
   "source": [
    "Polymorphism : func having different behaviour"
   ]
  },
  {
   "cell_type": "markdown",
   "metadata": {},
   "source": []
  },
  {
   "cell_type": "code",
   "execution_count": 6,
   "metadata": {},
   "outputs": [],
   "source": [
    "def test(a,b):\n",
    "    return a+b\n",
    "\n"
   ]
  },
  {
   "cell_type": "code",
   "execution_count": 7,
   "metadata": {},
   "outputs": [
    {
     "data": {
      "text/plain": [
       "5"
      ]
     },
     "execution_count": 7,
     "metadata": {},
     "output_type": "execute_result"
    }
   ],
   "source": [
    "test(2,3) # here function adding two integers"
   ]
  },
  {
   "cell_type": "code",
   "execution_count": 8,
   "metadata": {},
   "outputs": [
    {
     "data": {
      "text/plain": [
       "'pk'"
      ]
     },
     "execution_count": 8,
     "metadata": {},
     "output_type": "execute_result"
    }
   ],
   "source": [
    "test(\"p\",\"k\")# here same  function concatenationg string"
   ]
  },
  {
   "cell_type": "code",
   "execution_count": 9,
   "metadata": {},
   "outputs": [
    {
     "data": {
      "text/plain": [
       "[1, 2, 3, 4, 2, 3, 4]"
      ]
     },
     "execution_count": 9,
     "metadata": {},
     "output_type": "execute_result"
    }
   ],
   "source": [
    "test([1,2,3,4],[2,3,4]) # here fun concatenating two lists"
   ]
  },
  {
   "cell_type": "markdown",
   "metadata": {},
   "source": [
    "                        Method overriding\n"
   ]
  },
  {
   "cell_type": "markdown",
   "metadata": {},
   "source": [
    "\n",
    "Method overriding is an ability of any object-oriented programming language that allows a subclass or child class to provide a specific implementation of a method that is already provided by one of its super-classes or parent classes.\n",
    "\n",
    " When a method in a subclass has the same name, same parameters or signature and same return type(or sub-type) as a method in its super-class, then the method in the subclass is said to override the method in the super-class."
   ]
  },
  {
   "cell_type": "markdown",
   "metadata": {},
   "source": [
    "                        why method overriding used\n"
   ]
  },
  {
   "cell_type": "markdown",
   "metadata": {},
   "source": [
    "\n",
    "Method overriding is used primarily to achieve polymorphism and to customize the behavior of methods inherited from a superclass in the context of subclass objects. Here are some reasons "
   ]
  },
  {
   "cell_type": "code",
   "execution_count": 10,
   "metadata": {},
   "outputs": [
    {
     "name": "stdout",
     "output_type": "stream",
     "text": [
      "Inside Parent\n",
      "Inside Child\n"
     ]
    }
   ],
   "source": [
    "# Python program to demonstrate \n",
    "# method overriding \n",
    "\n",
    "\n",
    "# Defining parent class \n",
    "class Parent(): \n",
    "\t\n",
    "\t# Constructor \n",
    "\tdef __init__(self): \n",
    "\t\tself.value = \"Inside Parent\"\n",
    "\t\t\n",
    "\t# Parent's show method \n",
    "\tdef show(self): \n",
    "\t\tprint(self.value) \n",
    "\t\t\n",
    "# Defining child class \n",
    "class Child(Parent): \n",
    "\t\n",
    "\t# Constructor \n",
    "\tdef __init__(self): \n",
    "\t\tself.value = \"Inside Child\"\n",
    "\t\t\n",
    "\t# Child's show method \n",
    "\tdef show(self): \n",
    "\t\tprint(self.value) \n",
    "\t\t\n",
    "\t\t\n",
    "# Driver's code \n",
    "obj1 = Parent() \n",
    "obj2 = Child() \n",
    "\n",
    "obj1.show() \n",
    "obj2.show() \n"
   ]
  },
  {
   "cell_type": "code",
   "execution_count": 11,
   "metadata": {},
   "outputs": [],
   "source": [
    "# how to achieve conept of pilymorphism in oops\n",
    "class ds:\n",
    "    def syllabus(self):\n",
    "        print(\"this is my method for datas cienec\")\n",
    "        \n",
    "class web:\n",
    "    def syllabus(self):\n",
    "        print(\"this is syllabus of web\")"
   ]
  },
  {
   "cell_type": "code",
   "execution_count": 12,
   "metadata": {},
   "outputs": [],
   "source": [
    "def test_poly(object):\n",
    "    print(f'object-----{object}')\n",
    "    for i in object:\n",
    "        #print(i.syllabus()) # try this also it print something inside print\n",
    "        i.syllabus()"
   ]
  },
  {
   "cell_type": "code",
   "execution_count": 13,
   "metadata": {},
   "outputs": [],
   "source": [
    "ds_ob=ds()"
   ]
  },
  {
   "cell_type": "code",
   "execution_count": 14,
   "metadata": {},
   "outputs": [],
   "source": [
    "deb_obj=web()"
   ]
  },
  {
   "cell_type": "code",
   "execution_count": 15,
   "metadata": {},
   "outputs": [],
   "source": [
    "# storing above objs into list\n",
    "cls_obj = [ds_ob,deb_obj]"
   ]
  },
  {
   "cell_type": "code",
   "execution_count": 42,
   "metadata": {},
   "outputs": [
    {
     "name": "stdout",
     "output_type": "stream",
     "text": [
      "object-----[<__main__.ds object at 0x7f39605aabe0>, <__main__.web object at 0x7f3960488df0>]\n",
      "this is my method for datas cienec\n",
      "this is syllabus of web\n"
     ]
    }
   ],
   "source": [
    "test_poly(cls_obj)"
   ]
  },
  {
   "cell_type": "markdown",
   "metadata": {},
   "source": [
    "                Method Overloading"
   ]
  },
  {
   "cell_type": "markdown",
   "metadata": {},
   "source": [
    "\n",
    "Two or more methods have the same name but different numbers of parameters or different types of parameters, or both. These methods are called overloaded methods and this is called method overloading. "
   ]
  },
  {
   "cell_type": "markdown",
   "metadata": {},
   "source": [
    "The problem with method overloading in Python is that we may overload the methods but can only use the latest defined method"
   ]
  },
  {
   "cell_type": "code",
   "execution_count": 1,
   "metadata": {},
   "outputs": [
    {
     "name": "stdout",
     "output_type": "stream",
     "text": [
      "100\n"
     ]
    }
   ],
   "source": [
    "# First product method.\n",
    "# Takes two argument and print their\n",
    "# product\n",
    "\n",
    "\n",
    "def product(a, b):\n",
    "\tp = a * b\n",
    "\tprint(p)\n",
    "\n",
    "# Second product method\n",
    "# Takes three argument and print their\n",
    "# product\n",
    "\n",
    "\n",
    "def product(a, b, c):\n",
    "\tp = a * b*c\n",
    "\tprint(p)\n",
    "\n",
    "# Uncommenting the below line shows an error\n",
    "# product(4, 5)\n",
    "\n",
    "\n",
    "# This line will call the second product method\n",
    "product(4, 5, 5)\n"
   ]
  },
  {
   "cell_type": "markdown",
   "metadata": {},
   "source": [
    "python does not support method overloading. "
   ]
  },
  {
   "cell_type": "markdown",
   "metadata": {},
   "source": [
    "In the above code, we have defined two product methods we can only use the second product method, as python does not support method overloading. \n",
    "\n",
    "We may define many methods of the same name and different arguments, but we can only use the latest defined method. \n",
    "\n",
    "Calling the other method will produce an error. Like here calling product(4,5) will produce an error as the latest defined product method takes three arguments.\n",
    "\n",
    "Thus, to overcome the above problem we can use different ways to achieve the method overloading."
   ]
  },
  {
   "cell_type": "markdown",
   "metadata": {},
   "source": [
    "Method 1 (Not The Most Efficient Method):\n",
    "\n",
    "We can use the arguments to make the same function work differently i.e. as per the arguments."
   ]
  },
  {
   "cell_type": "code",
   "execution_count": 15,
   "metadata": {},
   "outputs": [],
   "source": [
    "# Function to take multiple arguments\n",
    "def add(datatype, *args):\n",
    "\n",
    "\t# if datatype is int\n",
    "\t# initialize answer as 0\n",
    "\tif datatype == 'int':\n",
    "\t\tanswer = 0\n",
    "\n",
    "\t# if datatype is str\n",
    "\t# initialize answer as ''\n",
    "\tif datatype == 'str':\n",
    "\t\tanswer = ''\n",
    "\n",
    "\t# Traverse through the arguments\n",
    "\tfor x in args:\n",
    "\t\tprint(x)\n",
    "\n",
    "\t\t# This will do addition if the\n",
    "\t\t# arguments are int. Or concatenation\n",
    "\t\t# if the arguments are str\n",
    "\t\tanswer = answer + x\n",
    "\t\tprint(f\" answer--{answer}\")\n",
    "\n",
    "\treturn answer\n",
    "\t#print(answer)\n",
    "\n",
    "\n",
    "\n",
    "\n"
   ]
  },
  {
   "cell_type": "code",
   "execution_count": 16,
   "metadata": {},
   "outputs": [
    {
     "name": "stdout",
     "output_type": "stream",
     "text": [
      "Hi \n",
      " answer--Hi \n",
      "Geeks\n",
      " answer--Hi Geeks\n",
      "concatenating strings----------Hi Geeks\n"
     ]
    }
   ],
   "source": [
    "\n",
    "# String\n",
    "print(f\"concatenating strings----------{add('str', 'Hi ', 'Geeks')}\")"
   ]
  },
  {
   "cell_type": "code",
   "execution_count": 17,
   "metadata": {},
   "outputs": [
    {
     "name": "stdout",
     "output_type": "stream",
     "text": [
      "5\n",
      " answer--5\n",
      "6\n",
      " answer--11\n",
      "here adding integers----------------11\n"
     ]
    }
   ],
   "source": [
    "# Integer\n",
    "print(f\"here adding integers----------------{add('int', 5, 6)}\")"
   ]
  },
  {
   "cell_type": "markdown",
   "metadata": {},
   "source": [
    "Method 2 (Not the efficient one):\n",
    "\n",
    "We can achieve method overloading in python by user defined function using “None” keyword as default parameter."
   ]
  },
  {
   "cell_type": "markdown",
   "metadata": {},
   "source": [
    "code expanation\n",
    "\n",
    "The first parameter of  “add” method is set to None. This will give us the option to call it with or without a parameter.\n",
    "\n",
    "When we pass arguments to the add method (Working):\n",
    "\n",
    "The method checks if both the parameters are available or not. \n",
    "As we have already given default parameter values as “None”, if any of the value is not passed it will remain “None”.\n",
    "Using If-Else statements, we can achieve method overloading by checking each parameter as single statement."
   ]
  },
  {
   "cell_type": "code",
   "execution_count": 18,
   "metadata": {},
   "outputs": [
    {
     "name": "stdout",
     "output_type": "stream",
     "text": [
      "5\n"
     ]
    }
   ],
   "source": [
    "# code\n",
    "def add(a=None, b=None):\n",
    "\t# Checks if both parameters are available\n",
    "\t# if statement will be executed if only one parameter is available\n",
    "\tif a != None and b == None:\n",
    "\t\tprint(a)\n",
    "\t# else will be executed if both are available and returns addition of two\n",
    "\telse:\n",
    "\t\tprint(a+b)\n",
    "\n",
    "\n",
    "# two arguments are passed, returns addition of two\n",
    "add(2, 3)\n",
    "\n"
   ]
  },
  {
   "cell_type": "code",
   "execution_count": 19,
   "metadata": {},
   "outputs": [
    {
     "name": "stdout",
     "output_type": "stream",
     "text": [
      "2\n"
     ]
    }
   ],
   "source": [
    "# only one argument is passed, returns a\n",
    "add(2)"
   ]
  },
  {
   "cell_type": "markdown",
   "metadata": {},
   "source": [
    "The problem with above methods is that, it makes code more complex with multiple if/else statement and is not the desired way to achieve the method overloading."
   ]
  },
  {
   "cell_type": "markdown",
   "metadata": {},
   "source": [
    "Method 3 (Efficient One):\n",
    "\n",
    "By Using Multiple Dispatch Decorator \n",
    "\n",
    "Multiple Dispatch Decorator Can be installed by: "
   ]
  },
  {
   "cell_type": "code",
   "execution_count": 1,
   "metadata": {},
   "outputs": [
    {
     "name": "stdout",
     "output_type": "stream",
     "text": [
      "6\n",
      "12\n",
      "17.204\n"
     ]
    }
   ],
   "source": [
    "from multipledispatch import dispatch\n",
    "\n",
    "# passing one parameter\n",
    "\n",
    "\n",
    "@dispatch(int, int)\n",
    "def product(first, second):\n",
    "\tresult = first*second\n",
    "\tprint(result)\n",
    "\n",
    "# passing two parameters\n",
    "\n",
    "\n",
    "@dispatch(int, int, int)\n",
    "def product(first, second, third):\n",
    "\tresult = first * second * third\n",
    "\tprint(result)\n",
    "\n",
    "# you can also pass data type of any value as per requirement\n",
    "\n",
    "\n",
    "@dispatch(float, float, float)\n",
    "def product(first, second, third):\n",
    "\tresult = first * second * third\n",
    "\tprint(result)\n",
    "\n",
    "\n",
    "# calling product method with 2 arguments\n",
    "product(2, 3) # this will give output of 6\n",
    "\n",
    "# calling product method with 3 arguments but all int\n",
    "product(2, 3, 2) # this will give output of 12\n",
    "\n",
    "# calling product method with 3 arguments but all float\n",
    "product(2.2, 3.4, 2.3) # this will give output of 17.985999999999997\n"
   ]
  },
  {
   "cell_type": "markdown",
   "metadata": {},
   "source": [
    "In Backend, Dispatcher creates an object which stores different implementation and on runtime, it selects the appropriate method as the type and number of parameters passed."
   ]
  },
  {
   "cell_type": "markdown",
   "metadata": {},
   "source": [
    "Encapsulation\n"
   ]
  },
  {
   "cell_type": "markdown",
   "metadata": {},
   "source": [
    " it help to hide important varibale, internal implementatio of functions.nobody can access outside class\n",
    "example is capsule"
   ]
  },
  {
   "cell_type": "code",
   "execution_count": 50,
   "metadata": {},
   "outputs": [],
   "source": [
    "class test():\n",
    "    def __init__(self,a,b):\n",
    "        self.a=a\n",
    "        self.b=b\n",
    "        \n",
    "        "
   ]
  },
  {
   "cell_type": "code",
   "execution_count": null,
   "metadata": {},
   "outputs": [],
   "source": []
  },
  {
   "cell_type": "code",
   "execution_count": 44,
   "metadata": {},
   "outputs": [
    {
     "ename": "TypeError",
     "evalue": "test() missing 2 required positional arguments: 'a' and 'b'",
     "output_type": "error",
     "traceback": [
      "\u001b[0;31m---------------------------------------------------------------------------\u001b[0m",
      "\u001b[0;31mTypeError\u001b[0m                                 Traceback (most recent call last)",
      "Cell \u001b[0;32mIn[44], line 1\u001b[0m\n\u001b[0;32m----> 1\u001b[0m obj_t\u001b[38;5;241m=\u001b[39m\u001b[43mtest\u001b[49m\u001b[43m(\u001b[49m\u001b[43m)\u001b[49m\n",
      "\u001b[0;31mTypeError\u001b[0m: test() missing 2 required positional arguments: 'a' and 'b'"
     ]
    }
   ],
   "source": [
    "obj_t=test()"
   ]
  },
  {
   "cell_type": "code",
   "execution_count": 51,
   "metadata": {},
   "outputs": [],
   "source": [
    "t=test(5,4)"
   ]
  },
  {
   "cell_type": "code",
   "execution_count": 52,
   "metadata": {},
   "outputs": [
    {
     "data": {
      "text/plain": [
       "5"
      ]
     },
     "execution_count": 52,
     "metadata": {},
     "output_type": "execute_result"
    }
   ],
   "source": [
    "t.a"
   ]
  },
  {
   "cell_type": "code",
   "execution_count": 53,
   "metadata": {},
   "outputs": [],
   "source": [
    "# changing variable outside\n",
    "t.a=10\n"
   ]
  },
  {
   "cell_type": "code",
   "execution_count": 54,
   "metadata": {},
   "outputs": [
    {
     "data": {
      "text/plain": [
       "10"
      ]
     },
     "execution_count": 54,
     "metadata": {},
     "output_type": "execute_result"
    }
   ],
   "source": [
    "t.a # here variable gets changes ,wo dont use in production"
   ]
  },
  {
   "cell_type": "markdown",
   "metadata": {},
   "source": [
    "encapsulation example in bank\n",
    "- deposit balance\n",
    "- withdraw\n",
    "- check balance"
   ]
  },
  {
   "cell_type": "code",
   "execution_count": 1,
   "metadata": {},
   "outputs": [],
   "source": [
    "class Bank():\n",
    "    def __init__(self,balance):\n",
    "        self.__balance=balance\n",
    "        \n",
    "    def deposit(self,amount):\n",
    "        self.__balance=self.__balance+ amount\n",
    "        \n",
    "    def withdraw(self,amount):\n",
    "        if amount > self.__balance:\n",
    "            self.__balance=self.__balance - amount\n",
    "            return True\n",
    "        else:\n",
    "            return False\n",
    "    def get_balance(self):\n",
    "        return self.__balance"
   ]
  },
  {
   "cell_type": "code",
   "execution_count": 4,
   "metadata": {},
   "outputs": [
    {
     "ename": "AttributeError",
     "evalue": "'Bank' object has no attribute '__balance'",
     "output_type": "error",
     "traceback": [
      "\u001b[0;31m---------------------------------------------------------------------------\u001b[0m",
      "\u001b[0;31mAttributeError\u001b[0m                            Traceback (most recent call last)",
      "Cell \u001b[0;32mIn[4], line 2\u001b[0m\n\u001b[1;32m      1\u001b[0m obj_bank \u001b[38;5;241m=\u001b[39m Bank(\u001b[38;5;241m10000\u001b[39m)\n\u001b[0;32m----> 2\u001b[0m \u001b[43mobj_bank\u001b[49m\u001b[38;5;241;43m.\u001b[39;49m\u001b[43m__balance\u001b[49m\n\u001b[1;32m      3\u001b[0m obj_bank\u001b[38;5;241m.\u001b[39mget_balance()\n",
      "\u001b[0;31mAttributeError\u001b[0m: 'Bank' object has no attribute '__balance'"
     ]
    }
   ],
   "source": [
    "obj_bank = Bank(10000)\n",
    "obj_bank.__balance # cant access private variable outside\n"
   ]
  },
  {
   "cell_type": "code",
   "execution_count": 5,
   "metadata": {},
   "outputs": [
    {
     "data": {
      "text/plain": [
       "10000"
      ]
     },
     "execution_count": 5,
     "metadata": {},
     "output_type": "execute_result"
    }
   ],
   "source": [
    "obj_bank.get_balance()"
   ]
  },
  {
   "cell_type": "markdown",
   "metadata": {},
   "source": [
    " using underscore convention"
   ]
  },
  {
   "cell_type": "code",
   "execution_count": 6,
   "metadata": {},
   "outputs": [
    {
     "name": "stdout",
     "output_type": "stream",
     "text": [
      "Driving Toyota Camry.\n"
     ]
    }
   ],
   "source": [
    "class Car:\n",
    "    def __init__(self, make, model):\n",
    "        self._make = make  # Conventionally, attributes starting with a single underscore are considered \"protected\"\n",
    "        self._model = model\n",
    "\n",
    "    def drive(self):\n",
    "        print(f\"Driving {self._make} {self._model}.\")\n",
    "\n",
    "    def _repair(self):  # Conventionally, methods starting with a single underscore are considered \"protected\"\n",
    "        print(f\"{self._make} {self._model} is being repaired.\")\n",
    "\n",
    "car = Car(\"Toyota\", \"Camry\")\n",
    "car.drive()\n",
    "# car._repair()  # This would work, but it's a convention to treat it as a protected method\n"
   ]
  },
  {
   "cell_type": "code",
   "execution_count": 7,
   "metadata": {},
   "outputs": [
    {
     "name": "stdout",
     "output_type": "stream",
     "text": [
      "Toyota Camry is being repaired.\n"
     ]
    }
   ],
   "source": [
    "car._repair()"
   ]
  },
  {
   "cell_type": "markdown",
   "metadata": {},
   "source": [
    " using double underscore for naming convention"
   ]
  },
  {
   "cell_type": "code",
   "execution_count": 9,
   "metadata": {},
   "outputs": [
    {
     "name": "stdout",
     "output_type": "stream",
     "text": [
      "Balance: 1000\n",
      "Balance: 1500\n"
     ]
    },
    {
     "ename": "AttributeError",
     "evalue": "'BankAccount' object has no attribute '__balance'",
     "output_type": "error",
     "traceback": [
      "\u001b[0;31m---------------------------------------------------------------------------\u001b[0m",
      "\u001b[0;31mAttributeError\u001b[0m                            Traceback (most recent call last)",
      "Cell \u001b[0;32mIn[9], line 21\u001b[0m\n\u001b[1;32m     19\u001b[0m account\u001b[38;5;241m.\u001b[39mdeposit(\u001b[38;5;241m500\u001b[39m)\n\u001b[1;32m     20\u001b[0m account\u001b[38;5;241m.\u001b[39mdisplay_balance()\n\u001b[0;32m---> 21\u001b[0m \u001b[38;5;28mprint\u001b[39m(\u001b[43maccount\u001b[49m\u001b[38;5;241;43m.\u001b[39;49m\u001b[43m__balance\u001b[49m)  \u001b[38;5;66;03m# This would raise an AttributeError due to name mangling\u001b[39;00m\n",
      "\u001b[0;31mAttributeError\u001b[0m: 'BankAccount' object has no attribute '__balance'"
     ]
    }
   ],
   "source": [
    "class BankAccount:\n",
    "    def __init__(self, balance):\n",
    "        self.__balance = balance  # Attributes starting with double underscores are name-mangled\n",
    "\n",
    "    def deposit(self, amount):\n",
    "        self.__balance += amount\n",
    "\n",
    "    def withdraw(self, amount):\n",
    "        if self.__balance >= amount:\n",
    "            self.__balance -= amount\n",
    "        else:\n",
    "            print(\"Insufficient balance.\")\n",
    "\n",
    "    def display_balance(self):\n",
    "        print(f\"Balance: {self.__balance}\")\n",
    "\n",
    "account = BankAccount(1000)\n",
    "account.display_balance()\n",
    "account.deposit(500)\n",
    "account.display_balance()\n",
    "print(account.__balance)  # This would raise an AttributeError due to name mangling\n"
   ]
  },
  {
   "cell_type": "code",
   "execution_count": null,
   "metadata": {},
   "outputs": [],
   "source": [
    "class Parrot:\n",
    "# class attribute\n",
    "    name = \"\"\n",
    "    age = 0\n",
    "\n",
    "# create parrot1 object\n",
    "parrot1 = Parrot()\n",
    "parrot1.name = \"Blu\"\n",
    "parrot1.age = 10\n",
    "\n",
    "# create another object parrot2\n",
    "parrot2 = Parrot()\n",
    "parrot2.name = \"Woo\"\n",
    "parrot2.age = 15\n",
    "\n",
    "# access attributes\n",
    "print(f\"{parrot1.name} is {parrot1.age} years old\")\n",
    "print(f\"{parrot2.name} is {parrot2.age} years old\")"
   ]
  },
  {
   "cell_type": "markdown",
   "metadata": {},
   "source": [
    " Inheritance"
   ]
  },
  {
   "cell_type": "code",
   "execution_count": null,
   "metadata": {},
   "outputs": [],
   "source": [
    "# Inheritance\n",
    "\n",
    "#Inheritance is a way of creating a new class for using details of an existing class without modifying it.\n",
    "#The newly formed class is a derived class (or child class). Similarly, the existing class is a base class (or parent class"
   ]
  },
  {
   "cell_type": "code",
   "execution_count": null,
   "metadata": {},
   "outputs": [],
   "source": [
    "# base class\n",
    "class Animal:\n",
    "    \n",
    "    def eat(self):\n",
    "        print( \"I can eat!\")\n",
    "    \n",
    "    def sleep(self):\n",
    "        print(\"I can sleep!\")\n",
    "\n",
    "# derived class\n",
    "class Dog(Animal):\n",
    "    \n",
    "    def bark(self):\n",
    "        print(\"I can bark! Woof woof!!\")\n",
    "\n",
    "# Create object of the Dog class\n",
    "dog1 = Dog()\n",
    "\n",
    "# Calling members of the base class\n",
    "dog1.eat()\n",
    "dog1.sleep()\n",
    "\n",
    "# Calling member of the derived class\n",
    "dog1.bark()"
   ]
  },
  {
   "cell_type": "markdown",
   "metadata": {},
   "source": [
    " Multilevel Inheritance"
   ]
  },
  {
   "cell_type": "code",
   "execution_count": 42,
   "metadata": {},
   "outputs": [
    {
     "name": "stdout",
     "output_type": "stream",
     "text": [
      "Species: Canine\n",
      "Breed: Labrador Retriever\n",
      "Color: Golden\n"
     ]
    }
   ],
   "source": [
    "class Animal:\n",
    "    def __init__(self, species):\n",
    "        self.species = species\n",
    "\n",
    "    def display_species(self):\n",
    "        print(\"Species:\", self.species)\n",
    "\n",
    "\n",
    "class Dog(Animal):\n",
    "    def __init__(self, species, breed):\n",
    "        super().__init__(species)\n",
    "        self.breed = breed\n",
    "\n",
    "    def display_breed(self):\n",
    "        print(\"Breed:\", self.breed)\n",
    "\n",
    "\n",
    "class Labrador(Dog):\n",
    "    def __init__(self, species, breed, color):\n",
    "        super().__init__(species, breed)\n",
    "        self.color = color\n",
    "\n",
    "    def display_color(self):\n",
    "        print(\"Color:\", self.color)\n",
    "\n",
    "\n",
    "labrador = Labrador(\"Canine\", \"Labrador Retriever\", \"Golden\")\n",
    "labrador.display_species()\n",
    "labrador.display_breed()\n",
    "labrador.display_color()\n"
   ]
  },
  {
   "cell_type": "code",
   "execution_count": 28,
   "metadata": {},
   "outputs": [
    {
     "name": "stdout",
     "output_type": "stream",
     "text": [
      "hi class a\n",
      "hi class c\n"
     ]
    },
    {
     "data": {
      "text/plain": [
       "<__main__.C at 0x7fbfdc159580>"
      ]
     },
     "execution_count": 28,
     "metadata": {},
     "output_type": "execute_result"
    }
   ],
   "source": [
    "# Multi level inheritance\n",
    "class A:\n",
    "    print(\"hi class a\")\n",
    "    a=10\n",
    "    \n",
    "class B(A):\n",
    "    b=20\n",
    "    def st(self):\n",
    "        \n",
    "        print(\"hi class B\")\n",
    "    \n",
    "class C(B):\n",
    "    print(\"hi class c\")\n",
    "    \n",
    "obj_c=C()\n",
    "obj_c"
   ]
  },
  {
   "cell_type": "markdown",
   "metadata": {},
   "source": [
    " Multiple Inheritance\n",
    "- Inheritaing multiple class variable and methods inside single class\n",
    "\n",
    "super() is used to call methods and constructors of the parent class "
   ]
  },
  {
   "cell_type": "code",
   "execution_count": 43,
   "metadata": {},
   "outputs": [
    {
     "ename": "TypeError",
     "evalue": "descriptor '__init__' requires a 'super' object but received a 'Car'",
     "output_type": "error",
     "traceback": [
      "\u001b[0;31m---------------------------------------------------------------------------\u001b[0m",
      "\u001b[0;31mTypeError\u001b[0m                                 Traceback (most recent call last)",
      "Cell \u001b[0;32mIn[43], line 27\u001b[0m\n\u001b[1;32m     23\u001b[0m     \u001b[38;5;28;01mdef\u001b[39;00m \u001b[38;5;21mdisplay_brand\u001b[39m(\u001b[38;5;28mself\u001b[39m):\n\u001b[1;32m     24\u001b[0m         \u001b[38;5;28mprint\u001b[39m(\u001b[38;5;124m\"\u001b[39m\u001b[38;5;124mBrand:\u001b[39m\u001b[38;5;124m\"\u001b[39m, \u001b[38;5;28mself\u001b[39m\u001b[38;5;241m.\u001b[39mbrand)\n\u001b[0;32m---> 27\u001b[0m car \u001b[38;5;241m=\u001b[39m \u001b[43mCar\u001b[49m\u001b[43m(\u001b[49m\u001b[38;5;241;43m4\u001b[39;49m\u001b[43m,\u001b[49m\u001b[43m \u001b[49m\u001b[38;5;124;43m\"\u001b[39;49m\u001b[38;5;124;43mPetrol\u001b[39;49m\u001b[38;5;124;43m\"\u001b[39;49m\u001b[43m,\u001b[49m\u001b[43m \u001b[49m\u001b[38;5;124;43m\"\u001b[39;49m\u001b[38;5;124;43mToyota\u001b[39;49m\u001b[38;5;124;43m\"\u001b[39;49m\u001b[43m)\u001b[49m\n\u001b[1;32m     28\u001b[0m car\u001b[38;5;241m.\u001b[39mdisplay_wheels()\n\u001b[1;32m     29\u001b[0m car\u001b[38;5;241m.\u001b[39mdisplay_fuel_type()\n",
      "Cell \u001b[0;32mIn[43], line 19\u001b[0m, in \u001b[0;36mCar.__init__\u001b[0;34m(self, wheels, fuel_type, brand)\u001b[0m\n\u001b[1;32m     18\u001b[0m \u001b[38;5;28;01mdef\u001b[39;00m \u001b[38;5;21m__init__\u001b[39m(\u001b[38;5;28mself\u001b[39m, wheels, fuel_type, brand):\n\u001b[0;32m---> 19\u001b[0m     \u001b[38;5;28;43msuper\u001b[39;49m\u001b[38;5;241;43m.\u001b[39;49m\u001b[38;5;21;43m__init__\u001b[39;49m\u001b[43m(\u001b[49m\u001b[38;5;28;43mself\u001b[39;49m\u001b[43m,\u001b[49m\u001b[43m \u001b[49m\u001b[43mwheels\u001b[49m\u001b[43m)\u001b[49m\n\u001b[1;32m     20\u001b[0m     \u001b[38;5;28msuper\u001b[39m\u001b[38;5;241m.\u001b[39m\u001b[38;5;21m__init__\u001b[39m(\u001b[38;5;28mself\u001b[39m, fuel_type)\n\u001b[1;32m     21\u001b[0m     \u001b[38;5;28mself\u001b[39m\u001b[38;5;241m.\u001b[39mbrand \u001b[38;5;241m=\u001b[39m brand\n",
      "\u001b[0;31mTypeError\u001b[0m: descriptor '__init__' requires a 'super' object but received a 'Car'"
     ]
    }
   ],
   "source": [
    "class Vehicle:\n",
    "    def __init__(self, wheels):\n",
    "        self.wheels = wheels\n",
    "\n",
    "    def display_wheels(self):\n",
    "        print(\"Number of wheels:\", self.wheels)\n",
    "\n",
    "\n",
    "class Engine:\n",
    "    def __init__(self, fuel_type):\n",
    "        self.fuel_type = fuel_type\n",
    "\n",
    "    def display_fuel_type(self):\n",
    "        print(\"Fuel type:\", self.fuel_type)\n",
    "\n",
    "\n",
    "class Car(Vehicle, Engine):\n",
    "    def __init__(self, wheels, fuel_type, brand):\n",
    "        Vehicle.__init__(self, wheels)  # super() cannot be used due to multiple inheritance.\n",
    "        Engine.__init__(self, fuel_type)\n",
    "        self.brand = brand\n",
    "\n",
    "    def display_brand(self):\n",
    "        print(\"Brand:\", self.brand)\n",
    "\n",
    "\n",
    "car = Car(4, \"Petrol\", \"Toyota\")\n",
    "car.display_wheels()\n",
    "car.display_fuel_type()\n",
    "car.display_brand()\n"
   ]
  },
  {
   "cell_type": "code",
   "execution_count": 38,
   "metadata": {},
   "outputs": [
    {
     "name": "stdout",
     "output_type": "stream",
     "text": [
      "c\n",
      "a\n",
      "30\n",
      "10\n"
     ]
    }
   ],
   "source": [
    "class A:\n",
    "    a3=10\n",
    "    def a(self):\n",
    "        print(\"a\")\n",
    "        a3=20 +10\n",
    "        return a3\n",
    "class B:\n",
    "    a2=30\n",
    "    def b(self):\n",
    "        print(\"b\")\n",
    "        a=20\n",
    "        \n",
    "class C(A,B):\n",
    "    print(\"c\")\n",
    "    \n",
    "o_c=C\n",
    "#o_c.a1\n",
    "print(o_c.a(1))\n",
    "print(o_c.a3)"
   ]
  },
  {
   "cell_type": "code",
   "execution_count": null,
   "metadata": {},
   "outputs": [],
   "source": [
    "# super class \n",
    "class Animal:\n",
    "\n",
    "    name = \"\"\n",
    "    \n",
    "    def eat(self):\n",
    "        print(\"I can eat\")\n",
    "\n",
    "# inherit from Animal\n",
    "class Dog(Animal):\n",
    "    \n",
    "    # override eat() method\n",
    "    def eat(self):\n",
    "        \n",
    "        # call the eat() method of the superclass using super()\n",
    "        super().eat()\n",
    "        \n",
    "        print(\"I like to eat bones\")\n",
    "\n",
    "# create an object of the subclass\n",
    "labrador = Dog()\n",
    "\n",
    "labrador.eat()"
   ]
  },
  {
   "cell_type": "code",
   "execution_count": null,
   "metadata": {},
   "outputs": [],
   "source": [
    "# call method of superclass\n",
    "super().eat()\n",
    "\n",
    "# call the eat() method\n",
    "labrador.eat()"
   ]
  },
  {
   "cell_type": "code",
   "execution_count": null,
   "metadata": {},
   "outputs": [],
   "source": [
    "# use of super class\n",
    "\n",
    "#Allows us to avoid using the base class name explicitly\n",
    "#Working with Multiple Inheritance\n",
    "\n",
    "class Mammal:\n",
    "    def mammal_info(self):\n",
    "        print(\"Mammals can give direct birth.\")\n",
    "\n",
    "class WingedAnimal:\n",
    "    def winged_animal_info(self):\n",
    "        print(\"Winged animals can flap.\")\n",
    "\n",
    "class Bat(Mammal, WingedAnimal):\n",
    "    pass\n",
    "\n",
    "# create an object of Bat class\n",
    "b1 = Bat()\n",
    "\n",
    "b1.mammal_info()\n",
    "b1.winged_animal_info()\n"
   ]
  },
  {
   "cell_type": "code",
   "execution_count": null,
   "metadata": {},
   "outputs": [],
   "source": [
    "# Multilevel Inheritance\n"
   ]
  },
  {
   "cell_type": "code",
   "execution_count": null,
   "metadata": {},
   "outputs": [],
   "source": [
    "# super class with single inheritance\n",
    "class Mammal(object):\n",
    "  def __init__(self, mammalName):\n",
    "    print(mammalName, 'is a warm-blooded animal.')\n",
    "    \n",
    "class Dog(Mammal):\n",
    "  def __init__(self):\n",
    "    print('Dog has four legs.')\n",
    "    super().__init__('Dog')\n",
    "    \n",
    "d1 = Dog()\n",
    "#Here, we called the __init__() method of the Mammal class (from the Dog class) using code\n",
    "super().__init__('Dog')\n",
    "Mammal.__init__(self, 'Dog')"
   ]
  },
  {
   "cell_type": "code",
   "execution_count": null,
   "metadata": {},
   "outputs": [],
   "source": [
    "#  super class with multiple inheritance\n",
    "class Animal:\n",
    "  def __init__(self, Animal):\n",
    "    print(Animal, 'is an animal.');\n",
    "\n",
    "class Mammal(Animal):\n",
    "  def __init__(self, mammalName):\n",
    "    print(mammalName, 'is a warm-blooded animal.')\n",
    "    super().__init__(mammalName)\n",
    "    \n",
    "class NonWingedMammal(Mammal):\n",
    "  def __init__(self, NonWingedMammal):\n",
    "    print(NonWingedMammal, \"can't fly.\")\n",
    "    super().__init__(NonWingedMammal)\n",
    "\n",
    "class NonMarineMammal(Mammal):\n",
    "  def __init__(self, NonMarineMammal):\n",
    "    print(NonMarineMammal, \"can't swim.\")\n",
    "    super().__init__(NonMarineMammal)\n",
    "\n",
    "class Dog(NonMarineMammal, NonWingedMammal):\n",
    "  def __init__(self):\n",
    "    print('Dog has 4 legs.');\n",
    "    super().__init__('Dog')\n",
    "    \n",
    "d = Dog()\n",
    "print('')\n",
    "bat = NonMarineMammal('Bat')"
   ]
  },
  {
   "cell_type": "code",
   "execution_count": null,
   "metadata": {},
   "outputs": [],
   "source": [
    "#Method Resolution Order (MRO) is the order in which \n",
    "# methods should be inherited in the presence of multiple inheritance.\n",
    "# You can view the MRO by using the __mro__ attribute."
   ]
  },
  {
   "cell_type": "code",
   "execution_count": null,
   "metadata": {},
   "outputs": [],
   "source": [
    "class Animal(object):\n",
    "  def __init__(self, animal_type):\n",
    "    print('Animal Type:', animal_type)\n",
    "    \n",
    "class Mammal(Animal):\n",
    "  def __init__(self):\n",
    "\n",
    "    # call superclass\n",
    "    super().__init__('Mammal')\n",
    "    print('Mammals give birth directly')\n",
    "    \n",
    "dog = Mammal()\n",
    "\n"
   ]
  },
  {
   "cell_type": "code",
   "execution_count": null,
   "metadata": {},
   "outputs": [],
   "source": [
    "# base class\n",
    "class Animal():\n",
    "    def eat(self):\n",
    "        print(\"i can eat\")\n",
    "    def sleep(self):\n",
    "        print(\"i can sleep\")\n",
    "# child class        \n",
    "class dog(Animal):\n",
    "    def bark(self):\n",
    "        print(\"i can bark\")\n",
    "        \n",
    "dog1=dog()\n",
    "dog1.eat()\n",
    "dog1.sleep()\n",
    "dog1.bark()"
   ]
  },
  {
   "cell_type": "code",
   "execution_count": null,
   "metadata": {},
   "outputs": [],
   "source": [
    "# operator overloading\n",
    "# __str__(): returns a string representation of the object\n",
    "\n",
    "class Point:\n",
    "    def __init__(self, x=0, y=0):\n",
    "        self.x = x\n",
    "        self.y = y\n",
    "\n",
    "    def __str__(self):\n",
    "        return \"({0},{1})\".format(self.x, self.y)\n",
    "\n",
    "    def __add__(self, other):\n",
    "        x = self.x + other.x\n",
    "        y = self.y + other.y\n",
    "        return Point(x, y)\n",
    "\n",
    "\n",
    "p1 = Point(1, 2)\n",
    "p2 = Point(2, 3)\n",
    "\n",
    "print(p1+p2)\n",
    "\n",
    "# Output: (3,5)"
   ]
  },
  {
   "cell_type": "markdown",
   "metadata": {},
   "source": [
    "Encapsulation refers to the bundling of attributes and methods inside a single class.\n",
    "It prevents outer classes from accessing and changing attributes and methods of a class.\n",
    "This also helps to achieve data hiding."
   ]
  },
  {
   "cell_type": "code",
   "execution_count": null,
   "metadata": {},
   "outputs": [],
   "source": [
    "class Computer:\n",
    "\n",
    "    def __init__(self):\n",
    "        self.__maxprice = 900\n",
    "\n",
    "    def sell(self):\n",
    "        print(\"Selling Price: {}\".format(self.__maxprice))\n",
    "\n",
    "    def setMaxPrice(self, price):\n",
    "        self.__maxprice = price\n",
    "\n",
    "c = Computer()\n",
    "c.sell()\n",
    "\n",
    "# change the price\n",
    "c.__maxprice = 1000\n",
    "c.sell()\n",
    "\n",
    "\n",
    "\n",
    "#to change the value, we have to use a setter function i.e setMaxPrice() which takes price as a parameter.\n",
    "# using setter function\n",
    "c.setMaxPrice(1000)\n",
    "print()\n",
    "print(f\"after changing price::::::::{c.sell}\")\n",
    "c.sell()"
   ]
  },
  {
   "cell_type": "code",
   "execution_count": null,
   "metadata": {},
   "outputs": [],
   "source": [
    "# It simply means more than one form.\n",
    "#the same entity (method or operator or object) can perform different operations in different scenarios.\n",
    "\n",
    "\n",
    "class Polygon:\n",
    "    # method to render a shape\n",
    "    def render(self):\n",
    "        print(\"Rendering Polygon...\")\n",
    "\n",
    "class Square(Polygon):\n",
    "    # renders Square\n",
    "    def render(self):\n",
    "        print(\"Rendering Square...\")\n",
    "\n",
    "class Circle(Polygon):\n",
    "    # renders circle\n",
    "    def render(self):\n",
    "        print(\"Rendering Circle...\")\n",
    "    \n",
    "# create an object of Square\n",
    "s1 = Square()\n",
    "s1.render()\n",
    "\n",
    "# create an object of Circle\n",
    "c1 = Circle()\n",
    "c1.render()"
   ]
  },
  {
   "cell_type": "code",
   "execution_count": null,
   "metadata": {},
   "outputs": [],
   "source": [
    "class Bike:\n",
    "\n",
    "    # constructor function    \n",
    "    def __init__(self, name = \"\"):\n",
    "        self.name = name\n",
    "\n",
    "bike1 = Bike(name=\"praabht\")\n",
    "bike1.name"
   ]
  },
  {
   "cell_type": "code",
   "execution_count": null,
   "metadata": {},
   "outputs": [],
   "source": [
    "#Here, __init__() is the constructor function that is called \n",
    "#whenever a new object of that class is instantiated."
   ]
  },
  {
   "cell_type": "code",
   "execution_count": null,
   "metadata": {},
   "outputs": [],
   "source": [
    "#what if the same method is present in both the superclass and subclass?\n",
    "\n",
    "#In this case, the method in the subclass overrides the method in the superclass. \n",
    "# This concept is known as method overriding in\n",
    "\n",
    "\n",
    "class Animal:\n",
    "\n",
    "    # attributes and method of the parent class\n",
    "    name = \"\"\n",
    "    \n",
    "    def eat(self):\n",
    "        print(\"I can eat\")\n",
    "\n",
    "# inherit from Animal\n",
    "class Dog(Animal):\n",
    "\n",
    "    # override eat() method\n",
    "    def eat(self):\n",
    "        print(\"I like to eat bones\")\n",
    "\n",
    "# create an object of the subclass\n",
    "labrador = Dog()\n",
    "\n",
    "# call the eat() method on the labrador object\n",
    "labrador.eat() "
   ]
  },
  {
   "cell_type": "markdown",
   "metadata": {},
   "source": [
    " Abstraction\n",
    "\n",
    "- Abstraction in Python is used to hide the complex implementation details of a class and only expose the necessary features to the user.\n",
    "\n",
    "- This allows users to interact with the class without needing to know about its internal workings.\n",
    "- Abstraction is achieved through abstract classes and abstract methods.\n",
    "- it provides  skeleton of class method implemnetation\n"
   ]
  },
  {
   "cell_type": "code",
   "execution_count": 6,
   "metadata": {},
   "outputs": [
    {
     "name": "stdout",
     "output_type": "stream",
     "text": [
      "Area of rectangle: 20\n",
      "Perimeter of rectangle: 18\n",
      "Area of circle: 153.86\n",
      "Perimeter of circle: 43.96\n"
     ]
    }
   ],
   "source": [
    "from abc import ABC, abstractmethod\n",
    "\n",
    "class Shape(ABC):\n",
    "    @abstractmethod\n",
    "    def area(self):\n",
    "        pass\n",
    "    \n",
    "    @abstractmethod\n",
    "    def perimeter(self):\n",
    "        pass\n",
    "\n",
    "class Rectangle(Shape):\n",
    "    def __init__(self, length, width):\n",
    "        self.length = length\n",
    "        self.width = width\n",
    "    \n",
    "    def area(self):\n",
    "        return self.length * self.width\n",
    "    \n",
    "    def perimeter(self):\n",
    "        return 2 * (self.length + self.width)\n",
    "\n",
    "class Circle(Shape):\n",
    "    def __init__(self, radius):\n",
    "        self.radius = radius\n",
    "    \n",
    "    def area(self):\n",
    "        return 3.14 * self.radius * self.radius\n",
    "    \n",
    "    def perimeter(self):\n",
    "        return 2 * 3.14 * self.radius\n",
    "\n",
    "# Creating objects of concrete classes\n",
    "rectangle = Rectangle(5, 4)\n",
    "circle = Circle(7)\n",
    "\n",
    "# Accessing the abstract methods through objects\n",
    "print(\"Area of rectangle:\", rectangle.area())\n",
    "print(\"Perimeter of rectangle:\", rectangle.perimeter())\n",
    "print(\"Area of circle:\", circle.area())\n",
    "print(\"Perimeter of circle:\", circle.perimeter())\n"
   ]
  },
  {
   "cell_type": "markdown",
   "metadata": {},
   "source": [
    " Decorators\n",
    "- Decorators allow you to modify or extend the behavior of functions or classes without directly modifying their code. \n",
    "- decorators can be applied to methods to alter their behavior.\n",
    "if we try to print same thing in entire function we can decorate that function with custom decorator fuction, examples below "
   ]
  },
  {
   "cell_type": "code",
   "execution_count": 5,
   "metadata": {},
   "outputs": [
    {
     "name": "stdout",
     "output_type": "stream",
     "text": [
      "Something is happening before the method is called.\n",
      "The method is called.\n",
      "Something is happening after the method is called.\n"
     ]
    }
   ],
   "source": [
    "# Define a decorator function\n",
    "def my_decorator(func):\n",
    "    def wrapper(*args, **kwargs):\n",
    "        print(\"Something is happening before the method is called.\")\n",
    "        result = func(*args, **kwargs)\n",
    "        print(\"Something is happening after the method is called.\")\n",
    "        return result\n",
    "    return wrapper\n",
    "\n",
    "# Define a class with a method to be decorated\n",
    "class MyClass:\n",
    "    @my_decorator\n",
    "    def my_method(self):\n",
    "        print(\"The method is called.\")\n",
    "\n",
    "# Create an instance of the class\n",
    "obj = MyClass()\n",
    "\n",
    "# Call the method (decorator will modify its behavior)\n",
    "obj.my_method()\n"
   ]
  },
  {
   "cell_type": "markdown",
   "metadata": {},
   "source": [
    "class Methods\n",
    "\n",
    "- Class methods are bound to the class rather than  instances of the class. \n",
    "\n",
    "- They can be called on either the class itself or on instances of the class. \n",
    "- Class methods are defined using the @classmethod decorator"
   ]
  },
  {
   "cell_type": "code",
   "execution_count": 4,
   "metadata": {},
   "outputs": [
    {
     "name": "stdout",
     "output_type": "stream",
     "text": [
      "Class method called with: 10\n",
      "Accessing class variable inside class method: I am a class variable\n",
      "accessing class varibale---I am a class variable\n",
      "Class method called with: 20\n",
      "Accessing class variable inside class method: I am a class variable\n",
      "Instance method called with: 5\n",
      "Accessing class variable inside instance method: I am a class variable\n"
     ]
    }
   ],
   "source": [
    "class MyClass:\n",
    "    class_variable = \"I am a class variable\"\n",
    "\n",
    "    def __init__(self, x):\n",
    "        self.x = x\n",
    "\n",
    "    @classmethod\n",
    "    def class_method(cls, y):\n",
    "        print(\"Class method called with:\", y)\n",
    "        print(\"Accessing class variable inside class method:\", cls.class_variable)\n",
    "\n",
    "    def instance_method(self):\n",
    "        print(\"Instance method called with:\", self.x)\n",
    "        print(\"Accessing class variable inside instance method:\", self.class_variable)\n",
    "\n",
    "# Calling class method on the class itself\n",
    "MyClass.class_method(10)\n",
    "print(f\"accessing class varibale---{MyClass.class_variable}\")\n",
    "\n",
    "\n",
    "# Creating an instance of MyClass\n",
    "obj = MyClass(5)\n",
    "\n",
    "# Calling class method on an instance of the class\n",
    "obj.class_method(20)\n",
    "\n",
    "# Calling instance method on the instance\n",
    "obj.instance_method()\n"
   ]
  },
  {
   "cell_type": "markdown",
   "metadata": {},
   "source": []
  },
  {
   "cell_type": "markdown",
   "metadata": {},
   "source": [
    "python Advance concepts\n",
    "-  Iterator\n",
    "-  Generator"
   ]
  },
  {
   "cell_type": "code",
   "execution_count": null,
   "metadata": {},
   "outputs": [],
   "source": [
    "\n",
    "# iterators\n",
    "# define a list\n",
    "my_list = [4, 7, 0]\n",
    "\n",
    "# create an iterator from the list\n",
    "iterator = iter(my_list)\n",
    "print(f\"iter object::::: { iterator}\")\n",
    "# get the first element of the iterator\n",
    "print(next(iterator))  # prints 4\n",
    "\n",
    "# get the second element of the iterator\n",
    "print(next(iterator))  # prints 7\n",
    "\n",
    "# get the third element of the iterator\n",
    "print(next(iterator))  # prints 0"
   ]
  },
  {
   "cell_type": "code",
   "execution_count": null,
   "metadata": {},
   "outputs": [],
   "source": [
    "# __iter__() returns the iterator object itself.\n",
    "\n",
    "# __next__() must return the next item in the sequence. \n",
    "# On reaching the end, and in subsequent calls, it must raise StopIteration"
   ]
  },
  {
   "cell_type": "code",
   "execution_count": null,
   "metadata": {},
   "outputs": [],
   "source": [
    "# Python Infinite Iterator\n",
    "from itertools import count\n",
    "\n",
    "# create an infinite iterator that starts at 1 and increments by 1 each time\n",
    "infinite_iterator = count(1)\n",
    "\n",
    "# print the first 5 elements of the infinite iterator\n",
    "for i in range(10):\n",
    "    print(next(infinite_iterator))"
   ]
  },
  {
   "cell_type": "code",
   "execution_count": null,
   "metadata": {},
   "outputs": [],
   "source": []
  },
  {
   "cell_type": "code",
   "execution_count": null,
   "metadata": {},
   "outputs": [],
   "source": [
    "# create a list of integers\n",
    "my_list = [1, 2, 3, 4, 5]\n",
    "\n",
    "# create an iterator from the list\n",
    "iterator = iter(my_list)\n",
    "\n",
    "# iterate through the elements of the iterator\n",
    "for element in iterator:\n",
    "\n",
    "    # Print each element\n",
    "    \n",
    "    print(element)"
   ]
  },
  {
   "cell_type": "markdown",
   "metadata": {},
   "source": [
    " Decorators\n"
   ]
  },
  {
   "cell_type": "code",
   "execution_count": null,
   "metadata": {},
   "outputs": [],
   "source": [
    "# pass function as a argument\n",
    "def add(x, y):\n",
    "    return x + y\n",
    "\n",
    "def calculate(func, x, y):\n",
    "    return func(x, y)\n",
    "\n",
    "result = calculate(add, 4, 6)\n",
    "print(result)  # prints 10"
   ]
  },
  {
   "cell_type": "code",
   "execution_count": null,
   "metadata": {},
   "outputs": [],
   "source": [
    "#A Python decorator is a function that takes in a function and returns it by adding some functionality.\n",
    "\n",
    "#any object which implements the special __call__() method is termed callable.\n",
    "# So, in the most basic sense, a decorator is a callable that returns a callable.\n",
    "\n",
    "#Basically, a decorator takes in a function, adds some functionality and returns it."
   ]
  },
  {
   "cell_type": "code",
   "execution_count": null,
   "metadata": {},
   "outputs": [],
   "source": [
    "def make_pretty(func):\n",
    "    def inner():\n",
    "        print(\"I got decorated\")\n",
    "        func()\n",
    "    return inner\n",
    "\n",
    "\n",
    "def ordinary():\n",
    "    print(\"I am ordinary\")\n"
   ]
  },
  {
   "cell_type": "code",
   "execution_count": null,
   "metadata": {},
   "outputs": [],
   "source": [
    "# lets call it using decorator function\n",
    "def make_pretty(func):\n",
    "    # define the inner function \n",
    "    def inner():\n",
    "        # add some additional behavior to decorated function\n",
    "        print(\"I got decorated\")\n",
    "\n",
    "        # call original function\n",
    "        func()\n",
    "    # return the inner function\n",
    "    return inner\n",
    "\n",
    "# define ordinary function\n",
    "def ordinary():\n",
    "    print(\"I am ordinary\")\n",
    "    \n",
    "# decorate the ordinary function\n",
    "decorated_func = make_pretty(ordinary)\n",
    "\n",
    "# call the decorated function\n",
    "decorated_func()"
   ]
  },
  {
   "cell_type": "code",
   "execution_count": null,
   "metadata": {},
   "outputs": [],
   "source": [
    "#We are now passing the ordinary() function as the argument to the make_pretty().\n",
    "#The make_pretty() function returns the inner function, \n",
    "# and it is now assigned to the decorated_func variable"
   ]
  },
  {
   "cell_type": "code",
   "execution_count": null,
   "metadata": {},
   "outputs": [],
   "source": [
    "def make_pretty(func):\n",
    "\n",
    "    def inner():\n",
    "        print(\"I got decorated\")\n",
    "        func()\n",
    "    return inner\n",
    "\n",
    "@make_pretty\n",
    "def ordinary():\n",
    "    print(\"I am ordinary\")\n",
    "\n",
    "ordinary()  \n",
    "\n",
    "#Here, the ordinary() function is decorated with the make_pretty() decorator \n",
    "# using the @make_pretty syntax, which is equivalent to calling ordinary = make_pretty(ordinary)."
   ]
  },
  {
   "cell_type": "markdown",
   "metadata": {},
   "source": [
    " Decorating Functions with Parameters\n"
   ]
  },
  {
   "cell_type": "code",
   "execution_count": null,
   "metadata": {},
   "outputs": [],
   "source": [
    "def divide(a, b):\n",
    "    return a/b\n",
    "\n"
   ]
  },
  {
   "cell_type": "code",
   "execution_count": null,
   "metadata": {},
   "outputs": [],
   "source": [
    "# do this with decorator\n",
    "def smart_divide(func):\n",
    "    def inner(a, b):\n",
    "        print(\"I am going to divide\", a, \"and\", b)\n",
    "        if b == 0:\n",
    "            print(\"Whoops! cannot divide\")\n",
    "            return\n",
    "\n",
    "        return func(a, b)\n",
    "    return inner\n",
    "\n",
    "@smart_divide\n",
    "def divide(a, b):\n",
    "    print(a/b)\n",
    "\n",
    "divide(2,5)\n",
    "\n",
    "divide(2,0)"
   ]
  },
  {
   "cell_type": "markdown",
   "metadata": {},
   "source": [
    " class without getter and setter"
   ]
  },
  {
   "cell_type": "code",
   "execution_count": null,
   "metadata": {},
   "outputs": [],
   "source": [
    "# Basic method of setting and getting attributes in Python\n",
    "class Celsius:\n",
    "    def __init__(self, temperature=0):\n",
    "        self.temperature = temperature\n",
    "\n",
    "    def to_fahrenheit(self):\n",
    "        return (self.temperature * 1.8) + 32\n",
    "\n",
    "\n",
    "# Create a new object\n",
    "human = Celsius()\n",
    "\n",
    "# Set the temperature\n",
    "human.temperature = 37\n",
    "\n",
    "# Get the temperature attribute\n",
    "print(human.temperature)\n",
    "\n",
    "# Get the to_fahrenheit method\n",
    "print(human.to_fahrenheit())"
   ]
  },
  {
   "cell_type": "markdown",
   "metadata": {},
   "source": [
    " using getter and setter"
   ]
  },
  {
   "cell_type": "code",
   "execution_count": null,
   "metadata": {},
   "outputs": [],
   "source": [
    "# Making Getters and Setter methods\n",
    "class Celsius:\n",
    "    def __init__(self, temperature=0):\n",
    "        self.set_temperature(temperature)\n",
    "\n",
    "    def to_fahrenheit(self):\n",
    "        return (self.get_temperature() * 1.8) + 32\n",
    "\n",
    "    # getter method\n",
    "    def get_temperature(self):\n",
    "        return self._temperature\n",
    "\n",
    "    # setter method\n",
    "    def set_temperature(self, value):\n",
    "        if value < -273.15:\n",
    "            raise ValueError(\"Temperature below -273.15 is not possible.\")\n",
    "        self._temperature = value"
   ]
  },
  {
   "cell_type": "code",
   "execution_count": null,
   "metadata": {},
   "outputs": [],
   "source": [
    "# Making Getters and Setter methods\n",
    "class Celsius:\n",
    "    def __init__(self, temperature=0):\n",
    "        self.set_temperature(temperature)\n",
    "\n",
    "    def to_fahrenheit(self):\n",
    "        return (self.get_temperature() * 1.8) + 32\n",
    "\n",
    "    # getter method\n",
    "    def get_temperature(self):\n",
    "        return self._temperature\n",
    "\n",
    "    # setter method\n",
    "    def set_temperature(self, value):\n",
    "        if value < -273.15:\n",
    "            raise ValueError(\"Temperature below -273.15 is not possible.\")\n",
    "        self._temperature = value\n",
    "\n",
    "\n",
    "# Create a new object, set_temperature() internally called by __init__\n",
    "human = Celsius(37)\n",
    "\n",
    "# Get the temperature attribute via a getter\n",
    "print(human.get_temperature())\n",
    "\n",
    "# Get the to_fahrenheit method, get_temperature() called by the method itself\n",
    "print(human.to_fahrenheit())\n",
    "\n",
    "# new constraint implementation\n",
    "human.set_temperature(-300)\n",
    "\n",
    "# Get the to_fahreheit method\n",
    "print(human.to_fahrenheit())"
   ]
  },
  {
   "cell_type": "markdown",
   "metadata": {},
   "source": [
    "Meta Class vs Data class"
   ]
  }
 ],
 "metadata": {
  "kernelspec": {
   "display_name": "localenv",
   "language": "python",
   "name": "python3"
  },
  "language_info": {
   "codemirror_mode": {
    "name": "ipython",
    "version": 3
   },
   "file_extension": ".py",
   "mimetype": "text/x-python",
   "name": "python",
   "nbconvert_exporter": "python",
   "pygments_lexer": "ipython3",
   "version": "3.8.10"
  }
 },
 "nbformat": 4,
 "nbformat_minor": 2
}
