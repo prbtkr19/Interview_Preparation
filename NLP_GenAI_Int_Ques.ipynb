{
 "cells": [
  {
   "cell_type": "markdown",
   "metadata": {},
   "source": [
    "Generative AI questions\n",
    "1. What is GEN AI\n",
    "2. What is LLM\n",
    "3.  Explain your use case of LLM\n",
    "4. Explain RAG Architecture\n",
    "5. What exactly retreival is doing?\n",
    "6. Explain RAG pipeline with example.\n",
    "7. RAG use cases\n",
    "8. Libraries and framework use in RAG\n",
    "9. What models u use FOR rag chatbot?\n",
    "10. Have u use openai models for rag?\n",
    "3. Explain Chunking\n",
    "4. What is overlapping in chunking\n",
    "5. Explain your use case implemented using RAG\n",
    "6. What is Vector DB\n",
    "7. Which Vector DB used?\n",
    "8. Explain the difference between Nosql vs VectorDB\n",
    "9. Explain semantic vs similarity score\n",
    "10. How to do text processing for chatbot where your data is stored in pdf\n",
    "11. What is finetuning in genai?\n",
    "12. Explain Lora\n",
    "13. Frameworks and libraries you r using for Gen ai , nlp , python\n",
    "14. Explain your projects use cases for Gen AI\n",
    "15. How you monitor your model?\n",
    "16. What are the testing criteria?\n",
    "17. Any of your nlp application that you deployed on AWS?\n",
    "18. What is embedding\n",
    "19. Which libraries u use for embedding\n",
    "20. What's the difference between using openai embedding and sentence transformer\n",
    "embedding?\n",
    "21. Which vector database u use?\n",
    "22. Various options available for vector database\n",
    "23. Frameworks for Gen ai\n",
    "24. Is your layoutllm3 finetuned or pretain prediction?\n",
    "25. How u use Genai to generate something in your project?\n",
    "26. Which gives u better results layoutllm or prompt engineering?\n",
    "27. How u compare it?\n",
    "28. Accuracy of layoutllm3?\n",
    "29. suppose you created llm howwill you manage bulk of user requests\n",
    "30. fine tuning llm using lora,qlore\n",
    "31. model quantization in llm\n",
    "31. why we should not use normal db than vector db"
   ]
  },
  {
   "cell_type": "code",
   "execution_count": null,
   "metadata": {},
   "outputs": [],
   "source": []
  }
 ],
 "metadata": {
  "language_info": {
   "name": "python"
  }
 },
 "nbformat": 4,
 "nbformat_minor": 2
}
