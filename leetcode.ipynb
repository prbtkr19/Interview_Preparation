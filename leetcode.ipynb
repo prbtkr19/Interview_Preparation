{
 "cells": [
  {
   "cell_type": "markdown",
   "metadata": {},
   "source": [
    "<center><font color=\"red\">String questions </font></center>"
   ]
  },
  {
   "cell_type": "markdown",
   "metadata": {},
   "source": [
    "Palindrome Check:\n",
    "- Write a function to check if a given string is a palindrome.\n"
   ]
  },
  {
   "cell_type": "code",
   "execution_count": 6,
   "metadata": {},
   "outputs": [
    {
     "name": "stdout",
     "output_type": "stream",
     "text": [
      "original string is python\n",
      " new string is False\n"
     ]
    }
   ],
   "source": [
    "def check_palindrome(s1):\n",
    "    # converting to lowercse\n",
    "    s=s1.lower()\n",
    "    new_str=''\n",
    "    for i in s:\n",
    "        new_str=i+new_str\n",
    "    \n",
    "    if s==new_str:\n",
    "        return True\n",
    "    else:\n",
    "        return False\n",
    "    \n",
    "    \n",
    "#s1='madam'\n",
    "s1='python'\n",
    "\n",
    "out=check_palindrome(s1)\n",
    "print(f\"original string is {s1}\\n new string is {out}\")\n",
    "    \n",
    "    \n",
    "    "
   ]
  },
  {
   "cell_type": "markdown",
   "metadata": {},
   "source": [
    "<font color=\"orange\"> check if number is palindrome </font>\n"
   ]
  },
  {
   "cell_type": "markdown",
   "metadata": {},
   "source": [
    "String method approach"
   ]
  },
  {
   "cell_type": "code",
   "execution_count": 13,
   "metadata": {},
   "outputs": [
    {
     "name": "stdout",
     "output_type": "stream",
     "text": [
      "half length 3\n",
      "It is not a palindrome\n"
     ]
    }
   ],
   "source": [
    "def checkPalindrome(str): \n",
    "\t\n",
    "\t# Run loop from 0 to len/2 \n",
    "\tprint(f\"half length {len(str)//2}\")\n",
    "\tfor i in range(0, len(str)//2): \n",
    "\t\tif str[i] != str[len(str)-i-1]: \n",
    "\t\t\treturn False\n",
    "\t\t\t\n",
    "\t# If the above loop doesn't return then it is palindrome \n",
    "\treturn True\n",
    "\n",
    "\n",
    "# Driver code \n",
    "#st = \"112233445566778899000000998877665544332211\"\n",
    "st =\"123421\"\n",
    "if(checkPalindrome(st) == True): \n",
    "\tprint(\"it is a palindrome\") \n",
    "else: \n",
    "\tprint(\"It is not a palindrome\") \n"
   ]
  },
  {
   "cell_type": "code",
   "execution_count": 7,
   "metadata": {},
   "outputs": [
    {
     "name": "stdout",
     "output_type": "stream",
     "text": [
      "reverse value ************* 1\n",
      "temp values ********* 12\n",
      "reverse value ************* 12\n",
      "temp values ********* 1\n",
      "reverse value ************* 121\n",
      "temp values ********* 0\n",
      "Yes\n"
     ]
    }
   ],
   "source": [
    "# Function to check Palindrome \n",
    "def checkPalindrome(n): \n",
    "\n",
    "\treverse = 0\n",
    "\ttemp = n \n",
    "\n",
    "\twhile (temp != 0): \n",
    "\t\treverse = (reverse * 10) + (temp % 10)\n",
    "\t\tprint(f\"reverse value ************* {reverse}\")\n",
    "\t\ttemp = temp // 10\n",
    "\t\tprint(f\"temp values ********* {temp}\")\n",
    "\n",
    "\t\n",
    "\treturn (reverse == n) # if it is true then it will return 1; \n",
    "\t\t\t\t# else if false it will return 0; \n",
    "\n",
    "# driver code \n",
    "n = 121\n",
    "if (checkPalindrome(n) == 1): \n",
    "\tprint(\"Yes\") \n",
    "\n",
    "else: \n",
    "\tprint(\"No\") \n",
    "\n",
    "\n"
   ]
  },
  {
   "cell_type": "markdown",
   "metadata": {},
   "source": [
    "<font color=\"orange\">Find longest palindrome substring</font>"
   ]
  },
  {
   "cell_type": "markdown",
   "metadata": {},
   "source": [
    "1.  input: str = “forgeeksskeegfor” \n",
    "- Output: “geeksskeeg”\n",
    "- Explanation: There are several possible palindromic substrings like “kssk”, “ss”, “eeksskee” etc. \n",
    "- But the substring “geeksskeeg” is the longest among all.\n",
    "\n",
    "2. Input: str = “Geeks” \n",
    "- Output: “ee”"
   ]
  },
  {
   "cell_type": "code",
   "execution_count": 2,
   "metadata": {},
   "outputs": [
    {
     "name": "stdout",
     "output_type": "stream",
     "text": [
      "f"
     ]
    }
   ],
   "source": [
    "# Function to print a subString str[low..high]\n",
    "def printSubStr(str, low, high):\n",
    "\tfor i in range(low, high + 1):\n",
    "\t\tprint(str[i], end=\"\")\n",
    "\n",
    "# All subStrings of length 1  are palindromes\n",
    "maxLength = 1\n",
    "start = 0\n",
    "str1=\"forgeeksskeegfor\"\n",
    "printSubStr(str1, start, start + maxLength - 1)"
   ]
  },
  {
   "cell_type": "code",
   "execution_count": null,
   "metadata": {},
   "outputs": [],
   "source": [
    "def print_substr(str,low,high):\n",
    "    for i in range(low,high +1):\n",
    "        print(str[i],end=\"\")"
   ]
  },
  {
   "cell_type": "code",
   "execution_count": 3,
   "metadata": {},
   "outputs": [
    {
     "name": "stdout",
     "output_type": "stream",
     "text": [
      "i *******0 \n",
      "j *******************0 \n",
      "k *******************0 \n",
      "j *******************1 \n",
      "k *******************0 \n",
      "j *******************2 \n",
      "k *******************0 \n",
      "k *******************1 \n",
      "j *******************3 \n",
      "k *******************0 \n",
      "k *******************1 \n",
      "j *******************4 \n",
      "k *******************0 \n",
      "k *******************1 \n",
      "k *******************2 \n",
      "i *******1 \n",
      "j *******************1 \n",
      "k *******************0 \n",
      "j *******************2 \n",
      "k *******************0 \n",
      "j *******************3 \n",
      "k *******************0 \n",
      "k *******************1 \n",
      "j *******************4 \n",
      "k *******************0 \n",
      "k *******************1 \n",
      "i *******2 \n",
      "j *******************2 \n",
      "k *******************0 \n",
      "j *******************3 \n",
      "k *******************0 \n",
      "j *******************4 \n",
      "k *******************0 \n",
      "k *******************1 \n",
      "i *******3 \n",
      "j *******************3 \n",
      "k *******************0 \n",
      "j *******************4 \n",
      "k *******************0 \n",
      "i *******4 \n",
      "j *******************4 \n",
      "k *******************0 \n",
      "Longest palindrome substring is: \n",
      "\n",
      "Length is: 2\n"
     ]
    }
   ],
   "source": [
    "# Function to print a subString str[low..high]\n",
    "def printSubStr(str, low, high):\n",
    "\tfor i in range(low, high + 1):\n",
    "\t\tprint(str[i], end=\"\")\n",
    "\t\t#print(str[i])\n",
    "\n",
    "\n",
    "\n",
    "# This function prints the longest palindrome subString .\n",
    "# It also returns the length of the longest palindrome\n",
    "def longestPalSubstr(str):\n",
    "\n",
    "\t# Get length of input String\n",
    "\tn = len(str)\n",
    "\n",
    "\t# All subStrings of length 1 are palindromes\n",
    "\tmaxLength = 1\n",
    "\tstart = 0\n",
    "\n",
    "\t# Nested loop to mark start and end index\n",
    "\tfor i in range(n):\n",
    "\t\tprint(f\"i *******{i} \")\n",
    "\t\tfor j in range(i, n):\n",
    "\t\t\tprint(f\"j *******************{j} \")\n",
    "\n",
    "\t\t\tflag = 1\n",
    "\n",
    "\t\t\t# Check palindrome\n",
    "\t\t\tfor k in range(0, ((j - i) // 2) + 1):\n",
    "\t\t\t\tprint(f\"k *******************{k} \")\n",
    "\t\t\t\tif (str[i + k] != str[j - k]):\n",
    "\t\t\t\t\tflag = 0\n",
    "\n",
    "\t\t\t# Palindrome\n",
    "\t\t\tif (flag != 0 and (j - i + 1) > maxLength):\n",
    "\t\t\t\tstart = i\n",
    "\t\t\t\tmaxLength = j - i + 1\n",
    "\n",
    "\t#print(\"Longest palindrome substring is: \", end=\"\")\n",
    "\tprint(\"Longest palindrome substring is: \")\n",
    "\n",
    "\tprintSubStr(str, start, start + maxLength - 1)\n",
    "\n",
    "\t# Return length of LPS\n",
    "\treturn maxLength\n",
    "\n",
    "\n",
    "# Driver Code\n",
    "if __name__ == '__main__':\n",
    "\n",
    "\t#str = \"forgeeksskeegfor\"\n",
    "\tstr = \"geeks\"\n",
    "\tprint(\"\\nLength is:\", longestPalSubstr(str))\n",
    "\n"
   ]
  },
  {
   "cell_type": "markdown",
   "metadata": {},
   "source": [
    "Factorial Calculation:\n",
    "- Write a function to calculate the factorial of a given number."
   ]
  },
  {
   "cell_type": "code",
   "execution_count": null,
   "metadata": {},
   "outputs": [],
   "source": [
    "def substring(str,low,high):\n",
    "    for i in range(low,high+1):\n",
    "        print(str[i],end=\"\")"
   ]
  },
  {
   "cell_type": "code",
   "execution_count": null,
   "metadata": {},
   "outputs": [],
   "source": [
    "def sub(str):\n",
    "    n=len(s)\n",
    "    maxLength=1\n",
    "    start=0\n",
    "    \n",
    "    for i in range(n):\n",
    "        for j in range(i,n):\n",
    "            flag=1\n",
    "            \n",
    "        for k in range(0,(j-i)//2 +1):\n",
    "            if (str[i+k]!=str[j-k]):\n",
    "                flag=0\n",
    "                \n",
    "            if (flag!=0 and (j-1+1)>maxLength):\n",
    "                start=i"
   ]
  },
  {
   "cell_type": "code",
   "execution_count": 10,
   "metadata": {},
   "outputs": [
    {
     "data": {
      "text/plain": [
       "6"
      ]
     },
     "execution_count": 10,
     "metadata": {},
     "output_type": "execute_result"
    }
   ],
   "source": [
    "def fact(n):\n",
    "    if n==0:\n",
    "        return 1\n",
    "    else:\n",
    "        return n * fact(n-1)\n",
    "    \n",
    "n = 3\n",
    "fact(n)\n",
    "    "
   ]
  },
  {
   "cell_type": "markdown",
   "metadata": {},
   "source": [
    "-   Print the Fibonacci sequence up to a given number of terms.\n"
   ]
  },
  {
   "cell_type": "code",
   "execution_count": 20,
   "metadata": {},
   "outputs": [
    {
     "name": "stdout",
     "output_type": "stream",
     "text": [
      "Fibonacci sequence: [0, 1, 1, 2, 3]\n"
     ]
    }
   ],
   "source": [
    "def fib(n):\n",
    "    fib_seq=[0,1]\n",
    "    while len(fib_seq) < n:\n",
    "        fib_seq.append(fib_seq[-1] + fib_seq[-2])\n",
    "    return fib_seq\n",
    "\n",
    "num_terms = int(input(\"Enter the number of terms: \"))\n",
    "fibonacci_seq = fib(num_terms)\n",
    "print(\"Fibonacci sequence:\", fibonacci_seq)  "
   ]
  },
  {
   "cell_type": "code",
   "execution_count": 14,
   "metadata": {},
   "outputs": [
    {
     "name": "stdout",
     "output_type": "stream",
     "text": [
      "0\n",
      "1\n",
      "2\n",
      "3\n",
      "4\n"
     ]
    },
    {
     "data": {
      "text/plain": [
       "[1, 2, 3, 5, 8]"
      ]
     },
     "execution_count": 14,
     "metadata": {},
     "output_type": "execute_result"
    }
   ],
   "source": [
    "#n ot include 0 ,1 in series\n",
    "def fib(n):\n",
    "    a,b=0,1\n",
    "    c=[]\n",
    "    for i in range(n):\n",
    "        print(i)\n",
    "        a,b=b,a+b\n",
    "        c.append(b)\n",
    "    return c\n",
    "fib(5)"
   ]
  },
  {
   "cell_type": "code",
   "execution_count": null,
   "metadata": {},
   "outputs": [],
   "source": [
    "st = [2,1,0,5,9,0,5,7,6,0,8,0,6,3,1]\n",
    "\n",
    "# add all 0 at last\n",
    "\n",
    "def move_zeros_to_end(lst):\n",
    "    zeros_count = lst.count(0)  # Count the number of zeros in the list\n",
    "    lst = [elem for elem in lst if elem != 0]  # Remove zeros from the list\n",
    "    lst.extend([0] * zeros_count)  # Append zeros to the end of the list\n",
    "    return lst\n",
    "\n",
    "result = move_zeros_to_end(lst)\n",
    "print(result)"
   ]
  },
  {
   "cell_type": "markdown",
   "metadata": {},
   "source": [
    "- Find the length of the longest word in a given sentence.\n"
   ]
  },
  {
   "cell_type": "code",
   "execution_count": 36,
   "metadata": {},
   "outputs": [
    {
     "name": "stdout",
     "output_type": "stream",
     "text": [
      "['Hollywood', 'in', 'Homes:', 'Crowdsourcing', 'Data', 'Collection', 'for', 'Activity', 'Understanding']\n",
      "max length of word  is 13\n",
      "index of max length of word  is 3\n"
     ]
    },
    {
     "data": {
      "text/plain": [
       "13"
      ]
     },
     "execution_count": 36,
     "metadata": {},
     "output_type": "execute_result"
    }
   ],
   "source": [
    "def len_long_word(s):\n",
    "    s1=s.split()\n",
    "    print(s1)\n",
    "    length_of_words=[len(word) for word in s1]\n",
    "    print(f\"max length of word  is {max(length_of_words)}\")\n",
    "    max1=max(length_of_words)\n",
    "    print(f\"index of max length of word  is {length_of_words.index(max1)}\")\n",
    "\n",
    "    return max(length_of_words)    \n",
    "s= \"Hollywood in Homes: Crowdsourcing Data Collection for Activity Understanding \"\n",
    "\n",
    "len_long_word(s)"
   ]
  },
  {
   "cell_type": "markdown",
   "metadata": {},
   "source": [
    "-   Check if a given number is a perfect square.\n"
   ]
  },
  {
   "cell_type": "code",
   "execution_count": 37,
   "metadata": {},
   "outputs": [
    {
     "name": "stdout",
     "output_type": "stream",
     "text": [
      "16 is a perfect square\n",
      "25 is a perfect square\n",
      "36 is a perfect square\n",
      "49 is a perfect square\n",
      "50 is not a perfect square\n"
     ]
    }
   ],
   "source": [
    "# if sq root of that number is integer\n",
    "# then it is perfect sq\n",
    "\n",
    "import math\n",
    "\n",
    "def is_perfect_square(n):\n",
    "    # Check if the square root of the number is an integer\n",
    "    sqrt_n = math.sqrt(n)\n",
    "    return sqrt_n.is_integer()\n",
    "\n",
    "# Test cases\n",
    "numbers = [16, 25, 36, 49, 50]\n",
    "\n",
    "for num in numbers:\n",
    "    if is_perfect_square(num):\n",
    "        print(f\"{num} is a perfect square\")\n",
    "    else:\n",
    "        print(f\"{num} is not a perfect square\")\n"
   ]
  },
  {
   "cell_type": "markdown",
   "metadata": {},
   "source": [
    "Anagram Check:\n",
    "- Write a function to check if two strings are anagrams."
   ]
  },
  {
   "cell_type": "markdown",
   "metadata": {},
   "source": [
    "Binary Search:\n",
    "- Implement the binary search algorithm to find an element in a sorted list."
   ]
  },
  {
   "cell_type": "markdown",
   "metadata": {},
   "source": [
    "Check for Prime Number:\n",
    "- Write a function to check if a given number is prime."
   ]
  },
  {
   "cell_type": "markdown",
   "metadata": {},
   "source": [
    "Find Missing Number:\n",
    "- Given a list containing n distinct numbers taken from the range 0 to n, find the one that is missing"
   ]
  },
  {
   "cell_type": "markdown",
   "metadata": {},
   "source": [
    "Matrix Transpose:\n",
    "- Write a function to transpose a matrix."
   ]
  },
  {
   "cell_type": "markdown",
   "metadata": {},
   "source": [
    "Check for Balanced Parentheses:\n",
    "- Write a function to check if a given expression has balanced parentheses."
   ]
  },
  {
   "cell_type": "markdown",
   "metadata": {},
   "source": [
    "Rotate a List:\n",
    "- Given a list and an integer k, rotate the list to the right by k steps."
   ]
  },
  {
   "cell_type": "markdown",
   "metadata": {},
   "source": [
    "<font color=\"orange\"> find longest common prefix from array of strings </font>"
   ]
  },
  {
   "cell_type": "markdown",
   "metadata": {},
   "source": [
    "\n",
    "Input: [\"geeksforgeeks\", \"geeks\", \"geek\", \"geezer\"]\n",
    "Output: \"gee\"\n",
    "\n",
    "Input: [\"apple\", \"ape\", \"april\"]\n",
    "Output: \"ap\""
   ]
  },
  {
   "cell_type": "code",
   "execution_count": 27,
   "metadata": {},
   "outputs": [
    {
     "name": "stdout",
     "output_type": "stream",
     "text": [
      " size ******* 3\n",
      "min len 3\n",
      " a *****************['ape', 'apple', 'april']\n",
      "i *****0\n",
      "i *****1\n",
      "pre ***********ap\n",
      "The longest Common Prefix is : ap\n"
     ]
    }
   ],
   "source": [
    "def longestCommonPrefix( a):\n",
    "\t\n",
    "\tsize = len(a)\n",
    "\tprint(f\" size ******* {size}\")\n",
    "\n",
    "\t# if size is 0, return empty string \n",
    "\tif (size == 0):\n",
    "\t\treturn \"\"\n",
    "\n",
    "\tif (size == 1):\n",
    "\t\treturn a[0]\n",
    "\n",
    "\t# sort the array of strings \n",
    "\ta.sort()\n",
    "\t\n",
    "\t# find the minimum length from first and last string \n",
    "\tend = min(len(a[0]), len(a[size - 1]))\n",
    "\tprint(f\"min len {end}\")\n",
    "\n",
    "\t# find the common prefix between the first and last string \n",
    "\tprint(f\" a *****************{a}\")\n",
    "\ti = 0\n",
    "\twhile (i < end and a[0][i] == a[size - 1][i]):\n",
    "\t\tprint(f\"i *****{i}\")\n",
    "\t\ti += 1\n",
    "\n",
    "\tpre = a[0][0: i]\n",
    "\tprint(f\"pre ***********{pre}\")\n",
    "\treturn pre\n",
    "\n",
    "# Driver Code\n",
    "if __name__ == \"__main__\":\n",
    "\n",
    "\t#input_list = [\"geeksforgeeks\", \"geeks\", \"geek\", \"geezer\"]\n",
    "\t#input_list = [\"geeks\"]\n",
    "\t#input_list=[\"hello\",\"geeks\",\"scaler\"]\n",
    "\tinput_list=[\"apple\", \"ape\", \"april\"]\n",
    "\tprint(\"The longest Common Prefix is :\" ,longestCommonPrefix(input_list))\n"
   ]
  },
  {
   "cell_type": "code",
   "execution_count": 17,
   "metadata": {},
   "outputs": [
    {
     "name": "stdout",
     "output_type": "stream",
     "text": [
      "sorted string ********** ['geek', 'geeks', 'geeksforgeeks', 'geezer']\n",
      "min len ******* 4\n",
      "pre ***********gee\n",
      "The longest Common Prefix is : gee\n"
     ]
    }
   ],
   "source": [
    "def long_common_prefix(s):\n",
    "    len_s=len(s)\n",
    "    if len_s==0:\n",
    "        return \"\"\n",
    "    if len_s==1:\n",
    "        return s[0]\n",
    "    \n",
    "    \n",
    "    # sort the string\n",
    "    s.sort()\n",
    "    min_s= min(len(s[0]),len(s[len_s-1]))\n",
    "    print(f\"sorted string ********** {s}\")\n",
    "    print(f\"min len ******* {min_s}\")\n",
    "    i=0\n",
    "    while i < min_s and s[0][i]==s[min_s-1][i]:\n",
    "        i += 1\n",
    "    pre = s[0][0: i]\n",
    "    print(f\"pre ***********{pre}\")\n",
    "    return pre\n",
    "    \n",
    "    \n",
    "if __name__=='__main__':\n",
    "    input_list = [\"geeksforgeeks\", \"geeks\", \"geek\", \"geezer\"]\n",
    "\t#input_list = [\"geeks\"]\n",
    "\t#input_list=[\"hello\",\"geeks\",\"scaler\"]\n",
    "\t#input_list=[\"apple\", \"ape\", \"april\"]\n",
    "    print(\"The longest Common Prefix is :\" ,long_common_prefix(input_list))\n",
    "    "
   ]
  },
  {
   "cell_type": "markdown",
   "metadata": {},
   "source": [
    "Roman to integer"
   ]
  },
  {
   "cell_type": "code",
   "execution_count": 4,
   "metadata": {},
   "outputs": [
    {
     "name": "stdout",
     "output_type": "stream",
     "text": [
      "reversed roamn <reversed object at 0x7ff710076940>\n",
      "char V\n",
      "value ******* 5\n",
      "char I\n",
      "value ******* 1\n",
      "total *****4\n",
      "char L\n",
      "value ******* 50\n",
      "char X\n",
      "value ******* 10\n",
      "total *****44\n",
      "char X\n",
      "value ******* 10\n",
      "54\n"
     ]
    }
   ],
   "source": [
    "def roman_to_int(roman):\n",
    "    roman_dict = {'I': 1, 'V': 5, 'X': 10, 'L': 50, 'C': 100, 'D': 500, 'M': 1000}\n",
    "    total = 0\n",
    "    prev_value = 0\n",
    "    for char in reversed(roman):\n",
    "        print(f\"char {char}\")\n",
    "        value = roman_dict[char]\n",
    "        print(f\"value ******* {value}\")\n",
    "        if value < prev_value:\n",
    "            total -= value\n",
    "            print(f\"total *****{total}\")\n",
    "        else:\n",
    "            total += value\n",
    "        prev_value = value\n",
    "    return total\n",
    "\n",
    "roman_numeral =\"XXLIV\"# \"XXIV\"\n",
    "#roman_numeral='III'\n",
    "print(f\"reversed roamn {reversed(roman_numeral)}\")\n",
    "print(roman_to_int(roman_numeral))  \n"
   ]
  },
  {
   "cell_type": "code",
   "execution_count": 8,
   "metadata": {},
   "outputs": [
    {
     "name": "stdout",
     "output_type": "stream",
     "text": [
      "char X\n",
      "value ******* 10\n",
      "char X\n",
      "value ******* 10\n",
      "char I\n",
      "value ******* 1\n",
      "char V\n",
      "value ******* 5\n",
      "24\n"
     ]
    }
   ],
   "source": [
    "def roman_to_int(roman):\n",
    "    roman_dict = {'I': 1, 'V': 5, 'X': 10, 'L': 50, 'C': 100, 'D': 500, 'M': 1000}\n",
    "    total = 0\n",
    "    prev_value = 0\n",
    "    for char in roman:\n",
    "        print(f\"char {char}\")\n",
    "        value = roman_dict[char]\n",
    "        print(f\"value ******* {value}\")\n",
    "        if value < prev_value:\n",
    "            total -= value\n",
    "        else:\n",
    "            total += value\n",
    "        prev_value = value\n",
    "    return total\n",
    "\n",
    "# Example usage:\n",
    "roman_numeral = \"XXIV\"\n",
    "#roman_numeral='III'\n",
    "\n",
    "print(roman_to_int(roman_numeral))"
   ]
  },
  {
   "cell_type": "markdown",
   "metadata": {},
   "source": [
    "longest consequtive sequence in list"
   ]
  },
  {
   "cell_type": "code",
   "execution_count": null,
   "metadata": {},
   "outputs": [],
   "source": []
  },
  {
   "cell_type": "markdown",
   "metadata": {},
   "source": [
    "longest consequtive sequence without sorting"
   ]
  },
  {
   "cell_type": "code",
   "execution_count": null,
   "metadata": {},
   "outputs": [],
   "source": [
    "def long_seq_without_sort(input):\n",
    "    \n",
    "    max_seq=[]\n",
    "    curr_seq=[input[0]]\n",
    "    \n",
    "    for i in range(1,len(input)):\n",
    "        if input[i]== input[i-1] +1:\n",
    "            curr_seq.append(input[i])\n",
    "            \n",
    "        else:\n",
    "            if len(curr_seq) > len(max_seq):\n",
    "                max_seq=curr_seq\n",
    "            curr_seq=[input[i]]\n",
    "            \n",
    "    if len(curr_seq)> len(max_seq):\n",
    "        max_seq=curr_seq\n",
    "        \n",
    "    return max_seq\n",
    "\n",
    "\n",
    "input = [3,9,11,8,9,10,20,9]\n",
    "output = long_seq_without_sort(input)\n",
    "print(output)"
   ]
  },
  {
   "cell_type": "code",
   "execution_count": null,
   "metadata": {},
   "outputs": [],
   "source": []
  }
 ],
 "metadata": {
  "kernelspec": {
   "display_name": "code_env",
   "language": "python",
   "name": "python3"
  },
  "language_info": {
   "codemirror_mode": {
    "name": "ipython",
    "version": 3
   },
   "file_extension": ".py",
   "mimetype": "text/x-python",
   "name": "python",
   "nbconvert_exporter": "python",
   "pygments_lexer": "ipython3",
   "version": "3.8.10"
  }
 },
 "nbformat": 4,
 "nbformat_minor": 2
}
