{
 "cells": [
  {
   "cell_type": "markdown",
   "metadata": {},
   "source": [
    "Set : It is collection of unique data"
   ]
  },
  {
   "cell_type": "code",
   "execution_count": null,
   "metadata": {},
   "outputs": [],
   "source": [
    "#defining set\n",
    "# create a set of integer type\n",
    "student_id = {112, 114, 116, 118, 115}\n",
    "print('Student ID:', student_id)\n",
    "\n",
    "# create a set of string type\n",
    "vowel_letters = {'a', 'e', 'i', \"i\",'o', 'u'}\n",
    "print('Vowel Letters:', vowel_letters)\n",
    "\n",
    "# create a set of mixed data types\n",
    "mixed_set = {'Hello', 101, -2, 'Bye'}\n",
    "print('Set of mixed data types:', mixed_set)"
   ]
  },
  {
   "cell_type": "code",
   "execution_count": null,
   "metadata": {},
   "outputs": [],
   "source": [
    "# create an empty set\n",
    "empty_set = set()\n",
    "print(type(set))\n",
    "# create an empty dictionary\n",
    "empty_dictionary = { }\n",
    "\n",
    "# check data type of empty_set\n",
    "print('Data type of empty_set:', type(empty_set))\n",
    "\n",
    "# check data type of dictionary_set\n",
    "print('Data type of empty_dictionary', type(empty_dictionary))"
   ]
  },
  {
   "cell_type": "code",
   "execution_count": null,
   "metadata": {},
   "outputs": [],
   "source": [
    "numbers = {2, 4, 6, 6, 2, 8}\n",
    "print(numbers)   # {8, 2, 4, 6}"
   ]
  },
  {
   "cell_type": "code",
   "execution_count": null,
   "metadata": {},
   "outputs": [],
   "source": [
    "# aadd item in set\n",
    "numbers = {21, 34, 54, 12}\n",
    "\n",
    "print('Initial Set:',numbers)\n",
    "\n",
    "# using add() method\n",
    "numbers.add(35)\n",
    "\n",
    "print('Updated Set:', numbers) "
   ]
  },
  {
   "cell_type": "code",
   "execution_count": null,
   "metadata": {},
   "outputs": [],
   "source": [
    "#update item set\n",
    "companies = {'Lacoste', 'Ralph Lauren'}\n",
    "tech_companies = ['apple', 'google', 'apple']\n",
    "\n",
    "companies.update(tech_companies)\n",
    "\n",
    "print(companies)"
   ]
  },
  {
   "cell_type": "code",
   "execution_count": null,
   "metadata": {},
   "outputs": [],
   "source": [
    "# remove element from set\n",
    "\n",
    "# we use discard in set to remove item \n",
    "languages = {'Swift', 'Java', 'Python'}\n",
    "\n",
    "print('Initial Set:',languages)\n",
    "\n",
    "# remove 'Java' from a set\n",
    "languages.discard('Swift')\n",
    "\n",
    "print('Set after remove():', languages)"
   ]
  },
  {
   "cell_type": "markdown",
   "metadata": {},
   "source": [
    "Set built in function\n",
    "- all(), \n",
    "- any(), \n",
    "- enumerate(), \n",
    "- len(), \n",
    "- max(), \n",
    "- min(), \n",
    "- sorted(), \n",
    "- sum() etc. are commonly used with sets to perform different tasks."
   ]
  },
  {
   "cell_type": "markdown",
   "metadata": {},
   "source": [
    "\n",
    "\n",
    "\n",
    "all()"
   ]
  },
  {
   "cell_type": "code",
   "execution_count": null,
   "metadata": {},
   "outputs": [],
   "source": [
    "boolean_list = ['True', 'True', 'True']\n",
    "\n",
    "check if all elements are true\n",
    "result = all(boolean_list)\n",
    "print(result)"
   ]
  },
  {
   "cell_type": "markdown",
   "metadata": {},
   "source": [
    "any()"
   ]
  },
  {
   "cell_type": "code",
   "execution_count": null,
   "metadata": {},
   "outputs": [],
   "source": [
    "\n",
    "boolean_list = ['True', 'False', 'True']\n",
    "\n",
    "# check if any element is true\n",
    "result = any(boolean_list)\n",
    "print(result)"
   ]
  },
  {
   "cell_type": "markdown",
   "metadata": {},
   "source": [
    "sum()"
   ]
  },
  {
   "cell_type": "code",
   "execution_count": null,
   "metadata": {},
   "outputs": [],
   "source": [
    "\n",
    "marks = [65, 71, 68, 74, 61]\n",
    "\n",
    "# find sum of all marks\n",
    "total_marks = sum(marks)\n",
    "print(total_marks)"
   ]
  },
  {
   "cell_type": "markdown",
   "metadata": {},
   "source": [
    "min"
   ]
  },
  {
   "cell_type": "code",
   "execution_count": null,
   "metadata": {},
   "outputs": [],
   "source": [
    "numbers = [9, 34, 11, -4, 27]\n",
    "\n",
    "# find the smallest number\n",
    "min_number = min(numbers)\n",
    "print(min_number)"
   ]
  },
  {
   "cell_type": "code",
   "execution_count": null,
   "metadata": {},
   "outputs": [],
   "source": [
    "fruits = {\"Apple\", \"Peach\", \"Mango\"}\n",
    "\n",
    "# for loop to access each fruits\n",
    "for fruit in fruits: \n",
    "    print(fruit)"
   ]
  },
  {
   "cell_type": "markdown",
   "metadata": {},
   "source": [
    "Set Operations\n",
    "- union\n",
    "-  intersection\n",
    "-  subtraction\n",
    "- symmetric difference."
   ]
  },
  {
   "cell_type": "markdown",
   "metadata": {},
   "source": [
    "Union"
   ]
  },
  {
   "cell_type": "code",
   "execution_count": null,
   "metadata": {},
   "outputs": [],
   "source": [
    "\n",
    "# first set\n",
    "A = {1, 4}\n",
    "\n",
    "# second set\n",
    "B = {0, 2, 4}\n",
    "\n",
    "# perform union operation using |\n",
    "print('Union using |:', A | B)\n",
    "\n",
    "# perform union operation using union()\n",
    "print('Union using union():', A.union(B)) "
   ]
  },
  {
   "cell_type": "markdown",
   "metadata": {},
   "source": [
    "Intersection"
   ]
  },
  {
   "cell_type": "code",
   "execution_count": null,
   "metadata": {},
   "outputs": [],
   "source": [
    " set intersection\n",
    "# intersection means taking common elements between sets\n",
    "# first set\n",
    "A = {1, 7, 5}\n",
    "\n",
    "# second set\n",
    "B = {6, 7, 8}\n",
    "\n",
    "# perform intersection operation using &\n",
    "print('Intersection using &:', A & B)\n",
    "\n",
    "# perform intersection operation using intersection()\n",
    "print('Intersection using intersection():', A.intersection(B)) "
   ]
  },
  {
   "cell_type": "markdown",
   "metadata": {},
   "source": [
    "difference between two sets\n",
    "- The difference between two sets A and B include elements of set A that are not present on set B.\n"
   ]
  },
  {
   "cell_type": "code",
   "execution_count": null,
   "metadata": {},
   "outputs": [],
   "source": [
    "# first set\n",
    "A = {2, 3, 5}\n",
    "\n",
    "# second set\n",
    "B = {1, 2, 6}\n",
    "\n",
    "# perform difference operation using &\n",
    "print('Difference using &:', A - B)\n",
    "\n",
    "# perform difference operation using difference()\n",
    "print('Difference using difference():', A.difference(B))"
   ]
  },
  {
   "cell_type": "markdown",
   "metadata": {},
   "source": [
    "symmetric difference"
   ]
  },
  {
   "cell_type": "code",
   "execution_count": null,
   "metadata": {},
   "outputs": [],
   "source": [
    "#The symmetric difference between two sets A and B includes all elements of A and B without the common elements.\n",
    "\n",
    "# first set\n",
    "A = {2, 3, 5}\n",
    "\n",
    "# second set\n",
    "B = {1, 2, 6}\n",
    "\n",
    "# perform difference operation using &\n",
    "print('using ^:', A ^ B)\n",
    "\n",
    "# using symmetric_difference()\n",
    "print('using symmetric_difference():', A.symmetric_difference(B)) "
   ]
  },
  {
   "cell_type": "code",
   "execution_count": null,
   "metadata": {},
   "outputs": [],
   "source": [
    "# check if two sets are equal\n",
    "\n",
    "# first set\n",
    "A = {1, 3, 5}\n",
    "\n",
    "# second set\n",
    "B = {3, 5, 1}\n",
    "\n",
    "# perform difference operation using &\n",
    "if A == B:\n",
    "    print('Set A and Set B are equal')\n",
    "else:\n",
    "    print('Set A and Set B are not equal')"
   ]
  },
  {
   "cell_type": "code",
   "execution_count": null,
   "metadata": {},
   "outputs": [],
   "source": [
    "li=[1,2]\n",
    "l2=li.copy()\n",
    "\n",
    "l2.append(3)\n",
    "print(li)"
   ]
  },
  {
   "cell_type": "markdown",
   "metadata": {},
   "source": [
    "add"
   ]
  },
  {
   "cell_type": "code",
   "execution_count": null,
   "metadata": {},
   "outputs": [],
   "source": [
    "#add() : \tAdds an element to the set\n",
    "# set of vowels\n",
    "vowels = {'a', 'e', 'u'}\n",
    "\n",
    "# a tuple ('i', 'o')\n",
    "tup = ('i', 'o')\n",
    "\n",
    "# adding tuple\n",
    "vowels.add(tup)\n",
    "\n",
    "# adding same element\n",
    "vowels.add(\"e\")\n",
    "print(f\"updated vodel {vowels}\")\n",
    "\n",
    "print('Vowels are:', vowels)\n",
    "# adding same tuple again\n",
    "vowels.add(tup)\n",
    "\n",
    "print('Vowels are:', vowels)"
   ]
  },
  {
   "cell_type": "markdown",
   "metadata": {},
   "source": [
    "clear"
   ]
  },
  {
   "cell_type": "code",
   "execution_count": null,
   "metadata": {},
   "outputs": [],
   "source": [
    "# clear()\t:::::::: Removes all elements from the set\n",
    "# set of prime numbers\n",
    "primeNumbers = {2, 3, 5, 7}\n",
    "string = {\"a\",\"k\",\"f\",\"d\",\"q\"}\n",
    "# clear all elements\n",
    "primeNumbers.clear()\n",
    "string.clear()\n",
    "print(string)\n",
    "print(primeNumbers)\n",
    "\n",
    "# set() "
   ]
  },
  {
   "cell_type": "markdown",
   "metadata": {},
   "source": [
    "copy"
   ]
  },
  {
   "cell_type": "code",
   "execution_count": null,
   "metadata": {},
   "outputs": [],
   "source": [
    "# copy()\tReturns a copy of the set\n",
    "\n",
    "numbers = {1, 2, 3, 4}\n",
    "\n",
    "# copies the items of numbers to new_numbers\n",
    "new_numbers = numbers.copy()\n",
    "new_numbers.clear()\n",
    "print(new_numbers)\n",
    "print(numbers)"
   ]
  },
  {
   "cell_type": "code",
   "execution_count": null,
   "metadata": {},
   "outputs": [],
   "source": [
    "# adding elements to set after copy\n",
    "new_names.add(2)\n",
    "print(new_names)"
   ]
  },
  {
   "cell_type": "markdown",
   "metadata": {},
   "source": [
    "difference"
   ]
  },
  {
   "cell_type": "code",
   "execution_count": null,
   "metadata": {},
   "outputs": [],
   "source": [
    "# difference()\tReturns the difference of two or more sets as a new set\n",
    "\n",
    "A = {'a', 'b', 'c', 'd'}\n",
    "B = {'c', 'f', 'g'}\n",
    "\n",
    "# equivalent to A-B\n",
    "print(A.difference(B)) # return unique elements of A only after removing elements from b\n",
    "\n",
    "# equivalent to B-A\n",
    "print(B.difference(A)) # return  unique elements of b only after removing element of b present in A\n",
    "\n",
    "\n",
    "#A.difference(B) - returns a set with elements unique to set A\n",
    "#B.difference(A) - returns a set with elements unique to set B\n",
    "#Note: Mathematically, the operation A.difference(B) is equivalent to A - B."
   ]
  },
  {
   "cell_type": "code",
   "execution_count": null,
   "metadata": {},
   "outputs": [],
   "source": [
    "# set difference using - operator\n",
    "\n",
    "A = {'a', 'b',\"f\"}\n",
    "B = {'c', 'f', 'g'}\n",
    "\n",
    "# prints the items of A that are not present in B\n",
    "print(A - B)\n",
    "\n",
    "# prints the items of B that are not present in A\n",
    "print(B - A)"
   ]
  },
  {
   "cell_type": "code",
   "execution_count": null,
   "metadata": {},
   "outputs": [],
   "source": [
    "#Set difference\n",
    "\n",
    "A = {2, 4, 5}\n",
    "B = {1, 7, 8}\n",
    "\n",
    "# compute intersection between A and B\n",
    "print(A.intersection(B))"
   ]
  },
  {
   "cell_type": "code",
   "execution_count": null,
   "metadata": {},
   "outputs": [],
   "source": [
    "# set intersection using & operator\n",
    "# intersection()\tReturns the intersection of two sets as a new set\n",
    "\n",
    "A = {100, 7, 8}\n",
    "B = {200, 4, 5}\n",
    "C = {300, 2, 3, 7}\n",
    "D = {100, 200, 300}\n",
    "\n",
    "print(A & C)\n",
    "print(A & D)\n",
    "\n",
    "print(A & C & D)\n",
    "\n",
    "print(A & B & C & D)"
   ]
  },
  {
   "cell_type": "code",
   "execution_count": null,
   "metadata": {},
   "outputs": [],
   "source": [
    "# discard()\tRemoves an element from the set if it is a member. (Do nothing if the element is not in set)\n",
    "\n",
    "# remove()\tRemoves an element from the set. If the element is not a member, raises a KeyError\n",
    "\n",
    "numbers = {2, 3, 4, 5}\n",
    "\n",
    "# removes 3 and returns the remaining set\n",
    "\n",
    "# remove() vs discard in set\n",
    "numbers.discard(7) \n",
    "print(numbers)\n",
    "\n",
    "numbers.remove(7)\n",
    "print(numbers)"
   ]
  },
  {
   "cell_type": "code",
   "execution_count": null,
   "metadata": {},
   "outputs": [],
   "source": [
    "#The difference_update() method computes the difference between two sets (A - B) \n",
    "#and updates set A with the resulting set.\n",
    "\n",
    "# sets of numbers\n",
    "A = {1, 3, 5, 7, 9}\n",
    "B = {2, 3, 5, 7, 11}\n",
    "\n",
    "# computes A - B and updates A with the resulting set\n",
    "A.difference_update(B)\n",
    "\n",
    "print('A = ', A)\n",
    "\n",
    "# Output: A =  {1, 9}"
   ]
  },
  {
   "cell_type": "code",
   "execution_count": null,
   "metadata": {},
   "outputs": [],
   "source": [
    "# intersection_update()\tUpdates the set with the intersection of itself and another\n",
    "A = {1, 2, 3, 4}\n",
    "B = {2, 3, 4, 5}\n",
    "\n",
    "# updates set A with the items common to both sets A and B\n",
    "A.intersection_update(B)\n",
    "\n",
    "print('A =', A)\n",
    "\n",
    "# Output: A = {2, 3, 4}"
   ]
  },
  {
   "cell_type": "code",
   "execution_count": null,
   "metadata": {},
   "outputs": [],
   "source": [
    "# isdisjoint()\tReturns True if two sets have a null intersection\n",
    "A = {1, 2, 3, }\n",
    "B = {4, 5, 6}\n",
    "\n",
    "# checks if set A and set B are disjoint\n",
    "print(A.isdisjoint(B))\n",
    "\n",
    "# Output: True"
   ]
  },
  {
   "cell_type": "code",
   "execution_count": null,
   "metadata": {},
   "outputs": [],
   "source": [
    "# issubset()\tReturns True if another set contains this set\n",
    "A = {1, 2, 3}\n",
    "B = {1, 2, 3, 4, 5}\n",
    "\n",
    "# all items of A are present in B\n",
    "print(A.issubset(B))\n",
    "\n",
    "# Output: True"
   ]
  },
  {
   "cell_type": "code",
   "execution_count": null,
   "metadata": {},
   "outputs": [],
   "source": [
    "# pop()\tRemoves and returns an arbitrary set element. Raises KeyError if the set is empty\n",
    "#method doesn't take any parameters.\n",
    "A = {'a', 'b', 'c', 'd'}\n",
    "removed_item = A.pop()\n",
    "print(removed_item)\n",
    "\n",
    "# Output: c"
   ]
  },
  {
   "cell_type": "code",
   "execution_count": null,
   "metadata": {},
   "outputs": [],
   "source": [
    "# symmetric_difference()\tReturns the symmetric difference of two sets as a new set\n",
    "#The symmetric_difference() method returns all the items present in given sets,\n",
    "# except the items in their intersections\n",
    "\n",
    "A = {'a', 'b', 'c', 'd'}\n",
    "B = {'c', 'd', 'e' }\n",
    "\n",
    "# returns all items to result variable except the items on intersection\n",
    "result = A.symmetric_difference(B)\n",
    "print(result)\n",
    "\n",
    "\n",
    "#Symmetric Difference Using ^ Operator\n",
    "A = {'a', 'b', 'c', 'd'}\n",
    "B = {'c', 'd', 'e' }\n",
    "C = {'i'}\n",
    "\n",
    "# works as (A).symmetric_difference(B)\n",
    "print(A ^ B)\n",
    "\n",
    "# symmetric difference of 3 sets\n",
    "print(A ^ B ^ C)\n",
    "\n",
    "# Output: {'a', 'b', 'e'}"
   ]
  },
  {
   "cell_type": "code",
   "execution_count": null,
   "metadata": {},
   "outputs": [],
   "source": [
    "# symmetric_difference_update()\tUpdates a set with the symmetric difference of itself and another\n",
    "#The symmetric_difference_update() method finds the symmetric difference of two sets (non-similar items of both sets) \n",
    "#and updates it to the set that calls the method\n",
    "\n",
    "\n",
    "A = {'a', 'c', 'd'}\n",
    "B = {'c', 'd', 'g' }\n",
    "\n",
    "# updates A with the symmetric difference of A and B\n",
    "A.symmetric_difference_update(B)\n",
    "\n",
    "print(A)\n",
    "\n",
    "# Output: {a, e}"
   ]
  },
  {
   "cell_type": "code",
   "execution_count": null,
   "metadata": {},
   "outputs": [],
   "source": [
    "# union()\tReturns the union of sets in a new set\n",
    "#The Python set union() m\n",
    "#method returns a new set with distinct elements from all the sets.\n",
    "\n",
    "A = {2, 3, 5}\n",
    "B = {1, 3, 5}\n",
    "\n",
    "# compute union between A and B\n",
    "print('A U B = ', A.union(B))\n",
    "\n",
    "\n",
    "# Output: A U B =  {1, 2, 3, 5}"
   ]
  },
  {
   "cell_type": "code",
   "execution_count": null,
   "metadata": {},
   "outputs": [],
   "source": [
    "# update() : Updates the set with the union of itself and others\n",
    "\n",
    "A = {'a', 'b'}\n",
    "B = {1, 2, 3}\n",
    "\n",
    "# updates A after the items of B is added to A\n",
    "A.update(B)\n",
    "\n",
    "print(A)\n",
    "print(A|B)\n",
    "\n",
    "# Output: {'a', 1, 2, 'b', 3}"
   ]
  }
 ],
 "metadata": {
  "language_info": {
   "name": "python"
  }
 },
 "nbformat": 4,
 "nbformat_minor": 2
}
