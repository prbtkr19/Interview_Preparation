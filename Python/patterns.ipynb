{
 "cells": [
  {
   "cell_type": "markdown",
   "metadata": {},
   "source": [
    "alphabet triange"
   ]
  },
  {
   "cell_type": "code",
   "execution_count": null,
   "metadata": {},
   "outputs": [],
   "source": [
    "def print_alphabet_triangle(rows):\n",
    "    # Calculate the ASCII value of 'A' for reference\n",
    "    start_char = ord('A')\n",
    "    \n",
    "    # Iterate over each row\n",
    "    for i in range(rows):\n",
    "        # Print spaces before characters\n",
    "        print(' ' * (rows - i - 1), end='')\n",
    "        \n",
    "        # Print characters for this row\n",
    "        for j in range(i + 1):\n",
    "            char = chr(start_char + j)\n",
    "            print(char, end=' ')\n",
    "        \n",
    "        # Move to the next line for the next row\n",
    "        print()\n",
    "\n",
    "# Example usage:\n",
    "print_alphabet_triangle(5)\n"
   ]
  },
  {
   "cell_type": "markdown",
   "metadata": {},
   "source": [
    "diamond traing"
   ]
  },
  {
   "cell_type": "code",
   "execution_count": null,
   "metadata": {},
   "outputs": [],
   "source": [
    "def print_diamond(rows):\n",
    "    # Upper half of the diamond\n",
    "    for i in range(1, rows + 1):\n",
    "        print(' ' * (rows - i) + '*' * (2 * i - 1))\n",
    "\n",
    "    # Lower half of the diamond\n",
    "    for i in range(rows - 1, 0, -1):\n",
    "        print(' ' * (rows - i) + '*' * (2 * i - 1))\n",
    "\n",
    "# Example usage:\n",
    "print_diamond(5)"
   ]
  },
  {
   "cell_type": "markdown",
   "metadata": {},
   "source": [
    "star pattern"
   ]
  },
  {
   "cell_type": "code",
   "execution_count": null,
   "metadata": {},
   "outputs": [],
   "source": [
    "#left aligned triangle\n",
    "def print_right_triangle(rows):\n",
    "    for i in range(1, rows + 1):\n",
    "        print('*' * i)\n",
    "\n",
    "# Example usage\n",
    "print_right_triangle(5)"
   ]
  },
  {
   "cell_type": "code",
   "execution_count": null,
   "metadata": {},
   "outputs": [],
   "source": [
    "# right aligned trianlge\n",
    "def right_aligned_triangle(rows):\n",
    "    for i in range(1, rows + 1):\n",
    "        print(' ' * (rows - i) + '*' * i)\n",
    "\n",
    "right_aligned_triangle(5)"
   ]
  },
  {
   "cell_type": "code",
   "execution_count": null,
   "metadata": {},
   "outputs": [],
   "source": [
    "# inverted left aligned\n",
    "def inverted_left_aligned_triangle(rows):\n",
    "    for i in range(rows, 0, -1):\n",
    "        print('*' * i)\n",
    "\n",
    "inverted_left_aligned_triangle(5)"
   ]
  },
  {
   "cell_type": "code",
   "execution_count": null,
   "metadata": {},
   "outputs": [],
   "source": [
    "# inverted right aligned\n",
    "def inverted_right_aligned_triangle(rows):\n",
    "    for i in range(rows, 0, -1):\n",
    "        print(' ' * (rows - i) + '*' * i)\n",
    "\n",
    "inverted_right_aligned_triangle(5)"
   ]
  }
 ],
 "metadata": {
  "language_info": {
   "name": "python"
  }
 },
 "nbformat": 4,
 "nbformat_minor": 2
}
