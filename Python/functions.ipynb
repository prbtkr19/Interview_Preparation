{
 "cells": [
  {
   "cell_type": "markdown",
   "metadata": {},
   "source": [
    "print sum of square of first n natural number"
   ]
  },
  {
   "cell_type": "code",
   "execution_count": 17,
   "metadata": {},
   "outputs": [
    {
     "name": "stdout",
     "output_type": "stream",
     "text": [
      "385\n"
     ]
    }
   ],
   "source": [
    "def sum_square(n):\n",
    "    total = 0  # Changed variable name to avoid shadowing\n",
    "    for i in range(n + 1):\n",
    "        total += i * i\n",
    "    return total\n",
    "\n",
    "# Capture input from the user and convert it to an integer\n",
    "#user_input = input(\"Provide number: \")\n",
    "user_input = 10\n",
    "# Calculate the sum of squares\n",
    "output = sum_square(user_input)\n",
    "# Print the result\n",
    "\n",
    "print(output)\n",
    "\n"
   ]
  },
  {
   "cell_type": "code",
   "execution_count": 21,
   "metadata": {},
   "outputs": [
    {
     "name": "stdout",
     "output_type": "stream",
     "text": [
      "power of three is: 8\n",
      "sq root of 4 is: 2.0\n"
     ]
    }
   ],
   "source": [
    "import math\n",
    "a=pow(2, 3)  #computes the power of a number\n",
    "print(f\"power of three is: {a}\")\n",
    "\n",
    "sqrt=math.sqrt(4) #to compute the square root of 4\n",
    "print(f\"sq root of 4 is: {sqrt}\")"
   ]
  },
  {
   "cell_type": "markdown",
   "metadata": {},
   "source": [
    "replace string with other string"
   ]
  },
  {
   "cell_type": "code",
   "execution_count": 24,
   "metadata": {},
   "outputs": [
    {
     "name": "stdout",
     "output_type": "stream",
     "text": [
      "original string is: prabhat\n",
      "new string is kumar\n"
     ]
    }
   ],
   "source": [
    "def f(s):\n",
    "    a=s.replace(s,\"kumar\")\n",
    "    return a\n",
    "s=\"prabhat\"\n",
    "print(f\"original string is: {s}\")\n",
    "print(f\"new string is {f(s)}\")"
   ]
  },
  {
   "cell_type": "code",
   "execution_count": 25,
   "metadata": {},
   "outputs": [
    {
     "name": "stdout",
     "output_type": "stream",
     "text": [
      "The factorial of 6 is 720\n"
     ]
    }
   ],
   "source": [
    "def factorial(x):\n",
    "    \"\"\"This is a recursive function\n",
    "    to find the factorial of an integer\"\"\"\n",
    "\n",
    "    if x == 1:\n",
    "        return 1\n",
    "    else:\n",
    "        return (x * factorial(x-1))\n",
    "\n",
    "\n",
    "num = 6\n",
    "print(\"The factorial of\", num, \"is\", factorial(num))"
   ]
  },
  {
   "cell_type": "markdown",
   "metadata": {},
   "source": [
    "factorial using simple for loop"
   ]
  },
  {
   "cell_type": "code",
   "execution_count": 28,
   "metadata": {},
   "outputs": [
    {
     "name": "stdout",
     "output_type": "stream",
     "text": [
      "The factorial of 4 is: 24\n"
     ]
    }
   ],
   "source": [
    "def fact(n):\n",
    "    result=1\n",
    "    for i in range(1,n+1):\n",
    "        result=result*i\n",
    "        \n",
    "    return result\n",
    "\n",
    "number = 4\n",
    "result = fact(number)\n",
    "print(f\"The factorial of {number} is: {result}\")"
   ]
  },
  {
   "cell_type": "markdown",
   "metadata": {},
   "source": [
    "-   Write function to find sum of factorial of individual integer from given number then sum equals the given number rturn true elase flse\n"
   ]
  },
  {
   "cell_type": "markdown",
   "metadata": {},
   "source": [
    "get all digits of number"
   ]
  },
  {
   "cell_type": "code",
   "execution_count": 35,
   "metadata": {},
   "outputs": [
    {
     "name": "stdout",
     "output_type": "stream",
     "text": [
      "1\n",
      "2\n",
      "3\n",
      "4\n",
      "5\n",
      "Individual digits: [5, 4, 3, 2, 1]\n"
     ]
    }
   ],
   "source": [
    "def get_digits(number):\n",
    "    \"\"\"Get all individual digits from a given number.\"\"\"\n",
    "    digits = []\n",
    "    # Extract digits using mathematical operations\n",
    "    while number > 0:\n",
    "        digits.append(number %10)\n",
    "        number = (number- (number %10))//10\n",
    "        \n",
    "    return digits\n",
    "# Example usage:\n",
    "number = 12345\n",
    "# for i in str(number):\n",
    "#     print(i)\n",
    "digits = get_digits(number)\n",
    "print(\"Individual digits:\", digits)"
   ]
  },
  {
   "cell_type": "code",
   "execution_count": 30,
   "metadata": {},
   "outputs": [
    {
     "name": "stdout",
     "output_type": "stream",
     "text": [
      "The sum of factorials of digits of 10 does not equal 10.\n"
     ]
    }
   ],
   "source": [
    "def factorial(n):\n",
    "    \"\"\"Calculate the factorial of a non-negative integer n.\"\"\"\n",
    "    if n == 0:\n",
    "        return 1\n",
    "    else:\n",
    "        return n * factorial(n - 1)\n",
    "\n",
    "def check_sum_of_factorials(number):\n",
    "    \"\"\"Check if the sum of factorials of all digits equals the given number.\"\"\"\n",
    "    digit_sum = 0\n",
    "    original_number = number\n",
    "\n",
    "    # Iterate through each digit of the number\n",
    "    while number > 0:\n",
    "        digit = number % 10\n",
    "        digit_factorial = factorial(digit)\n",
    "        digit_sum += digit_factorial\n",
    "        number //= 10\n",
    "\n",
    "    # Check if the sum of factorials equals the original number\n",
    "    if digit_sum == original_number:\n",
    "        return True\n",
    "    else:\n",
    "        return False\n",
    "\n",
    "# Example usage:\n",
    "number = 10\n",
    "if check_sum_of_factorials(number):\n",
    "    print(f\"The sum of factorials of digits of {number} equals {number}.\")\n",
    "else:\n",
    "    print(f\"The sum of factorials of digits of {number} does not equal {number}.\")\n"
   ]
  },
  {
   "cell_type": "code",
   "execution_count": 36,
   "metadata": {},
   "outputs": [
    {
     "data": {
      "text/plain": [
       "<function __main__.<lambda>()>"
      ]
     },
     "execution_count": 36,
     "metadata": {},
     "output_type": "execute_result"
    }
   ],
   "source": [
    "lambda : print('Hello World')"
   ]
  },
  {
   "cell_type": "markdown",
   "metadata": {},
   "source": [
    "<font color=\"orange\">lambda | Map | Reduce | filter </font>"
   ]
  },
  {
   "cell_type": "code",
   "execution_count": null,
   "metadata": {},
   "outputs": [],
   "source": [
    "# syntax of lambda function\n",
    "#lambda argument(s) : expression \n",
    "greet= lambda : print(\"hello\")\n",
    "greet() # for calling lambda function"
   ]
  },
  {
   "cell_type": "code",
   "execution_count": null,
   "metadata": {},
   "outputs": [],
   "source": [
    "# lambda function with argument\n",
    "# lambda that accepts one argument\n",
    "greet_user = lambda name : print('Hey there,', name)\n",
    "\n",
    "# lambda call\n",
    "greet_user('Delilah')"
   ]
  },
  {
   "cell_type": "code",
   "execution_count": null,
   "metadata": {},
   "outputs": [],
   "source": [
    "# declare global variable\n",
    "message = 'Hello'\n",
    "s1=0\n",
    "def greet():\n",
    "    # declare local variable\n",
    "    print('Local', message)\n",
    "    print(s1+4)\n",
    "    #print(s2)\n",
    "\n",
    "greet()\n",
    "print('Global', message)\n",
    "\n",
    "#Here, we can see that we have accessed a global variable from the inside of a function.\n",
    "\n",
    "#However, if we try to modify the global variable from inside a function as:"
   ]
  },
  {
   "cell_type": "code",
   "execution_count": null,
   "metadata": {},
   "outputs": [],
   "source": [
    "# global variable\n",
    "c = 1 \n",
    "\n",
    "def add():\n",
    "\n",
    "     # increment c by 2\n",
    "    # c = c + 2 # we cant modify global variable from inside of a function\n",
    "\n",
    "    # print(c)\n",
    "    \n",
    "    d=c+2\n",
    "    print(f\"d ::::::::::::::::::; {d}\")\n",
    "\n",
    "add()"
   ]
  },
  {
   "cell_type": "code",
   "execution_count": null,
   "metadata": {},
   "outputs": [],
   "source": [
    "# if we want to modify global variable from inside \n",
    "# The solution for this is to use the global keyword.\n",
    "\n",
    "# global variable\n",
    "c = 1 \n",
    "\n",
    "def add():\n",
    "\n",
    "    # use of global keyword\n",
    "    global c\n",
    "\n",
    "    # increment c by 2\n",
    "    c = c + 2 \n",
    "\n",
    "    print(c)\n",
    "\n",
    "add()"
   ]
  },
  {
   "cell_type": "code",
   "execution_count": null,
   "metadata": {},
   "outputs": [],
   "source": []
  },
  {
   "cell_type": "code",
   "execution_count": null,
   "metadata": {},
   "outputs": [],
   "source": [
    "#1 write lamba function for sq a given number\n",
    "square= lambda x : x**2\n",
    "print(square(5))"
   ]
  },
  {
   "cell_type": "code",
   "execution_count": null,
   "metadata": {},
   "outputs": [],
   "source": [
    "#2 lambda function that adds two number\n",
    "add= lambda x1,x2: x1+x2\n",
    "print(add(4,5))"
   ]
  },
  {
   "cell_type": "code",
   "execution_count": null,
   "metadata": {},
   "outputs": [],
   "source": [
    "# 3 Write a lambda function that checks whether a given number is even.\n",
    "\n",
    "check_even = lambda x : x %2==0\n",
    "print(check_even(4)) "
   ]
  },
  {
   "cell_type": "code",
   "execution_count": null,
   "metadata": {},
   "outputs": [],
   "source": [
    "# 4 lambda function to get max of three number\n",
    "max_of_three = lambda x,y,z: max(x,y,z)\n",
    "print(max_of_three(3,4,5))  "
   ]
  },
  {
   "cell_type": "code",
   "execution_count": null,
   "metadata": {},
   "outputs": [],
   "source": [
    "# 5 lambda function to reverse string\n",
    "rev_str= lambda str : str[::-1]\n",
    "print(\"reversed tring is \", rev_str(\"prabhat\"))"
   ]
  },
  {
   "cell_type": "code",
   "execution_count": null,
   "metadata": {},
   "outputs": [],
   "source": [
    "# 6 Write a lambda function that returns True if a given string starts with the letter 'A'.\n",
    "\n",
    "st_a =  lambda a : a[0].upper()=='A'\n",
    "print(st_a(\"animal\"))\n",
    "print(st_a(\"Animal\"))"
   ]
  },
  {
   "cell_type": "code",
   "execution_count": null,
   "metadata": {},
   "outputs": [],
   "source": [
    "# 7 Write a lambda function that computes the product of all elements in a list.\n",
    "\n",
    "prod = lambda list : 1 if not list else  \n",
    "print(prod([1,2]))"
   ]
  },
  {
   "cell_type": "code",
   "execution_count": null,
   "metadata": {},
   "outputs": [],
   "source": [
    "# %%\n",
    "first_list = [2, 4, 5]\n",
    "print(first_list**2)\n",
    "\n",
    "\n",
    "# %%\n",
    "first_list = [2, 4, 5]\n",
    "\n",
    "# %%\n",
    "print(map(lambda x: x**2, first_list))\n",
    "\n",
    "# %%\n",
    "first_list = [2,4,5]\n",
    "print(list(map(lambda x: x**2, first_list)))\n",
    "\n",
    "# %%\n",
    "def squareit(n):\n",
    "    return n**2\n",
    "print(list(map(squareit, first_list)))\n",
    "\n",
    "\n",
    "# %%\n",
    "sums_list = [3,5,9,7]\n",
    "sums_list2 = (4,5,6,7)\n",
    "print(list(map(lambda x,y : x+y, sums_list,sums_list2)))\n",
    "\n",
    "\n",
    "# %%\n",
    "list_of_names = ['nikola', 'james', 'albert']\n",
    "list_of_names2 = ['tesla','watt','einstein']\n",
    "proper = lambda x, y: x[0].upper()+x[1:] +' '+ y[0].upper()+y[1:]\n",
    "print(list(map(proper, list_of_names,list_of_names2)))\n",
    "\n",
    "\n",
    "# %%\n",
    "#Filter\n",
    "divby3 = lambda x:  x % 3 == 0\n",
    "my_list = [3,4,5,6,7,8,9]\n",
    "div = filter(divby3, my_list)\n",
    "print(list(div))\n",
    "\n",
    "\n",
    "\n",
    "# %%\n",
    "#Reduce\n",
    "from functools import reduce\n",
    "q  = reduce(lambda x, y: x+y, range(1,4))\n",
    "print(q)\n",
    "\n",
    "\n",
    "# %%\n",
    "list_of_nums = [22,45,32,20,87,94,30]\n",
    "print(reduce(lambda x,y: x if x>y else y,list_of_nums))\n",
    "\n",
    "\n",
    "# %%\n",
    "Extract a list of numbers that are multiples of 5 from a list of integers named input_list.\n",
    "\n",
    "Note: Use the filter() function.\n",
    "\n",
    "list_answer = list(filter(lambda x: x % 5 == 0, input_list))\n",
    "\n",
    "# %%\n",
    "You are given a list of strings such as input_list =  ['hdjk', 'salsap', 'sherpa'].\n",
    "\n",
    "Extract a list of names that start with an ‘s’ and end with a ‘p’ (both 's' and 'p' are lowercase) in input_list.\n",
    "\n",
    "Note: Use the filter() function.\n",
    "\n",
    "\n",
    "sp = list(filter(lambda x: x.startswith('s') and x.endswith('p'), input_list))\n",
    "\n",
    "\n",
    "# %%\n",
    "Using the Reduce function, concatenate a list of words in input_list, and print the output as a string.\n",
    "If input_list = ['I','Love','Python'], the output should be the string 'I Love Python'.\n",
    "input_list = ast.literal_eval(input_str)\n",
    "\n",
    "from functools import reduce\n",
    "\n",
    "s=reduce(lambda x, y: x + ' ' + y, input_list)\n",
    "print(s)\n",
    "\n",
    "# %%\n",
    "from functools import reduce\n",
    "\n",
    "input_list = [31, 63, 76, 89]\n",
    "\n",
    "# Using reduce() with max() function to find the largest number\n",
    "largest_number = reduce(max, input_list)\n",
    "\n",
    "print(\"The largest number in the list is:\", largest_number)\n",
    "\n",
    "# %%\n",
    "What will the output be of ((500//7) % 5) ** 3?\n",
    "\n",
    "\n",
    "\n",
    "# %%\n",
    "print(((500//7) % 5) ** 3)\n",
    "\n",
    "# %%\n",
    "If you have a list L = [1, 2, 3], what will the output of L * 2 be?\n",
    "\n",
    "\n",
    "# %%\n",
    "If you have a list L = [1, 2, 3], what will the output of L * 2 be?\n",
    "\n",
    "\n",
    "# %%\n",
    "If you have a tuple T = (3, 5, 7, 11), what will the output of T.append(9) be?\n",
    "\n",
    "\n",
    "\n",
    "# %%\n",
    "D = {1:['Raj', 22], 2:['Simran', 21], 3:['Rahul', 40]}\n",
    "for val in D:\n",
    "     print(val)\n",
    "\n",
    "# %% [markdown]\n",
    "# What will the ‘comprehension equivalent’ be for the following snippet of code?\n",
    "# \n",
    "# \n",
    "\n",
    "# %%\n",
    "for sentence in paragraph:\n",
    "    for word in sentence.split():\n",
    "        single_word_list.append(word)\n",
    "\n",
    "# %% [markdown]\n",
    "# # Assuming paragraph is defined somewhere before this code snippet\n",
    "# paragraph = [\"This is the first sentence.\", \"This is the second sentence.\", \"This is the third sentence.\"]\n",
    "# \n",
    "# # Using list comprehension to achieve the same result\n",
    "# single_word_list = [word for sentence in paragraph for word in sentence.split()]\n",
    "\n",
    "# %%\n",
    "def my_func(*args):\n",
    "    return(sum(args))\n",
    "\n",
    "print(my_func(1,2,3,4,5))\n",
    "print(my_func(6,7,8))\n",
    "\n",
    "\n",
    "# %%\n",
    "Which of the following commands will output the squares of all the numbers in a list L = [1, 2, 3, 4]?\n",
    "\n",
    "L = [1, 2, 3, 4]\n",
    "squares = list(map(lambda x: x**2, L))\n",
    "print(squares)\n",
    "\n",
    "\n",
    "# %%\n",
    "S = \"I love Python\"\n",
    "love = S[-11:-7]\n",
    "print(love)\n",
    "\n",
    "\n",
    "# %%\n",
    "\n",
    "\n",
    "\n"
   ]
  },
  {
   "cell_type": "code",
   "execution_count": null,
   "metadata": {},
   "outputs": [],
   "source": [
    "# reduce()\n",
    "# reduce function is a part of functools\n",
    "# reduce takes two arguemtns : function and iterables\n",
    "from functools import reduce\n",
    "# find product of all elements i list using reduce\n",
    "numbers = [2, 3, 4, 5]\n",
    "product = reduce(lambda x, y: x * y, numbers)\n",
    "print(product) "
   ]
  },
  {
   "cell_type": "code",
   "execution_count": null,
   "metadata": {},
   "outputs": [],
   "source": [
    "# filter()\n",
    "# syntax : filter(function, iterable)\n",
    "# filter returns an iterator\n",
    "numbers = [1, 2, 3, 4, 5, 6, 7, 8, 9, 10]\n",
    "\n",
    "# Define the function to filter even numbers\n",
    "def is_even(num):\n",
    "    return num % 2 == 0\n",
    "\n",
    "# Use filter to get only even numbers\n",
    "even_numbers = filter(is_even, numbers)\n",
    "print(\"even numbers\",even_numbers)\n",
    "for i in even_numbers:\n",
    "    print(i)\n",
    "# Convert the result to a list (since filter returns an iterator)\n",
    "even_numbers_list = list(even_numbers)\n",
    "\n",
    "#print(even_numbers_list)"
   ]
  },
  {
   "cell_type": "code",
   "execution_count": null,
   "metadata": {},
   "outputs": [],
   "source": [
    "# map()\n",
    "# syntax :map_object = map(function, iterable)\n",
    "numbers = [1, 2, 3, 4, 5]\n",
    "\n",
    "# Define the function to square a number\n",
    "def square(x):\n",
    "    return x ** 2\n",
    "\n",
    "# Use map to apply the square function to each element in the list\n",
    "squared_numbers = map(square, numbers)\n",
    "\n",
    "# Use map with a lambda function to square each element in the list\n",
    "squared_numbers = map(lambda x: x ** 2, numbers)\n",
    "even_numbers = map(lambda x: x % 2==0, numbers)\n",
    "print(squared_numbers,even_numbers)\n",
    "for i in squared_numbers:\n",
    "    print(f\"{i}\")\n",
    "    \n",
    "for i in even_numbers:\n",
    "    print(f\"even nymber {i}\")"
   ]
  },
  {
   "cell_type": "code",
   "execution_count": null,
   "metadata": {},
   "outputs": [],
   "source": [
    "if (10 < 0) and (0 < -10):\n",
    "    print(\"A\")\n",
    "elif (10 > 0) or False:\n",
    "    print(\"B\")\n",
    "else:\n",
    "    print(\"C\")"
   ]
  },
  {
   "cell_type": "code",
   "execution_count": null,
   "metadata": {},
   "outputs": [],
   "source": [
    "if True or True:\n",
    "    if False and True or False:\n",
    "        print('A')\n",
    "    elif False and False or True and True:\n",
    "        print('B')\n",
    "    else:\n",
    "        print('C')\n",
    "else:\n",
    "    print('D')"
   ]
  },
  {
   "cell_type": "code",
   "execution_count": null,
   "metadata": {},
   "outputs": [],
   "source": [
    "d = {0, 1, 2}\n",
    "for x in d:\n",
    "    print(d.add(x))"
   ]
  },
  {
   "cell_type": "code",
   "execution_count": null,
   "metadata": {},
   "outputs": [],
   "source": [
    "for i in range(1,6):\n",
    "    if (i % 3 == 0):\n",
    "        print(str(i) + \" is Divisible by 3\")\n",
    "        break\n",
    "\n",
    "    print(str(i) + \" is not divisible by 3\")"
   ]
  },
  {
   "cell_type": "code",
   "execution_count": null,
   "metadata": {},
   "outputs": [],
   "source": [
    "for i in range(1,6):\n",
    "    if (i % 3 == 0):\n",
    "        print(str(i) + \" is Divisible by 3\")\n",
    "        continue\n",
    "\n",
    "    print(str(i) + \" is not divisible by 3\")"
   ]
  },
  {
   "cell_type": "code",
   "execution_count": null,
   "metadata": {},
   "outputs": [],
   "source": [
    "for i in range(1,6):\n",
    "    if (i % 3 == 0):\n",
    "        print(str(i) + \" is Divisible by 3\")\n",
    "        pass\n",
    "\n",
    "    print(str(i) + \" is not divisible by 3\")"
   ]
  },
  {
   "cell_type": "code",
   "execution_count": null,
   "metadata": {},
   "outputs": [],
   "source": [
    "s=[\" i\" \"love\" \"python\"]\n",
    "s2=''.join(s)\n",
    "print(s2)"
   ]
  },
  {
   "cell_type": "code",
   "execution_count": null,
   "metadata": {},
   "outputs": [],
   "source": [
    "minimum = lambda x, y: x if x < y else y\n",
    "result = minimum(101 * 99, 102 * 98)\n",
    "print(result)"
   ]
  },
  {
   "cell_type": "code",
   "execution_count": null,
   "metadata": {},
   "outputs": [],
   "source": [
    "input_list=[5,6,4,8,9]\n",
    "cude = list(map(lambda x:x**3,input_list))\n",
    "prin"
   ]
  },
  {
   "cell_type": "code",
   "execution_count": null,
   "metadata": {},
   "outputs": [],
   "source": [
    "input_list = ['San Jose', 'San Francisco', 'Santa Fe', 'Houston']\n",
    "\n",
    "# Define a lambda function to count words starting with 'S'\n",
    "starts_with_S = lambda sentence: sum(1 for word in sentence.split() if word[0].lower() == 's')\n",
    "print(starts_with_S)\n",
    "# Map the lambda function to each sentence in the input_list and sum the results\n",
    "count = sum(map(starts_with_S, input_list))\n",
    "\n",
    "print(\"Number of words that start with 'S':\", count)"
   ]
  },
  {
   "cell_type": "code",
   "execution_count": null,
   "metadata": {},
   "outputs": [],
   "source": [
    "input_list = ['San Jose', 'San Francisco', 'Santa Fe', 'Houston']\n",
    "\n",
    "# Define a lambda function to count words starting with 'S'\n",
    "starts_with_S = lambda words:word in input_list if input_list[0].lower() == 's')\n",
    "print(starts_with_S)\n",
    "# Map the lambda function to each sentence in the input_list and sum the results\n",
    "count = sum(map(starts_with_S, input_list))\n",
    "\n",
    "print(\"Number of words that start with 'S':\", count)"
   ]
  },
  {
   "cell_type": "code",
   "execution_count": null,
   "metadata": {},
   "outputs": [],
   "source": [
    "Using the function Map, count the number of words that start with ‘S’ in input_list.\n",
    "input_list = ['San Jose', 'San Francisco', 'Santa Fe', 'Houston']"
   ]
  },
  {
   "cell_type": "code",
   "execution_count": null,
   "metadata": {},
   "outputs": [],
   "source": [
    "l1=[1,2]\n",
    "l2=[2,3,4]\n",
    "l1+l2"
   ]
  },
  {
   "cell_type": "markdown",
   "metadata": {},
   "source": [
    "do pair wise sum from one list to other"
   ]
  },
  {
   "cell_type": "code",
   "execution_count": null,
   "metadata": {},
   "outputs": [],
   "source": [
    "l1=[1,2]\n",
    "l2=[2,3,4]\n",
    "l1+l2"
   ]
  },
  {
   "cell_type": "code",
   "execution_count": null,
   "metadata": {},
   "outputs": [],
   "source": [
    "s=list(map(lambda x,y:x+y,l1,l2))\n",
    "s"
   ]
  },
  {
   "cell_type": "code",
   "execution_count": null,
   "metadata": {},
   "outputs": [],
   "source": [
    "In Python, the add() method for sets does not return anything (None). Therefore, when you print d.add(x), it will print None for each iteration of the loop. Here's how the code executes:"
   ]
  },
  {
   "cell_type": "code",
   "execution_count": null,
   "metadata": {},
   "outputs": [],
   "source": []
  },
  {
   "cell_type": "code",
   "execution_count": null,
   "metadata": {},
   "outputs": [],
   "source": [
    "# enumerate()\n",
    "# it returns index,value as 1st and 2nd paramter\n",
    "import random\n",
    "\n",
    "ran=[random.randint(1,10) for i in range(10)]\n",
    "for i,it in enumerate(ran):\n",
    "    print(i,it)"
   ]
  },
  {
   "cell_type": "code",
   "execution_count": null,
   "metadata": {},
   "outputs": [],
   "source": [
    "# zip()\n",
    "#The zip function in Python is used to combine elements from two or more iterables into tuples.\n",
    "\n",
    "list1 = [1, 2, 3]\n",
    "list2 = ['a', 'b', 'c']\n",
    "\n",
    "# Use zip to combine the two lists into tuples\n",
    "zip_result = zip(list1, list2)\n",
    "\n",
    "# Convert the result to a list (since zip returns an iterator)\n",
    "result_list = list(zip_result)\n",
    "res_dict=dict(result_list)\n",
    "print(f\"res dct:::::; {res_dict}\")\n",
    "\n",
    "print(result_list)"
   ]
  },
  {
   "cell_type": "code",
   "execution_count": null,
   "metadata": {},
   "outputs": [],
   "source": [
    "list1 = [1, 2, 3]\n",
    "list2 = ['a', 'b', 'c','d']\n",
    "\n",
    "my_dict = {}\n",
    "\n",
    "# Iterate over the indices of the lists\n",
    "for i in range(min(len(list1), len(list2))):\n",
    "    my_dict[list1[i]] = list2[i]\n",
    "\n",
    "print(my_dict)"
   ]
  },
  {
   "cell_type": "code",
   "execution_count": null,
   "metadata": {},
   "outputs": [],
   "source": [
    "#find cube using generator\n",
    "def gencube(n):\n",
    "    for i in range(n):\n",
    "        yield i**3\n",
    "        \n",
    "for i in gencube(6):\n",
    "    print(i)"
   ]
  },
  {
   "cell_type": "code",
   "execution_count": null,
   "metadata": {},
   "outputs": [],
   "source": [
    "import functools\n",
    "#The functools module is for higher-order functions: functions that act on or return other functions.\n",
    "product_of_list = lambda lst: 1 if not lst else functools.reduce(lambda x, y: x * y, lst)\n",
    "print(product_of_list([2, 3, 4])) "
   ]
  },
  {
   "cell_type": "code",
   "execution_count": null,
   "metadata": {},
   "outputs": [],
   "source": [
    "# 8 Write a lambda function to filter out even numbers from a list.\n",
    "filter_even = lambda lst: list(filter(lambda x: x % 2 != 0, lst))\n",
    "print(filter_even([1, 2, 3, 4, 5, 6]))"
   ]
  },
  {
   "cell_type": "code",
   "execution_count": null,
   "metadata": {},
   "outputs": [],
   "source": [
    "#9 Write a lambda function to extract the first character of each word in a list of strings.\n",
    "\n",
    "first_char_of_words = lambda lst: [word[0] for word in lst]\n",
    "print(first_char_of_words([\"apple\", \"banana\", \"cherry\"]))  # Output: ['a', 'b', 'c']"
   ]
  },
  {
   "cell_type": "code",
   "execution_count": null,
   "metadata": {},
   "outputs": [],
   "source": [
    "# 10 Write a lambda function that returns True if a number is a prime number.\n",
    "\n",
    "is_prime = lambda n: n > 1 and all(n % i != 0 for i in range(2, int(n**0.5) + 1))\n",
    "print(is_prime(7))  # Output: True\n",
    "print(is_prime(10))  # Output: False"
   ]
  },
  {
   "cell_type": "code",
   "execution_count": null,
   "metadata": {},
   "outputs": [],
   "source": [
    "# use of seek in case of processing video\n",
    "import cv2\n",
    "\n",
    "# Open the video file\n",
    "video_capture = cv2.VideoCapture(\"video.mp4\")\n",
    "\n",
    "# Set the frame number to seek to (e.g., frame number 100)\n",
    "frame_number = 100\n",
    "\n",
    "# Set the frame number to the desired frame\n",
    "video_capture.set(cv2.CAP_PROP_POS_FRAMES, frame_number)\n",
    "\n",
    "# Read the frame at the specified frame number\n",
    "ret, frame = video_capture.read()\n",
    "\n",
    "# Check if the frame was successfully read\n",
    "if ret:\n",
    "    # Display or process the frame as needed\n",
    "    cv2.imshow(\"Frame\", frame)\n",
    "    cv2.waitKey(0)\n",
    "else:\n",
    "    print(\"Error: Failed to read frame at frame number\", frame_number)\n",
    "\n",
    "# Release the video capture object\n",
    "video_capture.release()\n",
    "cv2.destroyAllWindows()\n"
   ]
  },
  {
   "cell_type": "code",
   "execution_count": null,
   "metadata": {},
   "outputs": [],
   "source": []
  },
  {
   "cell_type": "code",
   "execution_count": null,
   "metadata": {},
   "outputs": [],
   "source": []
  },
  {
   "cell_type": "code",
   "execution_count": null,
   "metadata": {},
   "outputs": [],
   "source": []
  },
  {
   "cell_type": "code",
   "execution_count": null,
   "metadata": {},
   "outputs": [],
   "source": []
  },
  {
   "cell_type": "code",
   "execution_count": null,
   "metadata": {},
   "outputs": [],
   "source": []
  },
  {
   "cell_type": "code",
   "execution_count": null,
   "metadata": {},
   "outputs": [],
   "source": []
  },
  {
   "cell_type": "code",
   "execution_count": null,
   "metadata": {},
   "outputs": [],
   "source": []
  },
  {
   "cell_type": "code",
   "execution_count": null,
   "metadata": {},
   "outputs": [],
   "source": []
  },
  {
   "cell_type": "code",
   "execution_count": null,
   "metadata": {},
   "outputs": [],
   "source": []
  },
  {
   "cell_type": "code",
   "execution_count": null,
   "metadata": {},
   "outputs": [],
   "source": []
  }
 ],
 "metadata": {
  "kernelspec": {
   "display_name": "code_env",
   "language": "python",
   "name": "python3"
  },
  "language_info": {
   "codemirror_mode": {
    "name": "ipython",
    "version": 3
   },
   "file_extension": ".py",
   "mimetype": "text/x-python",
   "name": "python",
   "nbconvert_exporter": "python",
   "pygments_lexer": "ipython3",
   "version": "3.8.10"
  }
 },
 "nbformat": 4,
 "nbformat_minor": 2
}
