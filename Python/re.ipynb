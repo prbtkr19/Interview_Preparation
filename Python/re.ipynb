{
 "cells": [
  {
   "cell_type": "code",
   "execution_count": null,
   "metadata": {},
   "outputs": [],
   "source": [
    "import re\n",
    "time_tuple = (00:00:30.750 [frame=369, fps=12.000], 00:00:55.000 [frame=660, fps=12.000])\n",
    "\n",
    "end_time_match = re.search(r'\\d{2}:\\d{2}:\\d{2}\\.\\d+', time_tuple[31:])\n",
    "end_time_match"
   ]
  },
  {
   "cell_type": "code",
   "execution_count": null,
   "metadata": {},
   "outputs": [],
   "source": [
    "\n",
    "scene_h=(00:00:12.312 [frame=369, fps=29.970], 00:00:22.022 [frame=660, fps=29.970])\n",
    "# Extracting the second timestamp\n",
    "second_timestamp = scene_h[1].split(' ')[0]\n",
    "\n",
    "print(second_timestamp)"
   ]
  },
  {
   "cell_type": "code",
   "execution_count": null,
   "metadata": {},
   "outputs": [],
   "source": [
    "# filter valied email from list of emails\n",
    "\n",
    "import re\n",
    "\n",
    "def filter_valid_emails(emails):\n",
    "    valid_emails = []\n",
    "    # Regular expression pattern for validating email addresses\n",
    "    pattern = r'^[a-zA-Z0-9._%+-]+@[a-zA-Z0-9.-]+\\.[a-zA-Z]{2,}$'\n",
    "    \n",
    "    for email in emails:\n",
    "        # Check if the email matches the pattern\n",
    "        if re.match(pattern, email):\n",
    "            valid_emails.append(email)\n",
    "    \n",
    "    return valid_emails\n",
    "\n",
    "# Example list of emails\n",
    "emails = [\n",
    "    'user@example.com',\n",
    "    'another.user@example.co.uk',\n",
    "    'invalid.email',\n",
    "    'user1#23@example.com',\n",
    "    'user@example',\n",
    "    'user@example.',\n",
    "    'user@.com',\n",
    "]\n",
    "\n",
    "# Filter valid emails from the list\n",
    "valid_emails = filter_valid_emails(emails)\n",
    "\n",
    "# Print the valid email addresses\n",
    "print(\"Valid email addresses:\")\n",
    "for email in valid_emails:\n",
    "    print(email)"
   ]
  },
  {
   "cell_type": "code",
   "execution_count": null,
   "metadata": {},
   "outputs": [],
   "source": [
    "import re\n",
    "\n",
    "pattern = '^a...s$'\n",
    "test_string = 'abyss'\n",
    "result = re.match(pattern, test_string)\n",
    "\n",
    "if result:\n",
    "  print(\"Search successful.\")\n",
    "else:\n",
    "  print(\"Search unsuccessful.\")\t"
   ]
  },
  {
   "cell_type": "code",
   "execution_count": null,
   "metadata": {},
   "outputs": [],
   "source": [
    "<a href=\"https://www.markdownguide.org\" target=\"_blank\">Learn Markdown!</a>\n"
   ]
  },
  {
   "cell_type": "markdown",
   "metadata": {},
   "source": [
    "re.match()\n",
    "-  this method returns a match object if the search is successful. If not, it returns None."
   ]
  },
  {
   "cell_type": "code",
   "execution_count": null,
   "metadata": {},
   "outputs": [],
   "source": [
    "Specify Pattern Using RegEx\n",
    "To specify regular expressions, metacharacters are used. In the above example, ^ and $ are metacharacters.\n",
    "\n",
    "MetaCharacters\n",
    "Metacharacters are characters that are interpreted in a special way by a RegEx engine. \n",
    "Here's a list of metacharacters:\n",
    "\n",
    "[] . ^ $ * + ? {} () \\ |\n",
    "\n",
    "[] - Square brackets\n",
    "\n",
    "Square brackets specifies a set of characters you wish to match.\n",
    "\n",
    "Expression\tString\tMatched?\n",
    "[abc]\ta\t1 match\n",
    "ac\t2 matches\n",
    "Hey Jude\tNo match\n",
    "abc de ca"
   ]
  },
  {
   "cell_type": "code",
   "execution_count": null,
   "metadata": {},
   "outputs": [],
   "source": [
    "You can complement (invert) the character set by using caret ^ symbol at the start of a square-bracket.\n",
    "\n",
    "[^abc] means any character except a or b or c.\n",
    "[^0-9] means any non-digit character."
   ]
  },
  {
   "cell_type": "code",
   "execution_count": null,
   "metadata": {},
   "outputs": [],
   "source": [
    ". - Period\n",
    "\n",
    "A period matches any single character (except newline '\\n')."
   ]
  },
  {
   "cell_type": "code",
   "execution_count": null,
   "metadata": {},
   "outputs": [],
   "source": [
    "^ - Caret\n",
    "\n",
    "The caret symbol ^ is used to check if a string starts with a certain character."
   ]
  },
  {
   "cell_type": "code",
   "execution_count": null,
   "metadata": {},
   "outputs": [],
   "source": [
    "$ - Dollar\n",
    "\n",
    "The dollar symbol $ is used to check if a string ends with a certain character."
   ]
  },
  {
   "cell_type": "code",
   "execution_count": null,
   "metadata": {},
   "outputs": [],
   "source": [
    "* - Star\n",
    "\n",
    "The star symbol * matches zero or more occurrences of the pattern left to it."
   ]
  },
  {
   "cell_type": "code",
   "execution_count": null,
   "metadata": {},
   "outputs": [],
   "source": [
    "+ - Plus\n",
    "\n",
    "The plus symbol + matches one or more occurrences of the pattern left to it."
   ]
  },
  {
   "cell_type": "code",
   "execution_count": null,
   "metadata": {},
   "outputs": [],
   "source": [
    "? - Question Mark\n",
    "\n",
    "The question mark symbol ? matches zero or one occurrence of the pattern left to it."
   ]
  },
  {
   "cell_type": "code",
   "execution_count": null,
   "metadata": {},
   "outputs": [],
   "source": [
    "{} - Braces\n",
    "\n",
    "Consider this code: {n,m}. This means at least n, and at most m repetitions of the pattern left to it."
   ]
  },
  {
   "cell_type": "code",
   "execution_count": null,
   "metadata": {},
   "outputs": [],
   "source": [
    "| - Alternation\n",
    "\n",
    "Vertical bar | is used for alternation (or operator)."
   ]
  },
  {
   "cell_type": "code",
   "execution_count": null,
   "metadata": {},
   "outputs": [],
   "source": [
    "() - Group\n",
    "\n",
    "Parentheses () is used to group sub-patterns. For example, (a|b|c)xz match any string that matches either a or b or c followed by xz"
   ]
  },
  {
   "cell_type": "code",
   "execution_count": null,
   "metadata": {},
   "outputs": [],
   "source": [
    "\\ - Backslash\n",
    "\n",
    "Backlash \\ is used to escape various characters including all metacharacters. For example,\n",
    "\n",
    "\\$a match if a string contains $ followed by a. Here, $ is not interpreted by a RegEx engine in a special way."
   ]
  },
  {
   "cell_type": "code",
   "execution_count": null,
   "metadata": {},
   "outputs": [],
   "source": [
    "Special Sequences\n",
    "\n",
    "Special sequences make commonly used patterns easier to write. Here's a list of special sequences:\n",
    "\n",
    "\\A - Matches if the specified characters are at the start of a string."
   ]
  },
  {
   "cell_type": "code",
   "execution_count": null,
   "metadata": {},
   "outputs": [],
   "source": [
    "\\b - Matches if the specified characters are at the beginning or end of a word."
   ]
  },
  {
   "cell_type": "code",
   "execution_count": null,
   "metadata": {},
   "outputs": [],
   "source": [
    "\\B - Opposite of \\b. Matches if the specified characters are not at the beginning or end of a word."
   ]
  },
  {
   "cell_type": "code",
   "execution_count": null,
   "metadata": {},
   "outputs": [],
   "source": [
    "\\d - Matches any decimal digit. Equivalent to [0-9]"
   ]
  },
  {
   "cell_type": "code",
   "execution_count": null,
   "metadata": {},
   "outputs": [],
   "source": [
    "e.findall()\n",
    "The re.findall() method returns a list of strings containing all matches."
   ]
  },
  {
   "cell_type": "code",
   "execution_count": null,
   "metadata": {},
   "outputs": [],
   "source": [
    "# Program to extract numbers from a string\n",
    "\n",
    "import re\n",
    "\n",
    "string = 'hello 12 hi 89. Howdy 34'\n",
    "pattern = '\\d+'\n",
    "\n",
    "result = re.findall(pattern, string) \n",
    "print(result)\n",
    "\n",
    "# Output: ['12', '89', '34']\n",
    "\n",
    "# Program to extract numbers from a string\n",
    "\n",
    "import re\n",
    "\n",
    "string = 'hello 12 hi 89. Howdy 34'\n",
    "pattern = '\\d+'\n",
    "\n",
    "result = re.findall(pattern, string) \n",
    "print(result)\n",
    "\n",
    "# Output: ['12', '89', '34']"
   ]
  },
  {
   "cell_type": "code",
   "execution_count": null,
   "metadata": {},
   "outputs": [],
   "source": [
    "re.split()\n",
    "The re.split method splits the string where there is a match and returns a list of strings where the splits have occurred."
   ]
  },
  {
   "cell_type": "code",
   "execution_count": null,
   "metadata": {},
   "outputs": [],
   "source": [
    "import re\n",
    "\n",
    "string = 'Twelve:12 Eighty nine:89.'\n",
    "pattern = '\\d+'\n",
    "\n",
    "result = re.split(pattern, string) \n",
    "print(result)\n",
    "\n",
    "# Output: ['Twelve:', ' Eighty nine:', '.']\n",
    "If the pattern is not found, re.split() returns a list containing the original string."
   ]
  },
  {
   "cell_type": "code",
   "execution_count": null,
   "metadata": {},
   "outputs": [],
   "source": [
    "import re\n",
    "\n",
    "string = 'Twelve:12 Eighty nine:89 Nine:9.'\n",
    "pattern = '\\d+'\n",
    "\n",
    "# maxsplit = 1\n",
    "# split only at the first occurrence\n",
    "result = re.split(pattern, string, 1) \n",
    "print(result)\n",
    "\n",
    "# Output: ['Twelve:', ' Eighty nine:89 Nine:9.']\n",
    "By the way, the default value of maxsplit is 0; meaning all possible splits."
   ]
  },
  {
   "cell_type": "code",
   "execution_count": null,
   "metadata": {},
   "outputs": [],
   "source": [
    "re.sub()\n",
    "The syntax of re.sub() is:\n",
    "    re.sub(pattern, replace, string)"
   ]
  },
  {
   "cell_type": "code",
   "execution_count": null,
   "metadata": {},
   "outputs": [],
   "source": [
    "# Program to remove all whitespaces\n",
    "import re\n",
    "\n",
    "# multiline string\n",
    "string = 'abc 12\\\n",
    "de 23 \\n f45 6'\n",
    "\n",
    "# matches all whitespace characters\n",
    "pattern = '\\s+'\n",
    "\n",
    "# empty string\n",
    "replace = ''\n",
    "\n",
    "new_string = re.sub(pattern, replace, string) \n",
    "print(new_string)\n",
    "\n",
    "# Output: abc12de23f456"
   ]
  },
  {
   "cell_type": "code",
   "execution_count": null,
   "metadata": {},
   "outputs": [],
   "source": [
    "re.subn()\n",
    "The re.subn() is similar to re.sub() except it returns a tuple of 2 items containing the new string and the number of substitutions made.\n",
    "\n",
    "\n",
    "# Program to remove all whitespaces\n",
    "import re\n",
    "\n",
    "# multiline string\n",
    "string = 'abc 12\\\n",
    "de 23 \\n f45 6'\n",
    "\n",
    "# matches all whitespace characters\n",
    "pattern = '\\s+'\n",
    "\n",
    "# empty string\n",
    "replace = ''\n",
    "\n",
    "new_string = re.subn(pattern, replace, string) \n",
    "print(new_string)\n",
    "\n",
    "# Output: ('abc12de23f456', 4)"
   ]
  },
  {
   "cell_type": "code",
   "execution_count": null,
   "metadata": {},
   "outputs": [],
   "source": [
    "re.search()\n",
    "The re.search() method takes two arguments: a pattern and a string. The method looks for the first location where the RegEx pattern produces a match with the string.\n",
    "\n",
    "If the search is successful, re.search() returns a match object; if not, it returns None.\n",
    "\n",
    "match = re.search(pattern, str)\n",
    "\n",
    "\n",
    "\n",
    "import re\n",
    "\n",
    "string = \"Python is fun\"\n",
    "\n",
    "# check if 'Python' is at the beginning\n",
    "match = re.search('\\APython', string)\n",
    "\n",
    "if match:\n",
    "  print(\"pattern found inside the string\")\n",
    "else:\n",
    "  print(\"pattern not found\")  \n",
    "\n",
    "# Output: pattern found inside the string"
   ]
  },
  {
   "cell_type": "code",
   "execution_count": null,
   "metadata": {},
   "outputs": [],
   "source": [
    "match.group()\n",
    "The group() method returns the part of the string where there is a match.\n",
    "\n",
    "\n",
    "import re\n",
    "\n",
    "string = '39801 356, 2102 1111'\n",
    "\n",
    "# Three digit number followed by space followed by two digit number\n",
    "pattern = '(\\d{3}) (\\d{2})'\n",
    "\n",
    "# match variable contains a Match object.\n",
    "match = re.search(pattern, string) \n",
    "\n",
    "if match:\n",
    "  print(match.group())\n",
    "else:\n",
    "  print(\"pattern not found\")\n",
    "\n",
    "# Output: 801 35"
   ]
  },
  {
   "cell_type": "code",
   "execution_count": null,
   "metadata": {},
   "outputs": [],
   "source": [
    "match.start(), match.end() and match.span()\n",
    "The start() function returns the index of the start of the matched substring. Similarly, end() returns the end index of the matched substring.\n",
    "\n",
    ">>> match.start()\n",
    "2\n",
    ">>> match.end()\n",
    "\n",
    "The span() function returns a tuple containing start and end index of the matched part.\n",
    "\n",
    ">>> match.span()\n",
    "(2, 8)"
   ]
  },
  {
   "cell_type": "code",
   "execution_count": null,
   "metadata": {},
   "outputs": [],
   "source": [
    "match.re and match.string\n",
    "The re attribute of a matched object returns a regular expression object. Similarly, string attribute returns the passed string.\n",
    "\n",
    ">>> match.re\n",
    "re.compile('(\\\\d{3}) (\\\\d{2})')\n",
    "\n",
    ">>> match.string\n",
    "'39801 356, 2102 1111'"
   ]
  },
  {
   "cell_type": "code",
   "execution_count": null,
   "metadata": {},
   "outputs": [],
   "source": [
    "Using r prefix before RegEx\n",
    "When r or R prefix is used before a regular expression, it means raw string. For example, '\\n' is a new line whereas r'\\n' means two characters: a backslash \\ followed by n.\n",
    "\n",
    "Backlash \\ is used to escape various characters including all metacharacters. However, using r prefix makes \\ treat as a normal character.\n"
   ]
  },
  {
   "cell_type": "code",
   "execution_count": null,
   "metadata": {},
   "outputs": [],
   "source": [
    "\n",
    "import re\n",
    "\n",
    "string = '\\n and \\r are escape sequences.'\n",
    "\n",
    "result = re.findall(r'[\\n\\r]', string) \n",
    "print(result)\n",
    "\n",
    "# Output: ['\\n', '\\r']"
   ]
  }
 ],
 "metadata": {
  "language_info": {
   "name": "python"
  }
 },
 "nbformat": 4,
 "nbformat_minor": 2
}
