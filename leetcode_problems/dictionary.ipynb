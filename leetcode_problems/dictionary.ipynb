{
 "cells": [
  {
   "cell_type": "code",
   "execution_count": null,
   "metadata": {},
   "outputs": [],
   "source": [
    "# count occurences of all elements in dictionayr\n",
    "\n",
    "from collections import Counter\n",
    "\n",
    "# Sample dictionary\n",
    "sample_dict = {'a': 1, 'b': 2, 'c': 1, 'd': 3, 'e': 2, 'f': 1,'a': 16, 'b': 26, 'c': 11, 'd': 30, 'e': 21, 'f': 11}\n",
    "# if we define duplicate keys in dictionay as above\n",
    "# the duplicate keys will be overwritten, \n",
    "# and only the last occurrence of each key-value pair will be retained in the dictionary. \n",
    "\n",
    "# Count occurrences of all elements in the dictionary\n",
    "element_counts = Counter(sample_dict.values())\n",
    "print(element_counts)\n",
    "\n",
    "# Print the result\n",
    "print(\"Occurrences of all elements:\")\n",
    "for element, count in element_counts.items():\n",
    "    print(f\"{element}: {count}\")"
   ]
  }
 ],
 "metadata": {
  "language_info": {
   "name": "python"
  }
 },
 "nbformat": 4,
 "nbformat_minor": 2
}
