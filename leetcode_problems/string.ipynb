{
 "cells": [
  {
   "cell_type": "markdown",
   "metadata": {},
   "source": [
    "1.  Reverse a String without using inbuilt function \n"
   ]
  },
  {
   "cell_type": "code",
   "execution_count": null,
   "metadata": {},
   "outputs": [],
   "source": [
    "def rev_str(s):\n",
    "    new_str=''\n",
    "    for i in s:\n",
    "        new_str=i+new_str\n",
    "        \n",
    "    return new_str\n",
    "string1= \"prabhat\"\n",
    "rev_out=rev_str(string1)\n",
    "print(f\"original string is  {string1}\\n and reverse string is {rev_out}\")"
   ]
  },
  {
   "cell_type": "markdown",
   "metadata": {},
   "source": [
    "2. count frequencies of characters in string"
   ]
  },
  {
   "cell_type": "code",
   "execution_count": 5,
   "metadata": {},
   "outputs": [
    {
     "name": "stdout",
     "output_type": "stream",
     "text": [
      " freq of char {'a': 6, 'b': 7, 'c': 6, 'd': 6}\n"
     ]
    }
   ],
   "source": [
    "def count_freq(string):\n",
    "    char_count= {}\n",
    "    for i in string:\n",
    "        if i in char_count:\n",
    "            char_count[i]+=1\n",
    "        else:\n",
    "            char_count[i]=1\n",
    "    \n",
    "    return char_count\n",
    "\n",
    "s=\"aaaaaabbbbbbbccccccdddddd\"\n",
    "print(f\" freq of char {count_freq(s)}\")"
   ]
  },
  {
   "cell_type": "markdown",
   "metadata": {},
   "source": [
    "3.count number of vowels in string"
   ]
  },
  {
   "cell_type": "code",
   "execution_count": 11,
   "metadata": {},
   "outputs": [
    {
     "data": {
      "text/plain": [
       "5"
      ]
     },
     "execution_count": 11,
     "metadata": {},
     "output_type": "execute_result"
    }
   ],
   "source": [
    "def count_vowels(s):\n",
    "    s=s.lower()\n",
    "    vowels =\"aeiou\"\n",
    "    count =0\n",
    "    \n",
    "    for i in s:\n",
    "        if i in vowels:\n",
    "            count+=1\n",
    "    return count\n",
    "    \n",
    "s= \"geeksfrogeeks\"\n",
    "count_vowels(s)"
   ]
  },
  {
   "cell_type": "code",
   "execution_count": null,
   "metadata": {},
   "outputs": [],
   "source": []
  }
 ],
 "metadata": {
  "kernelspec": {
   "display_name": "code_env",
   "language": "python",
   "name": "python3"
  },
  "language_info": {
   "codemirror_mode": {
    "name": "ipython",
    "version": 3
   },
   "file_extension": ".py",
   "mimetype": "text/x-python",
   "name": "python",
   "nbconvert_exporter": "python",
   "pygments_lexer": "ipython3",
   "version": "3.8.10"
  }
 },
 "nbformat": 4,
 "nbformat_minor": 2
}
