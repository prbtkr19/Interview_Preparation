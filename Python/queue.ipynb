{
 "cells": [
  {
   "cell_type": "markdown",
   "metadata": {},
   "source": [
    "queue module has Queue class, so we need to first create obj of Queue class to insert element"
   ]
  },
  {
   "cell_type": "code",
   "execution_count": null,
   "metadata": {},
   "outputs": [],
   "source": [
    "#python queue\n",
    "#queue module provides the Queue class, which implements  first-in, first-out (FIFO) data structure.\n",
    "#This is often used for thread-safe communication between different parts of a program.\n",
    "import queue\n",
    "\n",
    "# Create a new queue\n",
    "my_queue = queue.Queue()\n",
    "\n",
    "# Enqueue (put) elements into the queue\n",
    "my_queue.put(1)\n",
    "my_queue.put(2)\n",
    "my_queue.put(3)\n",
    "print(f\"queue after inserting elements {my_queue}\")\n",
    "# Dequeue (get) elements from the queue\n",
    "item = my_queue.get()\n",
    "print(item) \n",
    "\n",
    "item = my_queue.get()\n",
    "print(item) \n",
    "\n",
    "item = my_queue.get()\n",
    "print(item) "
   ]
  },
  {
   "cell_type": "code",
   "execution_count": null,
   "metadata": {},
   "outputs": [],
   "source": [
    "import queue\n",
    "my_queue1 =queue.Queue()\n",
    "\n",
    "my_queue1.put(2)\n",
    "my_queue1.put(3)\n",
    "my_queue1.put(4)\n",
    "print(f\"queue after inserting ----{my_queue}\")"
   ]
  },
  {
   "cell_type": "code",
   "execution_count": null,
   "metadata": {},
   "outputs": [],
   "source": [
    "\n",
    "item=my_queue1.get(2)\n",
    "print(item)"
   ]
  },
  {
   "cell_type": "code",
   "execution_count": null,
   "metadata": {},
   "outputs": [],
   "source": [
    "import queue\n",
    "\n",
    "obj_q=queue.Queue()\n",
    "obj_q.put(2)\n",
    "obj_q.put(3)\n",
    "\n",
    "print(f\"obj queue------{obj_q}\")"
   ]
  },
  {
   "cell_type": "code",
   "execution_count": null,
   "metadata": {},
   "outputs": [],
   "source": [
    "for i in obj_q:\n",
    "    print(i)"
   ]
  },
  {
   "cell_type": "code",
   "execution_count": null,
   "metadata": {},
   "outputs": [],
   "source": [
    "# getting elements from queue\n",
    "item1=obj_q.get()\n",
    "print(item1)\n",
    "\n",
    "item2=obj_q.get()\n",
    "print(item2)"
   ]
  },
  {
   "cell_type": "code",
   "execution_count": null,
   "metadata": {},
   "outputs": [],
   "source": [
    "import queue\n",
    "myqueue = queue.Queue()\n",
    "\n",
    "# inserting elements in queue\n",
    "myqueue.put(3)\n",
    "myqueue.put(5)\n",
    "print(myqueue)"
   ]
  },
  {
   "cell_type": "code",
   "execution_count": null,
   "metadata": {},
   "outputs": [],
   "source": [
    "# getting queue elements\n",
    "myqueue.get()"
   ]
  },
  {
   "cell_type": "code",
   "execution_count": null,
   "metadata": {},
   "outputs": [],
   "source": [
    "# check if queue is empty\n",
    "myqueue.empty()"
   ]
  },
  {
   "cell_type": "markdown",
   "metadata": {},
   "source": [
    "Priority queue\n",
    "Elements with higher priority are dequeued first\n"
   ]
  },
  {
   "cell_type": "code",
   "execution_count": null,
   "metadata": {},
   "outputs": [],
   "source": [
    "import queue\n",
    "\n",
    "q = queue.PriorityQueue()\n",
    "\n",
    "# Enqueue elements with priorities\n",
    "q.put((3, \"Task 1\")) \n",
    "q.put((1, \"Task 2\")) \n",
    "q.put((2, \"Task 3\")) "
   ]
  },
  {
   "cell_type": "markdown",
   "metadata": {},
   "source": [
    "# Dequeue elements\n",
    "print(q.get()) \n",
    "print(q.get())  \n",
    "print(q.get()) "
   ]
  },
  {
   "cell_type": "markdown",
   "metadata": {},
   "source": [
    "Priority Queues are abstract data structures where each data/value in the queue has a certain priority. \n",
    "\n",
    "For example, In airlines, baggage with the title “Business” or “First-class” arrives earlier than the rest.\n",
    "\n",
    "Priority Queue is an extension of the queue with the following properties.\n",
    "\n",
    "An element with high priority is dequeued before an element with low priority.\n",
    "\n",
    "If two elements have the same priority, they are served according to their order in the queue."
   ]
  },
  {
   "cell_type": "markdown",
   "metadata": {},
   "source": [
    "Various applications of the Priority queue in Computer Science are:\n",
    "\n",
    "Job Scheduling algorithms, CPU and Disk Scheduling, managing resources that are shared among different processes, etc."
   ]
  },
  {
   "cell_type": "markdown",
   "metadata": {},
   "source": [
    "Key differences between Priority Queue and Queue:\n",
    "\n",
    "In Queue, the oldest element is dequeued first. While, in Priority Queue, an element based on the highest priority is dequeued.\n",
    "When elements are popped out of a priority queue the result obtained is either sorted in Increasing order or in Decreasing Order. \n",
    "\n",
    "While, when elements are popped from a simple queue, a FIFO order of data is obtained in the result."
   ]
  },
  {
   "cell_type": "code",
   "execution_count": null,
   "metadata": {},
   "outputs": [],
   "source": [
    "# A simple implementation of Priority Queue\n",
    "# using Queue.\n",
    "class PriorityQueue(object):\n",
    "\tdef __init__(self):\n",
    "\t\tself.queue = []\n",
    "\n",
    "\tdef __str__(self):\n",
    "\t\treturn ' '.join([str(i) for i in self.queue])\n",
    "\n",
    "\t# for checking if the queue is empty\n",
    "\tdef isEmpty(self):\n",
    "\t\treturn len(self.queue) == 0\n",
    "\n",
    "\t# for inserting an element in the queue\n",
    "\tdef insert(self, data):\n",
    "\t\tself.queue.append(data)\n",
    "\n",
    "\t# for popping an element based on Priority\n",
    "\tdef delete(self):\n",
    "\t\ttry:\n",
    "\t\t\tmax_val = 0\n",
    "\t\t\tfor i in range(len(self.queue)):\n",
    "\t\t\t\tif self.queue[i] > self.queue[max_val]:\n",
    "\t\t\t\t\tmax_val = i\n",
    "\t\t\titem = self.queue[max_val]\n",
    "\t\t\tdel self.queue[max_val]\n",
    "\t\t\treturn item\n",
    "\t\texcept IndexError:\n",
    "\t\t\tprint()\n",
    "\t\t\texit()\n",
    "\n",
    "if __name__ == '__main__':\n",
    "\tmyQueue = PriorityQueue()\n",
    "\tmyQueue.insert(12)\n",
    "\tmyQueue.insert(1)\n",
    "\tmyQueue.insert(14)\n",
    "\tmyQueue.insert(7)\n",
    "\tprint(myQueue)\t\t \n",
    "\twhile not myQueue.isEmpty():\n",
    "\t\tprint(myQueue.delete()) "
   ]
  },
  {
   "cell_type": "markdown",
   "metadata": {},
   "source": [
    "queue concept in video reading"
   ]
  },
  {
   "cell_type": "code",
   "execution_count": null,
   "metadata": {},
   "outputs": [],
   "source": [
    "import cv2\n",
    "import queue\n",
    "import threading\n",
    "\n",
    "# Function to read frames from a video file and enqueue them into a queue\n",
    "def read_frames(video_file, frame_queue):\n",
    "    cap = cv2.VideoCapture(video_file)\n",
    "    while cap.isOpened():\n",
    "        ret, frame = cap.read()\n",
    "        if not ret:\n",
    "            break\n",
    "        frame_queue.put(frame)  # Enqueue frame into the queue\n",
    "    cap.release()\n",
    "\n",
    "# Function to process frames from the queue\n",
    "def process_frames(frame_queue):\n",
    "    while True:\n",
    "        frame = frame_queue.get()  # Dequeue frame from the queue\n",
    "        # Perform classification on the frame (replace this with your classification logic)\n",
    "        # Example: classification_result = classify_frame(frame)\n",
    "        print(\"Frame processed\")\n",
    "\n",
    "def main():\n",
    "    video_file = \"example_video.mp4\"  # Path to the video file\n",
    "    frame_queue = queue.Queue(maxsize=100)  # Create a queue to store frames\n",
    "    \n",
    "    # Create and start threads for reading frames and processing frames\n",
    "    read_thread = threading.Thread(target=read_frames, args=(video_file, frame_queue))\n",
    "    process_thread = threading.Thread(target=process_frames, args=(frame_queue,))\n",
    "    read_thread.start()\n",
    "    process_thread.start()\n",
    "    \n",
    "    read_thread.join()  # Wait for the read thread to finish (video processing complete)\n",
    "    frame_queue.join()  # Wait for the frame queue to be empty (all frames processed)\n",
    "    process_thread.join()  # Wait for the process thread to finish\n",
    "\n",
    "if __name__ == \"__main__\":\n",
    "    main()"
   ]
  },
  {
   "cell_type": "markdown",
   "metadata": {},
   "source": [
    "Asynchronous Processing: Video processing often involves multiple tasks such as frame reading, preprocessing, classification, and output. By using queues and multiple threads or processes, you can perform these tasks concurrently, improving overall efficiency and reducing processing time.\n",
    "\n",
    "Decoupling: Queues decouple the production of frames (e.g., reading from a video file) from their consumption (e.g., processing). This allows the producer and consumer to work at their own pace, preventing one from blocking the other.\n",
    "\n",
    "Buffering: Queues provide a buffer between different stages of processing. This buffer can help smooth out variations in processing time and handle bursts of data more effectively. For example, if the processing of frames takes longer than reading them, the queue can temporarily store frames until they can be processed.\n",
    "\n",
    "Resource Management: Queues allow you to control resource usage more effectively. For example, you can limit the number of frames waiting to be processed in memory by using a bounded queue. This helps prevent memory overflow issues.\n",
    "\n",
    "Concurrency Control: Queues can help manage concurrency issues such as race conditions and deadlocks that may arise when multiple threads or processes access shared resources concurrently. The queue acts as a synchronization mechanism, ensuring safe access to shared data."
   ]
  },
  {
   "cell_type": "code",
   "execution_count": null,
   "metadata": {},
   "outputs": [],
   "source": [
    "# List slicing in Python\n",
    "\n",
    "my_list = ['p','r','o','g','r','a','m','i','z']\n",
    "\n",
    "# items from index 2 to index 4\n",
    "print(my_list[2:5])\n",
    "\n",
    "# items from index 5 to end\n",
    "print(my_list[5:])\n",
    "\n",
    "# items beginning to end\n",
    "print(my_list[0:len(my_list)])\n",
    "#or\n",
    "print(my_list[:])\n",
    "# last elemnent of list\n",
    "print([-1])\n",
    "\n",
    "# reverse a list\n",
    "print(f\"reversed list : {my_list[::-1]}\")"
   ]
  },
  {
   "cell_type": "code",
   "execution_count": null,
   "metadata": {},
   "outputs": [],
   "source": [
    "# adding elements to list\n",
    "#1 using Append method\n",
    "list1=[1,2,3,4,5]\n",
    "list2=[3,4]\n",
    "tup1=(3,4,5)\n",
    "dict={\"A\":1,\"B\":2}\n",
    "list1.append(list2)\n",
    "print(f\"appended list{list1}\")\n",
    "numbers = [1, 3, 5]\n",
    "\n",
    "\n",
    "#2 using extend method\n",
    "list1.extend(tup1)\n",
    "list1.extend(dict)\n",
    "string=\"prabhat\"\n",
    "list1.extend(string)\n",
    "print(f\"extended tuple {list1}\")\n",
    "print(f\"extended list {list1}\")\n",
    "even_numbers = [4, 6, 8]\n",
    "\n",
    "# add elements of even_numbers to the numbers list\n",
    "numbers.extend(even_numbers)\n",
    "\n",
    "print(\"List after append:\", numbers)"
   ]
  },
  {
   "cell_type": "code",
   "execution_count": null,
   "metadata": {},
   "outputs": [],
   "source": [
    "# extend\n",
    "list1= [1,2,3]\n",
    "dict={\"A\":1,\"B\":2}\n",
    "list1.extend(dict)\n",
    "print(list1)"
   ]
  }
 ],
 "metadata": {
  "language_info": {
   "name": "python"
  }
 },
 "nbformat": 4,
 "nbformat_minor": 2
}
