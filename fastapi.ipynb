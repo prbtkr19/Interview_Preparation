{
 "cells": [
  {
   "cell_type": "markdown",
   "metadata": {},
   "source": [
    "FastAPI, a modern and fast-growing web framework for building APIs with Python 3.6+ based on standard Python type hints, has been rapidly gaining ground in the world of programming. Known for its high speed, FastAPI is touted to be one of the quickest Python frameworks available, only outpaced by NodeJS and Go.\n",
    "\n",
    "What sets FastAPI apart from other frameworks is its intuitive nature. It’s designed to be easy-to-use while still maintaining high performance levels. Moreover, it provides automatic interactive API documentation, which can significantly streamline the development process.\n",
    "\n",
    "In this article, we delve into an extensive list of interview questions centered around FastAPI. These questions encompass fundamental concepts as well as more intricate aspects of this powerful framework. Whether you’re a beginner looking to get your feet wet or an experienced developer wanting to brush up your knowledge, these questions will provide valuable insights into the workings of FastAPI."
   ]
  },
  {
   "cell_type": "markdown",
   "metadata": {},
   "source": []
  },
  {
   "cell_type": "markdown",
   "metadata": {},
   "source": [
    "1. Can you explain the key differences between FastAPI and Flask and why you would choose FastAPI over Flask?\n",
    "FastAPI and Flask are both Python web frameworks, but they differ significantly. FastAPI is built on Starlette for web routing and Pydantic for data validation, which allows it to offer high performance compared to Flask. It also supports modern functionalities like async and await keywords.\n",
    "FastAPI automatically generates interactive API documentation using OpenAPI and JSON Schema standards, a feature not present in Flask. This makes it easier to test and debug APIs during development.\n",
    "\n",
    "FastAPI’s use of Python type hints leads to better editor support, error checking, and refactoring capabilities. In contrast, Flask lacks this feature, making code maintenance more challenging.\n",
    "\n",
    "The choice between FastAPI and Flask depends on the project requirements. For applications requiring high performance, modern asynchronous features, automatic API documentation, or extensive use of data validation, FastAPI would be the preferred choice over Flask due to its advanced features and superior performance.\n",
    "\n"
   ]
  },
  {
   "cell_type": "markdown",
   "metadata": {},
   "source": [
    "2. What is the role of Pydantic in FastAPI?\n",
    "Pydantic plays a crucial role in FastAPI by providing data validation and settings management using Python type annotations. It ensures that incoming data matches the expected types, reducing runtime errors. Pydantic models define how requests and responses should be structured, enabling automatic request body parsing, validation, serialization, and documentation."
   ]
  },
  {
   "cell_type": "markdown",
   "metadata": {},
   "source": [
    "3. Can you explain how you would implement authentication and authorization in FastAPI?\n",
    "FastAPI provides a security module to implement authentication and authorization. For authentication, OAuth2PasswordBearer is used which requires a URL that the client will use for token retrieval. The get_current_user function uses Depends to inject dependencies, where it decodes the token and fetches user data. If invalid, HTTPException is raised."
   ]
  },
  {
   "cell_type": "markdown",
   "metadata": {},
   "source": [
    "For authorization, FastAPI offers Security Scopes. Each route can have a list of scopes as dependencies. When a request comes in, FastAPI checks if the current user has required scopes. If not, an error is returned.\n",
    "\n",
    "Here’s a code snippet:"
   ]
  },
  {
   "cell_type": "code",
   "execution_count": null,
   "metadata": {},
   "outputs": [],
   "source": [
    "from fastapi import Depends, FastAPI, HTTPException, Security\n",
    "from fastapi.security import OAuth2PasswordBearer, SecurityScopes\n",
    "\n",
    "oauth2_scheme = OAuth2PasswordBearer(tokenUrl=\"token\")\n",
    "\n",
    "def get_current_user(security_scopes: SecurityScopes, token: str = Depends(oauth2_scheme)):\n",
    "    # decode token and fetch user data here\n",
    "    raise HTTPException(status_code=403, detail=\"Not authenticated\")\n",
    "\n",
    "app = FastAPI()\n",
    "\n",
    "@app.get(\"/items/\", dependencies=[Depends(Security(get_current_user, scopes=[\"items:read\"]))])\n",
    "async def read_items():\n",
    "    return [{\"item\": \"Foo\", \"value\": \"Bar\"}]"
   ]
  },
  {
   "cell_type": "markdown",
   "metadata": {},
   "source": [
    "4. How does FastAPI take advantage of Python 3.6 type declarations?\n",
    "FastAPI utilizes Python 3.6 type declarations to provide several benefits. It uses these annotations for data validation, serialization, and documentation while reducing the amount of code required. FastAPI leverages Pydantic models that use type hints to perform automatic request body JSON parsing, form data handling, and query parameter handling. This results in cleaner, more maintainable code. Additionally, it generates interactive API documentation automatically using OpenAPI standards based on these type declarations"
   ]
  },
  {
   "cell_type": "markdown",
   "metadata": {},
   "source": [
    "5. What are some of the main advantages of using FastAPI for a project, and what are some potential drawbacks?\n",
    "FastAPI is a modern, fast (high-performance), web framework for building APIs with Python 3.6+ based on standard Python type hints. It offers several advantages such as high performance comparable to NodeJS and Go thanks to Starlette for the web parts and Pydantic for the data parts. FastAPI also provides easy-to-use features for declaring request parameters and body, automatic interactive API documentation, dependency injection system, OAuth2 integration, among others.\n",
    "\n",
    "However, it has some drawbacks. Being relatively new, its community is smaller compared to Flask or Django which means fewer resources and plugins available. Also, while its simplicity can be an advantage, it may not be suitable for complex applications that require more robust features provided by mature frameworks like Django."
   ]
  },
  {
   "cell_type": "markdown",
   "metadata": {},
   "source": [
    "6. How would you handle exception handling and custom error responses in FastAPI?\n",
    "FastAPI provides built-in exception handling. To handle exceptions, use the HTTPException class from fastapi.exceptions module. This class accepts status_code and detail parameters to define HTTP status code and error message respectively.\n",
    "\n",
    "For custom error responses, create a subclass of HTTPException and override its attributes. You can also customize the validation error response body by creating a route operation function that raises RequestValidationError from fastapi.exceptions and catch it in an exception handler.\n",
    "\n",
    "Here’s a coding example:"
   ]
  },
  {
   "cell_type": "code",
   "execution_count": null,
   "metadata": {},
   "outputs": [],
   "source": [
    "from fastapi import FastAPI, HTTPException\n",
    "\n",
    "app = FastAPI()\n",
    "\n",
    "@app.exception_handler(HTTPException)\n",
    "async def http_exception_handler(request, exc):\n",
    "    return JSONResponse(\n",
    "        status_code=exc.status_code,\n",
    "        content={\"message\": f\"Oops! {exc.detail}\"},\n",
    "    )\n",
    "\n",
    "@app.get(\"/items/{item_id}\")\n",
    "async def read_item(item_id: str):\n",
    "    if item_id not in items:\n",
    "        raise HTTPException(status_code=404, detail=\"Item not found\")"
   ]
  },
  {
   "cell_type": "markdown",
   "metadata": {},
   "source": [
    "8. How would you handle file uploads in FastAPI?\n",
    "FastAPI provides a simple way to handle file uploads using the File and UploadFile classes. To upload a file, you would define an endpoint that includes a parameter of type UploadFile. This parameter will be treated as a “form data” parameter.\n",
    "\n"
   ]
  },
  {
   "cell_type": "code",
   "execution_count": null,
   "metadata": {},
   "outputs": [],
   "source": [
    "from fastapi import FastAPI, UploadFile, File\n",
    "\n",
    "app = FastAPI()\n",
    "\n",
    "@app.post(\"/files/\")\n",
    "async def create_file(file: UploadFile = File(...)):\n",
    "    return {\"filename\": file.filename}"
   ]
  },
  {
   "cell_type": "markdown",
   "metadata": {},
   "source": [
    "In this code, file: UploadFile = File(...) declares a new parameter of type UploadFile. The File function is a “special function” used to declare it.\n",
    "\n",
    "The uploaded file is stored in memory up to a limit, and then passed to a temporary file stored on disk. You can access the file with .file, get metadata like filename or content type with .filename and .content_type.\n",
    "\n"
   ]
  },
  {
   "cell_type": "markdown",
   "metadata": {},
   "source": [
    "9. FastAPI is built on top of Starlette for the web parts and Pydantic for the data parts. Can you explain how these work together to provide FastAPI’s functionality?\n",
    "FastAPI utilizes Starlette for web routing and Pydantic for data validation and serialization. When a request is made, Starlette handles the HTTP specifics, such as path operations and requests/responses. It also provides asynchronous capabilities. Pydantic comes into play by validating incoming JSON data against predefined models, ensuring type correctness. If valid, it serializes the data into Python types that can be used in your application. These two components work together to provide FastAPI’s core functionality: fast, easy-to-use, and robust API development with automatic interactive documentation.\n",
    "\n"
   ]
  },
  {
   "cell_type": "markdown",
   "metadata": {},
   "source": [
    "11. How does FastAPI handle serialization and validation of data?\n",
    "FastAPI uses Pydantic for data serialization and validation. Pydantic models define the shape of incoming or outgoing data, ensuring type correctness. When a request is received, FastAPI validates the data against the model’s schema using Python’s built-in typing system. If the data doesn’t match the schema, FastAPI automatically sends an error response detailing the issue. For valid data, it serializes into JSON format for HTTP responses. This process also works in reverse for incoming JSON data, deserializing it into Python objects."
   ]
  },
  {
   "cell_type": "markdown",
   "metadata": {},
   "source": [
    "13. How would you create a background task in FastAPI?\n",
    "FastAPI allows the creation of background tasks using BackgroundTasks class. To create a task, first import BackgroundTasks from fastapi and define your function for the task. For instance, if you want to write logs in the background, define a function ‘write_log’. Now, include BackgroundTasks as a parameter in your path operation function. Inside this function, use the ‘add_task’ method on the BackgroundTasks object to add your log writing function as a task. This will execute the task after sending a response.\n",
    "\n",
    "Here’s an example:"
   ]
  },
  {
   "cell_type": "code",
   "execution_count": null,
   "metadata": {},
   "outputs": [],
   "source": [
    "from fastapi import FastAPI, BackgroundTasks\n",
    "\n",
    "def write_log(message: str):\n",
    "    with open(\"log.txt\", \"w\") as file:\n",
    "        file.write(message)\n",
    "\n",
    "app = FastAPI()\n",
    "\n",
    "@app.post(\"/send/{message}\")\n",
    "async def send_message(message: str, background_tasks: BackgroundTasks):\n",
    "    background_tasks.add_task(write_log, message)\n",
    "    return {\"Message\": \"Message sent!\"}"
   ]
  },
  {
   "cell_type": "markdown",
   "metadata": {},
   "source": [
    "\n",
    "14. Could you demonstrate a case where you would prefer to use HTTP protocol directly instead of FastAPI’s dependency injection?\n",
    "FastAPI’s dependency injection system is highly efficient for managing dependencies and reducing code repetition. However, there are cases where using HTTP protocol directly might be preferred. One such case could be when dealing with low-level network operations or custom protocols.\n",
    "\n",
    "For instance, if we need to implement a WebSocket server that communicates via a specific binary protocol, FastAPI’s dependency injection may not provide the necessary control over the raw data stream. In this scenario, it would be more appropriate to use an ASGI server like Uvicorn or Hypercorn directly along with Python’s built-in asyncio library for handling asynchronous I/O operations."
   ]
  },
  {
   "cell_type": "code",
   "execution_count": null,
   "metadata": {},
   "outputs": [],
   "source": [
    "import uvicorn\n",
    "from starlette.websockets import WebSocket\n",
    "\n",
    "async def app(scope, receive, send):\n",
    "    websocket = WebSocket(scope, receive, send)\n",
    "    await websocket.accept()\n",
    "    while True:\n",
    "        data = await websocket.receive_text()\n",
    "        # Process data here...\n",
    "        await websocket.send_text(f\"Processed: {data}\")\n",
    "\n",
    "if __name__ == \"__main__\":\n",
    "    uvicorn.run(app, host=\"127.0.0.1\", port=8000)"
   ]
  },
  {
   "cell_type": "markdown",
   "metadata": {},
   "source": [
    "15. Can you describe how you would handle CORS (Cross-Origin Resource Sharing) in FastAPI?\n",
    "FastAPI has a built-in middleware for managing CORS, which can be added to the application instance. To enable it, import CORSMiddleware from fastapi.middleware.cors and add it to your FastAPI app using the .add_middleware() method. You need to specify parameters like allow_origins (a list of origins that are allowed), allow_credentials (whether cookies can be supported), allow_methods (HTTP methods allowed), and allow_headers (which HTTP headers are permitted). Here’s an example:"
   ]
  },
  {
   "cell_type": "code",
   "execution_count": null,
   "metadata": {},
   "outputs": [],
   "source": [
    "from fastapi import FastAPI\n",
    "from fastapi.middleware.cors import CORSMiddleware\n",
    "\n",
    "app = FastAPI()\n",
    "\n",
    "origins = [\"http://localhost:3000\"]\n",
    "\n",
    "app.add_middleware(\n",
    "    CORSMiddleware,\n",
    "    allow_origins=origins,\n",
    "    allow_credentials=True,\n",
    "    allow_methods=[\"*\"],\n",
    "    allow_headers=[\"*\"],\n",
    ")\n",
    "\n",
    "@app.get(\"/\")\n",
    "async def main():\n",
    "    return {\"message\": \"Hello World\"}"
   ]
  },
  {
   "cell_type": "markdown",
   "metadata": {},
   "source": [
    "16. How do FastAPI’s response models work and what benefits do they provide?\n",
    "FastAPI’s response models are Python classes that define the structure and data types of HTTP responses. They leverage Pydantic for data validation, serialization, and documentation. When a route function returns a Pydantic model, FastAPI automatically converts it into JSON, checks the data against the model’s schema, and generates an OpenAPI schema."
   ]
  },
  {
   "cell_type": "markdown",
   "metadata": {},
   "source": [
    "1. Data Validation: Ensures only valid data is returned.\n",
    "2. Serialization: Converts complex data types to JSON.\n",
    "3. Documentation: Auto-generates API docs based on the model.\n",
    "4. Code Reusability: Models can be reused across different routes.\n",
    "5. Error Handling: Automatically handles errors when data doesn’t match the model."
   ]
  },
  {
   "cell_type": "markdown",
   "metadata": {},
   "source": [
    "17. How would you deploy a FastAPI application to a production environment?\n",
    "FastAPI deployment involves several steps. First, develop the FastAPI application locally and ensure it’s functioning as expected. Next, containerize your app using Docker for consistency across environments. Create a Dockerfile in your project directory that includes instructions to build an image of your app."
   ]
  },
  {
   "cell_type": "markdown",
   "metadata": {},
   "source": [
    "FROM tiangolo/uvicorn-gunicorn-fastapi:python3.7\n",
    "COPY ./app /app"
   ]
  },
  {
   "cell_type": "markdown",
   "metadata": {},
   "source": [
    "Then, build the Docker image with docker build -t myimage . and run it with docker run -d --name mycontainer -p 80:80 myimage.\n",
    "\n",
    "For production, consider deploying on a cloud platform like AWS or Google Cloud. Use their respective services (ECS/Fargate for AWS, Kubernetes Engine for GCP) to manage your containers. Ensure you have set up proper logging and monitoring for your deployed application."
   ]
  },
  {
   "cell_type": "markdown",
   "metadata": {},
   "source": [
    "18. Can you explain how path parameters and query parameters are used in FastAPI?\n",
    "FastAPI uses path parameters and query parameters to extract data from a URL. Path parameters are defined in the route’s URL, enclosed in curly braces {}. They’re used to capture specific values from the path itself. For example, @app.get(“/items/{item_id}”) would capture the item_id from the URL."
   ]
  },
  {
   "cell_type": "markdown",
   "metadata": {},
   "source": [
    "Query parameters, on the other hand, are appended after the URL following a question mark ?. They allow optional information to be passed into the function. For instance, @app.get(“/items/”) might accept ‘skip’ and ‘limit’ as query parameters to control pagination.\n",
    "\n",
    "In both cases, FastAPI automatically validates these parameters, generates error messages when data is invalid, and provides interactive documentation for them.\n",
    "\n"
   ]
  },
  {
   "cell_type": "markdown",
   "metadata": {},
   "source": [
    "19. What features does FastAPI provide for form handling?\n",
    "FastAPI provides robust form handling features. It uses Python type hints to validate incoming data, ensuring that it matches the expected format. This includes checking for required fields and validating field types. FastAPI also supports nested models for complex forms with sub-forms or lists of sub-forms. Additionally, it allows for custom validation using Pydantic’s @validator decorator, enabling more complex checks beyond simple type validation. Furthermore, FastAPI can automatically generate interactive documentation for your API including form parameters, making it easier for users to understand how to interact with your endpoints."
   ]
  },
  {
   "cell_type": "markdown",
   "metadata": {},
   "source": [
    "20. How can you use middleware with FastAPI?\n",
    "FastAPI allows the use of middleware for common functionalities like authentication, CORS, etc. Middleware is a function that works with each request before it’s processed by any specific path operation and also with each response before returning it.\n",
    "\n",
    "To add middleware in FastAPI, you can use the add_middleware() method on an instance of FastAPI(). The first argument to this method is the middleware class you want to add, followed by any keyword arguments needed for its configuration."
   ]
  },
  {
   "cell_type": "code",
   "execution_count": null,
   "metadata": {},
   "outputs": [],
   "source": [
    "from fastapi import FastAPI\n",
    "from starlette.middleware.cors import CORSMiddleware\n",
    "\n",
    "app = FastAPI()\n",
    "\n",
    "app.add_middleware(\n",
    "    CORSMiddleware,\n",
    "    allow_origins=[\"*\"],\n",
    "    allow_credentials=True,\n",
    "    allow_methods=[\"*\"],\n",
    "    allow_headers=[\"*\"],\n",
    ")"
   ]
  },
  {
   "cell_type": "markdown",
   "metadata": {},
   "source": [
    "21. How does FastAPI integrate with GraphQL?\n",
    "FastAPI integrates with GraphQL through the use of Starlette’s GraphQLApp. This allows FastAPI to handle HTTP requests and responses, while GraphQLApp manages the execution of GraphQL queries. The integration process involves creating a GraphQL schema using Graphene library, then passing this schema to GraphQLApp which is added as a route in FastAPI application. This setup enables handling of GraphQL queries at specified endpoint. For mutations or subscriptions, additional configurations are required."
   ]
  },
  {
   "cell_type": "markdown",
   "metadata": {},
   "source": [
    "22. How does FastAPI handle cookies and sessions?\n",
    "FastAPI doesn’t directly handle cookies and sessions, but it can be integrated with Starlette’s SessionMiddleware for this purpose. To use cookies, FastAPI has a ‘cookies’ parameter in path operation functions. You declare the cookie name as a string argument to receive its value. For sessions, you add SessionMiddleware to your application, providing a secret key. This middleware uses signed cookies to store session data client-side. The data is cryptographically signed but not encrypted, so user can see contents but cannot modify them without invalidating signature."
   ]
  },
  {
   "cell_type": "markdown",
   "metadata": {},
   "source": [
    "23. How can you serve static files with FastAPI?\n",
    "FastAPI can serve static files using the StaticFiles class from starlette.staticfiles. First, import FastAPI and StaticFiles from fastapi and starlette.staticfiles respectively. Then create an instance of FastAPI and mount a new instance of StaticFiles to it. The directory parameter in StaticFiles should point to your static files’ location. For example:"
   ]
  },
  {
   "cell_type": "code",
   "execution_count": null,
   "metadata": {},
   "outputs": [],
   "source": [
    "from fastapi import FastAPI\n",
    "from starlette.staticfiles import StaticFiles\n",
    "\n",
    "app = FastAPI()\n",
    "\n",
    "app.mount(\"/static\", StaticFiles(directory=\"static\"), name=\"static\")"
   ]
  },
  {
   "cell_type": "markdown",
   "metadata": {},
   "source": [
    "24. What are some of the security features provided by FastAPI and how can they be utilized?\n",
    "FastAPI provides several security features. It supports OAuth2 with Password and Bearer, a standard for user authentication, allowing secure access to resources. This is achieved by using Python-Jose to encrypt and verify tokens. FastAPI also offers HTTPBasicAuth for simpler cases where username and password are required.\n",
    "\n",
    "Another feature is the automatic generation of interactive API documentation with login functionality. This allows users to authenticate directly from their browser while testing endpoints.\n",
    "\n",
    "FastAPI’s dependency system can be used to manage permissions effectively. By creating dependencies for different routes or groups of routes, you can control who has access to what data.\n",
    "\n",
    "FastAPI also protects against common vulnerabilities like Cross-Site Scripting (XSS) and SQL Injection attacks by default. It uses Pydantic models which automatically validate incoming JSON requests, preventing malicious code from being executed.\n",
    "\n"
   ]
  },
  {
   "cell_type": "markdown",
   "metadata": {},
   "source": [
    "25. How can FastAPI be used with async and await, and what benefits does this provide?\n",
    "FastAPI supports asynchronous request handling through Python’s async and await keywords. This allows for concurrent processing of requests, improving application performance. When a FastAPI route is defined with an async function, it becomes a coroutine that can be paused and resumed, allowing other tasks to run in the meantime.\n",
    "\n"
   ]
  },
  {
   "cell_type": "code",
   "execution_count": null,
   "metadata": {},
   "outputs": [],
   "source": [
    "from fastapi import FastAPI\n",
    "\n",
    "app = FastAPI()\n",
    "\n",
    "@app.get(\"/\")\n",
    "async def read_root():\n",
    "    return {\"Hello\": \"World\"}"
   ]
  },
  {
   "cell_type": "markdown",
   "metadata": {},
   "source": [
    "In this example, read_root is an asynchronous function. If it calls another async function with await, execution returns to the event loop, freeing up resources until the awaited function completes.\n",
    "\n",
    "This non-blocking nature of async I/O operations means your app can handle more requests with fewer resources, as idle time waiting for I/O (like network or disk access) can be used to serve other requests. It also simplifies code by avoiding callback hell or threading complexities, making it easier to write and maintain."
   ]
  },
  {
   "cell_type": "markdown",
   "metadata": {},
   "source": []
  }
 ],
 "metadata": {
  "language_info": {
   "name": "python"
  }
 },
 "nbformat": 4,
 "nbformat_minor": 2
}
