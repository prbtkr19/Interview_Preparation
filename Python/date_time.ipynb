{
 "cells": [
  {
   "cell_type": "code",
   "execution_count": 6,
   "metadata": {},
   "outputs": [
    {
     "name": "stdout",
     "output_type": "stream",
     "text": [
      "today date & time   2024-05-16 10:39:37.753435\n"
     ]
    }
   ],
   "source": [
    "# get current date and time\n",
    "from datetime import datetime\n",
    "curr_date_time = datetime.now()\n",
    "print(f\"today date & time   {curr_date_time}\" )"
   ]
  },
  {
   "cell_type": "code",
   "execution_count": 10,
   "metadata": {},
   "outputs": [
    {
     "name": "stdout",
     "output_type": "stream",
     "text": [
      "2024-05-16\n"
     ]
    }
   ],
   "source": [
    "# get curremt date\n",
    "c_d= curr_date_time.date()\n",
    "print(f\"{c_d}\")"
   ]
  },
  {
   "cell_type": "code",
   "execution_count": 15,
   "metadata": {},
   "outputs": [
    {
     "name": "stdout",
     "output_type": "stream",
     "text": [
      "10:39:37.753435\n"
     ]
    }
   ],
   "source": [
    "# get curremt time\n",
    "c_d= curr_date_time.time()\n",
    "print(f\"{c_d}\")"
   ]
  },
  {
   "cell_type": "code",
   "execution_count": 11,
   "metadata": {},
   "outputs": [
    {
     "name": "stdout",
     "output_type": "stream",
     "text": [
      "['MAXYEAR', 'MINYEAR', '__builtins__', '__cached__', '__doc__', '__file__', '__loader__', '__name__', '__package__', '__spec__', 'date', 'datetime', 'datetime_CAPI', 'sys', 'time', 'timedelta', 'timezone', 'tzinfo']\n"
     ]
    }
   ],
   "source": [
    "import datetime\n",
    "\n",
    "print(dir(datetime)) # get list containing all attributes"
   ]
  },
  {
   "cell_type": "markdown",
   "metadata": {},
   "source": [
    "datetime.timedelta \n",
    "-   represents a duration, which can be used to perform arithmetic with datetime objects."
   ]
  },
  {
   "cell_type": "code",
   "execution_count": 12,
   "metadata": {},
   "outputs": [
    {
     "name": "stdout",
     "output_type": "stream",
     "text": [
      "2022-12-25\n"
     ]
    }
   ],
   "source": [
    "import datetime\n",
    "\n",
    "d = datetime.date(2022, 12, 25)\n",
    "print(d)"
   ]
  },
  {
   "cell_type": "code",
   "execution_count": 16,
   "metadata": {},
   "outputs": [
    {
     "name": "stdout",
     "output_type": "stream",
     "text": [
      "today's date   2024-05-16\n"
     ]
    }
   ],
   "source": [
    "from datetime import date\n",
    "curr_d= date.today()\n",
    "print(f\"today's date   {curr_d}\") "
   ]
  },
  {
   "cell_type": "code",
   "execution_count": 17,
   "metadata": {},
   "outputs": [
    {
     "name": "stdout",
     "output_type": "stream",
     "text": [
      "Current Time: 10:46:07.271537\n"
     ]
    }
   ],
   "source": [
    "# get only current time\n",
    "from datetime import datetime\n",
    "\n",
    "# Get the current time\n",
    "current_time = datetime.now().time()\n",
    "\n",
    "print(\"Current Time:\", current_time)"
   ]
  },
  {
   "cell_type": "code",
   "execution_count": 20,
   "metadata": {},
   "outputs": [
    {
     "name": "stdout",
     "output_type": "stream",
     "text": [
      "todays date                2024-05-16\n",
      "Current year: 2024\n",
      "Current month: 5\n",
      "Current day: 16\n"
     ]
    }
   ],
   "source": [
    "# print today year month date\n",
    "import datetime\n",
    "# get date object\n",
    "today=datetime.date.today()\n",
    "print(f\"todays date                {today}\")\n",
    "\n",
    "print(\"Current year:\", today.year)\n",
    "print(\"Current month:\", today.month)\n",
    "print(\"Current day:\", today.day)"
   ]
  },
  {
   "cell_type": "code",
   "execution_count": 19,
   "metadata": {},
   "outputs": [
    {
     "name": "stdout",
     "output_type": "stream",
     "text": [
      "todays date                2024-05-16 10:49:02.840992\n",
      "Current year: 2024\n",
      "Current month: 5\n",
      "Current day: 16\n"
     ]
    }
   ],
   "source": [
    "from datetime import datetime\n",
    "# get date object\n",
    "curr_d = datetime.today()\n",
    "print(f\"todays date                {curr_d}\")\n",
    "\n",
    "print(\"Current year:\", curr_d.year)\n",
    "print(\"Current month:\", curr_d.month)\n",
    "print(\"Current day:\", curr_d.day)"
   ]
  },
  {
   "cell_type": "code",
   "execution_count": 21,
   "metadata": {},
   "outputs": [
    {
     "name": "stdout",
     "output_type": "stream",
     "text": [
      "00:00:00\n",
      "11:34:56\n",
      "11:34:56\n",
      "11:34:56.234566\n"
     ]
    }
   ],
   "source": [
    "# time object to represtent time\n",
    "from datetime import time\n",
    "\n",
    "# time(hour = 0, minute = 0, second = 0)\n",
    "a = time()\n",
    "print(a)\n",
    "\n",
    "# time(hour, minute and second)\n",
    "b = time(11, 34, 56)\n",
    "print(b)\n",
    "\n",
    "# time(hour, minute and second)\n",
    "c = time(hour = 11, minute = 34, second = 56)\n",
    "print(c)\n",
    "\n",
    "# time(hour, minute, second, microsecond)\n",
    "d = time(11, 34, 56, 234566)\n",
    "print(d)"
   ]
  },
  {
   "cell_type": "markdown",
   "metadata": {},
   "source": [
    "<font color=\"orange\">timedelta object represents the difference between two dates or times </font>\n"
   ]
  },
  {
   "cell_type": "code",
   "execution_count": 22,
   "metadata": {},
   "outputs": [
    {
     "name": "stdout",
     "output_type": "stream",
     "text": [
      "t3 = 201 days, 0:00:00\n",
      "t6 = -333 days, 1:14:20\n",
      "Type of t3 = <class 'datetime.timedelta'>\n",
      "Type of t6 = <class 'datetime.timedelta'>\n"
     ]
    }
   ],
   "source": [
    "\n",
    "from datetime import datetime, date\n",
    "\n",
    "# using date()\n",
    "t1 = date(year = 2018, month = 7, day = 12)\n",
    "t2 = date(year = 2017, month = 12, day = 23)\n",
    "\n",
    "t3 = t1 - t2\n",
    "\n",
    "print(\"t3 =\", t3)\n",
    "\n",
    "# using datetime()\n",
    "t4 = datetime(year = 2018, month = 7, day = 12, hour = 7, minute = 9, second = 33)\n",
    "t5 = datetime(year = 2019, month = 6, day = 10, hour = 5, minute = 55, second = 13)\n",
    "t6 = t4 - t5\n",
    "print(\"t6 =\", t6)\n",
    "\n",
    "print(\"Type of t3 =\", type(t3)) \n",
    "print(\"Type of t6 =\", type(t6))  "
   ]
  },
  {
   "cell_type": "code",
   "execution_count": 23,
   "metadata": {},
   "outputs": [
    {
     "name": "stdout",
     "output_type": "stream",
     "text": [
      "Total seconds = 435633.233423\n"
     ]
    }
   ],
   "source": [
    "# time duration in seconds\n",
    "from datetime import timedelta\n",
    "\n",
    "t = timedelta(days = 5, hours = 1, seconds = 33, microseconds = 233423)\n",
    "print(\"Total seconds =\", t.total_seconds())"
   ]
  },
  {
   "cell_type": "code",
   "execution_count": 29,
   "metadata": {},
   "outputs": [
    {
     "name": "stdout",
     "output_type": "stream",
     "text": [
      "current date adn time---------------2024-05-16 11:06:23.354264\n",
      "Time: 11:06:23\n",
      "s1: 05/16/2024, 11:06:23\n",
      "s2: 16/05/2024, 11:06:23\n"
     ]
    }
   ],
   "source": [
    "# Python strftime() : this method creates formatted string from given date time\n",
    "from datetime import datetime\n",
    "\n",
    "# current date and time\n",
    "now = datetime.now()\n",
    "print(f\"current date adn time---------------{now}\")\n",
    "t = now.strftime(\"%H:%M:%S\")\n",
    "print(\"Time:\", t)\n",
    "\n",
    "s1 = now.strftime(\"%m/%d/%Y, %H:%M:%S\")\n",
    "# mm/dd/YY H:M:S format\n",
    "print(\"s1:\", s1)\n",
    "\n",
    "s2 = now.strftime(\"%d/%m/%Y, %H:%M:%S\")\n",
    "# dd/mm/YY H:M:S format\n",
    "print(\"s2:\", s2)"
   ]
  },
  {
   "cell_type": "code",
   "execution_count": 31,
   "metadata": {},
   "outputs": [
    {
     "name": "stdout",
     "output_type": "stream",
     "text": [
      "date_string = 25 December, 2022\n",
      "date_object = 2022-12-25 00:00:00\n"
     ]
    }
   ],
   "source": [
    "# Python strptime() : The strptime() method creates a datetime object from a given string (representing date and time). \n",
    "# For example,\n",
    "\n",
    "from datetime import datetime\n",
    "\n",
    "date_string = \"25 December, 2022\"\n",
    "print(\"date_string =\", date_string)\n",
    "\n",
    "# use strptime() to create date object\n",
    "date_object = datetime.strptime(date_string, \"%d %B, %Y\")\n",
    "\n",
    "print(\"date_object =\", date_object)"
   ]
  },
  {
   "cell_type": "markdown",
   "metadata": {},
   "source": [
    "3333333333333333333333333333"
   ]
  },
  {
   "cell_type": "code",
   "execution_count": null,
   "metadata": {},
   "outputs": [],
   "source": [
    "from datetime import datetime\n",
    "import pytz\n",
    "\n",
    "local = datetime.now()\n",
    "print(\"Local:\", local.strftime(\"%m/%d/%Y, %H:%M:%S\"))\n",
    "\n",
    "\n",
    "tz_NY = pytz.timezone('America/New_York') \n",
    "datetime_NY = datetime.now(tz_NY)\n",
    "print(\"NY:\", datetime_NY.strftime(\"%m/%d/%Y, %H:%M:%S\"))\n",
    "\n",
    "tz_London = pytz.timezone('Europe/London')\n",
    "datetime_London = datetime.now(tz_London)\n",
    "print(\"London:\", datetime_London.strftime(\"%m/%d/%Y, %H:%M:%S\"))"
   ]
  },
  {
   "cell_type": "code",
   "execution_count": null,
   "metadata": {},
   "outputs": [],
   "source": [
    "#STRFTIME\n",
    "#The strftime() method returns a string representing date and time using date, time or datetime object."
   ]
  },
  {
   "cell_type": "code",
   "execution_count": null,
   "metadata": {},
   "outputs": [],
   "source": [
    "# datetime to string\n",
    "\n",
    "from datetime import datetime\n",
    "\n",
    "now = datetime.now() # current date and time\n",
    "#now is a datetime object.\n",
    "year = now.strftime(\"%Y\")\n",
    "print(\"year:\", year)\n",
    "\n",
    "month = now.strftime(\"%m\")\n",
    "print(\"month:\", month)\n",
    "\n",
    "day = now.strftime(\"%d\")\n",
    "print(\"day:\", day)\n",
    "\n",
    "time = now.strftime(\"%H:%M:%S\")\n",
    "print(\"time:\", time)\n",
    "\n",
    "date_time = now.strftime(\"%m/%d/%Y, %H:%M:%S\")\n",
    "print(\"date and time:\",date_time)\t"
   ]
  },
  {
   "cell_type": "code",
   "execution_count": null,
   "metadata": {},
   "outputs": [],
   "source": [
    "#How strftime() works?\n",
    "\n",
    "#In the above program, %Y, %m, %d etc. are format codes. \n",
    "# The strftime() method takes one or more format codes as an argument \n",
    "# and returns a formatted string based on it.\n",
    "#\n",
    "#1: We imported datetime class from the datetime module.\n",
    "# It's because the object of datetime class can access strftime() method.\n",
    "\n",
    "\n",
    "# 2 The datetime object containing current date and time is stored in now variable."
   ]
  },
  {
   "cell_type": "code",
   "execution_count": null,
   "metadata": {},
   "outputs": [],
   "source": [
    "# creating strings from timestamp\n",
    "\n",
    "from datetime import datetime\n",
    "\n",
    "timestamp = 1528797322\n",
    "date_time = datetime.fromtimestamp(timestamp)\n",
    "\n",
    "print(\"Date time object:\", date_time)\n",
    "\n",
    "d = date_time.strftime(\"%m/%d/%Y, %H:%M:%S\")\n",
    "print(\"Output 2:\", d)\t\n",
    "\n",
    "d = date_time.strftime(\"%d %b, %Y\")\n",
    "print(\"Output 3:\", d)\n",
    "\n",
    "d = date_time.strftime(\"%d %B, %Y\")\n",
    "print(\"Output 4:\", d)\n",
    "\n",
    "d = date_time.strftime(\"%I%p\")\n",
    "print(\"Output 5:\", d)"
   ]
  },
  {
   "cell_type": "code",
   "execution_count": null,
   "metadata": {},
   "outputs": [],
   "source": [
    "# locale appropriate date and time\n",
    "from datetime import datetime\n",
    "\n",
    "timestamp = 1528797322\n",
    "date_time = datetime.fromtimestamp(timestamp)\n",
    "\n",
    "d = date_time.strftime(\"%c\")\n",
    "print(\"Output 1:\", d)\t\n",
    "\n",
    "d = date_time.strftime(\"%x\")\n",
    "print(\"Output 2:\", d)\n",
    "\n",
    "d = date_time.strftime(\"%X\")\n",
    "print(\"Output 3:\", d)"
   ]
  },
  {
   "cell_type": "code",
   "execution_count": null,
   "metadata": {},
   "outputs": [],
   "source": [
    "# Python Strptime()\n",
    "# The strptime() method creates a datetime object from the given string.\n",
    "# it takes two arguments 1) string 2) format codes\n",
    "# Example 1: \n",
    "\n",
    "# %B - Month's name in full. Example: January, February etc\n",
    "from datetime import datetime\n",
    "\n",
    "date_string = \"21 June, 2018\"\n",
    "\n",
    "print(\"date_string =\", date_string)\n",
    "print(\"type of date_string =\", type(date_string))\n",
    "\n",
    "date_object = datetime.strptime(date_string, \"%d %B, %Y\")\n",
    "\n",
    "print(\"date_object =\", date_object)\n",
    "print(\"type of date_object =\", type(date_object))"
   ]
  },
  {
   "cell_type": "code",
   "execution_count": null,
   "metadata": {},
   "outputs": [],
   "source": [
    "# string to datetime objects\n",
    "from datetime import datetime\n",
    "\n",
    "dt_string = \"12/11/2018 09:15:32\"\n",
    "\n",
    "# Considering date is in dd/mm/yyyy format\n",
    "dt_object1 = datetime.strptime(dt_string, \"%d/%m/%Y %H:%M:%S\")\n",
    "print(\"dt_object1 =\", dt_object1)\n",
    "\n",
    "# Considering date is in mm/dd/yyyy format\n",
    "dt_object2 = datetime.strptime(dt_string, \"%m/%d/%Y %H:%M:%S\")\n",
    "print(\"dt_object2 =\", dt_object2)"
   ]
  },
  {
   "cell_type": "code",
   "execution_count": 15,
   "metadata": {},
   "outputs": [
    {
     "ename": "ValueError",
     "evalue": "time data '12/11/2018' does not match format '%d %m %Y'",
     "output_type": "error",
     "traceback": [
      "\u001b[0;31m---------------------------------------------------------------------------\u001b[0m",
      "\u001b[0;31mValueError\u001b[0m                                Traceback (most recent call last)",
      "Cell \u001b[0;32mIn[15], line 7\u001b[0m\n\u001b[1;32m      4\u001b[0m \u001b[38;5;28;01mfrom\u001b[39;00m \u001b[38;5;21;01mdatetime\u001b[39;00m \u001b[38;5;28;01mimport\u001b[39;00m datetime\n\u001b[1;32m      6\u001b[0m date_string \u001b[38;5;241m=\u001b[39m \u001b[38;5;124m\"\u001b[39m\u001b[38;5;124m12/11/2018\u001b[39m\u001b[38;5;124m\"\u001b[39m\n\u001b[0;32m----> 7\u001b[0m date_object \u001b[38;5;241m=\u001b[39m \u001b[43mdatetime\u001b[49m\u001b[38;5;241;43m.\u001b[39;49m\u001b[43mstrptime\u001b[49m\u001b[43m(\u001b[49m\u001b[43mdate_string\u001b[49m\u001b[43m,\u001b[49m\u001b[43m \u001b[49m\u001b[38;5;124;43m\"\u001b[39;49m\u001b[38;5;132;43;01m%d\u001b[39;49;00m\u001b[38;5;124;43m \u001b[39;49m\u001b[38;5;124;43m%\u001b[39;49m\u001b[38;5;124;43mm \u001b[39;49m\u001b[38;5;124;43m%\u001b[39;49m\u001b[38;5;124;43mY\u001b[39;49m\u001b[38;5;124;43m\"\u001b[39;49m\u001b[43m)\u001b[49m\n\u001b[1;32m      9\u001b[0m \u001b[38;5;28mprint\u001b[39m(\u001b[38;5;124m\"\u001b[39m\u001b[38;5;124mdate_object =\u001b[39m\u001b[38;5;124m\"\u001b[39m, date_object)\n",
      "File \u001b[0;32m/usr/lib/python3.8/_strptime.py:568\u001b[0m, in \u001b[0;36m_strptime_datetime\u001b[0;34m(cls, data_string, format)\u001b[0m\n\u001b[1;32m    565\u001b[0m \u001b[38;5;28;01mdef\u001b[39;00m \u001b[38;5;21m_strptime_datetime\u001b[39m(\u001b[38;5;28mcls\u001b[39m, data_string, \u001b[38;5;28mformat\u001b[39m\u001b[38;5;241m=\u001b[39m\u001b[38;5;124m\"\u001b[39m\u001b[38;5;132;01m%a\u001b[39;00m\u001b[38;5;124m \u001b[39m\u001b[38;5;124m%\u001b[39m\u001b[38;5;124mb \u001b[39m\u001b[38;5;132;01m%d\u001b[39;00m\u001b[38;5;124m \u001b[39m\u001b[38;5;124m%\u001b[39m\u001b[38;5;124mH:\u001b[39m\u001b[38;5;124m%\u001b[39m\u001b[38;5;124mM:\u001b[39m\u001b[38;5;124m%\u001b[39m\u001b[38;5;124mS \u001b[39m\u001b[38;5;124m%\u001b[39m\u001b[38;5;124mY\u001b[39m\u001b[38;5;124m\"\u001b[39m):\n\u001b[1;32m    566\u001b[0m \u001b[38;5;250m    \u001b[39m\u001b[38;5;124;03m\"\"\"Return a class cls instance based on the input string and the\u001b[39;00m\n\u001b[1;32m    567\u001b[0m \u001b[38;5;124;03m    format string.\"\"\"\u001b[39;00m\n\u001b[0;32m--> 568\u001b[0m     tt, fraction, gmtoff_fraction \u001b[38;5;241m=\u001b[39m \u001b[43m_strptime\u001b[49m\u001b[43m(\u001b[49m\u001b[43mdata_string\u001b[49m\u001b[43m,\u001b[49m\u001b[43m \u001b[49m\u001b[38;5;28;43mformat\u001b[39;49m\u001b[43m)\u001b[49m\n\u001b[1;32m    569\u001b[0m     tzname, gmtoff \u001b[38;5;241m=\u001b[39m tt[\u001b[38;5;241m-\u001b[39m\u001b[38;5;241m2\u001b[39m:]\n\u001b[1;32m    570\u001b[0m     args \u001b[38;5;241m=\u001b[39m tt[:\u001b[38;5;241m6\u001b[39m] \u001b[38;5;241m+\u001b[39m (fraction,)\n",
      "File \u001b[0;32m/usr/lib/python3.8/_strptime.py:349\u001b[0m, in \u001b[0;36m_strptime\u001b[0;34m(data_string, format)\u001b[0m\n\u001b[1;32m    347\u001b[0m found \u001b[38;5;241m=\u001b[39m format_regex\u001b[38;5;241m.\u001b[39mmatch(data_string)\n\u001b[1;32m    348\u001b[0m \u001b[38;5;28;01mif\u001b[39;00m \u001b[38;5;129;01mnot\u001b[39;00m found:\n\u001b[0;32m--> 349\u001b[0m     \u001b[38;5;28;01mraise\u001b[39;00m \u001b[38;5;167;01mValueError\u001b[39;00m(\u001b[38;5;124m\"\u001b[39m\u001b[38;5;124mtime data \u001b[39m\u001b[38;5;132;01m%r\u001b[39;00m\u001b[38;5;124m does not match format \u001b[39m\u001b[38;5;132;01m%r\u001b[39;00m\u001b[38;5;124m\"\u001b[39m \u001b[38;5;241m%\u001b[39m\n\u001b[1;32m    350\u001b[0m                      (data_string, \u001b[38;5;28mformat\u001b[39m))\n\u001b[1;32m    351\u001b[0m \u001b[38;5;28;01mif\u001b[39;00m \u001b[38;5;28mlen\u001b[39m(data_string) \u001b[38;5;241m!=\u001b[39m found\u001b[38;5;241m.\u001b[39mend():\n\u001b[1;32m    352\u001b[0m     \u001b[38;5;28;01mraise\u001b[39;00m \u001b[38;5;167;01mValueError\u001b[39;00m(\u001b[38;5;124m\"\u001b[39m\u001b[38;5;124munconverted data remains: \u001b[39m\u001b[38;5;132;01m%s\u001b[39;00m\u001b[38;5;124m\"\u001b[39m \u001b[38;5;241m%\u001b[39m\n\u001b[1;32m    353\u001b[0m                       data_string[found\u001b[38;5;241m.\u001b[39mend():])\n",
      "\u001b[0;31mValueError\u001b[0m: time data '12/11/2018' does not match format '%d %m %Y'"
     ]
    }
   ],
   "source": [
    "#If the string (first argument) and the format code (second argument) passed to the strptime() \n",
    "# doesn't match, you will get ValueError. For example:\n",
    "\n",
    "from datetime import datetime\n",
    "\n",
    "date_string = \"12/11/2018\"\n",
    "date_object = datetime.strptime(date_string, \"%d %m %Y\")\n",
    "\n",
    "print(\"date_object =\", date_object)"
   ]
  },
  {
   "cell_type": "code",
   "execution_count": null,
   "metadata": {},
   "outputs": [],
   "source": [
    "# get todays date\n",
    "from datetime import date\n",
    "\n",
    "today = date.today()\n",
    "print(\"Today's date:\", today)"
   ]
  },
  {
   "cell_type": "code",
   "execution_count": 14,
   "metadata": {},
   "outputs": [
    {
     "name": "stdout",
     "output_type": "stream",
     "text": [
      "d1 = 16/05/2024\n",
      "d2 = May 16, 2024\n",
      "d3 = 05/16/24\n",
      "d4 = May-16-2024\n"
     ]
    }
   ],
   "source": [
    "# current date in different format\n",
    "from datetime import date\n",
    "\n",
    "today = date.today()\n",
    "\n",
    "# dd/mm/YY\n",
    "d1 = today.strftime(\"%d/%m/%Y\")\n",
    "print(\"d1 =\", d1)\n",
    "\n",
    "# Textual month, day and year\t\n",
    "d2 = today.strftime(\"%B %d, %Y\")\n",
    "print(\"d2 =\", d2)\n",
    "\n",
    "# mm/dd/y\n",
    "d3 = today.strftime(\"%m/%d/%y\")\n",
    "print(\"d3 =\", d3)\n",
    "\n",
    "# Month abbreviation, day and year\t\n",
    "d4 = today.strftime(\"%b-%d-%Y\")\n",
    "print(\"d4 =\", d4)"
   ]
  },
  {
   "cell_type": "code",
   "execution_count": null,
   "metadata": {},
   "outputs": [],
   "source": [
    "# current date and time\n",
    "from datetime import datetime\n",
    "\n",
    "# datetime object containing current date and time\n",
    "now = datetime.now()\n",
    "\n",
    "print(\"now =\", now)\n",
    "\n",
    "# dd/mm/YY H:M:S\n",
    "dt_string = now.strftime(\"%d/%m/%Y %H:%M:%S\")\n",
    "print(\"date and time =\", dt_string)"
   ]
  },
  {
   "cell_type": "code",
   "execution_count": 10,
   "metadata": {},
   "outputs": [
    {
     "name": "stdout",
     "output_type": "stream",
     "text": [
      "dt_object = 2018-12-25 14:57:53\n",
      "type(dt_object) = <class 'datetime.datetime'>\n"
     ]
    }
   ],
   "source": [
    "# timestamp to datetime\n",
    "from datetime import datetime\n",
    "\n",
    "# timestamp is number of seconds since 1970-01-01 \n",
    "timestamp = 1545730073\n",
    "\n",
    "# convert the timestamp to a datetime object in the local timezone\n",
    "dt_object = datetime.fromtimestamp(timestamp)\n",
    "\n",
    "# print the datetime object and its type\n",
    "print(\"dt_object =\", dt_object)\n",
    "print(\"type(dt_object) =\", type(dt_object))"
   ]
  },
  {
   "cell_type": "markdown",
   "metadata": {},
   "source": [
    "find today date and day using datetime.fromtimsestamp"
   ]
  },
  {
   "cell_type": "code",
   "execution_count": 13,
   "metadata": {},
   "outputs": [
    {
     "name": "stdout",
     "output_type": "stream",
     "text": [
      "2024-05-16 12:07:34.053882\n"
     ]
    }
   ],
   "source": [
    "# timestamp to datetime\n",
    "from datetime import datetime\n",
    "import time\n",
    "today_time=time.time()\n",
    "# timestamp is number of seconds since 1970-01-01 \n",
    "timestamp = today_time\n",
    "\n",
    "# convert the timestamp to a datetime object in the local timezone\n",
    "dt_object = datetime.fromtimestamp(timestamp)\n",
    "\n",
    "# print the datetime object and its type\n",
    "print(dt_object)\n"
   ]
  },
  {
   "cell_type": "code",
   "execution_count": 9,
   "metadata": {},
   "outputs": [
    {
     "name": "stdout",
     "output_type": "stream",
     "text": [
      "Seconds since epoch = 1715841308.3321483\n"
     ]
    }
   ],
   "source": [
    "# import the time module\n",
    "import time\n",
    "\n",
    "# get the current time in seconds since the epoch\n",
    "seconds = time.time()\n",
    "\n",
    "print(\"Seconds since epoch =\", seconds)\t\n",
    "\n",
    "# Output: Seconds since epoch = 1672214933.6804628"
   ]
  },
  {
   "cell_type": "code",
   "execution_count": 8,
   "metadata": {},
   "outputs": [
    {
     "name": "stdout",
     "output_type": "stream",
     "text": [
      "Local time: Wed Dec 28 13:46:19 2022\n"
     ]
    }
   ],
   "source": [
    "#The time.ctime() function in Python takes seconds passed since epoch as an argument and\n",
    "# returns a string representing local time.\n",
    "\n",
    "import time\n",
    "\n",
    "# seconds passed since epoch\n",
    "seconds = 1672215379.5045543\n",
    "\n",
    "# convert the time in seconds since the epoch to a readable format\n",
    "local_time = time.ctime(seconds)\n",
    "\n",
    "print(\"Local time:\", local_time)"
   ]
  },
  {
   "cell_type": "code",
   "execution_count": 7,
   "metadata": {},
   "outputs": [
    {
     "name": "stdout",
     "output_type": "stream",
     "text": [
      "Printed immediately.\n",
      "Printed after 2.4 seconds.\n"
     ]
    }
   ],
   "source": [
    "# python time.sleep\n",
    "#The sleep() function suspends (delays) execution of the current thread for the given number of seconds.\n",
    "import time\n",
    "\n",
    "print(\"Printed immediately.\")\n",
    "time.sleep(2.4)\n",
    "print(\"Printed after 2.4 seconds.\")"
   ]
  },
  {
   "cell_type": "code",
   "execution_count": 6,
   "metadata": {},
   "outputs": [
    {
     "name": "stdout",
     "output_type": "stream",
     "text": [
      "time.struct_time(tm_year=2023, tm_mon=7, tm_mday=14, tm_hour=0, tm_min=0, tm_sec=0, tm_wday=4, tm_yday=195, tm_isdst=-1)\n"
     ]
    }
   ],
   "source": [
    "# python time.strftime\n",
    "import time\n",
    "\n",
    "time_string = \"14 July, 2023\"\n",
    "result = time.strptime(time_string, \"%d %B, %Y\")\n",
    "\n",
    "print(result)"
   ]
  },
  {
   "cell_type": "code",
   "execution_count": 5,
   "metadata": {},
   "outputs": [
    {
     "name": "stdout",
     "output_type": "stream",
     "text": [
      "Wait until 2 seconds.\n"
     ]
    }
   ],
   "source": [
    "import time\n",
    "# sleep method does not return any value\n",
    "time.sleep(2)\n",
    "print(\"Wait until 2 seconds.\")\n"
   ]
  },
  {
   "cell_type": "code",
   "execution_count": 4,
   "metadata": {},
   "outputs": [
    {
     "name": "stdout",
     "output_type": "stream",
     "text": [
      "12:03:35 PM\n",
      "12:03:36 PM\n",
      "12:03:37 PM\n",
      "12:03:38 PM\n",
      "12:03:39 PM\n",
      "12:03:40 PM\n",
      "12:03:41 PM\n",
      "12:03:42 PM\n"
     ]
    },
    {
     "ename": "KeyboardInterrupt",
     "evalue": "",
     "output_type": "error",
     "traceback": [
      "\u001b[0;31m---------------------------------------------------------------------------\u001b[0m",
      "\u001b[0;31mKeyboardInterrupt\u001b[0m                         Traceback (most recent call last)",
      "Cell \u001b[0;32mIn[4], line 15\u001b[0m\n\u001b[1;32m     12\u001b[0m formatted_time \u001b[38;5;241m=\u001b[39m time\u001b[38;5;241m.\u001b[39mstrftime(\u001b[38;5;124m\"\u001b[39m\u001b[38;5;124m%\u001b[39m\u001b[38;5;124mI:\u001b[39m\u001b[38;5;124m%\u001b[39m\u001b[38;5;124mM:\u001b[39m\u001b[38;5;124m%\u001b[39m\u001b[38;5;124mS \u001b[39m\u001b[38;5;124m%\u001b[39m\u001b[38;5;124mp\u001b[39m\u001b[38;5;124m\"\u001b[39m, current_time)\n\u001b[1;32m     14\u001b[0m \u001b[38;5;28mprint\u001b[39m(formatted_time)\n\u001b[0;32m---> 15\u001b[0m \u001b[43mtime\u001b[49m\u001b[38;5;241;43m.\u001b[39;49m\u001b[43msleep\u001b[49m\u001b[43m(\u001b[49m\u001b[38;5;241;43m1\u001b[39;49m\u001b[43m)\u001b[49m\n",
      "\u001b[0;31mKeyboardInterrupt\u001b[0m: "
     ]
    }
   ],
   "source": [
    "# create digital clock in python\n",
    "import time\n",
    "\n",
    "while True:\n",
    "    \n",
    "    # get current local time as structured data\n",
    "    current_time = time.localtime()\n",
    "    #print(f\"cur time {current_time}\")\n",
    "    \n",
    "    # cuur time output : cur time time.struct_time(tm_year=2024, tm_mon=5, tm_mday=16, tm_hour=12, tm_min=2, tm_sec=33, tm_wday=3, tm_yday=137, tm_isdst=0)\n",
    "    # format the time in 12-hour clock with AM/PM\n",
    "    formatted_time = time.strftime(\"%I:%M:%S %p\", current_time)\n",
    "    \n",
    "    print(formatted_time)\n",
    "    time.sleep(1)"
   ]
  },
  {
   "cell_type": "code",
   "execution_count": null,
   "metadata": {},
   "outputs": [],
   "source": []
  }
 ],
 "metadata": {
  "kernelspec": {
   "display_name": "code_env",
   "language": "python",
   "name": "python3"
  },
  "language_info": {
   "codemirror_mode": {
    "name": "ipython",
    "version": 3
   },
   "file_extension": ".py",
   "mimetype": "text/x-python",
   "name": "python",
   "nbconvert_exporter": "python",
   "pygments_lexer": "ipython3",
   "version": "3.8.10"
  }
 },
 "nbformat": 4,
 "nbformat_minor": 2
}
